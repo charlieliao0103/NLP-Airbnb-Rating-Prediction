{
 "cells": [
  {
   "cell_type": "markdown",
   "id": "6d8942da",
   "metadata": {},
   "source": [
    "# Predicting Star Ratings of Edinburgh Airbnbs through Review Texts Analysis"
   ]
  },
  {
   "cell_type": "markdown",
   "id": "90160819",
   "metadata": {},
   "source": [
    "# Notebook 3: Pre-Processing"
   ]
  },
  {
   "cell_type": "markdown",
   "id": "3f833fee",
   "metadata": {},
   "source": [
    "## Introduction\n",
    "\n",
    "In this notebook, our objective is to preprocess all the data obtained using various cleaning methods to prepare for future modeling tasks. \n",
    "\n",
    "- First, we will preprocess the listing dataset by ensuring that all of the listing related columns are of numerical type. \n",
    "- Next, we will utilize natural language processing (NLP) and machine learning techniques to preprocess the review data, we will specifically remove all non-English reviews in this step. By doing so, we aim to transform the raw data into a format suitable for analysis and modeling, laying the foundation for extracting valuable insights and building predictive models. \n",
    "- Finally, we will merge the cleaned listing data and the review data together using two methods, eventually obtain two different types of Review datasets: **Collapsed review data with same corresponding listing details**, and **Corresponding listing details aggregate to individual review datapoints**."
   ]
  },
  {
   "cell_type": "markdown",
   "id": "fca8ca1e",
   "metadata": {},
   "source": [
    "***"
   ]
  },
  {
   "cell_type": "markdown",
   "id": "9c136a8d",
   "metadata": {},
   "source": [
    "# Table of Contents"
   ]
  },
  {
   "cell_type": "markdown",
   "id": "8236a35b",
   "metadata": {},
   "source": [
    "1. [**Pre-processing Listing Data**](#a1) <br>\n",
    "    1.1 [**Remove Irrelevant columns**](#a1.1) <br>\n",
    "    1.2 [**Clean current non-numerical columns**](#a1.2) <br>\n",
    "2. [**Pre-process Review Data**](#a2) <br>\n",
    "    2.1 [**Remove Non-English texts**](#a2.1) <br>\n",
    "3. [**Merge Reviews and Listing data**](#a3) <br>\n",
    "    3.1 [**Obtain all reviews individually**](#a3.1) <br>\n",
    "    3.2 [**Obtain collapsed reviews by listings**](#a3.2) <br>\n",
    "4. [**Extract merged data**](#a4) <br>\n",
    "5. [**Summary**](#a5) <br>\n"
   ]
  },
  {
   "cell_type": "markdown",
   "id": "a72b66e5",
   "metadata": {},
   "source": [
    "***"
   ]
  },
  {
   "cell_type": "markdown",
   "id": "f121ddac",
   "metadata": {},
   "source": [
    "#### Import Libraries"
   ]
  },
  {
   "cell_type": "code",
   "execution_count": 6,
   "id": "e2de69f2",
   "metadata": {},
   "outputs": [],
   "source": [
    "# Main Libraries\n",
    "import numpy as np\n",
    "import pandas as pd\n",
    "import matplotlib.pyplot as plt\n",
    "import seaborn as sns\n",
    "import joblib\n",
    "\n",
    "# Text analysis libraries\n",
    "from langdetect import detect"
   ]
  },
  {
   "cell_type": "markdown",
   "id": "38c9345e",
   "metadata": {},
   "source": [
    "#### Loading Relevant Data"
   ]
  },
  {
   "cell_type": "code",
   "execution_count": 7,
   "id": "7ae2b8bf",
   "metadata": {},
   "outputs": [],
   "source": [
    "df_reviews_clean=joblib.load('data/df_reviews_clean.pkl')\n",
    "df_listings_clean_senti=joblib.load('data/df_listings_clean_senti.pkl')"
   ]
  },
  {
   "cell_type": "markdown",
   "id": "11b2a081",
   "metadata": {},
   "source": [
    "***"
   ]
  },
  {
   "cell_type": "markdown",
   "id": "3c0dff58",
   "metadata": {},
   "source": [
    "# Pre-process objectives"
   ]
  },
  {
   "cell_type": "markdown",
   "id": "2f2e5320",
   "metadata": {},
   "source": [
    "- Clean and process Listing data by minimizing the number of non-numerical columns\n",
    "- Clean and process review data to prepare for text vectorizing\n",
    "- Merge both datasets to prepare for modelling"
   ]
  },
  {
   "cell_type": "markdown",
   "id": "1aeddf0b",
   "metadata": {},
   "source": [
    "***"
   ]
  },
  {
   "cell_type": "markdown",
   "id": "07d934ee",
   "metadata": {},
   "source": [
    "# Pre-process Listing Data <a id=\"a1\"></a>"
   ]
  },
  {
   "cell_type": "markdown",
   "id": "c9cd44e5",
   "metadata": {},
   "source": [
    "We will first pre-process the listing data by converting as many non-numerical columns as possible before we deal with the review data, as well as removing irrelevant columns for future review analysis. "
   ]
  },
  {
   "cell_type": "markdown",
   "id": "1508baf7",
   "metadata": {},
   "source": [
    "### Create copy of current listing data"
   ]
  },
  {
   "cell_type": "code",
   "execution_count": 8,
   "id": "7123d155",
   "metadata": {},
   "outputs": [],
   "source": [
    "df_listings_processed = df_listings_clean_senti.copy()"
   ]
  },
  {
   "cell_type": "code",
   "execution_count": 9,
   "id": "225b5b1d",
   "metadata": {
    "scrolled": true
   },
   "outputs": [
    {
     "data": {
      "text/html": [
       "<div>\n",
       "<style scoped>\n",
       "    .dataframe tbody tr th:only-of-type {\n",
       "        vertical-align: middle;\n",
       "    }\n",
       "\n",
       "    .dataframe tbody tr th {\n",
       "        vertical-align: top;\n",
       "    }\n",
       "\n",
       "    .dataframe thead th {\n",
       "        text-align: right;\n",
       "    }\n",
       "</style>\n",
       "<table border=\"1\" class=\"dataframe\">\n",
       "  <thead>\n",
       "    <tr style=\"text-align: right;\">\n",
       "      <th></th>\n",
       "      <th>0</th>\n",
       "    </tr>\n",
       "  </thead>\n",
       "  <tbody>\n",
       "    <tr>\n",
       "      <th>host_id</th>\n",
       "      <td>60423</td>\n",
       "    </tr>\n",
       "    <tr>\n",
       "      <th>id</th>\n",
       "      <td>15420</td>\n",
       "    </tr>\n",
       "    <tr>\n",
       "      <th>neighborhood_overview</th>\n",
       "      <td>The neighbourhood is in the historic New Town,...</td>\n",
       "    </tr>\n",
       "    <tr>\n",
       "      <th>host_since</th>\n",
       "      <td>2009-12-06</td>\n",
       "    </tr>\n",
       "    <tr>\n",
       "      <th>host_location</th>\n",
       "      <td>Edinburgh, United Kingdom</td>\n",
       "    </tr>\n",
       "    <tr>\n",
       "      <th>host_about</th>\n",
       "      <td>I have a background in property, having worked...</td>\n",
       "    </tr>\n",
       "    <tr>\n",
       "      <th>host_response_time</th>\n",
       "      <td>within a few hours</td>\n",
       "    </tr>\n",
       "    <tr>\n",
       "      <th>host_response_rate</th>\n",
       "      <td>100.0</td>\n",
       "    </tr>\n",
       "    <tr>\n",
       "      <th>host_acceptance_rate</th>\n",
       "      <td>92.0</td>\n",
       "    </tr>\n",
       "    <tr>\n",
       "      <th>host_is_superhost</th>\n",
       "      <td>1</td>\n",
       "    </tr>\n",
       "    <tr>\n",
       "      <th>host_verifications</th>\n",
       "      <td>['email', 'phone']</td>\n",
       "    </tr>\n",
       "    <tr>\n",
       "      <th>host_has_profile_pic</th>\n",
       "      <td>1</td>\n",
       "    </tr>\n",
       "    <tr>\n",
       "      <th>host_identity_verified</th>\n",
       "      <td>1</td>\n",
       "    </tr>\n",
       "    <tr>\n",
       "      <th>neighbourhood_cleansed</th>\n",
       "      <td>Old Town, Princes Street and Leith Street</td>\n",
       "    </tr>\n",
       "    <tr>\n",
       "      <th>latitude</th>\n",
       "      <td>55.95759</td>\n",
       "    </tr>\n",
       "    <tr>\n",
       "      <th>longitude</th>\n",
       "      <td>-3.18805</td>\n",
       "    </tr>\n",
       "    <tr>\n",
       "      <th>property_type</th>\n",
       "      <td>Entire rental unit</td>\n",
       "    </tr>\n",
       "    <tr>\n",
       "      <th>room_type</th>\n",
       "      <td>Entire home/apt</td>\n",
       "    </tr>\n",
       "    <tr>\n",
       "      <th>accommodates</th>\n",
       "      <td>2</td>\n",
       "    </tr>\n",
       "    <tr>\n",
       "      <th>bathroom_num</th>\n",
       "      <td>1.0</td>\n",
       "    </tr>\n",
       "    <tr>\n",
       "      <th>beds</th>\n",
       "      <td>1.0</td>\n",
       "    </tr>\n",
       "    <tr>\n",
       "      <th>price</th>\n",
       "      <td>124.0</td>\n",
       "    </tr>\n",
       "    <tr>\n",
       "      <th>minimum_nights</th>\n",
       "      <td>3</td>\n",
       "    </tr>\n",
       "    <tr>\n",
       "      <th>maximum_nights</th>\n",
       "      <td>30</td>\n",
       "    </tr>\n",
       "    <tr>\n",
       "      <th>has_availability</th>\n",
       "      <td>1</td>\n",
       "    </tr>\n",
       "    <tr>\n",
       "      <th>number_of_reviews</th>\n",
       "      <td>532</td>\n",
       "    </tr>\n",
       "    <tr>\n",
       "      <th>number_of_reviews_ltm</th>\n",
       "      <td>82</td>\n",
       "    </tr>\n",
       "    <tr>\n",
       "      <th>first_review</th>\n",
       "      <td>2011-01-18</td>\n",
       "    </tr>\n",
       "    <tr>\n",
       "      <th>last_review</th>\n",
       "      <td>2023-12-11</td>\n",
       "    </tr>\n",
       "    <tr>\n",
       "      <th>review_scores_Overall</th>\n",
       "      <td>4.98</td>\n",
       "    </tr>\n",
       "    <tr>\n",
       "      <th>review_scores_accuracy</th>\n",
       "      <td>4.98</td>\n",
       "    </tr>\n",
       "    <tr>\n",
       "      <th>review_scores_cleanliness</th>\n",
       "      <td>4.97</td>\n",
       "    </tr>\n",
       "    <tr>\n",
       "      <th>review_scores_checkin</th>\n",
       "      <td>4.98</td>\n",
       "    </tr>\n",
       "    <tr>\n",
       "      <th>review_scores_communication</th>\n",
       "      <td>4.98</td>\n",
       "    </tr>\n",
       "    <tr>\n",
       "      <th>review_scores_location</th>\n",
       "      <td>4.98</td>\n",
       "    </tr>\n",
       "    <tr>\n",
       "      <th>review_scores_value</th>\n",
       "      <td>4.91</td>\n",
       "    </tr>\n",
       "    <tr>\n",
       "      <th>instant_bookable</th>\n",
       "      <td>0</td>\n",
       "    </tr>\n",
       "    <tr>\n",
       "      <th>calculated_host_listings_count</th>\n",
       "      <td>1</td>\n",
       "    </tr>\n",
       "    <tr>\n",
       "      <th>calculated_host_listings_count_entire_homes</th>\n",
       "      <td>1</td>\n",
       "    </tr>\n",
       "    <tr>\n",
       "      <th>calculated_host_listings_count_private_rooms</th>\n",
       "      <td>0</td>\n",
       "    </tr>\n",
       "    <tr>\n",
       "      <th>calculated_host_listings_count_shared_rooms</th>\n",
       "      <td>0</td>\n",
       "    </tr>\n",
       "    <tr>\n",
       "      <th>reviews_per_month</th>\n",
       "      <td>3.38</td>\n",
       "    </tr>\n",
       "    <tr>\n",
       "      <th>private_bath</th>\n",
       "      <td>1</td>\n",
       "    </tr>\n",
       "    <tr>\n",
       "      <th>Overall_sentiment</th>\n",
       "      <td>1</td>\n",
       "    </tr>\n",
       "    <tr>\n",
       "      <th>accuracy_sentiment</th>\n",
       "      <td>1</td>\n",
       "    </tr>\n",
       "    <tr>\n",
       "      <th>cleanliness_sentiment</th>\n",
       "      <td>1</td>\n",
       "    </tr>\n",
       "    <tr>\n",
       "      <th>checkin_sentiment</th>\n",
       "      <td>1</td>\n",
       "    </tr>\n",
       "    <tr>\n",
       "      <th>communication_sentiment</th>\n",
       "      <td>1</td>\n",
       "    </tr>\n",
       "    <tr>\n",
       "      <th>location_sentiment</th>\n",
       "      <td>1</td>\n",
       "    </tr>\n",
       "    <tr>\n",
       "      <th>value_sentiment</th>\n",
       "      <td>1</td>\n",
       "    </tr>\n",
       "  </tbody>\n",
       "</table>\n",
       "</div>"
      ],
      "text/plain": [
       "                                                                                              0\n",
       "host_id                                                                                   60423\n",
       "id                                                                                        15420\n",
       "neighborhood_overview                         The neighbourhood is in the historic New Town,...\n",
       "host_since                                                                           2009-12-06\n",
       "host_location                                                         Edinburgh, United Kingdom\n",
       "host_about                                    I have a background in property, having worked...\n",
       "host_response_time                                                           within a few hours\n",
       "host_response_rate                                                                        100.0\n",
       "host_acceptance_rate                                                                       92.0\n",
       "host_is_superhost                                                                             1\n",
       "host_verifications                                                           ['email', 'phone']\n",
       "host_has_profile_pic                                                                          1\n",
       "host_identity_verified                                                                        1\n",
       "neighbourhood_cleansed                                Old Town, Princes Street and Leith Street\n",
       "latitude                                                                               55.95759\n",
       "longitude                                                                              -3.18805\n",
       "property_type                                                                Entire rental unit\n",
       "room_type                                                                       Entire home/apt\n",
       "accommodates                                                                                  2\n",
       "bathroom_num                                                                                1.0\n",
       "beds                                                                                        1.0\n",
       "price                                                                                     124.0\n",
       "minimum_nights                                                                                3\n",
       "maximum_nights                                                                               30\n",
       "has_availability                                                                              1\n",
       "number_of_reviews                                                                           532\n",
       "number_of_reviews_ltm                                                                        82\n",
       "first_review                                                                         2011-01-18\n",
       "last_review                                                                          2023-12-11\n",
       "review_scores_Overall                                                                      4.98\n",
       "review_scores_accuracy                                                                     4.98\n",
       "review_scores_cleanliness                                                                  4.97\n",
       "review_scores_checkin                                                                      4.98\n",
       "review_scores_communication                                                                4.98\n",
       "review_scores_location                                                                     4.98\n",
       "review_scores_value                                                                        4.91\n",
       "instant_bookable                                                                              0\n",
       "calculated_host_listings_count                                                                1\n",
       "calculated_host_listings_count_entire_homes                                                   1\n",
       "calculated_host_listings_count_private_rooms                                                  0\n",
       "calculated_host_listings_count_shared_rooms                                                   0\n",
       "reviews_per_month                                                                          3.38\n",
       "private_bath                                                                                  1\n",
       "Overall_sentiment                                                                             1\n",
       "accuracy_sentiment                                                                            1\n",
       "cleanliness_sentiment                                                                         1\n",
       "checkin_sentiment                                                                             1\n",
       "communication_sentiment                                                                       1\n",
       "location_sentiment                                                                            1\n",
       "value_sentiment                                                                               1"
      ]
     },
     "execution_count": 9,
     "metadata": {},
     "output_type": "execute_result"
    }
   ],
   "source": [
    "pd.set_option('display.max_row', 100)\n",
    "df_listings_clean_senti.head(1).T"
   ]
  },
  {
   "cell_type": "code",
   "execution_count": 10,
   "id": "96d23d29",
   "metadata": {
    "scrolled": true
   },
   "outputs": [
    {
     "data": {
      "text/plain": [
       "Index(['host_id', 'id', 'neighborhood_overview', 'host_since', 'host_location',\n",
       "       'host_about', 'host_response_time', 'host_response_rate',\n",
       "       'host_acceptance_rate', 'host_is_superhost', 'host_verifications',\n",
       "       'host_has_profile_pic', 'host_identity_verified',\n",
       "       'neighbourhood_cleansed', 'latitude', 'longitude', 'property_type',\n",
       "       'room_type', 'accommodates', 'bathroom_num', 'beds', 'price',\n",
       "       'minimum_nights', 'maximum_nights', 'has_availability',\n",
       "       'number_of_reviews', 'number_of_reviews_ltm', 'first_review',\n",
       "       'last_review', 'review_scores_Overall', 'review_scores_accuracy',\n",
       "       'review_scores_cleanliness', 'review_scores_checkin',\n",
       "       'review_scores_communication', 'review_scores_location',\n",
       "       'review_scores_value', 'instant_bookable',\n",
       "       'calculated_host_listings_count',\n",
       "       'calculated_host_listings_count_entire_homes',\n",
       "       'calculated_host_listings_count_private_rooms',\n",
       "       'calculated_host_listings_count_shared_rooms', 'reviews_per_month',\n",
       "       'private_bath', 'Overall_sentiment', 'accuracy_sentiment',\n",
       "       'cleanliness_sentiment', 'checkin_sentiment', 'communication_sentiment',\n",
       "       'location_sentiment', 'value_sentiment'],\n",
       "      dtype='object')"
      ]
     },
     "execution_count": 10,
     "metadata": {},
     "output_type": "execute_result"
    }
   ],
   "source": [
    "# Show current listing data columns\n",
    "df_listings_processed.columns"
   ]
  },
  {
   "cell_type": "markdown",
   "id": "18deb0ff",
   "metadata": {},
   "source": [
    "## Remove Irrelevant columns <a id=\"a1.1\"></a>"
   ]
  },
  {
   "cell_type": "markdown",
   "id": "7657915e",
   "metadata": {},
   "source": [
    "Here we will remove irrelevant columns from the listing dataset. These includes:\n",
    "\n",
    "- host_id: We can use the listing id to match guest reviews from the review data. The host_id is irrelevant for our analysis at the moment.\n",
    "- neighbourhood_cleansed: The neighbourhood details of the listing can be analysed using the `neighbourhood_overview`, and the exact location characteristics can be analysed using the latitude and the longtitude columns.\n",
    "- all types of review scores: After we transformed and extracted the sentiment scores of the reviews, the review rating scores are of no use for current analysis.\n",
    "- two selected binary columns: `host_has_profile_pic` and `host_identity_verified`. These two columns consists highly imbalanced data thus we decide to drop them for our analysis.\n",
    "- property_type: `property_type` shares more specific information about the listing. However, we can extract the information using `room_type` from the current dataframe."
   ]
  },
  {
   "cell_type": "code",
   "execution_count": 11,
   "id": "0b65c97e",
   "metadata": {
    "scrolled": true
   },
   "outputs": [],
   "source": [
    "df_listings_processed.drop([\n",
    "    'host_id',\n",
    "    'neighbourhood_cleansed',\n",
    "    'review_scores_Overall',\n",
    "    'review_scores_accuracy',\n",
    "    'review_scores_cleanliness',\n",
    "    'review_scores_checkin',\n",
    "    'review_scores_communication',\n",
    "    'review_scores_location',\n",
    "    'review_scores_value',\n",
    "    'host_has_profile_pic',\n",
    "    'host_identity_verified',\n",
    "    'property_type'\n",
    "], axis=1, inplace=True)"
   ]
  },
  {
   "cell_type": "markdown",
   "id": "78ffbea3",
   "metadata": {},
   "source": [
    "## Clean current non-numerical columns <a id=\"a1.2\"></a>"
   ]
  },
  {
   "cell_type": "code",
   "execution_count": 12,
   "id": "6f7743fe",
   "metadata": {},
   "outputs": [
    {
     "data": {
      "text/html": [
       "<div>\n",
       "<style scoped>\n",
       "    .dataframe tbody tr th:only-of-type {\n",
       "        vertical-align: middle;\n",
       "    }\n",
       "\n",
       "    .dataframe tbody tr th {\n",
       "        vertical-align: top;\n",
       "    }\n",
       "\n",
       "    .dataframe thead th {\n",
       "        text-align: right;\n",
       "    }\n",
       "</style>\n",
       "<table border=\"1\" class=\"dataframe\">\n",
       "  <thead>\n",
       "    <tr style=\"text-align: right;\">\n",
       "      <th></th>\n",
       "      <th>0</th>\n",
       "    </tr>\n",
       "  </thead>\n",
       "  <tbody>\n",
       "    <tr>\n",
       "      <th>neighborhood_overview</th>\n",
       "      <td>The neighbourhood is in the historic New Town,...</td>\n",
       "    </tr>\n",
       "    <tr>\n",
       "      <th>host_since</th>\n",
       "      <td>2009-12-06</td>\n",
       "    </tr>\n",
       "    <tr>\n",
       "      <th>host_location</th>\n",
       "      <td>Edinburgh, United Kingdom</td>\n",
       "    </tr>\n",
       "    <tr>\n",
       "      <th>host_about</th>\n",
       "      <td>I have a background in property, having worked...</td>\n",
       "    </tr>\n",
       "    <tr>\n",
       "      <th>host_response_time</th>\n",
       "      <td>within a few hours</td>\n",
       "    </tr>\n",
       "    <tr>\n",
       "      <th>host_verifications</th>\n",
       "      <td>['email', 'phone']</td>\n",
       "    </tr>\n",
       "    <tr>\n",
       "      <th>room_type</th>\n",
       "      <td>Entire home/apt</td>\n",
       "    </tr>\n",
       "    <tr>\n",
       "      <th>first_review</th>\n",
       "      <td>2011-01-18</td>\n",
       "    </tr>\n",
       "    <tr>\n",
       "      <th>last_review</th>\n",
       "      <td>2023-12-11</td>\n",
       "    </tr>\n",
       "  </tbody>\n",
       "</table>\n",
       "</div>"
      ],
      "text/plain": [
       "                                                                       0\n",
       "neighborhood_overview  The neighbourhood is in the historic New Town,...\n",
       "host_since                                                    2009-12-06\n",
       "host_location                                  Edinburgh, United Kingdom\n",
       "host_about             I have a background in property, having worked...\n",
       "host_response_time                                    within a few hours\n",
       "host_verifications                                    ['email', 'phone']\n",
       "room_type                                                Entire home/apt\n",
       "first_review                                                  2011-01-18\n",
       "last_review                                                   2023-12-11"
      ]
     },
     "execution_count": 12,
     "metadata": {},
     "output_type": "execute_result"
    }
   ],
   "source": [
    "# Extract current non numerical columns\n",
    "df_listings_obj=df_listings_processed.select_dtypes(include='object')\n",
    "\n",
    "# Check column contents\n",
    "df_listings_obj.head(1).T"
   ]
  },
  {
   "cell_type": "markdown",
   "id": "41020d04",
   "metadata": {},
   "source": [
    "Among the current non-numerical columns, we will isolate the `neighborhood_overview` and `host_about` columns,  as they contain information about the listing that can be analyzed later using text transformation methods. We can potentially use them to determine if this information serves as key indicators of certain sub-ratings.\n",
    "\n",
    "Apart from these two columns, we can categorize the remaining features into different groups:\n",
    "\n",
    "- **Dates**: `host_since`, `first_review`, and `last_review`. These columns will be transformed into Years and Months with correspoonding prefixes.\n",
    "- **Host related columns**: `host_location`, `host_response_time`, and `host_verifications`. We will examine the contents of these columns and convert them into binary features using encoding strategies.\n",
    "- **Property related columns**: `property_type` and `room_type`. Similar to the host-related columns, we will check the contents of these columns and convert them into binary features."
   ]
  },
  {
   "cell_type": "markdown",
   "id": "ddb3a9cf",
   "metadata": {},
   "source": [
    "#### Extract `neighborhood_overview` and `host_about`"
   ]
  },
  {
   "cell_type": "code",
   "execution_count": 13,
   "id": "33ebec33",
   "metadata": {},
   "outputs": [],
   "source": [
    "# Extract listing description columns 'neighborhood_overview' and 'host_about'\n",
    "Listing_descriptions = df_listings_processed[['neighborhood_overview', 'host_about']]\n",
    "\n",
    "# Drop these columns from the processed dataframe\n",
    "df_listings_processed.drop(['neighborhood_overview', 'host_about'], axis=1, inplace=True)"
   ]
  },
  {
   "cell_type": "markdown",
   "id": "a8b4e98b",
   "metadata": {},
   "source": [
    "#### Extract year and month information from date related columns"
   ]
  },
  {
   "cell_type": "code",
   "execution_count": 14,
   "id": "53baab57",
   "metadata": {},
   "outputs": [],
   "source": [
    "# Create list contains date related column names\n",
    "date_columns= ['host_since', 'first_review', 'last_review']\n",
    "\n",
    "# Use for loop to generate new features contain year and month information for each date related column\n",
    "for i in date_columns:\n",
    "    # Convert columns to datetime format\n",
    "    df_listings_processed[i] = pd.to_datetime(df_listings_processed[i])\n",
    "    # Extract year and month information\n",
    "    temp_year_list = df_listings_processed[i].dt.year\n",
    "    temp_month_list = df_listings_processed[i].dt.month\n",
    "    # Add new features to original dataframe\n",
    "    df_listings_processed[i+'_year'] = temp_year_list\n",
    "    df_listings_processed[i+'_month'] = temp_month_list\n",
    "\n",
    "# Drop original date columns\n",
    "df_listings_processed.drop(date_columns, axis=1, inplace=True)"
   ]
  },
  {
   "cell_type": "markdown",
   "id": "4fff36cc",
   "metadata": {},
   "source": [
    "#### Binarize `host_location`"
   ]
  },
  {
   "cell_type": "code",
   "execution_count": 15,
   "id": "2102c3d2",
   "metadata": {},
   "outputs": [
    {
     "data": {
      "text/plain": [
       "Edinburgh, United Kingdom         4143\n",
       "None                               902\n",
       "Scotland, United Kingdom           257\n",
       "London, United Kingdom             100\n",
       "North Berwick, United Kingdom       55\n",
       "                                  ... \n",
       "Haugh of Urr, United Kingdom         1\n",
       "Sedbergh, United Kingdom             1\n",
       "Sheffield, United Kingdom            1\n",
       "Bergen, Norway                       1\n",
       "Little Waltham, United Kingdom       1\n",
       "Name: host_location, Length: 214, dtype: int64"
      ]
     },
     "execution_count": 15,
     "metadata": {},
     "output_type": "execute_result"
    }
   ],
   "source": [
    "# Check host_location contents\n",
    "df_listings_processed['host_location'].value_counts()"
   ]
  },
  {
   "cell_type": "markdown",
   "id": "e7152b1e",
   "metadata": {},
   "source": [
    "We observe that most of the hosts are located in Edinburgh, as our data was specifically chosen for Edinburgh Airbnb listings. Therefore, we can create a binary column to distinguish whether the host is from Edinburgh or not."
   ]
  },
  {
   "cell_type": "code",
   "execution_count": 16,
   "id": "c892a061",
   "metadata": {},
   "outputs": [],
   "source": [
    "# Create binary column to transform host_location column to binary \n",
    "df_listings_processed['host_from_Edinburgh']=df_listings_processed['host_location'].apply(lambda x: 1 if 'Edinburgh' in str(x) else 0)\n",
    "\n",
    "# Drop host_location column\n",
    "df_listings_processed.drop('host_location', axis=1, inplace=True)"
   ]
  },
  {
   "cell_type": "markdown",
   "id": "98393edd",
   "metadata": {},
   "source": [
    "#### Binarize `host_response_time`"
   ]
  },
  {
   "cell_type": "code",
   "execution_count": 17,
   "id": "5f441fdd",
   "metadata": {},
   "outputs": [
    {
     "data": {
      "text/plain": [
       "within an hour        3595\n",
       "Not provided          1417\n",
       "within a few hours     574\n",
       "within a day           265\n",
       "a few days or more      59\n",
       "Name: host_response_time, dtype: int64"
      ]
     },
     "execution_count": 17,
     "metadata": {},
     "output_type": "execute_result"
    }
   ],
   "source": [
    "# Check host_response_time contents\n",
    "df_listings_processed['host_response_time'].value_counts()"
   ]
  },
  {
   "cell_type": "markdown",
   "id": "8dbbe55e",
   "metadata": {},
   "source": [
    "We observe that there are several possible outcomes for the `host_response_time` column. Therefore, we can use One hot encoder method to convert this column into several binary columns. "
   ]
  },
  {
   "cell_type": "code",
   "execution_count": 18,
   "id": "a0a2e346",
   "metadata": {},
   "outputs": [],
   "source": [
    "# Convert host_response_time to binary columns\n",
    "response_time_dummies = pd.get_dummies(df_listings_processed['host_response_time'], prefix='host_response_time')\n",
    "\n",
    "# Concatenate the dummy columns with the original processed listing DataFrame\n",
    "df_listings_processed = pd.concat([df_listings_processed, response_time_dummies], axis=1)\n",
    "\n",
    "# Drop the 'None' column to prevent dummy variable trap\n",
    "df_listings_processed.drop(['host_response_time_Not provided', 'host_response_time'], axis=1, inplace=True)"
   ]
  },
  {
   "cell_type": "markdown",
   "id": "b463f45f",
   "metadata": {},
   "source": [
    "#### Binarize `host_verifications`"
   ]
  },
  {
   "cell_type": "code",
   "execution_count": 19,
   "id": "95a81796",
   "metadata": {},
   "outputs": [
    {
     "data": {
      "text/plain": [
       "['email', 'phone']                  4599\n",
       "['email', 'phone', 'work_email']     896\n",
       "['phone']                            394\n",
       "['phone', 'work_email']               12\n",
       "['email']                              5\n",
       "[]                                     4\n",
       "Name: host_verifications, dtype: int64"
      ]
     },
     "execution_count": 19,
     "metadata": {},
     "output_type": "execute_result"
    }
   ],
   "source": [
    "# Check host_verifications contents\n",
    "df_listings_processed['host_verifications'].value_counts()"
   ]
  },
  {
   "cell_type": "code",
   "execution_count": 20,
   "id": "3ec251fd",
   "metadata": {},
   "outputs": [],
   "source": [
    "# Create binary columns using contents in host_verifications \n",
    "host_verification_email=[]\n",
    "host_verification_phone=[]\n",
    "host_verification_work_email=[]\n",
    "\n",
    "# We will use the unique values to filter each option\n",
    "unique_verification_options = list(df_listings_processed['host_verifications'].value_counts().index)\n",
    "\n",
    "# Append different options in created lists\n",
    "for i in range(df_listings_processed.shape[0]):\n",
    "    temp_value = df_listings_processed.loc[i, 'host_verifications']\n",
    "    if temp_value == \"['email', 'phone']\":\n",
    "        host_verification_email.append(1)\n",
    "        host_verification_phone.append(1)\n",
    "        host_verification_work_email.append(0)\n",
    "    elif temp_value ==\"['email', 'phone', 'work_email']\":\n",
    "        host_verification_email.append(1)\n",
    "        host_verification_phone.append(1)\n",
    "        host_verification_work_email.append(1)\n",
    "    elif temp_value == \"['phone']\":\n",
    "        host_verification_email.append(0)\n",
    "        host_verification_phone.append(1)\n",
    "        host_verification_work_email.append(0)\n",
    "    elif temp_value == \"['phone', 'work_email']\":\n",
    "        host_verification_email.append(0)\n",
    "        host_verification_phone.append(1)\n",
    "        host_verification_work_email.append(1)\n",
    "    elif temp_value == \"['email']\":\n",
    "        host_verification_email.append(1)\n",
    "        host_verification_phone.append(0)\n",
    "        host_verification_work_email.append(0)\n",
    "    else:\n",
    "        host_verification_email.append(0)\n",
    "        host_verification_phone.append(0)\n",
    "        host_verification_work_email.append(0)\n",
    "\n",
    "# Add extracted lists to dataframe\n",
    "df_listings_processed['host_verifications_email'] = host_verification_email\n",
    "df_listings_processed['host_verifications_phone'] = host_verification_phone\n",
    "df_listings_processed['host_verifications_work_email'] = host_verification_work_email\n",
    "\n",
    "# Drop original column\n",
    "df_listings_processed.drop('host_verifications', axis=1, inplace=True)"
   ]
  },
  {
   "cell_type": "markdown",
   "id": "d45f4c9b",
   "metadata": {},
   "source": [
    "#### Binarize `room_type`"
   ]
  },
  {
   "cell_type": "code",
   "execution_count": 21,
   "id": "a81246ab",
   "metadata": {},
   "outputs": [
    {
     "data": {
      "text/plain": [
       "Entire home/apt    4102\n",
       "Private room       1765\n",
       "Hotel room           28\n",
       "Shared room          15\n",
       "Name: room_type, dtype: int64"
      ]
     },
     "execution_count": 21,
     "metadata": {},
     "output_type": "execute_result"
    }
   ],
   "source": [
    "# Check the room_type column content\n",
    "df_listings_processed['room_type'].value_counts()"
   ]
  },
  {
   "cell_type": "code",
   "execution_count": 22,
   "id": "fd72089b",
   "metadata": {},
   "outputs": [],
   "source": [
    "# Convert room_type to binary columns\n",
    "room_type_dummies = pd.get_dummies(df_listings_processed['room_type'], prefix='room_type')\n",
    "\n",
    "# Concatenate the dummy columns with the original processed listing DataFrame\n",
    "df_listings_processed = pd.concat([df_listings_processed, room_type_dummies], axis=1)\n",
    "\n",
    "# Drop the 'None' column to prevent dummy variable trap\n",
    "df_listings_processed.drop(['room_type', 'room_type_Shared room'], axis=1, inplace=True)"
   ]
  },
  {
   "cell_type": "markdown",
   "id": "21d55ecc",
   "metadata": {},
   "source": [
    "***"
   ]
  },
  {
   "cell_type": "markdown",
   "id": "625b8753",
   "metadata": {},
   "source": [
    "# Pre-process Review Data <a id=\"a2\"></a>"
   ]
  },
  {
   "cell_type": "markdown",
   "id": "16e00065",
   "metadata": {},
   "source": [
    "Before we merge the review data with our listing data, we need to vectorize the review texts. First, the text will be cleaned into appropriate format so that errors and bias will be reduced in the corpus."
   ]
  },
  {
   "cell_type": "markdown",
   "id": "dbe0995b",
   "metadata": {},
   "source": [
    "## Remove Non-English texts <a id=\"a2.1\"></a>"
   ]
  },
  {
   "cell_type": "code",
   "execution_count": 24,
   "id": "4d614e9d",
   "metadata": {},
   "outputs": [],
   "source": [
    "# Function to detect language\n",
    "def detect_language(text):\n",
    "    try:\n",
    "        return detect(text) == 'en'\n",
    "    except:\n",
    "        return False  # Return False if language detection fails\n",
    "\n",
    "# Filter out non-English texts\n",
    "df_reviews_processed= df_reviews_clean[df_reviews_clean['comments'].apply(detect_language)]\n",
    "\n",
    "# Reset index\n",
    "df_reviews_processed.reset_index(drop=True, inplace=True)"
   ]
  },
  {
   "cell_type": "code",
   "execution_count": 25,
   "id": "00da43ee",
   "metadata": {},
   "outputs": [
    {
     "name": "stdout",
     "output_type": "stream",
     "text": [
      "The current dataset contains 470695 reviews.\n"
     ]
    }
   ],
   "source": [
    "print(f'The current dataset contains {df_reviews_processed.shape[0]} reviews.')"
   ]
  },
  {
   "cell_type": "markdown",
   "id": "bd460561",
   "metadata": {},
   "source": [
    "After removing non-English texts, we are left with **470,695** reviews. Next, we will merge the reviews with Airbnb listings. This will be done in two ways:\n",
    "\n",
    "- We can merge the listing information, including sentiment scores, to all reviews individually. This may affect our model accuracy as we do not have the sentiment score for each review. However, since the sentiment score was determined by the average rating scores, we can infer that the reviews are reflective of the listing sentiment.\n",
    "\n",
    "- We can collapse all review texts for the same listing into one corpus. This transformation can provide us with a more accurate sentiment score overall. However, we will only have about 6,000 data points as we have fewer than 6000 listings.\n",
    "\n",
    "The concatenated data for both options will be generated and saved. We will perform further preparation for the implementation of NLP and modelling in the next notebook."
   ]
  },
  {
   "cell_type": "markdown",
   "id": "6eba74f2",
   "metadata": {},
   "source": [
    "***"
   ]
  },
  {
   "cell_type": "markdown",
   "id": "891253eb",
   "metadata": {},
   "source": [
    "# Merge Reviews and Listing data <a id=\"a3\"></a>"
   ]
  },
  {
   "cell_type": "markdown",
   "id": "4d31ecf9",
   "metadata": {},
   "source": [
    "## Obtain all reviews individually <a id=\"a3.1\"></a>"
   ]
  },
  {
   "cell_type": "markdown",
   "id": "e5ff20f1",
   "metadata": {},
   "source": [
    "Now the review and listing data will be merged using the first method listed above. We will retain the numerical columns in the listing dataset and remove irrelevant columns in the review dataset after merging."
   ]
  },
  {
   "cell_type": "code",
   "execution_count": 26,
   "id": "12f2ef23",
   "metadata": {},
   "outputs": [],
   "source": [
    "# Rename listing id in listing dataframe\n",
    "df_listings_processed.rename(columns={'id': 'listing_id'}, inplace=True)\n",
    "\n",
    "# Merge listing and review datasets\n",
    "df_reviews_by_listing = pd.merge(df_listings_processed, \n",
    "                                 df_reviews_processed,\n",
    "                                on ='listing_id',\n",
    "                                how='inner')\n",
    "# Remove irrelevant columns\n",
    "drop_columns=['id', 'date', 'reviewer_id', 'reviewer_name', 'price']\n",
    "df_reviews_by_listing.drop(drop_columns, axis=1, inplace=True)"
   ]
  },
  {
   "cell_type": "markdown",
   "id": "34510823",
   "metadata": {},
   "source": [
    "## Obtain collapsed reviews by listings <a id=\"a3.2\"></a>"
   ]
  },
  {
   "cell_type": "code",
   "execution_count": 27,
   "id": "295b51ce",
   "metadata": {},
   "outputs": [],
   "source": [
    "# Collapse all reviews to one corpus for each unique listing\n",
    "df_collapsed_reviews = df_reviews_processed.groupby('listing_id')['comments'].apply(lambda x: ' '.join(x)).reset_index()\n",
    "\n",
    "# Check if all listing id exists in the collapsed review dataset\n",
    "temp_list = list(df_reviews_processed['listing_id'].unique())\n",
    "df_listings_processed = df_listings_processed[df_listings_processed['listing_id'].isin(temp_list)]\n",
    "\n",
    "# Merge the collapsed review data and the listing data\n",
    "df_collapsed_reviews_by_listing = pd.merge(df_listings_processed, \n",
    "                                 df_collapsed_reviews,\n",
    "                                on ='listing_id',\n",
    "                                how='inner')\n",
    "# Remove irrelevant columns\n",
    "df_collapsed_reviews_by_listing.drop(['listing_id', 'price'], axis=1, inplace=True)"
   ]
  },
  {
   "cell_type": "markdown",
   "id": "e401c439",
   "metadata": {},
   "source": [
    "***"
   ]
  },
  {
   "cell_type": "markdown",
   "id": "eebc70f6",
   "metadata": {},
   "source": [
    "# Extract merged data <a id=\"a4\"></a>"
   ]
  },
  {
   "cell_type": "code",
   "execution_count": 28,
   "id": "f32cc2fe",
   "metadata": {},
   "outputs": [
    {
     "data": {
      "text/plain": [
       "['data/df_reviews_by_listing.pkl']"
      ]
     },
     "execution_count": 28,
     "metadata": {},
     "output_type": "execute_result"
    }
   ],
   "source": [
    "# Save data as pickle file in my data folder\n",
    "joblib.dump(df_collapsed_reviews_by_listing, 'data/df_collapsed_reviews_by_listing.pkl')\n",
    "\n",
    "# Save data as pickle file in my data folder\n",
    "joblib.dump(df_reviews_by_listing, 'data/df_reviews_by_listing.pkl')"
   ]
  },
  {
   "cell_type": "markdown",
   "id": "7925ebeb",
   "metadata": {},
   "source": [
    "***"
   ]
  },
  {
   "cell_type": "markdown",
   "id": "008e4227",
   "metadata": {},
   "source": [
    "# Summary <a id=\"a5\"></a>"
   ]
  },
  {
   "cell_type": "markdown",
   "id": "3aa8d54b",
   "metadata": {},
   "source": [
    "In this Notebook, we have performed first stage data preprocessing including cleaning all non-numerical columns and merged processed review texts with listing data using two seperate methods. We will perform further text processing using Natural Language Processing as well as other matchine learning techinques in the next notebook. Furthermore, we will utilise different machine learning models to attempt extracting word features that can help us identify an outstanding Airbnb listing."
   ]
  }
 ],
 "metadata": {
  "kernelspec": {
   "display_name": "clcapstone",
   "language": "python",
   "name": "clcapstone"
  },
  "language_info": {
   "codemirror_mode": {
    "name": "ipython",
    "version": 3
   },
   "file_extension": ".py",
   "mimetype": "text/x-python",
   "name": "python",
   "nbconvert_exporter": "python",
   "pygments_lexer": "ipython3",
   "version": "3.11.5"
  }
 },
 "nbformat": 4,
 "nbformat_minor": 5
}
