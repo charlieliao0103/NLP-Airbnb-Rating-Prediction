{
 "cells": [
  {
   "cell_type": "markdown",
   "id": "3e5fe035",
   "metadata": {},
   "source": [
    "# Predicting Star Ratings of Edinburgh Airbnbs through Review Texts Analysis"
   ]
  },
  {
   "cell_type": "markdown",
   "id": "9e937800",
   "metadata": {},
   "source": [
    "# Notebook 6: Modelling_Subratings"
   ]
  },
  {
   "cell_type": "markdown",
   "id": "208ad69c",
   "metadata": {},
   "source": [
    "# Introduction"
   ]
  },
  {
   "cell_type": "markdown",
   "id": "46e4fc16",
   "metadata": {},
   "source": [
    "In this notebook, we will use our current findings on the analysis for Overall Ratings on all Edinburgh Airbnb listings and change our focus onto more specfic **subratings**. We decided to use the uncollapsed review dataset for analysis since it contains sufficient data for us to train our models and make insightful predictions. We aim to extract more specific and better word features when we change our target variable. The workflow for this notebook is as follows:\n",
    "\n",
    "- Import pre-defined functions from previous notebooks. For more specific information about these functions, please view **'my_function.py'**.\n",
    "- Modeling set up for subratings including defining different target variables, perform train-test-split on different group of variables, and plot current taraget variable distributions for all selected target variables. "
   ]
  },
  {
   "cell_type": "markdown",
   "id": "4ec1709e",
   "metadata": {},
   "source": [
    "***"
   ]
  },
  {
   "cell_type": "markdown",
   "id": "2de22e57",
   "metadata": {},
   "source": [
    "# Table of Contents"
   ]
  },
  {
   "cell_type": "markdown",
   "id": "695a482d",
   "metadata": {},
   "source": [
    "1. [**Import Libraries**](#a1)<br>\n",
    "    1.1 [**Import customized functions**](#a1.1)<br>   \n",
    "    \n",
    "2. [**Modelling Set Up for Subratings**](#a2)<br>\n",
    "    2.1.[Split Variables](#a2.1)<br>\n",
    "    2.2.[Target Variable Distribution](#a2.2)<br>\n",
    "    2.3.[Train Test Split](#a2.3)<br>\n",
    "    2.4.[Sampling](#a2.4)<br>\n",
    "        \n",
    "3. [**Baseline Model**](#a3)<br>\n",
    "\n",
    "4. [**GridSearch: Subratings**](#a4)<br>\n",
    "        4.1 [Modelling](#a4.1)<br> \n",
    "        4.2 [Results](#a4.2)<br>\n",
    "5. [**Summary**](#a5)<br>"
   ]
  },
  {
   "cell_type": "markdown",
   "id": "372f0775",
   "metadata": {},
   "source": [
    "***"
   ]
  },
  {
   "cell_type": "markdown",
   "id": "9497aff3",
   "metadata": {},
   "source": [
    "## Import Libraries <a id='a1'></a>"
   ]
  },
  {
   "cell_type": "code",
   "execution_count": 1,
   "id": "c5eff6a0",
   "metadata": {},
   "outputs": [
    {
     "name": "stderr",
     "output_type": "stream",
     "text": [
      "[nltk_data] Downloading package stopwords to\n",
      "[nltk_data]     C:\\Users\\12276\\AppData\\Roaming\\nltk_data...\n",
      "[nltk_data]   Package stopwords is already up-to-date!\n",
      "[nltk_data] Downloading package wordnet to\n",
      "[nltk_data]     C:\\Users\\12276\\AppData\\Roaming\\nltk_data...\n",
      "[nltk_data]   Package wordnet is already up-to-date!\n"
     ]
    }
   ],
   "source": [
    "# Main Libraries\n",
    "import numpy as np\n",
    "import pandas as pd\n",
    "import matplotlib.pyplot as plt\n",
    "import seaborn as sns\n",
    "\n",
    "# Scipy Library for sparse  matrix\n",
    "from scipy.sparse import csr_matrix\n",
    "\n",
    "# NLP Libraries\n",
    "import nltk\n",
    "import re\n",
    "import string\n",
    "import html\n",
    "import contractions\n",
    "import langid\n",
    "from nltk.tokenize import RegexpTokenizer\n",
    "from nltk.stem import WordNetLemmatizer\n",
    "from nltk.corpus import stopwords\n",
    "from langid.langid import LanguageIdentifier\n",
    "\n",
    "# Download from nltk\n",
    "nltk.download('stopwords')\n",
    "nltk.download('wordnet')\n",
    "\n",
    "# Feature Extraction Libraries\n",
    "from sklearn.feature_extraction.text import TfidfVectorizer\n",
    "from sklearn.feature_extraction.text import CountVectorizer\n",
    "\n",
    "# Dummy Classifer \n",
    "from sklearn.dummy import DummyClassifier\n",
    "\n",
    "# Modelling Libraries\n",
    "from sklearn.utils import resample\n",
    "from sklearn.model_selection import train_test_split\n",
    "from sklearn.linear_model import LogisticRegression\n",
    "from sklearn.neighbors import KNeighborsClassifier\n",
    "from sklearn.tree import DecisionTreeClassifier\n",
    "from sklearn.ensemble import RandomForestClassifier\n",
    "from sklearn.preprocessing import MinMaxScaler, StandardScaler, FunctionTransformer\n",
    "from sklearn.compose import ColumnTransformer\n",
    "from sklearn.pipeline import Pipeline\n",
    "from sklearn.model_selection import GridSearchCV\n",
    "\n",
    "# Evaluation Libraries\n",
    "from sklearn.metrics import confusion_matrix, ConfusionMatrixDisplay\n",
    "from sklearn.metrics import classification_report\n",
    "from sklearn.metrics import precision_score\n",
    "from sklearn.metrics import recall_score\n",
    "from sklearn.metrics import f1_score\n",
    "from sklearn.metrics import accuracy_score\n",
    "\n",
    "import joblib\n",
    "import pickle as pk"
   ]
  },
  {
   "cell_type": "markdown",
   "id": "e4758d00",
   "metadata": {},
   "source": [
    "#### Import functions from local <a id='a1.1'></a>"
   ]
  },
  {
   "cell_type": "code",
   "execution_count": 2,
   "id": "df268391",
   "metadata": {},
   "outputs": [
    {
     "name": "stderr",
     "output_type": "stream",
     "text": [
      "[nltk_data] Downloading package stopwords to\n",
      "[nltk_data]     C:\\Users\\12276\\AppData\\Roaming\\nltk_data...\n",
      "[nltk_data]   Package stopwords is already up-to-date!\n",
      "[nltk_data] Downloading package wordnet to\n",
      "[nltk_data]     C:\\Users\\12276\\AppData\\Roaming\\nltk_data...\n",
      "[nltk_data]   Package wordnet is already up-to-date!\n"
     ]
    }
   ],
   "source": [
    "%run -i my_function.py"
   ]
  },
  {
   "cell_type": "markdown",
   "id": "00db98bf",
   "metadata": {},
   "source": [
    "#### Loading Relevant Data"
   ]
  },
  {
   "cell_type": "code",
   "execution_count": 3,
   "id": "aae965a1",
   "metadata": {},
   "outputs": [],
   "source": [
    "# Load uncollapsed review data\n",
    "df_reviews_by_listing= joblib.load('data/df_reviews_by_listing.pkl')"
   ]
  },
  {
   "cell_type": "markdown",
   "id": "9834226c",
   "metadata": {},
   "source": [
    "#### Ignore userwarnings"
   ]
  },
  {
   "cell_type": "code",
   "execution_count": 4,
   "id": "e3b6a4bc",
   "metadata": {},
   "outputs": [],
   "source": [
    "import warnings\n",
    "\n",
    "# Ignore UserWarning\n",
    "warnings.filterwarnings('ignore', category=UserWarning)\n",
    "warnings.filterwarnings('ignore', category=FutureWarning)"
   ]
  },
  {
   "cell_type": "markdown",
   "id": "c6581506",
   "metadata": {},
   "source": [
    "***"
   ]
  },
  {
   "cell_type": "markdown",
   "id": "5b9cb17f",
   "metadata": {},
   "source": [
    "# Modelling Set up for Subratings<a id='a2'></a>"
   ]
  },
  {
   "cell_type": "markdown",
   "id": "8a1a4d59",
   "metadata": {},
   "source": [
    "## Split the variables <a id='a2.1'></a>"
   ]
  },
  {
   "cell_type": "markdown",
   "id": "a669293d",
   "metadata": {},
   "source": [
    "We need to split the variables into dependent and independent variables before we start fitting the model. The target variable will be the sentiment scores. We will focus on the overall sentiment score and attempt to further analyse the reviews with the other sub-rating transformed sentiment scores. Amnong six different subratings, we decide to perform analysis on 'Cleanliness', 'Checkin', 'Communication', and 'Location' subratings sentiment scores. Note that the scores are transformmed using the threshold we defined (4.8) based on the overall rating distribution."
   ]
  },
  {
   "cell_type": "code",
   "execution_count": 5,
   "id": "c43258f2",
   "metadata": {},
   "outputs": [],
   "source": [
    "# Define X for general feature dataset\n",
    "X = df_reviews_by_listing.drop(['listing_id',\n",
    "                                'Overall_sentiment',\n",
    "                               'accuracy_sentiment',\n",
    "                               'cleanliness_sentiment',\n",
    "                               'checkin_sentiment',\n",
    "                               'communication_sentiment',\n",
    "                               'location_sentiment',\n",
    "                               'value_sentiment'], axis=1)\n",
    "\n",
    "# Define different target variables\n",
    "y_cleanliness = df_reviews_by_listing['cleanliness_sentiment']\n",
    "y_checkin = df_reviews_by_listing['checkin_sentiment']\n",
    "y_communication = df_reviews_by_listing['communication_sentiment']\n",
    "y_location = df_reviews_by_listing['location_sentiment']\n",
    "\n",
    "# Create dataframe contains all target variables\n",
    "df_y = pd.concat([y_checkin, y_cleanliness, y_communication, y_location], axis=1)"
   ]
  },
  {
   "cell_type": "markdown",
   "id": "3c9b4732",
   "metadata": {},
   "source": [
    "The dependent variable stored as **X** contains all cleaned listing related numerical data as well as a column that contains the guest review data.\n",
    "\n",
    "The independent variable stored as **y_subsentiments** contains the cnverted sentiments based on overall rating criteria **4.8**:\n",
    "- 1 was denoted by corresponding sub-rating score > 4.8\n",
    "- 0 was denoted by corresponding sub-rating score < 4.8"
   ]
  },
  {
   "cell_type": "markdown",
   "id": "17428dc3",
   "metadata": {},
   "source": [
    "***"
   ]
  },
  {
   "cell_type": "markdown",
   "id": "279c2127",
   "metadata": {},
   "source": [
    "## Target Variable Distribution <a id='a2.2'></a>"
   ]
  },
  {
   "cell_type": "code",
   "execution_count": 6,
   "id": "f0d8e7b3",
   "metadata": {
    "scrolled": false
   },
   "outputs": [
    {
     "data": {
      "image/png": "[encoded data removed]",
      "text/plain": [
       "<Figure size 1000x600 with 1 Axes>"
      ]
     },
     "metadata": {},
     "output_type": "display_data"
    }
   ],
   "source": [
    "# Create lists contain sentiment types and proportion of positive and negative sentiments\n",
    "rating_type=[]\n",
    "sentiment=[]\n",
    "proportion=[]\n",
    "\n",
    "for i in df_y.columns:\n",
    "    new_name=i.replace('_sentiment', '')\n",
    "    df_y = df_y.rename(columns={i: new_name})\n",
    "\n",
    "for i in df_y.columns:\n",
    "    rating_type.extend([i,i])\n",
    "    sentiment.extend([0,1])\n",
    "    proportion.extend([\n",
    "        (1-df_y.mean()[i])*100,\n",
    "        (df_y.mean()[i])*100\n",
    "    ])\n",
    "\n",
    "# Create sentiment proportion dataframe\n",
    "df_sentiment_proportions =pd.DataFrame({'Rating_Type': rating_type, 'Sentiment': sentiment, 'Proportion': proportion})\n",
    "\n",
    "# Determine figure size\n",
    "plt.figure(figsize=(10, 6))\n",
    "\n",
    "# Plot two bars per sentiment type \n",
    "ax=sns.barplot(data=df_sentiment_proportions, x='Rating_Type', y='Proportion', hue='Sentiment', palette=['grey', '#FF5A5F'])\n",
    "\n",
    "# Add annotation\n",
    "for p in ax.patches:\n",
    "    height=p.get_height()\n",
    "    ax.annotate(f'{height:.0f}%', (p.get_x() + p.get_width() / 2., p.get_height()), ha = 'center', va = 'center', xytext = (0,5), textcoords = 'offset points')\n",
    "\n",
    "# Add labels and legends\n",
    "plt.title('Current Target Variables Distribution for Different Subratings',fontsize=16)\n",
    "plt.xlabel('Sentiment Target Variable Types',fontsize=12)\n",
    "plt.ylabel('Percentage %',fontsize=12)\n",
    "\n",
    "plt.legend(title='Sentiment', labels=['0 <4.8', '1 >4.8'],handles=[plt.Line2D([0], [0], color='grey', lw=3),plt.Line2D([0], [0], color='#FF5A5F', lw=3)])\n",
    "\n",
    "# Adjust layouts and labels\n",
    "plt.xticks(rotation=15)\n",
    "plt.xticks(fontsize=10)\n",
    "plt.yticks(fontsize=10)\n",
    "\n",
    "# plt.savefig('Sentiments_Distribution_by_Rating_Types.jpg', dpi =300)\n",
    "\n",
    "plt.show()"
   ]
  },
  {
   "cell_type": "markdown",
   "id": "dfad260a",
   "metadata": {},
   "source": [
    "From the above plot, we observed that the imbalanceness becomes worse after the listing information aggregate to the reviews, all of the four target variables are imbalanced with significantly more positive scores than negative scores based on our current sentiment score threshold of 4.8.\n",
    "\n",
    "To address this issue, we plan to **downsample** reviews with positive sentiments in the next sampling stage. This approach aims to create a more even distribution of the target variable, enhancing the model's ability to generalize across different sentiment categories. However, to avoid potential **data leakage**, we will only perform sampling on the **training** dataset after **Train Test Split**."
   ]
  },
  {
   "cell_type": "markdown",
   "id": "c7486abc",
   "metadata": {},
   "source": [
    "***"
   ]
  },
  {
   "cell_type": "markdown",
   "id": "35f94cdd",
   "metadata": {},
   "source": [
    "## Train Test Split <a id='a2.3'></a>"
   ]
  },
  {
   "cell_type": "markdown",
   "id": "a91f9bcf",
   "metadata": {},
   "source": [
    "The modelling process starts by splitting our dataset into training and testing sets. This procedure is fundamental for the effective evaluation of our model performance. However, since we have four different target variables, we will split them individually with different random_state numbers. This will allow us obtain different groups of train-test-split results. \n",
    "\n",
    "The training data is implemented upon which our model is built and refined, and the testing data provides the benchmark for assessing the model's predictive performance on unseen data. This ensures us to mitigate the risk of **overfitting**, as our model will not just memorize the data pattern but rather learns to generalize on new, unseen data.\n",
    "\n",
    "Additionally, it is important that this splitting process must precede any data transformation steps including random sampling, text vectorization and scaling to prevent potential **data leakage**."
   ]
  },
  {
   "cell_type": "code",
   "execution_count": 7,
   "id": "e3c631f9",
   "metadata": {},
   "outputs": [
    {
     "name": "stdout",
     "output_type": "stream",
     "text": [
      "The number of rows obtained in all subrating training data is 329450, with 38 feature columns.\n",
      "The number of rows obtained in all subrating testing data is 141194, with 38 feature columns.\n"
     ]
    }
   ],
   "source": [
    "# Split test data as 30% of all data, determine random state to make sure every split is the same\n",
    "X_train_checkin, X_test_checkin, y_train_checkin, y_test_checkin = train_test_split(X, y_checkin, test_size=0.3, random_state=1)\n",
    "X_train_cleanliness, X_test_cleanliness, y_train_cleanliness, y_test_cleanliness = train_test_split(X, y_cleanliness, test_size=0.3, random_state=12)\n",
    "X_train_communication, X_test_communication, y_train_communication, y_test_communication = train_test_split(X, y_communication, test_size=0.3, random_state=123)\n",
    "X_train_location, X_test_location, y_train_location, y_test_location = train_test_split(X, y_location, test_size=0.3, random_state=1234)\n",
    "\n",
    "# Show the number of rows for training and testing dataset\n",
    "print(f'The number of rows obtained in all subrating training data is {X_train_checkin.shape[0]}, with {X_train_checkin.shape[1]} feature columns.')\n",
    "print(f'The number of rows obtained in all subrating testing data is {X_test_checkin.shape[0]}, with {X_train_checkin.shape[1]} feature columns.')"
   ]
  },
  {
   "cell_type": "markdown",
   "id": "3d789bf1",
   "metadata": {},
   "source": [
    "***"
   ]
  },
  {
   "cell_type": "markdown",
   "id": "317e2c8a",
   "metadata": {},
   "source": [
    "## Sampling <a id='a2.4'></a>"
   ]
  },
  {
   "cell_type": "markdown",
   "id": "f6a0b998",
   "metadata": {},
   "source": [
    "Since we have a large training dataset with nearly 330k rows and all the target variables are imbalanced, we will perform **downsampling** on the training dataset by randomly select a balanced number of rows for both positive labelled rows and negative labelled rows. The imbalanceness on checkin and communication sentiment scores are both severe, with 85% positive for checkin scores, and 86% positive for communication scores.\n",
    "\n",
    "We will eventually select **3%** of the original training dataset for all subrating train-test-splitted groups."
   ]
  },
  {
   "cell_type": "code",
   "execution_count": 8,
   "id": "9718d87a",
   "metadata": {},
   "outputs": [],
   "source": [
    "# Return downsampled training data for all subratings\n",
    "X_train_sample_checkin, y_train_sample_checkin = downsample_train(X_train_checkin, y_train_checkin, 'checkin_sentiment', 0.03)\n",
    "X_train_sample_cleanliness, y_train_sample_cleanliness = downsample_train(X_train_cleanliness, y_train_cleanliness, 'cleanliness_sentiment', 0.03)\n",
    "X_train_sample_communication, y_train_sample_communication = downsample_train(X_train_communication, y_train_communication, 'communication_sentiment', 0.03)\n",
    "X_train_sample_location, y_train_sample_location = downsample_train(X_train_location, y_train_location, 'location_sentiment', 0.03)"
   ]
  },
  {
   "cell_type": "code",
   "execution_count": 9,
   "id": "cc7e9cc7",
   "metadata": {},
   "outputs": [],
   "source": [
    "# Create train-test-split downsampled groups for each subrating for future loops\n",
    "split_checkin= [X_train_sample_checkin, X_test_checkin, y_train_sample_checkin, y_test_checkin]\n",
    "split_cleanliness = [X_train_sample_cleanliness, X_test_cleanliness, y_train_sample_cleanliness, y_test_cleanliness] \n",
    "split_communication = [X_train_sample_communication, X_test_communication, y_train_sample_communication, y_test_communication]\n",
    "split_location = [X_train_sample_location, X_test_location, y_train_sample_location, y_test_location]"
   ]
  },
  {
   "cell_type": "code",
   "execution_count": 10,
   "id": "0f0e590b",
   "metadata": {},
   "outputs": [
    {
     "name": "stdout",
     "output_type": "stream",
     "text": [
      "The current proportion of each sentiment score class is (%)\n",
      "1    50.0\n",
      "0    50.0\n",
      "Name: checkin_sentiment, dtype: float64\n",
      "\n",
      "--------------------------------------------\n",
      "\n",
      "The current number of rows in the training data is 9884\n"
     ]
    }
   ],
   "source": [
    "# Check for current target variable distribution\n",
    "print('The current proportion of each sentiment score class is (%)')\n",
    "print((y_train_sample_checkin.value_counts(normalize=True))*100)\n",
    "print('\\n--------------------------------------------\\n')\n",
    "print(f'The current number of rows in the training data is {X_train_sample_checkin.shape[0]}')"
   ]
  },
  {
   "cell_type": "markdown",
   "id": "570c215c",
   "metadata": {},
   "source": [
    "Thus we have downsampled our training data from nearly 330k (329450) rows to nearly 10k (9884), and we also obtained a balanced training data. This procedure will potentially improve our model performance but potentially overfit in the testing set."
   ]
  },
  {
   "cell_type": "markdown",
   "id": "e338d9c3",
   "metadata": {},
   "source": [
    "***"
   ]
  },
  {
   "cell_type": "markdown",
   "id": "e9da07db",
   "metadata": {},
   "source": [
    "# Baseline Model <a id='a3'></a>"
   ]
  },
  {
   "cell_type": "markdown",
   "id": "eff30002",
   "metadata": {},
   "source": [
    "As we are developing the best performed models for predicting the class of guest sentiments, it is crucial to establish a baseline model for comparison. We will utilise a **Dummy Classifier** model, which makes predictions without accessing dataset features, essentially performing random guessing. By establishing this baseline, we can decide that any model performing worse than the baseline model will not proceed to further analysis. Since we have four different target variables, we will perform the baseline model on each of them and obtain a **summarised dataframe** showing baseline model results for each of the subrating type.\n",
    "\n",
    "**Run Time**: 23min 2s"
   ]
  },
  {
   "cell_type": "code",
   "execution_count": 11,
   "id": "9f725f0f",
   "metadata": {},
   "outputs": [
    {
     "name": "stdout",
     "output_type": "stream",
     "text": [
      "The baseline model results for each subrating as target variable\n"
     ]
    },
    {
     "data": {
      "text/html": [
       "<div>\n",
       "<style scoped>\n",
       "    .dataframe tbody tr th:only-of-type {\n",
       "        vertical-align: middle;\n",
       "    }\n",
       "\n",
       "    .dataframe tbody tr th {\n",
       "        vertical-align: top;\n",
       "    }\n",
       "\n",
       "    .dataframe thead th {\n",
       "        text-align: right;\n",
       "    }\n",
       "</style>\n",
       "<table border=\"1\" class=\"dataframe\">\n",
       "  <thead>\n",
       "    <tr style=\"text-align: right;\">\n",
       "      <th></th>\n",
       "      <th>Classifier_Name</th>\n",
       "      <th>Dummy_Testing_Accuracy_Score</th>\n",
       "    </tr>\n",
       "  </thead>\n",
       "  <tbody>\n",
       "    <tr>\n",
       "      <th>0</th>\n",
       "      <td>dummy_classifier_checkin</td>\n",
       "      <td>14.66</td>\n",
       "    </tr>\n",
       "    <tr>\n",
       "      <th>1</th>\n",
       "      <td>dummy_classifier_cleanliness</td>\n",
       "      <td>37.23</td>\n",
       "    </tr>\n",
       "    <tr>\n",
       "      <th>2</th>\n",
       "      <td>dummy_classifier_communication</td>\n",
       "      <td>13.94</td>\n",
       "    </tr>\n",
       "    <tr>\n",
       "      <th>3</th>\n",
       "      <td>dummy_classifier_location</td>\n",
       "      <td>28.70</td>\n",
       "    </tr>\n",
       "  </tbody>\n",
       "</table>\n",
       "</div>"
      ],
      "text/plain": [
       "                  Classifier_Name  Dummy_Testing_Accuracy_Score\n",
       "0        dummy_classifier_checkin                         14.66\n",
       "1    dummy_classifier_cleanliness                         37.23\n",
       "2  dummy_classifier_communication                         13.94\n",
       "3       dummy_classifier_location                         28.70"
      ]
     },
     "execution_count": 11,
     "metadata": {},
     "output_type": "execute_result"
    }
   ],
   "source": [
    "# Group all subrating train-test-split data together\n",
    "all_splits= [split_checkin, split_cleanliness, split_communication, split_location]\n",
    "\n",
    "# Prepare result dataframe\n",
    "dummy_classifier_results_all_subratings = pd.DataFrame()\n",
    "\n",
    "# Prepare column list containers\n",
    "subrating_names= ['dummy_classifier_checkin', 'dummy_classifier_cleanliness', 'dummy_classifier_communication', 'dummy_classifier_location']\n",
    "dummy_testing_scores=[]\n",
    "\n",
    "# Using loaded_flag to reduce running time, if need to retrain, change loaded_flag_dummy to False\n",
    "load_flag_dummy = True\n",
    "\n",
    "if load_flag_dummy:\n",
    "    print('The baseline model results for each subrating as target variable')\n",
    "    # Load pre-trained dummy classifier on all subrating target variable results\n",
    "    dummy_classifier_results_all_subratings = joblib.load('data/dummy_classifier_results_all_subratings.pkl')\n",
    "    \n",
    "else:\n",
    "    # Prepare result dataframe\n",
    "    dummy_classifier_results_all_subratings = pd.DataFrame()\n",
    "\n",
    "    # Prepare column list containers\n",
    "    subrating_names= ['dummy_classifier_checkin', 'dummy_classifier_cleanliness', 'dummy_classifier_communication', 'dummy_classifier_location']\n",
    "    dummy_testing_scores=[]\n",
    "    \n",
    "    # Running loop for each subrating dummy classifier prediction\n",
    "    j=1\n",
    "    for i in all_splits:\n",
    "        print(f'Getting baseline model {j} Testing Results') \n",
    "        \n",
    "        # Use same intervention for convenience\n",
    "        X_train_sample, X_test, y_train_sample, y_test = i[0], i[1], i[2], i[3]\n",
    "        \n",
    "        # Vectorize data using Bag of Words Vectorizer\n",
    "        bow_vec = CountVectorizer(max_features = 500, # Only obtain top 500 features based on vectorizer results\n",
    "                                    min_df=5, # Feature occurency should be bigger than 5 in the corpus\n",
    "                                    tokenizer=customized_tokenizer)\n",
    "\n",
    "        # Fit and transform on the vectorizer to training data\n",
    "        X_train_tfidf_d = bow_vec.fit_transform(X_train_sample['comments']).toarray()\n",
    "\n",
    "        # Transform on both training data and testing data\n",
    "        X_test_tfidf_d = bow_vec.transform(X_test['comments']).toarray()\n",
    "\n",
    "        # Reset Index before concatenating\n",
    "        X_train_sample_reset_index = X_train_sample.reset_index(drop=True)\n",
    "        X_test_reset_index = X_test.reset_index(drop=True)\n",
    "\n",
    "        # Merge the resulting arrays with the original numeric features\n",
    "        X_train_tfidf_d_transformed = pd.concat([X_train_sample_reset_index.drop(['comments'], axis=1),\n",
    "                                                 pd.DataFrame(X_train_tfidf_d, columns=[i for i in bow_vec.get_feature_names_out()])], axis=1)\n",
    "\n",
    "        X_test_tfidf_d_transformed = pd.concat([X_test_reset_index.drop(['comments'], axis=1), \n",
    "                                                pd.DataFrame(X_test_tfidf_d, columns=[i for i in bow_vec.get_feature_names_out()])], axis = 1)\n",
    "\n",
    "        # # Dummy Classifier - Baseline Model\n",
    "        # Instantiate Dummy Classifier\n",
    "        dummy_classifier = DummyClassifier()\n",
    "\n",
    "        # Fit the Dummy Classifier on Training data\n",
    "        dummy_classifier.fit(X_train_tfidf_d_transformed, y_train_sample)\n",
    "\n",
    "        # Predict the fitted model on Testing Data\n",
    "        y_predict_d = dummy_classifier.predict(X_test_tfidf_d_transformed)\n",
    "        \n",
    "        # Obtain dummy testing score for this target variable\n",
    "        dummy_test_score = round(accuracy_score(y_test, y_predict_d)*100, 2)\n",
    "        \n",
    "        # Add result to testing score list\n",
    "        dummy_testing_scores.append(dummy_test_score)\n",
    "        \n",
    "        j+=1\n",
    "    dummy_classifier_results_all_subratings['Classifier_Name'] = subrating_names\n",
    "    dummy_classifier_results_all_subratings['Dummy_Testing_Accuracy_Score'] = dummy_testing_scores\n",
    "    \n",
    "    # Return result dataframe\n",
    "    print('The baseline model results for each subrating as target variable')\n",
    "    \n",
    "    # Same dataframe as pickle file \n",
    "    dummy_classifier_results_all_subratings.to_pickle('data/dummy_classifier_results_all_subratings.pkl')\n",
    "\n",
    "    \n",
    "# Show dataframe\n",
    "dummy_classifier_results_all_subratings"
   ]
  },
  {
   "cell_type": "markdown",
   "id": "3459fbc9",
   "metadata": {},
   "source": [
    "***"
   ]
  },
  {
   "cell_type": "markdown",
   "id": "6ac630e6",
   "metadata": {},
   "source": [
    "# GridSearch: Subratings <a id='a4'></a>"
   ]
  },
  {
   "cell_type": "markdown",
   "id": "cdc51498",
   "metadata": {},
   "source": [
    "In this section, our aim is to utilize insights gained from previous modeling stages to select the best-performing models for each subrating type as target variables. The issue of imbalance observed in the baseline modeling stage suggests using the F1 score as the evaluation metric in our GridSearch. Additionally, N-grams will be incorporated in the text vectorization stage, and only the decision tree classifier will be included as the main classification model based on results from previous notebooks. The details of all models with their corresponding hyperparameters are included in the following table."
   ]
  },
  {
   "cell_type": "markdown",
   "id": "b205db52",
   "metadata": {},
   "source": [
    " |    Models   |    Hyperparameters   |   Ranges/Options  |\n",
    "|:-------------:|:-------------:|:-------------:|\n",
    "|    **TF-IDF Vectorizer**     |     max_df   |    0.95     |\n",
    "|                  |     min_df  |    5       |\n",
    "|                  |     N_grams  |    bigrams, trigrams       |\n",
    "|       **Bag of Words CountVectorizer**           |     max_df  |    0.95       |\n",
    "|                  |     min_df  |    5       |\n",
    "|                  |     N_grams  |    bigrams, trigrams       |\n",
    "|    **Decision Tree Classifier**     |     max_depth    |     2, 8, 32, 64, 128    |\n",
    "|                 |    min_samples_leaf     |     2, 4   |\n",
    "|                 |     min_samples_split    |     2, 3, 4    |\n",
    "|                 |     criterion    |     'entropy'    |"
   ]
  },
  {
   "cell_type": "markdown",
   "id": "f5ecf3ff",
   "metadata": {},
   "source": [
    "## Modelling <a id='a4.1'></a>\n",
    "\n",
    "\n",
    "As we have multiple subrating types used as target variables, our modeling stage requires a few additional steps. Firstly, we will continue to use the loaded flag, considering the computational time required for the grid search to fit the models. Therefore, we will save all results for all four model training scenarios, where at each loop, our target variable changes to a type of subrating, and we restart the text vectorizing stage and all subsequent stages.\n",
    "\n",
    "**Run time**: 2 hours 3 mins 36s"
   ]
  },
  {
   "cell_type": "code",
   "execution_count": 16,
   "id": "cd451b83",
   "metadata": {},
   "outputs": [
    {
     "name": "stdout",
     "output_type": "stream",
     "text": [
      "Loaded Pre-trained GridSearch Results with Different Subrating as Target Variables\n",
      "CPU times: total: 188 ms\n",
      "Wall time: 209 ms\n"
     ]
    }
   ],
   "source": [
    "# GridSearch with 4 different subrating as target variables on uncondensed review dataset\n",
    "\n",
    "#-----------------------------------------------------------------------------------------------------------------#\n",
    "# Extract numerical column names for column transformer\n",
    "numeric_columns = X.select_dtypes(exclude='object').columns.to_list()\n",
    "# Define column transformers with ngrams added\n",
    "ct_bow_ngrams = define_col_trans('ct_bow',  CountVectorizer(max_df=0.95, min_df=5, tokenizer=customized_tokenizer, ngram_range=(2, 3)))\n",
    "ct_tfidf_ngrams = define_col_trans('ct_tfidf',  TfidfVectorizer(max_df=0.95, min_df=5, tokenizer=customized_tokenizer, ngram_range=(2, 3)))\n",
    "#-----------------------------------------------------------------------------------------------------------------#\n",
    "\n",
    "# # GridSearch on different subrating as target variable\n",
    "\n",
    "# Using loaded_flag to reduce running time, if need to retrain, change loaded_flag_subratings to False\n",
    "load_flag_subratings = True\n",
    "\n",
    "if load_flag_subratings:\n",
    "    print('Loaded Pre-trained GridSearch Results with Different Subrating as Target Variables')\n",
    "    # Load pre-trained bow transformed fittedgrids for all subratings\n",
    "    fittedgrid_bow_checkin = joblib.load('data/fittedgrid_bow_checkin.pkl')\n",
    "    fittedgrid_bow_cleanliness = joblib.load('data/fittedgrid_bow_cleanliness.pkl')\n",
    "    fittedgrid_bow_communication = joblib.load('data/fittedgrid_bow_communication.pkl')\n",
    "    fittedgrid_bow_location = joblib.load('data/fittedgrid_bow_location.pkl')\n",
    "    # Load pre-trained TF-IDF transformed fittedgrids for all subratings\n",
    "    fittedgrid_tfidf_checkin = joblib.load('data/fittedgrid_tfidf_checkin.pkl')\n",
    "    fittedgrid_tfidf_cleanliness = joblib.load('data/fittedgrid_tfidf_cleanliness.pkl')\n",
    "    fittedgrid_tfidf_communication = joblib.load('data/fittedgrid_tfidf_communication.pkl')\n",
    "    fittedgrid_tfidf_location = joblib.load('data/fittedgrid_tfidf_location.pkl')\n",
    "    # Load pre-transformed data lists for both training data and testing data\n",
    "    bow_transformed_train_subratings = joblib.load('data/bow_transformed_train_subratings')\n",
    "    tfidf_transformed_train_subratings = joblib.load('data/tfidf_transformed_train_subratings')\n",
    "    bow_transformed_test_subratings = joblib.load('data/bow_transformed_test_subratings')\n",
    "    tfidf_transformed_test_subratings = joblib.load('data/tfidf_transformed_test_subratings')\n",
    "    # Load pre-fitted text vectorizers list containing all fitted vectorizers for all subrating scenarios\n",
    "    #ct_bow_fitted_subratings = joblib.load('data/ct_bow_fitted_subratings')\n",
    "    #ct_tfidf_fitted_subratings = joblib.load('data/ct_tfidf_fitted_subratings')\n",
    "else:\n",
    "    # Prepare list of fittedgrid results transformed by bow vectorizer\n",
    "    fitted_grids_bow_ngrams_subratings = []\n",
    "    \n",
    "    # Prepare list of fittedgrid results transformed by TF-IDF vectorizer\n",
    "    fitted_grids_tfidf_ngrams_subratings = []\n",
    "    \n",
    "    # Prepare list to store transformed training data for each iteration\n",
    "    bow_transformed_train_subratings=[]\n",
    "    tfidf_transformed_train_subratings=[]\n",
    "    \n",
    "    # Prepare list to store transformed testing data for each iteration\n",
    "    bow_transformed_test_subratings=[]\n",
    "    tfidf_transformed_test_subratings=[]\n",
    "    \n",
    "    # Prepare list to store fitted text vectorizers\n",
    "    ct_bow_fitted_subratings = []\n",
    "    ct_tfidf_fitted_subratings = []\n",
    "\n",
    "    # Define number j for manual verbose\n",
    "    j = 1\n",
    "    \n",
    "    # Run GridSearch loop on subratings \n",
    "    for i in all_splits:\n",
    "        print(f'Getting GridSeach Results for Target Variable {j}') \n",
    "\n",
    "        # Use same names for convenience\n",
    "        X_train_sample, X_test, y_train_sample, y_test = i[0], i[1], i[2], i[3]\n",
    "\n",
    "        #-----------------------------------------------------------------------------------------------------------------#\n",
    "        # Fit and transform on training data and testing data using new vectorizers\n",
    "        print(f'Transforming training sample data for target variable {j}.....')\n",
    "        X_train_ct_bow_ngrams = ct_bow_ngrams.fit_transform(X_train_sample)\n",
    "        X_train_ct_tfidf_ngrams= ct_tfidf_ngrams.fit_transform(X_train_sample)\n",
    "        print(f'Done. Training sample data transformed for target variable {j}.')\n",
    "        print(f'Transforming Testing data for target variable {j}.....')\n",
    "        X_test_ct_bow_ngrams = ct_bow_ngrams.transform(X_test)\n",
    "        X_test_ct_tfidf_ngrams = ct_tfidf_ngrams.transform(X_test)\n",
    "        print(f'Done. Testing data transformed for target variable {j}.')\n",
    "        \n",
    "        # Add transformed training data to list\n",
    "        bow_transformed_train_subratings.append(X_train_ct_bow_ngrams)\n",
    "        tfidf_transformed_train_subratings.append(X_train_ct_tfidf_ngrams) \n",
    "        \n",
    "        # Add transformed testing data to list\n",
    "        bow_transformed_test_subratings.append(X_test_ct_bow_ngrams)\n",
    "        tfidf_transformed_test_subratings.append(X_test_ct_tfidf_ngrams)\n",
    "        \n",
    "        # Add fitted vectorizers to list\n",
    "        #ct_bow_fitted_subratings.append(ct_bow_ngrams)\n",
    "        #ct_tfidf_fitted_subratings.append(ct_tfidf_ngrams)\n",
    "        \n",
    "        #-----------------------------------------------------------------------------------------------------------------#\n",
    "        # Define base pipeline\n",
    "        pipeline = Pipeline([\n",
    "            ('sparse_to_dense', FunctionTransformer(convert_to_array, accept_sparse=True)),\n",
    "            ('scaler', StandardScaler()),\n",
    "            ('model', LogisticRegression())\n",
    "        ])\n",
    "\n",
    "        # Instantiate Pipeline with grid of parameters\n",
    "        grid_param = [\n",
    "            \n",
    "            # Decision Tree Classifier\n",
    "            {\n",
    "                'model'                   : [DecisionTreeClassifier()],\n",
    "                'model__max_depth'        : [2, 8, 32, 64, 128], # Control number of tree splits/depth\n",
    "                'model__min_samples_leaf' : [2, 4], # Control minimum number of samples at a leaf node\n",
    "                'model__min_samples_split': [2, 3, 4], # Control minimum number of samples split at a leaf node\n",
    "                'model__criterion'        : ['entropy'], # Control the function to measure the quality of a split\n",
    "                'model__random_state'     : [123] # Control randomness of the estimator\n",
    "            }\n",
    "            \n",
    "        ]\n",
    "        # Use GridSearch\n",
    "        grid = GridSearchCV(estimator=pipeline, # Define GridSearch estimator pipeline\n",
    "                             param_grid=grid_param, # Define parameter grid\n",
    "                             cv=5, # Define 5-fold cross-validation\n",
    "                             n_jobs=-2,\n",
    "                             scoring='f1',\n",
    "                             verbose=1) # Define GridSearch evaluation metric to be f1 score\n",
    "        #-----------------------------------------------------------------------------------------------------------------#\n",
    "        # Fit the grid on training data\n",
    "        print(f'Fitting on target variable {j}')\n",
    "        fittedgrid_bow = grid.fit(X_train_ct_bow_ngrams, y_train_sample)\n",
    "        fittedgrid_tfidf = grid.fit(X_train_ct_tfidf_ngrams, y_train_sample)\n",
    "        print(f'The {j} fit finished')\n",
    "\n",
    "        # Add fitted grids to list \n",
    "        fitted_grids_bow_ngrams_subratings.append(fittedgrid_bow) \n",
    "        fitted_grids_tfidf_ngrams_subratings.append(fittedgrid_tfidf)  \n",
    "        \n",
    "        j+=1\n",
    "    #-----------------------------------------------------------------------------------------------------------------#      \n",
    "    # Specify fittedgrid for each target variable\n",
    "    fittedgrid_bow_checkin = fitted_grids_bow_ngrams_subratings[0]\n",
    "    fittedgrid_bow_cleanliness = fitted_grids_bow_ngrams_subratings[1]        \n",
    "    fittedgrid_bow_communication = fitted_grids_bow_ngrams_subratings[2]\n",
    "    fittedgrid_bow_location = fitted_grids_bow_ngrams_subratings[3]\n",
    "\n",
    "    fittedgrid_tfidf_checkin = fitted_grids_tfidf_ngrams_subratings[0]\n",
    "    fittedgrid_tfidf_cleanliness = fitted_grids_tfidf_ngrams_subratings[1]        \n",
    "    fittedgrid_tfidf_communication = fitted_grids_tfidf_ngrams_subratings[2]\n",
    "    fittedgrid_tfidf_location = fitted_grids_tfidf_ngrams_subratings[3]\n",
    "    #-----------------------------------------------------------------------------------------------------------------#        \n",
    "    # Save fittedgrid as pickle file\n",
    "    joblib.dump(fittedgrid_bow_checkin, 'data/fittedgrid_bow_checkin.pkl')\n",
    "    joblib.dump(fittedgrid_bow_cleanliness, 'data/fittedgrid_bow_cleanliness.pkl')        \n",
    "    joblib.dump(fittedgrid_bow_communication, 'data/fittedgrid_bow_communication.pkl')\n",
    "    joblib.dump(fittedgrid_bow_location, 'data/fittedgrid_bow_location.pkl')\n",
    "\n",
    "    joblib.dump(fittedgrid_tfidf_checkin, 'data/fittedgrid_tfidf_checkin.pkl')        \n",
    "    joblib.dump(fittedgrid_tfidf_cleanliness, 'data/fittedgrid_tfidf_cleanliness.pkl')        \n",
    "    joblib.dump(fittedgrid_tfidf_communication, 'data/fittedgrid_tfidf_communication.pkl')        \n",
    "    joblib.dump(fittedgrid_tfidf_location, 'data/fittedgrid_tfidf_location.pkl')  \n",
    "    #-----------------------------------------------------------------------------------------------------------------# \n",
    "    # Save transformed training data as pickle file\n",
    "    joblib.dump(bow_transformed_train_subratings, 'data/bow_transformed_train_subratings.pkl')\n",
    "    joblib.dump(tfidf_transformed_train_subratings, 'data/tfidf_transformed_train_subratings.pkl')\n",
    "    \n",
    "    # Save transformed testing data as pickle file\n",
    "    joblib.dump(bow_transformed_test_subratings, 'data/bow_transformed_test_subratings.pkl')\n",
    "    joblib.dump(tfidf_transformed_test_subratings, 'data/tfidf_transformed_test_subratings.pkl')\n",
    "    #-----------------------------------------------------------------------------------------------------------------# \n",
    "    # Save fitted text vectorizers as pickle file\n",
    "    joblib.dump(ct_bow_fitted_subratings, 'data/ct_bow_fitted_subratings.pkl')\n",
    "    joblib.dump(ct_tfidf_fitted_subratings, 'data/ct_tfidf_fitted_subratings.pkl')"
   ]
  },
  {
   "cell_type": "markdown",
   "id": "6775b8f2",
   "metadata": {},
   "source": [
    "## GridSearch Results <a id='a4.2'></a>"
   ]
  },
  {
   "cell_type": "code",
   "execution_count": 26,
   "id": "86417f2e",
   "metadata": {},
   "outputs": [],
   "source": [
    "fittedgrid_subratings_bow_results = [\n",
    "    ['Check-in', \n",
    "    fittedgrid_bow_checkin.best_estimator_, \n",
    "    round(fittedgrid_bow_checkin.score(bow_transformed_train_subratings[0], y_train_sample_checkin)*100.00, 2),\n",
    "    round(fittedgrid_bow_checkin.score(bow_transformed_test_subratings[0], y_test_checkin)*100, 2)],\n",
    "    ['Cleanliness', \n",
    "    fittedgrid_bow_cleanliness.best_estimator_, \n",
    "    round(fittedgrid_bow_cleanliness.score(bow_transformed_train_subratings[1], y_train_sample_cleanliness)*100.00, 2),\n",
    "    round(fittedgrid_bow_cleanliness.score(bow_transformed_test_subratings[1], y_test_cleanliness)*100, 2)],\n",
    "    ['Communication', \n",
    "    fittedgrid_bow_communication.best_estimator_, \n",
    "    round(fittedgrid_bow_communication.score(bow_transformed_train_subratings[2], y_train_sample_communication)*100.00, 2),\n",
    "    round(fittedgrid_bow_communication.score(bow_transformed_test_subratings[2], y_test_communication)*100, 2)],\n",
    "    ['Location', \n",
    "    fittedgrid_bow_location.best_estimator_, \n",
    "    round(fittedgrid_bow_location.score(bow_transformed_train_subratings[3], y_train_sample_location)*100.00, 2),\n",
    "    round(fittedgrid_bow_location.score(bow_transformed_test_subratings[3], y_test_location)*100, 2)]\n",
    "]\n",
    "\n",
    "fittedgrid_subratings_tfidf_results = [\n",
    "    ['Check-in', \n",
    "    fittedgrid_tfidf_checkin.best_estimator_, \n",
    "    round(fittedgrid_tfidf_checkin.score(tfidf_transformed_train_subratings[0], y_train_sample_checkin)*100.00, 2),\n",
    "    round(fittedgrid_tfidf_checkin.score(tfidf_transformed_test_subratings[0], y_test_checkin)*100, 2)],\n",
    "    ['Cleanliness', \n",
    "    fittedgrid_tfidf_cleanliness.best_estimator_, \n",
    "    round(fittedgrid_tfidf_cleanliness.score(tfidf_transformed_train_subratings[1], y_train_sample_cleanliness)*100.00, 2),\n",
    "    round(fittedgrid_tfidf_cleanliness.score(tfidf_transformed_test_subratings[1], y_test_cleanliness)*100, 2)],\n",
    "    ['Communication', \n",
    "    fittedgrid_tfidf_communication.best_estimator_, \n",
    "    round(fittedgrid_tfidf_communication.score(tfidf_transformed_train_subratings[2], y_train_sample_communication)*100.00, 2),\n",
    "    round(fittedgrid_tfidf_communication.score(tfidf_transformed_test_subratings[2], y_test_communication)*100, 2)],\n",
    "    ['Location', \n",
    "    fittedgrid_tfidf_location.best_estimator_, \n",
    "    round(fittedgrid_tfidf_location.score(tfidf_transformed_train_subratings[3], y_train_sample_location)*100.00, 2),\n",
    "    round(fittedgrid_tfidf_location.score(tfidf_transformed_test_subratings[3], y_test_location)*100, 2)]\n",
    "]\n",
    "\n",
    "fittedgrid_subratings_bow_df= pd.DataFrame(fittedgrid_subratings_bow_results, columns = ['Subrating Type', \n",
    "                                                                                    'Best_Estimator', \n",
    "                                                                                    'Best_Bow_Transformed_Training_Score',\n",
    "                                                                                    'Best_Bow_Transformed_Testing_Score'])\n",
    "\n",
    "fittedgrid_subratings_tfidf_df= pd.DataFrame(fittedgrid_subratings_tfidf_results, columns = ['Subrating Type', \n",
    "                                                                                    'Best_Estimator', \n",
    "                                                                                    'Best_TF_IDF_Transformed_Training_Score',\n",
    "                                                                                    'Best_TF_IDF_Transformed_Testing_Score'])"
   ]
  },
  {
   "cell_type": "code",
   "execution_count": 27,
   "id": "c6c5f3cc",
   "metadata": {},
   "outputs": [
    {
     "data": {
      "text/html": [
       "<div>\n",
       "<style scoped>\n",
       "    .dataframe tbody tr th:only-of-type {\n",
       "        vertical-align: middle;\n",
       "    }\n",
       "\n",
       "    .dataframe tbody tr th {\n",
       "        vertical-align: top;\n",
       "    }\n",
       "\n",
       "    .dataframe thead th {\n",
       "        text-align: right;\n",
       "    }\n",
       "</style>\n",
       "<table border=\"1\" class=\"dataframe\">\n",
       "  <thead>\n",
       "    <tr style=\"text-align: right;\">\n",
       "      <th></th>\n",
       "      <th>Subrating Type</th>\n",
       "      <th>Best_Estimator</th>\n",
       "      <th>Best_Bow_Transformed_Training_Score</th>\n",
       "      <th>Best_Bow_Transformed_Testing_Score</th>\n",
       "    </tr>\n",
       "  </thead>\n",
       "  <tbody>\n",
       "    <tr>\n",
       "      <th>0</th>\n",
       "      <td>Check-in</td>\n",
       "      <td>(FunctionTransformer(accept_sparse=True,\\n    ...</td>\n",
       "      <td>99.37</td>\n",
       "      <td>96.50</td>\n",
       "    </tr>\n",
       "    <tr>\n",
       "      <th>1</th>\n",
       "      <td>Cleanliness</td>\n",
       "      <td>(FunctionTransformer(accept_sparse=True,\\n    ...</td>\n",
       "      <td>99.24</td>\n",
       "      <td>94.65</td>\n",
       "    </tr>\n",
       "    <tr>\n",
       "      <th>2</th>\n",
       "      <td>Communication</td>\n",
       "      <td>(FunctionTransformer(accept_sparse=True,\\n    ...</td>\n",
       "      <td>99.36</td>\n",
       "      <td>97.10</td>\n",
       "    </tr>\n",
       "    <tr>\n",
       "      <th>3</th>\n",
       "      <td>Location</td>\n",
       "      <td>(FunctionTransformer(accept_sparse=True,\\n    ...</td>\n",
       "      <td>99.24</td>\n",
       "      <td>96.09</td>\n",
       "    </tr>\n",
       "  </tbody>\n",
       "</table>\n",
       "</div>"
      ],
      "text/plain": [
       "  Subrating Type                                     Best_Estimator  \\\n",
       "0       Check-in  (FunctionTransformer(accept_sparse=True,\\n    ...   \n",
       "1    Cleanliness  (FunctionTransformer(accept_sparse=True,\\n    ...   \n",
       "2  Communication  (FunctionTransformer(accept_sparse=True,\\n    ...   \n",
       "3       Location  (FunctionTransformer(accept_sparse=True,\\n    ...   \n",
       "\n",
       "   Best_Bow_Transformed_Training_Score  Best_Bow_Transformed_Testing_Score  \n",
       "0                                99.37                               96.50  \n",
       "1                                99.24                               94.65  \n",
       "2                                99.36                               97.10  \n",
       "3                                99.24                               96.09  "
      ]
     },
     "execution_count": 27,
     "metadata": {},
     "output_type": "execute_result"
    }
   ],
   "source": [
    "fittedgrid_subratings_bow_df"
   ]
  },
  {
   "cell_type": "code",
   "execution_count": 28,
   "id": "cdb0deda",
   "metadata": {},
   "outputs": [
    {
     "data": {
      "text/html": [
       "<div>\n",
       "<style scoped>\n",
       "    .dataframe tbody tr th:only-of-type {\n",
       "        vertical-align: middle;\n",
       "    }\n",
       "\n",
       "    .dataframe tbody tr th {\n",
       "        vertical-align: top;\n",
       "    }\n",
       "\n",
       "    .dataframe thead th {\n",
       "        text-align: right;\n",
       "    }\n",
       "</style>\n",
       "<table border=\"1\" class=\"dataframe\">\n",
       "  <thead>\n",
       "    <tr style=\"text-align: right;\">\n",
       "      <th></th>\n",
       "      <th>Subrating Type</th>\n",
       "      <th>Best_Estimator</th>\n",
       "      <th>Best_TF_IDF_Transformed_Training_Score</th>\n",
       "      <th>Best_TF_IDF_Transformed_Testing_Score</th>\n",
       "    </tr>\n",
       "  </thead>\n",
       "  <tbody>\n",
       "    <tr>\n",
       "      <th>0</th>\n",
       "      <td>Check-in</td>\n",
       "      <td>(FunctionTransformer(accept_sparse=True,\\n    ...</td>\n",
       "      <td>99.33</td>\n",
       "      <td>96.25</td>\n",
       "    </tr>\n",
       "    <tr>\n",
       "      <th>1</th>\n",
       "      <td>Cleanliness</td>\n",
       "      <td>(FunctionTransformer(accept_sparse=True,\\n    ...</td>\n",
       "      <td>99.21</td>\n",
       "      <td>94.53</td>\n",
       "    </tr>\n",
       "    <tr>\n",
       "      <th>2</th>\n",
       "      <td>Communication</td>\n",
       "      <td>(FunctionTransformer(accept_sparse=True,\\n    ...</td>\n",
       "      <td>99.38</td>\n",
       "      <td>96.97</td>\n",
       "    </tr>\n",
       "    <tr>\n",
       "      <th>3</th>\n",
       "      <td>Location</td>\n",
       "      <td>(FunctionTransformer(accept_sparse=True,\\n    ...</td>\n",
       "      <td>99.22</td>\n",
       "      <td>96.14</td>\n",
       "    </tr>\n",
       "  </tbody>\n",
       "</table>\n",
       "</div>"
      ],
      "text/plain": [
       "  Subrating Type                                     Best_Estimator  \\\n",
       "0       Check-in  (FunctionTransformer(accept_sparse=True,\\n    ...   \n",
       "1    Cleanliness  (FunctionTransformer(accept_sparse=True,\\n    ...   \n",
       "2  Communication  (FunctionTransformer(accept_sparse=True,\\n    ...   \n",
       "3       Location  (FunctionTransformer(accept_sparse=True,\\n    ...   \n",
       "\n",
       "   Best_TF_IDF_Transformed_Training_Score  \\\n",
       "0                                   99.33   \n",
       "1                                   99.21   \n",
       "2                                   99.38   \n",
       "3                                   99.22   \n",
       "\n",
       "   Best_TF_IDF_Transformed_Testing_Score  \n",
       "0                                  96.25  \n",
       "1                                  94.53  \n",
       "2                                  96.97  \n",
       "3                                  96.14  "
      ]
     },
     "execution_count": 28,
     "metadata": {},
     "output_type": "execute_result"
    }
   ],
   "source": [
    "fittedgrid_subratings_tfidf_df"
   ]
  },
  {
   "cell_type": "markdown",
   "id": "e52ccdaa",
   "metadata": {},
   "source": [
    "***"
   ]
  },
  {
   "cell_type": "markdown",
   "id": "b5bfd27c",
   "metadata": {},
   "source": [
    "# Summary <a id='a5'></a>"
   ]
  },
  {
   "cell_type": "markdown",
   "id": "58620910",
   "metadata": {},
   "source": [
    "In this notebook, we utilized all the results and findings from previous analyses and performed grid search on four different scenarios, each time using a subrating type as the modeling target variable. We obtained and saved all the results as pickle files. In the next notebook, we will discuss the modeling results, focusing on the features extracted as key indicators for each selected model to make predictions, and finally provide insights and answer our pre-defined problem statements."
   ]
  }
 ],
 "metadata": {
  "kernelspec": {
   "display_name": "clcapstone",
   "language": "python",
   "name": "clcapstone"
  },
  "language_info": {
   "codemirror_mode": {
    "name": "ipython",
    "version": 3
   },
   "file_extension": ".py",
   "mimetype": "text/x-python",
   "name": "python",
   "nbconvert_exporter": "python",
   "pygments_lexer": "ipython3",
   "version": "3.11.5"
  }
 },
 "nbformat": 4,
 "nbformat_minor": 5
}
