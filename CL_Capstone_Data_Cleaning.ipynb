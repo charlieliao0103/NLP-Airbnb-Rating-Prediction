{
 "cells": [
  {
   "cell_type": "markdown",
   "id": "60be97bb",
   "metadata": {},
   "source": [
    "# Predicting Average Ratings of Edinburgh Airbnbs through Review Texts Analysis"
   ]
  },
  {
   "cell_type": "markdown",
   "id": "e615aec1",
   "metadata": {},
   "source": [
    "## Notebook 1: Data Cleaning and EDA\n",
    "\n",
    "In this notebook, we will first outline the objectives of the project, then we will begin the foundational steps of data cleaning and basic exploratory data analysis."
   ]
  },
  {
   "cell_type": "markdown",
   "id": "20b2fedf",
   "metadata": {},
   "source": [
    "## Introduction"
   ]
  },
  {
   "cell_type": "markdown",
   "id": "7df596b3",
   "metadata": {},
   "source": [
    "#### Problem Statement\n",
    "\n",
    "For this analysis, the focus lies in the quest to improve the hosting experience on Airbnb, particularly in the city of Edinburgh. As Airbnb continues to gain popularity as a preferred accommodation choice for travelers, ensuring high-quality experiences becomes more and more important for hosts. \n",
    "\n",
    "We aim to uncover valuable insights by analyzing review texts. Our primary goal is to predict average star ratings based on these reviews, providing hosts with actionable feedback on areas of improvement. By extracting key features from reviews, such as cleanliness, communication, and amenities, we can offer guidance to both new hosts seeking to establish themselves and experienced hosts looking to enhance their offerings. \n",
    "\n",
    "Ultimately, this analysis aims to empower hosts by providing useful insights and actionable recommendations to enhance their performance and maximize their ratings. Furthermore, we aim for these insights to not only benefit hosts in Edinburgh but also serve as valuable guidance for hosts in other cities facing similar challenges in the competitive Airbnb landscape."
   ]
  },
  {
   "cell_type": "markdown",
   "id": "56e69940",
   "metadata": {},
   "source": [
    "#### Data Collection\n",
    "\n",
    "The data used in this project consists of two datasets downloaded from [Inside Airbnb](http://insideairbnb.com/get-the-data). The first dataset contains information about Edinburgh Airbnb Listings, and the second dataset contains the reviews of these listings.\n",
    "\n",
    "The data dictionary can be downloaded [here](https://docs.google.com/spreadsheets/d/1iWCNJcSutYqpULSQHlNyGInUvHg2BoUGoNRIGa6Szc4/edit#gid=1322284596)."
   ]
  },
  {
   "cell_type": "markdown",
   "id": "6119c18b",
   "metadata": {},
   "source": [
    "## Data import and data cleaning\n",
    "\n",
    "#### Import libraries"
   ]
  },
  {
   "cell_type": "code",
   "execution_count": 1,
   "id": "18a79645",
   "metadata": {},
   "outputs": [],
   "source": [
    "# Import libraries\n",
    "\n",
    "# Main libraries\n",
    "import pandas as pd\n",
    "import numpy as np\n",
    "\n",
    "# Visualization libraries\n",
    "import matplotlib.pyplot as plt\n",
    "import seaborn as sns"
   ]
  },
  {
   "cell_type": "markdown",
   "id": "a5e5c545",
   "metadata": {},
   "source": [
    "#### Data Dictionaries"
   ]
  },
  {
   "cell_type": "code",
   "execution_count": 2,
   "id": "01a24561",
   "metadata": {},
   "outputs": [],
   "source": [
    "# Run below codes to reveal all texts in the dataframe by removing the hashtags.\n",
    "\n",
    "#pd.set_option('display.max_rows', None)\n",
    "#pd.set_option('display.max_colwidth', None)"
   ]
  },
  {
   "cell_type": "code",
   "execution_count": 3,
   "id": "17751f59",
   "metadata": {
    "scrolled": true
   },
   "outputs": [
    {
     "data": {
      "text/html": [
       "<div>\n",
       "<style scoped>\n",
       "    .dataframe tbody tr th:only-of-type {\n",
       "        vertical-align: middle;\n",
       "    }\n",
       "\n",
       "    .dataframe tbody tr th {\n",
       "        vertical-align: top;\n",
       "    }\n",
       "\n",
       "    .dataframe thead th {\n",
       "        text-align: right;\n",
       "    }\n",
       "</style>\n",
       "<table border=\"1\" class=\"dataframe\">\n",
       "  <thead>\n",
       "    <tr style=\"text-align: right;\">\n",
       "      <th></th>\n",
       "      <th>Field</th>\n",
       "      <th>Type</th>\n",
       "      <th>Description</th>\n",
       "    </tr>\n",
       "  </thead>\n",
       "  <tbody>\n",
       "    <tr>\n",
       "      <th>0</th>\n",
       "      <td>id</td>\n",
       "      <td>integer</td>\n",
       "      <td>Airbnb's unique identifier for the listing</td>\n",
       "    </tr>\n",
       "    <tr>\n",
       "      <th>1</th>\n",
       "      <td>listing_url</td>\n",
       "      <td>text</td>\n",
       "      <td>NaN</td>\n",
       "    </tr>\n",
       "    <tr>\n",
       "      <th>2</th>\n",
       "      <td>scrape_id</td>\n",
       "      <td>bigint</td>\n",
       "      <td>Inside Airbnb \"Scrape\" this was part of</td>\n",
       "    </tr>\n",
       "    <tr>\n",
       "      <th>3</th>\n",
       "      <td>last_scraped</td>\n",
       "      <td>datetime</td>\n",
       "      <td>UTC. The date and time this listing was \"scrap...</td>\n",
       "    </tr>\n",
       "    <tr>\n",
       "      <th>4</th>\n",
       "      <td>source</td>\n",
       "      <td>text</td>\n",
       "      <td>One of \"neighbourhood search\" or \"previous scr...</td>\n",
       "    </tr>\n",
       "    <tr>\n",
       "      <th>...</th>\n",
       "      <td>...</td>\n",
       "      <td>...</td>\n",
       "      <td>...</td>\n",
       "    </tr>\n",
       "    <tr>\n",
       "      <th>74</th>\n",
       "      <td>reviews_per_month</td>\n",
       "      <td>numeric</td>\n",
       "      <td>The number of reviews the listing has over the...</td>\n",
       "    </tr>\n",
       "    <tr>\n",
       "      <th>75</th>\n",
       "      <td>NaN</td>\n",
       "      <td>NaN</td>\n",
       "      <td>NaN</td>\n",
       "    </tr>\n",
       "    <tr>\n",
       "      <th>76</th>\n",
       "      <td>Change control</td>\n",
       "      <td>NaN</td>\n",
       "      <td>NaN</td>\n",
       "    </tr>\n",
       "    <tr>\n",
       "      <th>77</th>\n",
       "      <td>Field</td>\n",
       "      <td>Change</td>\n",
       "      <td>NaN</td>\n",
       "    </tr>\n",
       "    <tr>\n",
       "      <th>78</th>\n",
       "      <td>source</td>\n",
       "      <td>Added</td>\n",
       "      <td>NaN</td>\n",
       "    </tr>\n",
       "  </tbody>\n",
       "</table>\n",
       "<p>79 rows × 3 columns</p>\n",
       "</div>"
      ],
      "text/plain": [
       "                Field      Type  \\\n",
       "0                  id   integer   \n",
       "1         listing_url      text   \n",
       "2           scrape_id    bigint   \n",
       "3        last_scraped  datetime   \n",
       "4              source      text   \n",
       "..                ...       ...   \n",
       "74  reviews_per_month   numeric   \n",
       "75                NaN       NaN   \n",
       "76     Change control       NaN   \n",
       "77              Field    Change   \n",
       "78             source     Added   \n",
       "\n",
       "                                          Description  \n",
       "0          Airbnb's unique identifier for the listing  \n",
       "1                                                 NaN  \n",
       "2             Inside Airbnb \"Scrape\" this was part of  \n",
       "3   UTC. The date and time this listing was \"scrap...  \n",
       "4   One of \"neighbourhood search\" or \"previous scr...  \n",
       "..                                                ...  \n",
       "74  The number of reviews the listing has over the...  \n",
       "75                                                NaN  \n",
       "76                                                NaN  \n",
       "77                                                NaN  \n",
       "78                                                NaN  \n",
       "\n",
       "[79 rows x 3 columns]"
      ]
     },
     "execution_count": 3,
     "metadata": {},
     "output_type": "execute_result"
    }
   ],
   "source": [
    "# Import raw data dictionary csv\n",
    "df_dictionary = pd.read_csv('data/Data Dictionary.csv')\n",
    "\n",
    "# Drop the first 6 unnecessary rows\n",
    "df_dictionary_clean=df_dictionary.drop(range(6), axis=0)\n",
    "\n",
    "# Reset index\n",
    "df_dictionary_clean.reset_index(drop=True, inplace=True)\n",
    "\n",
    "# Use the first row as column rows\n",
    "df_dictionary_clean.columns=list(df_dictionary_clean.loc[0])\n",
    "\n",
    "# Remove the first row\n",
    "df_dictionary_clean.drop(0, inplace=True, axis=0)\n",
    "\n",
    "# Reset index\n",
    "df_dictionary_clean.reset_index(inplace=True, drop = True)\n",
    "\n",
    "# Drop the 'Calculated' and 'Reference' column\n",
    "df_dictionary_clean.drop(['Calculated', 'Reference'], axis=1, inplace=True)\n",
    "\n",
    "# Show the dataframe\n",
    "df_dictionary_clean"
   ]
  },
  {
   "cell_type": "markdown",
   "id": "6bcb93ad",
   "metadata": {},
   "source": [
    "#### Import datasets"
   ]
  },
  {
   "cell_type": "code",
   "execution_count": 4,
   "id": "9146fcc0",
   "metadata": {},
   "outputs": [],
   "source": [
    "# Import datasets\n",
    "df_listings= pd.read_csv('data/listings.csv')\n",
    "df_reviews=pd.read_csv('data/reviews.csv')"
   ]
  },
  {
   "cell_type": "markdown",
   "id": "230341c4",
   "metadata": {},
   "source": [
    "#### Check the dimensions of the datasets"
   ]
  },
  {
   "cell_type": "code",
   "execution_count": 5,
   "id": "ec1a6aa3",
   "metadata": {
    "scrolled": true
   },
   "outputs": [
    {
     "data": {
      "text/html": [
       "<div>\n",
       "<style scoped>\n",
       "    .dataframe tbody tr th:only-of-type {\n",
       "        vertical-align: middle;\n",
       "    }\n",
       "\n",
       "    .dataframe tbody tr th {\n",
       "        vertical-align: top;\n",
       "    }\n",
       "\n",
       "    .dataframe thead th {\n",
       "        text-align: right;\n",
       "    }\n",
       "</style>\n",
       "<table border=\"1\" class=\"dataframe\">\n",
       "  <thead>\n",
       "    <tr style=\"text-align: right;\">\n",
       "      <th></th>\n",
       "      <th>0</th>\n",
       "    </tr>\n",
       "  </thead>\n",
       "  <tbody>\n",
       "    <tr>\n",
       "      <th>id</th>\n",
       "      <td>15420</td>\n",
       "    </tr>\n",
       "    <tr>\n",
       "      <th>listing_url</th>\n",
       "      <td>https://www.airbnb.com/rooms/15420</td>\n",
       "    </tr>\n",
       "    <tr>\n",
       "      <th>scrape_id</th>\n",
       "      <td>20231217045056</td>\n",
       "    </tr>\n",
       "    <tr>\n",
       "      <th>last_scraped</th>\n",
       "      <td>2023-12-17</td>\n",
       "    </tr>\n",
       "    <tr>\n",
       "      <th>source</th>\n",
       "      <td>city scrape</td>\n",
       "    </tr>\n",
       "    <tr>\n",
       "      <th>...</th>\n",
       "      <td>...</td>\n",
       "    </tr>\n",
       "    <tr>\n",
       "      <th>calculated_host_listings_count</th>\n",
       "      <td>1</td>\n",
       "    </tr>\n",
       "    <tr>\n",
       "      <th>calculated_host_listings_count_entire_homes</th>\n",
       "      <td>1</td>\n",
       "    </tr>\n",
       "    <tr>\n",
       "      <th>calculated_host_listings_count_private_rooms</th>\n",
       "      <td>0</td>\n",
       "    </tr>\n",
       "    <tr>\n",
       "      <th>calculated_host_listings_count_shared_rooms</th>\n",
       "      <td>0</td>\n",
       "    </tr>\n",
       "    <tr>\n",
       "      <th>reviews_per_month</th>\n",
       "      <td>3.38</td>\n",
       "    </tr>\n",
       "  </tbody>\n",
       "</table>\n",
       "<p>75 rows × 1 columns</p>\n",
       "</div>"
      ],
      "text/plain": [
       "                                                                               0\n",
       "id                                                                         15420\n",
       "listing_url                                   https://www.airbnb.com/rooms/15420\n",
       "scrape_id                                                         20231217045056\n",
       "last_scraped                                                          2023-12-17\n",
       "source                                                               city scrape\n",
       "...                                                                          ...\n",
       "calculated_host_listings_count                                                 1\n",
       "calculated_host_listings_count_entire_homes                                    1\n",
       "calculated_host_listings_count_private_rooms                                   0\n",
       "calculated_host_listings_count_shared_rooms                                    0\n",
       "reviews_per_month                                                           3.38\n",
       "\n",
       "[75 rows x 1 columns]"
      ]
     },
     "execution_count": 5,
     "metadata": {},
     "output_type": "execute_result"
    }
   ],
   "source": [
    "# Show the first row of the listing dataframe\n",
    "# As we have too many columns, we will make a matrix transpose to show all information\n",
    "df_listings.head(1).T"
   ]
  },
  {
   "cell_type": "code",
   "execution_count": 6,
   "id": "b0032a69",
   "metadata": {},
   "outputs": [
    {
     "data": {
      "text/plain": [
       "(7049, 75)"
      ]
     },
     "execution_count": 6,
     "metadata": {},
     "output_type": "execute_result"
    }
   ],
   "source": [
    "# Show the shape of the listing dataframe\n",
    "df_listings.shape"
   ]
  },
  {
   "cell_type": "code",
   "execution_count": 7,
   "id": "3b0c09db",
   "metadata": {
    "scrolled": true
   },
   "outputs": [
    {
     "data": {
      "text/html": [
       "<div>\n",
       "<style scoped>\n",
       "    .dataframe tbody tr th:only-of-type {\n",
       "        vertical-align: middle;\n",
       "    }\n",
       "\n",
       "    .dataframe tbody tr th {\n",
       "        vertical-align: top;\n",
       "    }\n",
       "\n",
       "    .dataframe thead th {\n",
       "        text-align: right;\n",
       "    }\n",
       "</style>\n",
       "<table border=\"1\" class=\"dataframe\">\n",
       "  <thead>\n",
       "    <tr style=\"text-align: right;\">\n",
       "      <th></th>\n",
       "      <th>listing_id</th>\n",
       "      <th>id</th>\n",
       "      <th>date</th>\n",
       "      <th>reviewer_id</th>\n",
       "      <th>reviewer_name</th>\n",
       "      <th>comments</th>\n",
       "    </tr>\n",
       "  </thead>\n",
       "  <tbody>\n",
       "    <tr>\n",
       "      <th>0</th>\n",
       "      <td>15420</td>\n",
       "      <td>171793</td>\n",
       "      <td>2011-01-18</td>\n",
       "      <td>186358</td>\n",
       "      <td>Nels</td>\n",
       "      <td>My wife and I stayed at this beautiful apartme...</td>\n",
       "    </tr>\n",
       "    <tr>\n",
       "      <th>1</th>\n",
       "      <td>15420</td>\n",
       "      <td>176350</td>\n",
       "      <td>2011-01-31</td>\n",
       "      <td>95218</td>\n",
       "      <td>Gareth</td>\n",
       "      <td>Charlotte couldn't have been a more thoughtful...</td>\n",
       "    </tr>\n",
       "    <tr>\n",
       "      <th>2</th>\n",
       "      <td>15420</td>\n",
       "      <td>232149</td>\n",
       "      <td>2011-04-19</td>\n",
       "      <td>429751</td>\n",
       "      <td>Guido</td>\n",
       "      <td>I went to Edinburgh for the second time on Apr...</td>\n",
       "    </tr>\n",
       "    <tr>\n",
       "      <th>3</th>\n",
       "      <td>15420</td>\n",
       "      <td>236073</td>\n",
       "      <td>2011-04-23</td>\n",
       "      <td>420830</td>\n",
       "      <td>Mariah</td>\n",
       "      <td>This flat was incredible. As other guests have...</td>\n",
       "    </tr>\n",
       "    <tr>\n",
       "      <th>4</th>\n",
       "      <td>15420</td>\n",
       "      <td>263713</td>\n",
       "      <td>2011-05-15</td>\n",
       "      <td>203827</td>\n",
       "      <td>Linda</td>\n",
       "      <td>Fantastic host and the apartment was perfect. ...</td>\n",
       "    </tr>\n",
       "  </tbody>\n",
       "</table>\n",
       "</div>"
      ],
      "text/plain": [
       "   listing_id      id        date  reviewer_id reviewer_name  \\\n",
       "0       15420  171793  2011-01-18       186358          Nels   \n",
       "1       15420  176350  2011-01-31        95218        Gareth   \n",
       "2       15420  232149  2011-04-19       429751         Guido   \n",
       "3       15420  236073  2011-04-23       420830        Mariah   \n",
       "4       15420  263713  2011-05-15       203827         Linda   \n",
       "\n",
       "                                            comments  \n",
       "0  My wife and I stayed at this beautiful apartme...  \n",
       "1  Charlotte couldn't have been a more thoughtful...  \n",
       "2  I went to Edinburgh for the second time on Apr...  \n",
       "3  This flat was incredible. As other guests have...  \n",
       "4  Fantastic host and the apartment was perfect. ...  "
      ]
     },
     "execution_count": 7,
     "metadata": {},
     "output_type": "execute_result"
    }
   ],
   "source": [
    "# Show the first five rows of the reviews dataframe\n",
    "df_reviews.head(5)"
   ]
  },
  {
   "cell_type": "code",
   "execution_count": 8,
   "id": "135d49ad",
   "metadata": {},
   "outputs": [
    {
     "data": {
      "text/plain": [
       "(535577, 6)"
      ]
     },
     "execution_count": 8,
     "metadata": {},
     "output_type": "execute_result"
    }
   ],
   "source": [
    "# Show the shape of the reviews dataframe\n",
    "df_reviews.shape"
   ]
  },
  {
   "cell_type": "code",
   "execution_count": 9,
   "id": "130997ea",
   "metadata": {
    "scrolled": true
   },
   "outputs": [
    {
     "data": {
      "text/plain": [
       "Index(['id', 'listing_url', 'scrape_id', 'last_scraped', 'source', 'name',\n",
       "       'description', 'neighborhood_overview', 'picture_url', 'host_id',\n",
       "       'host_url', 'host_name', 'host_since', 'host_location', 'host_about',\n",
       "       'host_response_time', 'host_response_rate', 'host_acceptance_rate',\n",
       "       'host_is_superhost', 'host_thumbnail_url', 'host_picture_url',\n",
       "       'host_neighbourhood', 'host_listings_count',\n",
       "       'host_total_listings_count', 'host_verifications',\n",
       "       'host_has_profile_pic', 'host_identity_verified', 'neighbourhood',\n",
       "       'neighbourhood_cleansed', 'neighbourhood_group_cleansed', 'latitude',\n",
       "       'longitude', 'property_type', 'room_type', 'accommodates', 'bathrooms',\n",
       "       'bathrooms_text', 'bedrooms', 'beds', 'amenities', 'price',\n",
       "       'minimum_nights', 'maximum_nights', 'minimum_minimum_nights',\n",
       "       'maximum_minimum_nights', 'minimum_maximum_nights',\n",
       "       'maximum_maximum_nights', 'minimum_nights_avg_ntm',\n",
       "       'maximum_nights_avg_ntm', 'calendar_updated', 'has_availability',\n",
       "       'availability_30', 'availability_60', 'availability_90',\n",
       "       'availability_365', 'calendar_last_scraped', 'number_of_reviews',\n",
       "       'number_of_reviews_ltm', 'number_of_reviews_l30d', 'first_review',\n",
       "       'last_review', 'review_scores_rating', 'review_scores_accuracy',\n",
       "       'review_scores_cleanliness', 'review_scores_checkin',\n",
       "       'review_scores_communication', 'review_scores_location',\n",
       "       'review_scores_value', 'license', 'instant_bookable',\n",
       "       'calculated_host_listings_count',\n",
       "       'calculated_host_listings_count_entire_homes',\n",
       "       'calculated_host_listings_count_private_rooms',\n",
       "       'calculated_host_listings_count_shared_rooms', 'reviews_per_month'],\n",
       "      dtype='object')"
      ]
     },
     "execution_count": 9,
     "metadata": {},
     "output_type": "execute_result"
    }
   ],
   "source": [
    "# Show the columns of the listings dataframe\n",
    "df_listings.columns"
   ]
  },
  {
   "cell_type": "markdown",
   "id": "08d985ed",
   "metadata": {},
   "source": [
    "There are a lot of features in the listing data. Our next step is to narrow down our feature domain. We can first remove the urls and scraping related columns. Then remove columns contain no values."
   ]
  },
  {
   "cell_type": "code",
   "execution_count": 10,
   "id": "b1e0a207",
   "metadata": {},
   "outputs": [],
   "source": [
    "# Remove url and scrape related columns\n",
    "ls=[]\n",
    "for i in df_listings.columns:\n",
    "    if ('url' in i) | ('scrape' in i):\n",
    "        ls.append(i)\n",
    "    df_listings_clean=df_listings.drop(ls, axis=1)\n",
    "df_listings_clean.drop('source', axis=1, inplace=True)"
   ]
  },
  {
   "cell_type": "code",
   "execution_count": 11,
   "id": "91881588",
   "metadata": {},
   "outputs": [],
   "source": [
    "# Remove columns contain no values\n",
    "for i in df_listings_clean.columns:\n",
    "    if df_listings_clean.isnull().sum()[i] == df_listings_clean.shape[0]:\n",
    "        df_listings_clean.drop(i, axis=1, inplace=True)    "
   ]
  },
  {
   "cell_type": "code",
   "execution_count": 12,
   "id": "2778e286",
   "metadata": {
    "scrolled": true
   },
   "outputs": [
    {
     "data": {
      "text/plain": [
       "Index(['id', 'name', 'neighborhood_overview', 'host_id', 'host_name',\n",
       "       'host_since', 'host_location', 'host_about', 'host_response_time',\n",
       "       'host_response_rate', 'host_acceptance_rate', 'host_is_superhost',\n",
       "       'host_neighbourhood', 'host_listings_count',\n",
       "       'host_total_listings_count', 'host_verifications',\n",
       "       'host_has_profile_pic', 'host_identity_verified', 'neighbourhood',\n",
       "       'neighbourhood_cleansed', 'latitude', 'longitude', 'property_type',\n",
       "       'room_type', 'accommodates', 'bathrooms_text', 'beds', 'amenities',\n",
       "       'price', 'minimum_nights', 'maximum_nights', 'minimum_minimum_nights',\n",
       "       'maximum_minimum_nights', 'minimum_maximum_nights',\n",
       "       'maximum_maximum_nights', 'minimum_nights_avg_ntm',\n",
       "       'maximum_nights_avg_ntm', 'has_availability', 'availability_30',\n",
       "       'availability_60', 'availability_90', 'availability_365',\n",
       "       'number_of_reviews', 'number_of_reviews_ltm', 'number_of_reviews_l30d',\n",
       "       'first_review', 'last_review', 'review_scores_rating',\n",
       "       'review_scores_accuracy', 'review_scores_cleanliness',\n",
       "       'review_scores_checkin', 'review_scores_communication',\n",
       "       'review_scores_location', 'review_scores_value', 'license',\n",
       "       'instant_bookable', 'calculated_host_listings_count',\n",
       "       'calculated_host_listings_count_entire_homes',\n",
       "       'calculated_host_listings_count_private_rooms',\n",
       "       'calculated_host_listings_count_shared_rooms', 'reviews_per_month'],\n",
       "      dtype='object')"
      ]
     },
     "execution_count": 12,
     "metadata": {},
     "output_type": "execute_result"
    }
   ],
   "source": [
    "df_listings_clean.columns"
   ]
  },
  {
   "cell_type": "markdown",
   "id": "3ecc1d23",
   "metadata": {},
   "source": [
    "##### Host columns\n",
    "\n",
    "We can look through columns by types and remove irrelevant columns. First, we will check and deal with the host related columns."
   ]
  },
  {
   "cell_type": "code",
   "execution_count": 13,
   "id": "dd7b65e3",
   "metadata": {
    "scrolled": true
   },
   "outputs": [],
   "source": [
    "# Create a list which has host related column names\n",
    "host_columns=[]\n",
    "for i in df_listings_clean.columns:\n",
    "    if 'host' in i:\n",
    "        host_columns.append(i)"
   ]
  },
  {
   "cell_type": "code",
   "execution_count": 14,
   "id": "1cb2df40",
   "metadata": {},
   "outputs": [
    {
     "name": "stdout",
     "output_type": "stream",
     "text": [
      "['host_id', 'host_name', 'host_since', 'host_location', 'host_about', 'host_response_time', 'host_response_rate', 'host_acceptance_rate', 'host_is_superhost', 'host_neighbourhood', 'host_listings_count', 'host_total_listings_count', 'host_verifications', 'host_has_profile_pic', 'host_identity_verified', 'calculated_host_listings_count', 'calculated_host_listings_count_entire_homes', 'calculated_host_listings_count_private_rooms', 'calculated_host_listings_count_shared_rooms']\n"
     ]
    }
   ],
   "source": [
    "# Show the host related column names\n",
    "print(host_columns)"
   ]
  },
  {
   "cell_type": "markdown",
   "id": "81bf3556",
   "metadata": {},
   "source": [
    "We will remove the 'host_name' column as names are irrelevant for our analysis, also it will include plenty duplicate values. The 'host_neighbourhood' is dropped as it contains duplicate information compare to the 'host_location' column. We will also remove 'host_total_listings_count' and 'host_listings_count' as the 'calculated_host_listings_count' is the correct column showing the number of listings per host after checking. "
   ]
  },
  {
   "cell_type": "code",
   "execution_count": 15,
   "id": "9fe6948a",
   "metadata": {},
   "outputs": [],
   "source": [
    "# Create an array contains number of listings per host\n",
    "host_listing_num=df_listings_clean.groupby('host_id').count()['id']\n",
    "\n",
    "# Check if the number of listings per host matches the 'calculated_host_listings_count' column\n",
    "for i in host_listing_num.index:\n",
    "    if host_listing_num[i] != df_listings_clean[df_listings_clean['host_id']==i]['calculated_host_listings_count'].unique():\n",
    "        print(i, 'This one is wrong')\n",
    "# No error appears so the column is good."
   ]
  },
  {
   "cell_type": "code",
   "execution_count": 16,
   "id": "32bddac1",
   "metadata": {},
   "outputs": [],
   "source": [
    "# Remove 'host_name','host_total_listings_count' and 'host_listings_count' columns\n",
    "df_listings_clean.drop(['host_name','host_neighbourhood', 'host_total_listings_count', 'host_listings_count'],\n",
    "                       inplace=True, axis=1)"
   ]
  },
  {
   "cell_type": "markdown",
   "id": "e2d98b86",
   "metadata": {},
   "source": [
    "##### Other columns\n",
    "\n",
    "Then we will look through the columns and remove other irrelevant columns."
   ]
  },
  {
   "cell_type": "code",
   "execution_count": 17,
   "id": "f0b061cc",
   "metadata": {},
   "outputs": [],
   "source": [
    "# Remove amentities\n",
    "df_listings_clean.drop('amenities', axis=1, inplace=True)"
   ]
  },
  {
   "cell_type": "markdown",
   "id": "ad94cd9c",
   "metadata": {},
   "source": [
    "We arrive at a dataframe containing possible useful columns. \n",
    "\n",
    "Let's check the number of duplicate rows and rows contain null values in the current dataframe."
   ]
  },
  {
   "cell_type": "code",
   "execution_count": 18,
   "id": "a183d27f",
   "metadata": {},
   "outputs": [
    {
     "data": {
      "text/html": [
       "<div>\n",
       "<style scoped>\n",
       "    .dataframe tbody tr th:only-of-type {\n",
       "        vertical-align: middle;\n",
       "    }\n",
       "\n",
       "    .dataframe tbody tr th {\n",
       "        vertical-align: top;\n",
       "    }\n",
       "\n",
       "    .dataframe thead th {\n",
       "        text-align: right;\n",
       "    }\n",
       "</style>\n",
       "<table border=\"1\" class=\"dataframe\">\n",
       "  <thead>\n",
       "    <tr style=\"text-align: right;\">\n",
       "      <th></th>\n",
       "      <th>id</th>\n",
       "      <th>name</th>\n",
       "      <th>neighborhood_overview</th>\n",
       "      <th>host_id</th>\n",
       "      <th>host_since</th>\n",
       "      <th>host_location</th>\n",
       "      <th>host_about</th>\n",
       "      <th>host_response_time</th>\n",
       "      <th>host_response_rate</th>\n",
       "      <th>host_acceptance_rate</th>\n",
       "      <th>...</th>\n",
       "      <th>review_scores_communication</th>\n",
       "      <th>review_scores_location</th>\n",
       "      <th>review_scores_value</th>\n",
       "      <th>license</th>\n",
       "      <th>instant_bookable</th>\n",
       "      <th>calculated_host_listings_count</th>\n",
       "      <th>calculated_host_listings_count_entire_homes</th>\n",
       "      <th>calculated_host_listings_count_private_rooms</th>\n",
       "      <th>calculated_host_listings_count_shared_rooms</th>\n",
       "      <th>reviews_per_month</th>\n",
       "    </tr>\n",
       "  </thead>\n",
       "  <tbody>\n",
       "  </tbody>\n",
       "</table>\n",
       "<p>0 rows × 56 columns</p>\n",
       "</div>"
      ],
      "text/plain": [
       "Empty DataFrame\n",
       "Columns: [id, name, neighborhood_overview, host_id, host_since, host_location, host_about, host_response_time, host_response_rate, host_acceptance_rate, host_is_superhost, host_verifications, host_has_profile_pic, host_identity_verified, neighbourhood, neighbourhood_cleansed, latitude, longitude, property_type, room_type, accommodates, bathrooms_text, beds, price, minimum_nights, maximum_nights, minimum_minimum_nights, maximum_minimum_nights, minimum_maximum_nights, maximum_maximum_nights, minimum_nights_avg_ntm, maximum_nights_avg_ntm, has_availability, availability_30, availability_60, availability_90, availability_365, number_of_reviews, number_of_reviews_ltm, number_of_reviews_l30d, first_review, last_review, review_scores_rating, review_scores_accuracy, review_scores_cleanliness, review_scores_checkin, review_scores_communication, review_scores_location, review_scores_value, license, instant_bookable, calculated_host_listings_count, calculated_host_listings_count_entire_homes, calculated_host_listings_count_private_rooms, calculated_host_listings_count_shared_rooms, reviews_per_month]\n",
       "Index: []\n",
       "\n",
       "[0 rows x 56 columns]"
      ]
     },
     "execution_count": 18,
     "metadata": {},
     "output_type": "execute_result"
    }
   ],
   "source": [
    "# Check duplicates\n",
    "df_listings_clean[df_listings_clean.duplicated()]"
   ]
  },
  {
   "cell_type": "markdown",
   "id": "cc8a1f72",
   "metadata": {},
   "source": [
    "Our next step is to investigate if each listing has enough reviews for us to perform review texts analysis. We will then remove the listings that have no reviews."
   ]
  },
  {
   "cell_type": "code",
   "execution_count": 19,
   "id": "d9421667",
   "metadata": {},
   "outputs": [
    {
     "data": {
      "text/plain": [
       "listing_id        0\n",
       "id                0\n",
       "date              0\n",
       "reviewer_id       0\n",
       "reviewer_name     0\n",
       "comments         46\n",
       "dtype: int64"
      ]
     },
     "execution_count": 19,
     "metadata": {},
     "output_type": "execute_result"
    }
   ],
   "source": [
    "# Check if there are any null values in the reviews dataframe\n",
    "df_reviews.isnull().sum()"
   ]
  },
  {
   "cell_type": "code",
   "execution_count": 20,
   "id": "830e9d1e",
   "metadata": {
    "scrolled": true
   },
   "outputs": [],
   "source": [
    "# Create a dataframe contains these null review data\n",
    "null_reviews = df_reviews[df_reviews['comments'].isnull()]"
   ]
  },
  {
   "cell_type": "code",
   "execution_count": 21,
   "id": "6c63f4f1",
   "metadata": {
    "scrolled": true
   },
   "outputs": [
    {
     "data": {
      "text/html": [
       "<div>\n",
       "<style scoped>\n",
       "    .dataframe tbody tr th:only-of-type {\n",
       "        vertical-align: middle;\n",
       "    }\n",
       "\n",
       "    .dataframe tbody tr th {\n",
       "        vertical-align: top;\n",
       "    }\n",
       "\n",
       "    .dataframe thead th {\n",
       "        text-align: right;\n",
       "    }\n",
       "</style>\n",
       "<table border=\"1\" class=\"dataframe\">\n",
       "  <thead>\n",
       "    <tr style=\"text-align: right;\">\n",
       "      <th></th>\n",
       "      <th>id</th>\n",
       "      <th>date</th>\n",
       "      <th>reviewer_id</th>\n",
       "      <th>reviewer_name</th>\n",
       "      <th>comments</th>\n",
       "    </tr>\n",
       "    <tr>\n",
       "      <th>listing_id</th>\n",
       "      <th></th>\n",
       "      <th></th>\n",
       "      <th></th>\n",
       "      <th></th>\n",
       "      <th></th>\n",
       "    </tr>\n",
       "  </thead>\n",
       "  <tbody>\n",
       "    <tr>\n",
       "      <th>1012100</th>\n",
       "      <td>233</td>\n",
       "      <td>233</td>\n",
       "      <td>233</td>\n",
       "      <td>233</td>\n",
       "      <td>232</td>\n",
       "    </tr>\n",
       "    <tr>\n",
       "      <th>2220535</th>\n",
       "      <td>329</td>\n",
       "      <td>329</td>\n",
       "      <td>329</td>\n",
       "      <td>329</td>\n",
       "      <td>328</td>\n",
       "    </tr>\n",
       "    <tr>\n",
       "      <th>3088183</th>\n",
       "      <td>360</td>\n",
       "      <td>360</td>\n",
       "      <td>360</td>\n",
       "      <td>360</td>\n",
       "      <td>359</td>\n",
       "    </tr>\n",
       "    <tr>\n",
       "      <th>4915970</th>\n",
       "      <td>924</td>\n",
       "      <td>924</td>\n",
       "      <td>924</td>\n",
       "      <td>924</td>\n",
       "      <td>923</td>\n",
       "    </tr>\n",
       "    <tr>\n",
       "      <th>5559720</th>\n",
       "      <td>664</td>\n",
       "      <td>664</td>\n",
       "      <td>664</td>\n",
       "      <td>664</td>\n",
       "      <td>663</td>\n",
       "    </tr>\n",
       "    <tr>\n",
       "      <th>4358584</th>\n",
       "      <td>160</td>\n",
       "      <td>160</td>\n",
       "      <td>160</td>\n",
       "      <td>160</td>\n",
       "      <td>159</td>\n",
       "    </tr>\n",
       "    <tr>\n",
       "      <th>4362294</th>\n",
       "      <td>906</td>\n",
       "      <td>906</td>\n",
       "      <td>906</td>\n",
       "      <td>906</td>\n",
       "      <td>905</td>\n",
       "    </tr>\n",
       "    <tr>\n",
       "      <th>6517915</th>\n",
       "      <td>410</td>\n",
       "      <td>410</td>\n",
       "      <td>410</td>\n",
       "      <td>410</td>\n",
       "      <td>409</td>\n",
       "    </tr>\n",
       "    <tr>\n",
       "      <th>6857638</th>\n",
       "      <td>375</td>\n",
       "      <td>375</td>\n",
       "      <td>375</td>\n",
       "      <td>375</td>\n",
       "      <td>374</td>\n",
       "    </tr>\n",
       "    <tr>\n",
       "      <th>10142027</th>\n",
       "      <td>212</td>\n",
       "      <td>212</td>\n",
       "      <td>212</td>\n",
       "      <td>212</td>\n",
       "      <td>211</td>\n",
       "    </tr>\n",
       "    <tr>\n",
       "      <th>9161788</th>\n",
       "      <td>454</td>\n",
       "      <td>454</td>\n",
       "      <td>454</td>\n",
       "      <td>454</td>\n",
       "      <td>453</td>\n",
       "    </tr>\n",
       "    <tr>\n",
       "      <th>13254664</th>\n",
       "      <td>611</td>\n",
       "      <td>611</td>\n",
       "      <td>611</td>\n",
       "      <td>611</td>\n",
       "      <td>610</td>\n",
       "    </tr>\n",
       "    <tr>\n",
       "      <th>14293998</th>\n",
       "      <td>56</td>\n",
       "      <td>56</td>\n",
       "      <td>56</td>\n",
       "      <td>56</td>\n",
       "      <td>55</td>\n",
       "    </tr>\n",
       "    <tr>\n",
       "      <th>13834395</th>\n",
       "      <td>309</td>\n",
       "      <td>309</td>\n",
       "      <td>309</td>\n",
       "      <td>309</td>\n",
       "      <td>308</td>\n",
       "    </tr>\n",
       "    <tr>\n",
       "      <th>17432168</th>\n",
       "      <td>197</td>\n",
       "      <td>197</td>\n",
       "      <td>197</td>\n",
       "      <td>197</td>\n",
       "      <td>196</td>\n",
       "    </tr>\n",
       "    <tr>\n",
       "      <th>17693935</th>\n",
       "      <td>293</td>\n",
       "      <td>293</td>\n",
       "      <td>293</td>\n",
       "      <td>293</td>\n",
       "      <td>292</td>\n",
       "    </tr>\n",
       "    <tr>\n",
       "      <th>18787480</th>\n",
       "      <td>251</td>\n",
       "      <td>251</td>\n",
       "      <td>251</td>\n",
       "      <td>251</td>\n",
       "      <td>250</td>\n",
       "    </tr>\n",
       "    <tr>\n",
       "      <th>20322619</th>\n",
       "      <td>116</td>\n",
       "      <td>116</td>\n",
       "      <td>116</td>\n",
       "      <td>116</td>\n",
       "      <td>115</td>\n",
       "    </tr>\n",
       "    <tr>\n",
       "      <th>21752314</th>\n",
       "      <td>255</td>\n",
       "      <td>255</td>\n",
       "      <td>255</td>\n",
       "      <td>255</td>\n",
       "      <td>254</td>\n",
       "    </tr>\n",
       "    <tr>\n",
       "      <th>23571763</th>\n",
       "      <td>172</td>\n",
       "      <td>172</td>\n",
       "      <td>172</td>\n",
       "      <td>172</td>\n",
       "      <td>171</td>\n",
       "    </tr>\n",
       "    <tr>\n",
       "      <th>23776124</th>\n",
       "      <td>79</td>\n",
       "      <td>79</td>\n",
       "      <td>79</td>\n",
       "      <td>79</td>\n",
       "      <td>78</td>\n",
       "    </tr>\n",
       "    <tr>\n",
       "      <th>24973947</th>\n",
       "      <td>232</td>\n",
       "      <td>232</td>\n",
       "      <td>232</td>\n",
       "      <td>232</td>\n",
       "      <td>231</td>\n",
       "    </tr>\n",
       "    <tr>\n",
       "      <th>25089439</th>\n",
       "      <td>88</td>\n",
       "      <td>88</td>\n",
       "      <td>88</td>\n",
       "      <td>88</td>\n",
       "      <td>87</td>\n",
       "    </tr>\n",
       "    <tr>\n",
       "      <th>23991196</th>\n",
       "      <td>415</td>\n",
       "      <td>415</td>\n",
       "      <td>415</td>\n",
       "      <td>415</td>\n",
       "      <td>414</td>\n",
       "    </tr>\n",
       "    <tr>\n",
       "      <th>25728977</th>\n",
       "      <td>509</td>\n",
       "      <td>509</td>\n",
       "      <td>509</td>\n",
       "      <td>509</td>\n",
       "      <td>508</td>\n",
       "    </tr>\n",
       "    <tr>\n",
       "      <th>26004266</th>\n",
       "      <td>539</td>\n",
       "      <td>539</td>\n",
       "      <td>539</td>\n",
       "      <td>539</td>\n",
       "      <td>538</td>\n",
       "    </tr>\n",
       "    <tr>\n",
       "      <th>33090118</th>\n",
       "      <td>329</td>\n",
       "      <td>329</td>\n",
       "      <td>329</td>\n",
       "      <td>329</td>\n",
       "      <td>328</td>\n",
       "    </tr>\n",
       "    <tr>\n",
       "      <th>36283124</th>\n",
       "      <td>189</td>\n",
       "      <td>189</td>\n",
       "      <td>189</td>\n",
       "      <td>189</td>\n",
       "      <td>188</td>\n",
       "    </tr>\n",
       "    <tr>\n",
       "      <th>38501723</th>\n",
       "      <td>679</td>\n",
       "      <td>679</td>\n",
       "      <td>679</td>\n",
       "      <td>679</td>\n",
       "      <td>678</td>\n",
       "    </tr>\n",
       "    <tr>\n",
       "      <th>40281269</th>\n",
       "      <td>442</td>\n",
       "      <td>442</td>\n",
       "      <td>442</td>\n",
       "      <td>442</td>\n",
       "      <td>441</td>\n",
       "    </tr>\n",
       "    <tr>\n",
       "      <th>40577664</th>\n",
       "      <td>39</td>\n",
       "      <td>39</td>\n",
       "      <td>39</td>\n",
       "      <td>39</td>\n",
       "      <td>38</td>\n",
       "    </tr>\n",
       "    <tr>\n",
       "      <th>39713298</th>\n",
       "      <td>1174</td>\n",
       "      <td>1174</td>\n",
       "      <td>1174</td>\n",
       "      <td>1174</td>\n",
       "      <td>1173</td>\n",
       "    </tr>\n",
       "    <tr>\n",
       "      <th>42093745</th>\n",
       "      <td>48</td>\n",
       "      <td>48</td>\n",
       "      <td>48</td>\n",
       "      <td>48</td>\n",
       "      <td>47</td>\n",
       "    </tr>\n",
       "    <tr>\n",
       "      <th>42164961</th>\n",
       "      <td>40</td>\n",
       "      <td>40</td>\n",
       "      <td>40</td>\n",
       "      <td>40</td>\n",
       "      <td>39</td>\n",
       "    </tr>\n",
       "    <tr>\n",
       "      <th>42500276</th>\n",
       "      <td>305</td>\n",
       "      <td>305</td>\n",
       "      <td>305</td>\n",
       "      <td>305</td>\n",
       "      <td>304</td>\n",
       "    </tr>\n",
       "    <tr>\n",
       "      <th>48480629</th>\n",
       "      <td>53</td>\n",
       "      <td>53</td>\n",
       "      <td>53</td>\n",
       "      <td>53</td>\n",
       "      <td>52</td>\n",
       "    </tr>\n",
       "    <tr>\n",
       "      <th>50342805</th>\n",
       "      <td>78</td>\n",
       "      <td>78</td>\n",
       "      <td>78</td>\n",
       "      <td>78</td>\n",
       "      <td>77</td>\n",
       "    </tr>\n",
       "    <tr>\n",
       "      <th>633893567252119966</th>\n",
       "      <td>42</td>\n",
       "      <td>42</td>\n",
       "      <td>42</td>\n",
       "      <td>42</td>\n",
       "      <td>41</td>\n",
       "    </tr>\n",
       "    <tr>\n",
       "      <th>636008757371286426</th>\n",
       "      <td>64</td>\n",
       "      <td>64</td>\n",
       "      <td>64</td>\n",
       "      <td>64</td>\n",
       "      <td>63</td>\n",
       "    </tr>\n",
       "    <tr>\n",
       "      <th>638988273949152993</th>\n",
       "      <td>42</td>\n",
       "      <td>42</td>\n",
       "      <td>42</td>\n",
       "      <td>42</td>\n",
       "      <td>41</td>\n",
       "    </tr>\n",
       "    <tr>\n",
       "      <th>658578319755829384</th>\n",
       "      <td>49</td>\n",
       "      <td>49</td>\n",
       "      <td>49</td>\n",
       "      <td>49</td>\n",
       "      <td>48</td>\n",
       "    </tr>\n",
       "    <tr>\n",
       "      <th>668449489636843805</th>\n",
       "      <td>52</td>\n",
       "      <td>52</td>\n",
       "      <td>52</td>\n",
       "      <td>52</td>\n",
       "      <td>51</td>\n",
       "    </tr>\n",
       "    <tr>\n",
       "      <th>695551055659800558</th>\n",
       "      <td>32</td>\n",
       "      <td>32</td>\n",
       "      <td>32</td>\n",
       "      <td>32</td>\n",
       "      <td>31</td>\n",
       "    </tr>\n",
       "    <tr>\n",
       "      <th>701317424937853545</th>\n",
       "      <td>13</td>\n",
       "      <td>13</td>\n",
       "      <td>13</td>\n",
       "      <td>13</td>\n",
       "      <td>12</td>\n",
       "    </tr>\n",
       "    <tr>\n",
       "      <th>697750548365642161</th>\n",
       "      <td>84</td>\n",
       "      <td>84</td>\n",
       "      <td>84</td>\n",
       "      <td>84</td>\n",
       "      <td>83</td>\n",
       "    </tr>\n",
       "    <tr>\n",
       "      <th>740219306438938086</th>\n",
       "      <td>41</td>\n",
       "      <td>41</td>\n",
       "      <td>41</td>\n",
       "      <td>41</td>\n",
       "      <td>40</td>\n",
       "    </tr>\n",
       "  </tbody>\n",
       "</table>\n",
       "</div>"
      ],
      "text/plain": [
       "                      id  date  reviewer_id  reviewer_name  comments\n",
       "listing_id                                                          \n",
       "1012100              233   233          233            233       232\n",
       "2220535              329   329          329            329       328\n",
       "3088183              360   360          360            360       359\n",
       "4915970              924   924          924            924       923\n",
       "5559720              664   664          664            664       663\n",
       "4358584              160   160          160            160       159\n",
       "4362294              906   906          906            906       905\n",
       "6517915              410   410          410            410       409\n",
       "6857638              375   375          375            375       374\n",
       "10142027             212   212          212            212       211\n",
       "9161788              454   454          454            454       453\n",
       "13254664             611   611          611            611       610\n",
       "14293998              56    56           56             56        55\n",
       "13834395             309   309          309            309       308\n",
       "17432168             197   197          197            197       196\n",
       "17693935             293   293          293            293       292\n",
       "18787480             251   251          251            251       250\n",
       "20322619             116   116          116            116       115\n",
       "21752314             255   255          255            255       254\n",
       "23571763             172   172          172            172       171\n",
       "23776124              79    79           79             79        78\n",
       "24973947             232   232          232            232       231\n",
       "25089439              88    88           88             88        87\n",
       "23991196             415   415          415            415       414\n",
       "25728977             509   509          509            509       508\n",
       "26004266             539   539          539            539       538\n",
       "33090118             329   329          329            329       328\n",
       "36283124             189   189          189            189       188\n",
       "38501723             679   679          679            679       678\n",
       "40281269             442   442          442            442       441\n",
       "40577664              39    39           39             39        38\n",
       "39713298            1174  1174         1174           1174      1173\n",
       "42093745              48    48           48             48        47\n",
       "42164961              40    40           40             40        39\n",
       "42500276             305   305          305            305       304\n",
       "48480629              53    53           53             53        52\n",
       "50342805              78    78           78             78        77\n",
       "633893567252119966    42    42           42             42        41\n",
       "636008757371286426    64    64           64             64        63\n",
       "638988273949152993    42    42           42             42        41\n",
       "658578319755829384    49    49           49             49        48\n",
       "668449489636843805    52    52           52             52        51\n",
       "695551055659800558    32    32           32             32        31\n",
       "701317424937853545    13    13           13             13        12\n",
       "697750548365642161    84    84           84             84        83\n",
       "740219306438938086    41    41           41             41        40"
      ]
     },
     "execution_count": 21,
     "metadata": {},
     "output_type": "execute_result"
    }
   ],
   "source": [
    "# Check if the listings in the null_reviews dataframe have no reviews at all in the entire dataframe\n",
    "df_reviews.groupby('listing_id').count().loc[null_reviews['listing_id']]"
   ]
  },
  {
   "cell_type": "code",
   "execution_count": 22,
   "id": "f19015bf",
   "metadata": {},
   "outputs": [],
   "source": [
    "# Remove these rows in the reviews dataframe\n",
    "df_reviews_clean=df_reviews.drop(null_reviews.index, axis=0)"
   ]
  },
  {
   "cell_type": "code",
   "execution_count": 23,
   "id": "92a70589",
   "metadata": {
    "scrolled": true
   },
   "outputs": [],
   "source": [
    "# Reset index\n",
    "df_reviews_clean=df_reviews_clean.reset_index(drop=True)"
   ]
  },
  {
   "cell_type": "markdown",
   "id": "9034e843",
   "metadata": {},
   "source": [
    "Therefore, we can use all the unique listing ids in the reviews dataframe to filter our listing dataframe."
   ]
  },
  {
   "cell_type": "code",
   "execution_count": 24,
   "id": "e833b396",
   "metadata": {},
   "outputs": [],
   "source": [
    "# Extract listing ids that have reviews in the review dataframe\n",
    "listing_has_reviews= df_reviews_clean.groupby('listing_id').count().index"
   ]
  },
  {
   "cell_type": "code",
   "execution_count": 25,
   "id": "88a05ff8",
   "metadata": {},
   "outputs": [],
   "source": [
    "# Select 'id' column as dataframe index\n",
    "df_listings_clean.set_index('id', inplace=True)"
   ]
  },
  {
   "cell_type": "code",
   "execution_count": 26,
   "id": "cff69cbe",
   "metadata": {},
   "outputs": [],
   "source": [
    "# Remove rows that have ids not in the generated list and reset index.\n",
    "df_listings_clean=df_listings_clean.loc[listing_has_reviews].reset_index()"
   ]
  },
  {
   "cell_type": "code",
   "execution_count": 27,
   "id": "53ce1c28",
   "metadata": {
    "scrolled": true
   },
   "outputs": [
    {
     "data": {
      "text/plain": [
       "neighborhood_overview    1857\n",
       "host_location            1038\n",
       "host_about               2671\n",
       "host_response_time       1617\n",
       "host_response_rate       1617\n",
       "host_acceptance_rate      705\n",
       "host_is_superhost          32\n",
       "neighbourhood            1857\n",
       "bathrooms_text              6\n",
       "beds                       55\n",
       "price                    1370\n",
       "has_availability         1370\n",
       "license                  5746\n",
       "dtype: int64"
      ]
     },
     "execution_count": 27,
     "metadata": {},
     "output_type": "execute_result"
    }
   ],
   "source": [
    "# Create temporary series object that contains the number of null values for each column in the listing dataframe\n",
    "temp_null_series=df_listings_clean.isnull().sum()\n",
    "\n",
    "# Use list comprehension to show the columns that have null values\n",
    "temp_null_series[[i for i in temp_null_series.index if temp_null_series[i] !=0]]"
   ]
  },
  {
   "cell_type": "markdown",
   "id": "0bb44004",
   "metadata": {},
   "source": [
    "We need to deal with these rows one by one."
   ]
  },
  {
   "cell_type": "markdown",
   "id": "6f624eb1",
   "metadata": {},
   "source": [
    "The 'neighborhood_overview' column shows the neighborhood information about the listing, the 'host_location' column contains the location details about the host, the 'host_about' column shows the host introductions. As these columns contains texts, we can fill the null values in these columns as 'None'."
   ]
  },
  {
   "cell_type": "code",
   "execution_count": 28,
   "id": "56f35b5d",
   "metadata": {},
   "outputs": [
    {
     "data": {
      "text/plain": [
       "neighborhood_overview    0\n",
       "host_location            0\n",
       "host_about               0\n",
       "dtype: int64"
      ]
     },
     "execution_count": 28,
     "metadata": {},
     "output_type": "execute_result"
    }
   ],
   "source": [
    "# Fill null values in neighbourhood_overview columns\n",
    "df_listings_clean[['neighborhood_overview', 'host_location', 'host_about']] = df_listings_clean[['neighborhood_overview', 'host_location', 'host_about']].fillna(value='None')\n",
    "\n",
    "df_listings_clean.isnull().sum()[['neighborhood_overview','host_location','host_about']]"
   ]
  },
  {
   "cell_type": "code",
   "execution_count": 29,
   "id": "0bbce834",
   "metadata": {
    "scrolled": true
   },
   "outputs": [
    {
     "data": {
      "text/plain": [
       "host_response_time\n",
       "within an hour        3787\n",
       "within a few hours     621\n",
       "within a day           311\n",
       "a few days or more      88\n",
       "Name: count, dtype: int64"
      ]
     },
     "execution_count": 29,
     "metadata": {},
     "output_type": "execute_result"
    }
   ],
   "source": [
    "# Check the values in 'host_response_time' columns\n",
    "df_listings_clean['host_response_time'].value_counts()"
   ]
  },
  {
   "cell_type": "code",
   "execution_count": 30,
   "id": "9f92766e",
   "metadata": {
    "scrolled": true
   },
   "outputs": [
    {
     "data": {
      "text/plain": [
       "host_response_rate\n",
       "100%    3851\n",
       "99%      278\n",
       "90%      146\n",
       "98%       80\n",
       "0%        50\n",
       "80%       34\n",
       "96%       28\n",
       "50%       23\n",
       "93%       21\n",
       "97%       21\n",
       "94%       20\n",
       "92%       18\n",
       "83%       17\n",
       "67%       17\n",
       "60%       16\n",
       "86%       16\n",
       "75%       13\n",
       "89%       12\n",
       "71%       12\n",
       "88%       12\n",
       "70%       12\n",
       "81%       12\n",
       "57%       11\n",
       "84%       11\n",
       "95%       11\n",
       "25%        7\n",
       "91%        7\n",
       "20%        7\n",
       "82%        6\n",
       "63%        6\n",
       "29%        5\n",
       "33%        4\n",
       "40%        4\n",
       "78%        4\n",
       "30%        3\n",
       "66%        3\n",
       "58%        2\n",
       "34%        2\n",
       "10%        2\n",
       "13%        1\n",
       "87%        1\n",
       "43%        1\n",
       "Name: count, dtype: int64"
      ]
     },
     "execution_count": 30,
     "metadata": {},
     "output_type": "execute_result"
    }
   ],
   "source": [
    "# Check the values in 'host_response_rate' columns\n",
    "df_listings_clean['host_response_rate'].value_counts()"
   ]
  },
  {
   "cell_type": "code",
   "execution_count": 31,
   "id": "cc981faf",
   "metadata": {},
   "outputs": [],
   "source": [
    "# Fill the null values in 'host_response_time' as 'Not provided'.\n",
    "df_listings_clean['host_response_time'] = df_listings_clean['host_response_time'].fillna('Not provided')"
   ]
  },
  {
   "cell_type": "code",
   "execution_count": 32,
   "id": "327c5971",
   "metadata": {},
   "outputs": [],
   "source": [
    "# Convert the response rate as floats from percentage string and fill null values as 0.\n",
    "df_listings_clean['host_response_rate'] = df_listings_clean['host_response_rate'].apply(lambda col: float(str(col).replace(\"%\", \"\")))\n",
    "df_listings_clean['host_response_rate'] = df_listings_clean['host_response_rate'].fillna(value=0);"
   ]
  },
  {
   "cell_type": "code",
   "execution_count": null,
   "id": "ff661e7b",
   "metadata": {},
   "outputs": [],
   "source": []
  },
  {
   "cell_type": "code",
   "execution_count": null,
   "id": "de259a00",
   "metadata": {},
   "outputs": [],
   "source": []
  },
  {
   "cell_type": "code",
   "execution_count": null,
   "id": "c3f53ab7",
   "metadata": {},
   "outputs": [],
   "source": []
  },
  {
   "cell_type": "code",
   "execution_count": null,
   "id": "5ae23445",
   "metadata": {},
   "outputs": [],
   "source": []
  },
  {
   "cell_type": "code",
   "execution_count": null,
   "id": "246143cc",
   "metadata": {},
   "outputs": [],
   "source": []
  }
 ],
 "metadata": {
  "kernelspec": {
   "display_name": "clcapstone",
   "language": "python",
   "name": "clcapstone"
  },
  "language_info": {
   "codemirror_mode": {
    "name": "ipython",
    "version": 3
   },
   "file_extension": ".py",
   "mimetype": "text/x-python",
   "name": "python",
   "nbconvert_exporter": "python",
   "pygments_lexer": "ipython3",
   "version": "3.11.5"
  }
 },
 "nbformat": 4,
 "nbformat_minor": 5
}
