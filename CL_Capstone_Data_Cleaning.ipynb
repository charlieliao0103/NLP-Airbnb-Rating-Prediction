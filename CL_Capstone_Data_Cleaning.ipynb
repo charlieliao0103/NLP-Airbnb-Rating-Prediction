{
 "cells": [
  {
   "cell_type": "markdown",
   "id": "60be97bb",
   "metadata": {},
   "source": [
    "# Capstone Project: Predict Airbnb star ratings and investigate key features for high ratings"
   ]
  },
  {
   "cell_type": "markdown",
   "id": "6119c18b",
   "metadata": {},
   "source": [
    "## Data import and data cleaning"
   ]
  },
  {
   "cell_type": "markdown",
   "id": "f476562c",
   "metadata": {},
   "source": [
    "#### Import libraries"
   ]
  },
  {
   "cell_type": "code",
   "execution_count": 2,
   "id": "18a79645",
   "metadata": {},
   "outputs": [],
   "source": [
    "import pandas as pd\n",
    "import numpy as np"
   ]
  },
  {
   "cell_type": "code",
   "execution_count": 3,
   "id": "9146fcc0",
   "metadata": {},
   "outputs": [],
   "source": [
    "df_listings= pd.read_csv('data/listings.csv')"
   ]
  },
  {
   "cell_type": "code",
   "execution_count": 4,
   "id": "89254123",
   "metadata": {},
   "outputs": [],
   "source": [
    "df_reviews=pd.read_csv('data/reviews.csv')"
   ]
  },
  {
   "cell_type": "code",
   "execution_count": 5,
   "id": "ec1a6aa3",
   "metadata": {},
   "outputs": [
    {
     "data": {
      "text/html": [
       "<div>\n",
       "<style scoped>\n",
       "    .dataframe tbody tr th:only-of-type {\n",
       "        vertical-align: middle;\n",
       "    }\n",
       "\n",
       "    .dataframe tbody tr th {\n",
       "        vertical-align: top;\n",
       "    }\n",
       "\n",
       "    .dataframe thead th {\n",
       "        text-align: right;\n",
       "    }\n",
       "</style>\n",
       "<table border=\"1\" class=\"dataframe\">\n",
       "  <thead>\n",
       "    <tr style=\"text-align: right;\">\n",
       "      <th></th>\n",
       "      <th>id</th>\n",
       "      <th>listing_url</th>\n",
       "      <th>scrape_id</th>\n",
       "      <th>last_scraped</th>\n",
       "      <th>source</th>\n",
       "      <th>name</th>\n",
       "      <th>description</th>\n",
       "      <th>neighborhood_overview</th>\n",
       "      <th>picture_url</th>\n",
       "      <th>host_id</th>\n",
       "      <th>...</th>\n",
       "      <th>review_scores_communication</th>\n",
       "      <th>review_scores_location</th>\n",
       "      <th>review_scores_value</th>\n",
       "      <th>license</th>\n",
       "      <th>instant_bookable</th>\n",
       "      <th>calculated_host_listings_count</th>\n",
       "      <th>calculated_host_listings_count_entire_homes</th>\n",
       "      <th>calculated_host_listings_count_private_rooms</th>\n",
       "      <th>calculated_host_listings_count_shared_rooms</th>\n",
       "      <th>reviews_per_month</th>\n",
       "    </tr>\n",
       "  </thead>\n",
       "  <tbody>\n",
       "    <tr>\n",
       "      <th>0</th>\n",
       "      <td>15420</td>\n",
       "      <td>https://www.airbnb.com/rooms/15420</td>\n",
       "      <td>20231217045056</td>\n",
       "      <td>2023-12-17</td>\n",
       "      <td>city scrape</td>\n",
       "      <td>Rental unit in Edinburgh · ★4.98 · 1 bedroom ·...</td>\n",
       "      <td>NaN</td>\n",
       "      <td>The neighbourhood is in the historic New Town,...</td>\n",
       "      <td>https://a0.muscache.com/pictures/cf69631f-4194...</td>\n",
       "      <td>60423</td>\n",
       "      <td>...</td>\n",
       "      <td>4.98</td>\n",
       "      <td>4.98</td>\n",
       "      <td>4.91</td>\n",
       "      <td>NaN</td>\n",
       "      <td>f</td>\n",
       "      <td>1</td>\n",
       "      <td>1</td>\n",
       "      <td>0</td>\n",
       "      <td>0</td>\n",
       "      <td>3.38</td>\n",
       "    </tr>\n",
       "    <tr>\n",
       "      <th>1</th>\n",
       "      <td>24288</td>\n",
       "      <td>https://www.airbnb.com/rooms/24288</td>\n",
       "      <td>20231217045056</td>\n",
       "      <td>2023-12-17</td>\n",
       "      <td>city scrape</td>\n",
       "      <td>Loft in Edinburgh · ★4.62 · 2 bedrooms · 2 bed...</td>\n",
       "      <td>NaN</td>\n",
       "      <td>Boho, studenty, lively, cool neighbourhood</td>\n",
       "      <td>https://a0.muscache.com/pictures/3460007/88731...</td>\n",
       "      <td>46498</td>\n",
       "      <td>...</td>\n",
       "      <td>4.91</td>\n",
       "      <td>4.85</td>\n",
       "      <td>4.65</td>\n",
       "      <td>NaN</td>\n",
       "      <td>t</td>\n",
       "      <td>1</td>\n",
       "      <td>1</td>\n",
       "      <td>0</td>\n",
       "      <td>0</td>\n",
       "      <td>1.87</td>\n",
       "    </tr>\n",
       "    <tr>\n",
       "      <th>2</th>\n",
       "      <td>38628</td>\n",
       "      <td>https://www.airbnb.com/rooms/38628</td>\n",
       "      <td>20231217045056</td>\n",
       "      <td>2023-12-17</td>\n",
       "      <td>city scrape</td>\n",
       "      <td>Rental unit in Edinburgh · ★4.67 · 1 bedroom ·...</td>\n",
       "      <td>NaN</td>\n",
       "      <td>Quiet and easy access to outside. Fort Kinnair...</td>\n",
       "      <td>https://a0.muscache.com/pictures/miso/Hosting-...</td>\n",
       "      <td>165635</td>\n",
       "      <td>...</td>\n",
       "      <td>4.77</td>\n",
       "      <td>4.73</td>\n",
       "      <td>4.75</td>\n",
       "      <td>NaN</td>\n",
       "      <td>t</td>\n",
       "      <td>1</td>\n",
       "      <td>1</td>\n",
       "      <td>0</td>\n",
       "      <td>0</td>\n",
       "      <td>0.63</td>\n",
       "    </tr>\n",
       "    <tr>\n",
       "      <th>3</th>\n",
       "      <td>44552</td>\n",
       "      <td>https://www.airbnb.com/rooms/44552</td>\n",
       "      <td>20231217045056</td>\n",
       "      <td>2023-12-17</td>\n",
       "      <td>city scrape</td>\n",
       "      <td>Condo in Edinburgh · ★4.75 · 1 bedroom · 1 bed...</td>\n",
       "      <td>NaN</td>\n",
       "      <td>NaN</td>\n",
       "      <td>https://a0.muscache.com/pictures/airflow/Hosti...</td>\n",
       "      <td>195950</td>\n",
       "      <td>...</td>\n",
       "      <td>4.87</td>\n",
       "      <td>4.68</td>\n",
       "      <td>4.75</td>\n",
       "      <td>NaN</td>\n",
       "      <td>f</td>\n",
       "      <td>1</td>\n",
       "      <td>0</td>\n",
       "      <td>1</td>\n",
       "      <td>0</td>\n",
       "      <td>1.73</td>\n",
       "    </tr>\n",
       "    <tr>\n",
       "      <th>4</th>\n",
       "      <td>48645</td>\n",
       "      <td>https://www.airbnb.com/rooms/48645</td>\n",
       "      <td>20231217045056</td>\n",
       "      <td>2023-12-17</td>\n",
       "      <td>city scrape</td>\n",
       "      <td>Condo in Edinburgh · ★4.87 · 1 bedroom · 2 bed...</td>\n",
       "      <td>NaN</td>\n",
       "      <td>The Canongate is an area rich in culture and h...</td>\n",
       "      <td>https://a0.muscache.com/pictures/miso/Hosting-...</td>\n",
       "      <td>221474</td>\n",
       "      <td>...</td>\n",
       "      <td>4.94</td>\n",
       "      <td>4.96</td>\n",
       "      <td>4.77</td>\n",
       "      <td>NaN</td>\n",
       "      <td>t</td>\n",
       "      <td>1</td>\n",
       "      <td>0</td>\n",
       "      <td>1</td>\n",
       "      <td>0</td>\n",
       "      <td>6.37</td>\n",
       "    </tr>\n",
       "  </tbody>\n",
       "</table>\n",
       "<p>5 rows × 75 columns</p>\n",
       "</div>"
      ],
      "text/plain": [
       "      id                         listing_url       scrape_id last_scraped  \\\n",
       "0  15420  https://www.airbnb.com/rooms/15420  20231217045056   2023-12-17   \n",
       "1  24288  https://www.airbnb.com/rooms/24288  20231217045056   2023-12-17   \n",
       "2  38628  https://www.airbnb.com/rooms/38628  20231217045056   2023-12-17   \n",
       "3  44552  https://www.airbnb.com/rooms/44552  20231217045056   2023-12-17   \n",
       "4  48645  https://www.airbnb.com/rooms/48645  20231217045056   2023-12-17   \n",
       "\n",
       "        source                                               name  \\\n",
       "0  city scrape  Rental unit in Edinburgh · ★4.98 · 1 bedroom ·...   \n",
       "1  city scrape  Loft in Edinburgh · ★4.62 · 2 bedrooms · 2 bed...   \n",
       "2  city scrape  Rental unit in Edinburgh · ★4.67 · 1 bedroom ·...   \n",
       "3  city scrape  Condo in Edinburgh · ★4.75 · 1 bedroom · 1 bed...   \n",
       "4  city scrape  Condo in Edinburgh · ★4.87 · 1 bedroom · 2 bed...   \n",
       "\n",
       "   description                              neighborhood_overview  \\\n",
       "0          NaN  The neighbourhood is in the historic New Town,...   \n",
       "1          NaN         Boho, studenty, lively, cool neighbourhood   \n",
       "2          NaN  Quiet and easy access to outside. Fort Kinnair...   \n",
       "3          NaN                                                NaN   \n",
       "4          NaN  The Canongate is an area rich in culture and h...   \n",
       "\n",
       "                                         picture_url  host_id  ...  \\\n",
       "0  https://a0.muscache.com/pictures/cf69631f-4194...    60423  ...   \n",
       "1  https://a0.muscache.com/pictures/3460007/88731...    46498  ...   \n",
       "2  https://a0.muscache.com/pictures/miso/Hosting-...   165635  ...   \n",
       "3  https://a0.muscache.com/pictures/airflow/Hosti...   195950  ...   \n",
       "4  https://a0.muscache.com/pictures/miso/Hosting-...   221474  ...   \n",
       "\n",
       "  review_scores_communication review_scores_location review_scores_value  \\\n",
       "0                        4.98                   4.98                4.91   \n",
       "1                        4.91                   4.85                4.65   \n",
       "2                        4.77                   4.73                4.75   \n",
       "3                        4.87                   4.68                4.75   \n",
       "4                        4.94                   4.96                4.77   \n",
       "\n",
       "  license instant_bookable calculated_host_listings_count  \\\n",
       "0     NaN                f                              1   \n",
       "1     NaN                t                              1   \n",
       "2     NaN                t                              1   \n",
       "3     NaN                f                              1   \n",
       "4     NaN                t                              1   \n",
       "\n",
       "  calculated_host_listings_count_entire_homes  \\\n",
       "0                                           1   \n",
       "1                                           1   \n",
       "2                                           1   \n",
       "3                                           0   \n",
       "4                                           0   \n",
       "\n",
       "  calculated_host_listings_count_private_rooms  \\\n",
       "0                                            0   \n",
       "1                                            0   \n",
       "2                                            0   \n",
       "3                                            1   \n",
       "4                                            1   \n",
       "\n",
       "  calculated_host_listings_count_shared_rooms reviews_per_month  \n",
       "0                                           0              3.38  \n",
       "1                                           0              1.87  \n",
       "2                                           0              0.63  \n",
       "3                                           0              1.73  \n",
       "4                                           0              6.37  \n",
       "\n",
       "[5 rows x 75 columns]"
      ]
     },
     "execution_count": 5,
     "metadata": {},
     "output_type": "execute_result"
    }
   ],
   "source": [
    "df_listings.head(5)"
   ]
  },
  {
   "cell_type": "code",
   "execution_count": 9,
   "id": "b0032a69",
   "metadata": {},
   "outputs": [
    {
     "data": {
      "text/plain": [
       "(7049, 75)"
      ]
     },
     "execution_count": 9,
     "metadata": {},
     "output_type": "execute_result"
    }
   ],
   "source": [
    "df_listings.shape"
   ]
  },
  {
   "cell_type": "code",
   "execution_count": 10,
   "id": "1434620b",
   "metadata": {},
   "outputs": [
    {
     "name": "stdout",
     "output_type": "stream",
     "text": [
      "<class 'pandas.core.frame.DataFrame'>\n",
      "RangeIndex: 7049 entries, 0 to 7048\n",
      "Data columns (total 75 columns):\n",
      " #   Column                                        Non-Null Count  Dtype  \n",
      "---  ------                                        --------------  -----  \n",
      " 0   id                                            7049 non-null   int64  \n",
      " 1   listing_url                                   7049 non-null   object \n",
      " 2   scrape_id                                     7049 non-null   int64  \n",
      " 3   last_scraped                                  7049 non-null   object \n",
      " 4   source                                        7049 non-null   object \n",
      " 5   name                                          7049 non-null   object \n",
      " 6   description                                   0 non-null      float64\n",
      " 7   neighborhood_overview                         4813 non-null   object \n",
      " 8   picture_url                                   7049 non-null   object \n",
      " 9   host_id                                       7049 non-null   int64  \n",
      " 10  host_url                                      7049 non-null   object \n",
      " 11  host_name                                     7049 non-null   object \n",
      " 12  host_since                                    7049 non-null   object \n",
      " 13  host_location                                 5816 non-null   object \n",
      " 14  host_about                                    3976 non-null   object \n",
      " 15  host_response_time                            5178 non-null   object \n",
      " 16  host_response_rate                            5178 non-null   object \n",
      " 17  host_acceptance_rate                          6171 non-null   object \n",
      " 18  host_is_superhost                             7017 non-null   object \n",
      " 19  host_thumbnail_url                            7049 non-null   object \n",
      " 20  host_picture_url                              7049 non-null   object \n",
      " 21  host_neighbourhood                            2548 non-null   object \n",
      " 22  host_listings_count                           7049 non-null   int64  \n",
      " 23  host_total_listings_count                     7049 non-null   int64  \n",
      " 24  host_verifications                            7049 non-null   object \n",
      " 25  host_has_profile_pic                          7049 non-null   object \n",
      " 26  host_identity_verified                        7049 non-null   object \n",
      " 27  neighbourhood                                 4813 non-null   object \n",
      " 28  neighbourhood_cleansed                        7049 non-null   object \n",
      " 29  neighbourhood_group_cleansed                  0 non-null      float64\n",
      " 30  latitude                                      7049 non-null   float64\n",
      " 31  longitude                                     7049 non-null   float64\n",
      " 32  property_type                                 7049 non-null   object \n",
      " 33  room_type                                     7049 non-null   object \n",
      " 34  accommodates                                  7049 non-null   int64  \n",
      " 35  bathrooms                                     0 non-null      float64\n",
      " 36  bathrooms_text                                7037 non-null   object \n",
      " 37  bedrooms                                      0 non-null      float64\n",
      " 38  beds                                          6952 non-null   float64\n",
      " 39  amenities                                     7049 non-null   object \n",
      " 40  price                                         5541 non-null   object \n",
      " 41  minimum_nights                                7049 non-null   int64  \n",
      " 42  maximum_nights                                7049 non-null   int64  \n",
      " 43  minimum_minimum_nights                        7049 non-null   int64  \n",
      " 44  maximum_minimum_nights                        7049 non-null   int64  \n",
      " 45  minimum_maximum_nights                        7049 non-null   int64  \n",
      " 46  maximum_maximum_nights                        7049 non-null   int64  \n",
      " 47  minimum_nights_avg_ntm                        7049 non-null   float64\n",
      " 48  maximum_nights_avg_ntm                        7049 non-null   float64\n",
      " 49  calendar_updated                              0 non-null      float64\n",
      " 50  has_availability                              5541 non-null   object \n",
      " 51  availability_30                               7049 non-null   int64  \n",
      " 52  availability_60                               7049 non-null   int64  \n",
      " 53  availability_90                               7049 non-null   int64  \n",
      " 54  availability_365                              7049 non-null   int64  \n",
      " 55  calendar_last_scraped                         7049 non-null   object \n",
      " 56  number_of_reviews                             7049 non-null   int64  \n",
      " 57  number_of_reviews_ltm                         7049 non-null   int64  \n",
      " 58  number_of_reviews_l30d                        7049 non-null   int64  \n",
      " 59  first_review                                  6424 non-null   object \n",
      " 60  last_review                                   6424 non-null   object \n",
      " 61  review_scores_rating                          6428 non-null   float64\n",
      " 62  review_scores_accuracy                        6428 non-null   float64\n",
      " 63  review_scores_cleanliness                     6428 non-null   float64\n",
      " 64  review_scores_checkin                         6428 non-null   float64\n",
      " 65  review_scores_communication                   6428 non-null   float64\n",
      " 66  review_scores_location                        6428 non-null   float64\n",
      " 67  review_scores_value                           6428 non-null   float64\n",
      " 68  license                                       693 non-null    object \n",
      " 69  instant_bookable                              7049 non-null   object \n",
      " 70  calculated_host_listings_count                7049 non-null   int64  \n",
      " 71  calculated_host_listings_count_entire_homes   7049 non-null   int64  \n",
      " 72  calculated_host_listings_count_private_rooms  7049 non-null   int64  \n",
      " 73  calculated_host_listings_count_shared_rooms   7049 non-null   int64  \n",
      " 74  reviews_per_month                             6424 non-null   float64\n",
      "dtypes: float64(18), int64(23), object(34)\n",
      "memory usage: 4.0+ MB\n"
     ]
    }
   ],
   "source": [
    "df_listings.info()"
   ]
  },
  {
   "cell_type": "code",
   "execution_count": 12,
   "id": "b50d9c14",
   "metadata": {},
   "outputs": [
    {
     "name": "stdout",
     "output_type": "stream",
     "text": [
      "<class 'pandas.core.frame.DataFrame'>\n",
      "RangeIndex: 535577 entries, 0 to 535576\n",
      "Data columns (total 6 columns):\n",
      " #   Column         Non-Null Count   Dtype \n",
      "---  ------         --------------   ----- \n",
      " 0   listing_id     535577 non-null  int64 \n",
      " 1   id             535577 non-null  int64 \n",
      " 2   date           535577 non-null  object\n",
      " 3   reviewer_id    535577 non-null  int64 \n",
      " 4   reviewer_name  535577 non-null  object\n",
      " 5   comments       535531 non-null  object\n",
      "dtypes: int64(3), object(3)\n",
      "memory usage: 24.5+ MB\n"
     ]
    }
   ],
   "source": [
    "df_reviews.info()"
   ]
  },
  {
   "cell_type": "code",
   "execution_count": 13,
   "id": "4bf2946f",
   "metadata": {},
   "outputs": [
    {
     "data": {
      "text/plain": [
       "Index(['listing_id', 'id', 'date', 'reviewer_id', 'reviewer_name', 'comments'], dtype='object')"
      ]
     },
     "execution_count": 13,
     "metadata": {},
     "output_type": "execute_result"
    }
   ],
   "source": [
    "df_reviews.columns"
   ]
  },
  {
   "cell_type": "code",
   "execution_count": 14,
   "id": "0b2c0a6f",
   "metadata": {},
   "outputs": [
    {
     "data": {
      "text/html": [
       "<div>\n",
       "<style scoped>\n",
       "    .dataframe tbody tr th:only-of-type {\n",
       "        vertical-align: middle;\n",
       "    }\n",
       "\n",
       "    .dataframe tbody tr th {\n",
       "        vertical-align: top;\n",
       "    }\n",
       "\n",
       "    .dataframe thead th {\n",
       "        text-align: right;\n",
       "    }\n",
       "</style>\n",
       "<table border=\"1\" class=\"dataframe\">\n",
       "  <thead>\n",
       "    <tr style=\"text-align: right;\">\n",
       "      <th></th>\n",
       "      <th>listing_id</th>\n",
       "      <th>id</th>\n",
       "      <th>date</th>\n",
       "      <th>reviewer_id</th>\n",
       "      <th>reviewer_name</th>\n",
       "      <th>comments</th>\n",
       "    </tr>\n",
       "  </thead>\n",
       "  <tbody>\n",
       "    <tr>\n",
       "      <th>0</th>\n",
       "      <td>15420</td>\n",
       "      <td>171793</td>\n",
       "      <td>2011-01-18</td>\n",
       "      <td>186358</td>\n",
       "      <td>Nels</td>\n",
       "      <td>My wife and I stayed at this beautiful apartme...</td>\n",
       "    </tr>\n",
       "    <tr>\n",
       "      <th>1</th>\n",
       "      <td>15420</td>\n",
       "      <td>176350</td>\n",
       "      <td>2011-01-31</td>\n",
       "      <td>95218</td>\n",
       "      <td>Gareth</td>\n",
       "      <td>Charlotte couldn't have been a more thoughtful...</td>\n",
       "    </tr>\n",
       "    <tr>\n",
       "      <th>2</th>\n",
       "      <td>15420</td>\n",
       "      <td>232149</td>\n",
       "      <td>2011-04-19</td>\n",
       "      <td>429751</td>\n",
       "      <td>Guido</td>\n",
       "      <td>I went to Edinburgh for the second time on Apr...</td>\n",
       "    </tr>\n",
       "    <tr>\n",
       "      <th>3</th>\n",
       "      <td>15420</td>\n",
       "      <td>236073</td>\n",
       "      <td>2011-04-23</td>\n",
       "      <td>420830</td>\n",
       "      <td>Mariah</td>\n",
       "      <td>This flat was incredible. As other guests have...</td>\n",
       "    </tr>\n",
       "    <tr>\n",
       "      <th>4</th>\n",
       "      <td>15420</td>\n",
       "      <td>263713</td>\n",
       "      <td>2011-05-15</td>\n",
       "      <td>203827</td>\n",
       "      <td>Linda</td>\n",
       "      <td>Fantastic host and the apartment was perfect. ...</td>\n",
       "    </tr>\n",
       "  </tbody>\n",
       "</table>\n",
       "</div>"
      ],
      "text/plain": [
       "   listing_id      id        date  reviewer_id reviewer_name  \\\n",
       "0       15420  171793  2011-01-18       186358          Nels   \n",
       "1       15420  176350  2011-01-31        95218        Gareth   \n",
       "2       15420  232149  2011-04-19       429751         Guido   \n",
       "3       15420  236073  2011-04-23       420830        Mariah   \n",
       "4       15420  263713  2011-05-15       203827         Linda   \n",
       "\n",
       "                                            comments  \n",
       "0  My wife and I stayed at this beautiful apartme...  \n",
       "1  Charlotte couldn't have been a more thoughtful...  \n",
       "2  I went to Edinburgh for the second time on Apr...  \n",
       "3  This flat was incredible. As other guests have...  \n",
       "4  Fantastic host and the apartment was perfect. ...  "
      ]
     },
     "execution_count": 14,
     "metadata": {},
     "output_type": "execute_result"
    }
   ],
   "source": [
    "df_reviews.head(5)"
   ]
  },
  {
   "cell_type": "code",
   "execution_count": 15,
   "id": "57f9ae8c",
   "metadata": {},
   "outputs": [
    {
     "data": {
      "text/plain": [
       "id                                                0\n",
       "listing_url                                       0\n",
       "scrape_id                                         0\n",
       "last_scraped                                      0\n",
       "source                                            0\n",
       "                                               ... \n",
       "calculated_host_listings_count                    0\n",
       "calculated_host_listings_count_entire_homes       0\n",
       "calculated_host_listings_count_private_rooms      0\n",
       "calculated_host_listings_count_shared_rooms       0\n",
       "reviews_per_month                               625\n",
       "Length: 75, dtype: int64"
      ]
     },
     "execution_count": 15,
     "metadata": {},
     "output_type": "execute_result"
    }
   ],
   "source": [
    "df_listings.isnull().sum()"
   ]
  },
  {
   "cell_type": "code",
   "execution_count": 16,
   "id": "130997ea",
   "metadata": {},
   "outputs": [
    {
     "data": {
      "text/plain": [
       "Index(['id', 'listing_url', 'scrape_id', 'last_scraped', 'source', 'name',\n",
       "       'description', 'neighborhood_overview', 'picture_url', 'host_id',\n",
       "       'host_url', 'host_name', 'host_since', 'host_location', 'host_about',\n",
       "       'host_response_time', 'host_response_rate', 'host_acceptance_rate',\n",
       "       'host_is_superhost', 'host_thumbnail_url', 'host_picture_url',\n",
       "       'host_neighbourhood', 'host_listings_count',\n",
       "       'host_total_listings_count', 'host_verifications',\n",
       "       'host_has_profile_pic', 'host_identity_verified', 'neighbourhood',\n",
       "       'neighbourhood_cleansed', 'neighbourhood_group_cleansed', 'latitude',\n",
       "       'longitude', 'property_type', 'room_type', 'accommodates', 'bathrooms',\n",
       "       'bathrooms_text', 'bedrooms', 'beds', 'amenities', 'price',\n",
       "       'minimum_nights', 'maximum_nights', 'minimum_minimum_nights',\n",
       "       'maximum_minimum_nights', 'minimum_maximum_nights',\n",
       "       'maximum_maximum_nights', 'minimum_nights_avg_ntm',\n",
       "       'maximum_nights_avg_ntm', 'calendar_updated', 'has_availability',\n",
       "       'availability_30', 'availability_60', 'availability_90',\n",
       "       'availability_365', 'calendar_last_scraped', 'number_of_reviews',\n",
       "       'number_of_reviews_ltm', 'number_of_reviews_l30d', 'first_review',\n",
       "       'last_review', 'review_scores_rating', 'review_scores_accuracy',\n",
       "       'review_scores_cleanliness', 'review_scores_checkin',\n",
       "       'review_scores_communication', 'review_scores_location',\n",
       "       'review_scores_value', 'license', 'instant_bookable',\n",
       "       'calculated_host_listings_count',\n",
       "       'calculated_host_listings_count_entire_homes',\n",
       "       'calculated_host_listings_count_private_rooms',\n",
       "       'calculated_host_listings_count_shared_rooms', 'reviews_per_month'],\n",
       "      dtype='object')"
      ]
     },
     "execution_count": 16,
     "metadata": {},
     "output_type": "execute_result"
    }
   ],
   "source": [
    "df_listings.columns"
   ]
  },
  {
   "cell_type": "code",
   "execution_count": null,
   "id": "61db8741",
   "metadata": {},
   "outputs": [],
   "source": [
    "df_listing_clean=df_listings[['id', 'name', 'host_id', 'host_response_time', 'host_response_rate']]"
   ]
  },
  {
   "cell_type": "code",
   "execution_count": 25,
   "id": "2942c432",
   "metadata": {},
   "outputs": [
    {
     "data": {
      "text/plain": [
       "'Edinburgh, United Kingdom'"
      ]
     },
     "execution_count": 25,
     "metadata": {},
     "output_type": "execute_result"
    }
   ],
   "source": [
    "df_listings.loc[,'host_location']"
   ]
  },
  {
   "cell_type": "code",
   "execution_count": null,
   "id": "ed347df6",
   "metadata": {},
   "outputs": [],
   "source": []
  }
 ],
 "metadata": {
  "kernelspec": {
   "display_name": "Python 3 (ipykernel)",
   "language": "python",
   "name": "python3"
  },
  "language_info": {
   "codemirror_mode": {
    "name": "ipython",
    "version": 3
   },
   "file_extension": ".py",
   "mimetype": "text/x-python",
   "name": "python",
   "nbconvert_exporter": "python",
   "pygments_lexer": "ipython3",
   "version": "3.8.18"
  }
 },
 "nbformat": 4,
 "nbformat_minor": 5
}
