{
 "cells": [
  {
   "cell_type": "markdown",
   "id": "07e44438",
   "metadata": {},
   "source": [
    "# Capstone Project: Predict Airbnb star ratings and analyse key characteristics in reviews for high ratings"
   ]
  },
  {
   "cell_type": "markdown",
   "id": "486af8b6",
   "metadata": {},
   "source": [
    "## Notebook 1: Loading and cleaning data"
   ]
  },
  {
   "cell_type": "code",
   "execution_count": 16,
   "id": "35ab1aa7",
   "metadata": {},
   "outputs": [],
   "source": [
    "import pandas as pd\n",
    "import numpy as np\n",
    "\n",
    "import matplotlib.pyplot as plt\n",
    "import seaborn as sns\n",
    "\n",
    "import statsmodels as sm"
   ]
  },
  {
   "cell_type": "code",
   "execution_count": 17,
   "id": "e5f23743",
   "metadata": {},
   "outputs": [],
   "source": [
    "df_listing=pd.read_csv('data\\listings.csv')"
   ]
  },
  {
   "cell_type": "code",
   "execution_count": 24,
   "id": "128ed7d9",
   "metadata": {},
   "outputs": [
    {
     "data": {
      "text/html": [
       "<div>\n",
       "<style scoped>\n",
       "    .dataframe tbody tr th:only-of-type {\n",
       "        vertical-align: middle;\n",
       "    }\n",
       "\n",
       "    .dataframe tbody tr th {\n",
       "        vertical-align: top;\n",
       "    }\n",
       "\n",
       "    .dataframe thead th {\n",
       "        text-align: right;\n",
       "    }\n",
       "</style>\n",
       "<table border=\"1\" class=\"dataframe\">\n",
       "  <thead>\n",
       "    <tr style=\"text-align: right;\">\n",
       "      <th></th>\n",
       "      <th>id</th>\n",
       "      <th>name</th>\n",
       "      <th>host_id</th>\n",
       "      <th>host_name</th>\n",
       "      <th>neighbourhood_group</th>\n",
       "      <th>neighbourhood</th>\n",
       "      <th>latitude</th>\n",
       "      <th>longitude</th>\n",
       "      <th>room_type</th>\n",
       "      <th>price</th>\n",
       "      <th>minimum_nights</th>\n",
       "      <th>number_of_reviews</th>\n",
       "      <th>last_review</th>\n",
       "      <th>reviews_per_month</th>\n",
       "      <th>calculated_host_listings_count</th>\n",
       "      <th>availability_365</th>\n",
       "      <th>number_of_reviews_ltm</th>\n",
       "      <th>license</th>\n",
       "    </tr>\n",
       "  </thead>\n",
       "  <tbody>\n",
       "    <tr>\n",
       "      <th>0</th>\n",
       "      <td>15420</td>\n",
       "      <td>Rental unit in Edinburgh · ★4.98 · 1 bedroom ·...</td>\n",
       "      <td>60423</td>\n",
       "      <td>Charlotte</td>\n",
       "      <td>NaN</td>\n",
       "      <td>Old Town, Princes Street and Leith Street</td>\n",
       "      <td>55.957590</td>\n",
       "      <td>-3.188050</td>\n",
       "      <td>Entire home/apt</td>\n",
       "      <td>124.0</td>\n",
       "      <td>3</td>\n",
       "      <td>532</td>\n",
       "      <td>2023-12-11</td>\n",
       "      <td>3.38</td>\n",
       "      <td>1</td>\n",
       "      <td>39</td>\n",
       "      <td>82</td>\n",
       "      <td>NaN</td>\n",
       "    </tr>\n",
       "    <tr>\n",
       "      <th>1</th>\n",
       "      <td>24288</td>\n",
       "      <td>Loft in Edinburgh · ★4.62 · 2 bedrooms · 2 bed...</td>\n",
       "      <td>46498</td>\n",
       "      <td>Gordon</td>\n",
       "      <td>NaN</td>\n",
       "      <td>Canongate, Southside and Dumbiedykes</td>\n",
       "      <td>55.944983</td>\n",
       "      <td>-3.185293</td>\n",
       "      <td>Entire home/apt</td>\n",
       "      <td>75.0</td>\n",
       "      <td>3</td>\n",
       "      <td>301</td>\n",
       "      <td>2023-11-30</td>\n",
       "      <td>1.87</td>\n",
       "      <td>1</td>\n",
       "      <td>38</td>\n",
       "      <td>56</td>\n",
       "      <td>NaN</td>\n",
       "    </tr>\n",
       "    <tr>\n",
       "      <th>2</th>\n",
       "      <td>38628</td>\n",
       "      <td>Rental unit in Edinburgh · ★4.67 · 1 bedroom ·...</td>\n",
       "      <td>165635</td>\n",
       "      <td>Trish</td>\n",
       "      <td>NaN</td>\n",
       "      <td>Joppa</td>\n",
       "      <td>55.942150</td>\n",
       "      <td>-3.096400</td>\n",
       "      <td>Entire home/apt</td>\n",
       "      <td>100.0</td>\n",
       "      <td>5</td>\n",
       "      <td>73</td>\n",
       "      <td>2023-04-14</td>\n",
       "      <td>0.63</td>\n",
       "      <td>1</td>\n",
       "      <td>203</td>\n",
       "      <td>4</td>\n",
       "      <td>NaN</td>\n",
       "    </tr>\n",
       "    <tr>\n",
       "      <th>3</th>\n",
       "      <td>44552</td>\n",
       "      <td>Condo in Edinburgh · ★4.75 · 1 bedroom · 1 bed...</td>\n",
       "      <td>195950</td>\n",
       "      <td>Shaun</td>\n",
       "      <td>NaN</td>\n",
       "      <td>South Leith</td>\n",
       "      <td>55.966120</td>\n",
       "      <td>-3.171840</td>\n",
       "      <td>Private room</td>\n",
       "      <td>53.0</td>\n",
       "      <td>3</td>\n",
       "      <td>281</td>\n",
       "      <td>2023-11-26</td>\n",
       "      <td>1.73</td>\n",
       "      <td>1</td>\n",
       "      <td>45</td>\n",
       "      <td>30</td>\n",
       "      <td>NaN</td>\n",
       "    </tr>\n",
       "    <tr>\n",
       "      <th>4</th>\n",
       "      <td>48645</td>\n",
       "      <td>Condo in Edinburgh · ★4.87 · 1 bedroom · 2 bed...</td>\n",
       "      <td>221474</td>\n",
       "      <td>Mark</td>\n",
       "      <td>NaN</td>\n",
       "      <td>Canongate, Southside and Dumbiedykes</td>\n",
       "      <td>55.950720</td>\n",
       "      <td>-3.183050</td>\n",
       "      <td>Private room</td>\n",
       "      <td>124.0</td>\n",
       "      <td>2</td>\n",
       "      <td>1000</td>\n",
       "      <td>2023-12-16</td>\n",
       "      <td>6.37</td>\n",
       "      <td>1</td>\n",
       "      <td>0</td>\n",
       "      <td>73</td>\n",
       "      <td>NaN</td>\n",
       "    </tr>\n",
       "  </tbody>\n",
       "</table>\n",
       "</div>"
      ],
      "text/plain": [
       "      id                                               name  host_id  \\\n",
       "0  15420  Rental unit in Edinburgh · ★4.98 · 1 bedroom ·...    60423   \n",
       "1  24288  Loft in Edinburgh · ★4.62 · 2 bedrooms · 2 bed...    46498   \n",
       "2  38628  Rental unit in Edinburgh · ★4.67 · 1 bedroom ·...   165635   \n",
       "3  44552  Condo in Edinburgh · ★4.75 · 1 bedroom · 1 bed...   195950   \n",
       "4  48645  Condo in Edinburgh · ★4.87 · 1 bedroom · 2 bed...   221474   \n",
       "\n",
       "   host_name  neighbourhood_group                              neighbourhood  \\\n",
       "0  Charlotte                  NaN  Old Town, Princes Street and Leith Street   \n",
       "1     Gordon                  NaN       Canongate, Southside and Dumbiedykes   \n",
       "2      Trish                  NaN                                      Joppa   \n",
       "3      Shaun                  NaN                                South Leith   \n",
       "4       Mark                  NaN       Canongate, Southside and Dumbiedykes   \n",
       "\n",
       "    latitude  longitude        room_type  price  minimum_nights  \\\n",
       "0  55.957590  -3.188050  Entire home/apt  124.0               3   \n",
       "1  55.944983  -3.185293  Entire home/apt   75.0               3   \n",
       "2  55.942150  -3.096400  Entire home/apt  100.0               5   \n",
       "3  55.966120  -3.171840     Private room   53.0               3   \n",
       "4  55.950720  -3.183050     Private room  124.0               2   \n",
       "\n",
       "   number_of_reviews last_review  reviews_per_month  \\\n",
       "0                532  2023-12-11               3.38   \n",
       "1                301  2023-11-30               1.87   \n",
       "2                 73  2023-04-14               0.63   \n",
       "3                281  2023-11-26               1.73   \n",
       "4               1000  2023-12-16               6.37   \n",
       "\n",
       "   calculated_host_listings_count  availability_365  number_of_reviews_ltm  \\\n",
       "0                               1                39                     82   \n",
       "1                               1                38                     56   \n",
       "2                               1               203                      4   \n",
       "3                               1                45                     30   \n",
       "4                               1                 0                     73   \n",
       "\n",
       "  license  \n",
       "0     NaN  \n",
       "1     NaN  \n",
       "2     NaN  \n",
       "3     NaN  \n",
       "4     NaN  "
      ]
     },
     "execution_count": 24,
     "metadata": {},
     "output_type": "execute_result"
    }
   ],
   "source": [
    "df_listing.head(5)"
   ]
  },
  {
   "cell_type": "code",
   "execution_count": 19,
   "id": "7daa12ff",
   "metadata": {},
   "outputs": [
    {
     "name": "stdout",
     "output_type": "stream",
     "text": [
      "<class 'pandas.core.frame.DataFrame'>\n",
      "RangeIndex: 7051 entries, 0 to 7050\n",
      "Data columns (total 18 columns):\n",
      " #   Column                          Non-Null Count  Dtype  \n",
      "---  ------                          --------------  -----  \n",
      " 0   id                              7051 non-null   int64  \n",
      " 1   name                            7051 non-null   object \n",
      " 2   host_id                         7051 non-null   int64  \n",
      " 3   host_name                       7049 non-null   object \n",
      " 4   neighbourhood_group             0 non-null      float64\n",
      " 5   neighbourhood                   7051 non-null   object \n",
      " 6   latitude                        7051 non-null   float64\n",
      " 7   longitude                       7051 non-null   float64\n",
      " 8   room_type                       7051 non-null   object \n",
      " 9   price                           5543 non-null   float64\n",
      " 10  minimum_nights                  7051 non-null   int64  \n",
      " 11  number_of_reviews               7051 non-null   int64  \n",
      " 12  last_review                     6424 non-null   object \n",
      " 13  reviews_per_month               6424 non-null   float64\n",
      " 14  calculated_host_listings_count  7051 non-null   int64  \n",
      " 15  availability_365                7051 non-null   int64  \n",
      " 16  number_of_reviews_ltm           7051 non-null   int64  \n",
      " 17  license                         693 non-null    object \n",
      "dtypes: float64(5), int64(7), object(6)\n",
      "memory usage: 991.7+ KB\n"
     ]
    }
   ],
   "source": [
    "df_listing.info()"
   ]
  },
  {
   "cell_type": "code",
   "execution_count": 20,
   "id": "cec483b7",
   "metadata": {},
   "outputs": [
    {
     "data": {
      "text/plain": [
       "id                                   0\n",
       "name                                 0\n",
       "host_id                              0\n",
       "host_name                            2\n",
       "neighbourhood_group               7051\n",
       "neighbourhood                        0\n",
       "latitude                             0\n",
       "longitude                            0\n",
       "room_type                            0\n",
       "price                             1508\n",
       "minimum_nights                       0\n",
       "number_of_reviews                    0\n",
       "last_review                        627\n",
       "reviews_per_month                  627\n",
       "calculated_host_listings_count       0\n",
       "availability_365                     0\n",
       "number_of_reviews_ltm                0\n",
       "license                           6358\n",
       "dtype: int64"
      ]
     },
     "execution_count": 20,
     "metadata": {},
     "output_type": "execute_result"
    }
   ],
   "source": [
    "df_listing.isnull().sum()"
   ]
  },
  {
   "cell_type": "code",
   "execution_count": 21,
   "id": "2df8d6de",
   "metadata": {},
   "outputs": [],
   "source": [
    "df_listing_clean=df_listing.drop(['neighbourhood_group', 'license'], axis=1)"
   ]
  },
  {
   "cell_type": "code",
   "execution_count": 22,
   "id": "ff9e123f",
   "metadata": {},
   "outputs": [
    {
     "data": {
      "text/plain": [
       "627"
      ]
     },
     "execution_count": 22,
     "metadata": {},
     "output_type": "execute_result"
    }
   ],
   "source": [
    "len(df_listing_clean[df_listing_clean['reviews_per_month'].isnull() == True])"
   ]
  },
  {
   "cell_type": "code",
   "execution_count": 25,
   "id": "302648ca",
   "metadata": {},
   "outputs": [],
   "source": [
    "df_reviews=pd.read_csv('data/reviews.csv')"
   ]
  },
  {
   "cell_type": "code",
   "execution_count": 26,
   "id": "9818a6d4",
   "metadata": {},
   "outputs": [
    {
     "data": {
      "text/html": [
       "<div>\n",
       "<style scoped>\n",
       "    .dataframe tbody tr th:only-of-type {\n",
       "        vertical-align: middle;\n",
       "    }\n",
       "\n",
       "    .dataframe tbody tr th {\n",
       "        vertical-align: top;\n",
       "    }\n",
       "\n",
       "    .dataframe thead th {\n",
       "        text-align: right;\n",
       "    }\n",
       "</style>\n",
       "<table border=\"1\" class=\"dataframe\">\n",
       "  <thead>\n",
       "    <tr style=\"text-align: right;\">\n",
       "      <th></th>\n",
       "      <th>listing_id</th>\n",
       "      <th>id</th>\n",
       "      <th>date</th>\n",
       "      <th>reviewer_id</th>\n",
       "      <th>reviewer_name</th>\n",
       "      <th>comments</th>\n",
       "    </tr>\n",
       "  </thead>\n",
       "  <tbody>\n",
       "    <tr>\n",
       "      <th>0</th>\n",
       "      <td>15420</td>\n",
       "      <td>171793</td>\n",
       "      <td>2011-01-18</td>\n",
       "      <td>186358</td>\n",
       "      <td>Nels</td>\n",
       "      <td>My wife and I stayed at this beautiful apartme...</td>\n",
       "    </tr>\n",
       "    <tr>\n",
       "      <th>1</th>\n",
       "      <td>15420</td>\n",
       "      <td>176350</td>\n",
       "      <td>2011-01-31</td>\n",
       "      <td>95218</td>\n",
       "      <td>Gareth</td>\n",
       "      <td>Charlotte couldn't have been a more thoughtful...</td>\n",
       "    </tr>\n",
       "    <tr>\n",
       "      <th>2</th>\n",
       "      <td>15420</td>\n",
       "      <td>232149</td>\n",
       "      <td>2011-04-19</td>\n",
       "      <td>429751</td>\n",
       "      <td>Guido</td>\n",
       "      <td>I went to Edinburgh for the second time on Apr...</td>\n",
       "    </tr>\n",
       "    <tr>\n",
       "      <th>3</th>\n",
       "      <td>15420</td>\n",
       "      <td>236073</td>\n",
       "      <td>2011-04-23</td>\n",
       "      <td>420830</td>\n",
       "      <td>Mariah</td>\n",
       "      <td>This flat was incredible. As other guests have...</td>\n",
       "    </tr>\n",
       "    <tr>\n",
       "      <th>4</th>\n",
       "      <td>15420</td>\n",
       "      <td>263713</td>\n",
       "      <td>2011-05-15</td>\n",
       "      <td>203827</td>\n",
       "      <td>Linda</td>\n",
       "      <td>Fantastic host and the apartment was perfect. ...</td>\n",
       "    </tr>\n",
       "  </tbody>\n",
       "</table>\n",
       "</div>"
      ],
      "text/plain": [
       "   listing_id      id        date  reviewer_id reviewer_name  \\\n",
       "0       15420  171793  2011-01-18       186358          Nels   \n",
       "1       15420  176350  2011-01-31        95218        Gareth   \n",
       "2       15420  232149  2011-04-19       429751         Guido   \n",
       "3       15420  236073  2011-04-23       420830        Mariah   \n",
       "4       15420  263713  2011-05-15       203827         Linda   \n",
       "\n",
       "                                            comments  \n",
       "0  My wife and I stayed at this beautiful apartme...  \n",
       "1  Charlotte couldn't have been a more thoughtful...  \n",
       "2  I went to Edinburgh for the second time on Apr...  \n",
       "3  This flat was incredible. As other guests have...  \n",
       "4  Fantastic host and the apartment was perfect. ...  "
      ]
     },
     "execution_count": 26,
     "metadata": {},
     "output_type": "execute_result"
    }
   ],
   "source": [
    "df_reviews.head(5)"
   ]
  },
  {
   "cell_type": "code",
   "execution_count": 27,
   "id": "74e877f5",
   "metadata": {},
   "outputs": [
    {
     "name": "stdout",
     "output_type": "stream",
     "text": [
      "<class 'pandas.core.frame.DataFrame'>\n",
      "RangeIndex: 535577 entries, 0 to 535576\n",
      "Data columns (total 6 columns):\n",
      " #   Column         Non-Null Count   Dtype \n",
      "---  ------         --------------   ----- \n",
      " 0   listing_id     535577 non-null  int64 \n",
      " 1   id             535577 non-null  int64 \n",
      " 2   date           535577 non-null  object\n",
      " 3   reviewer_id    535577 non-null  int64 \n",
      " 4   reviewer_name  535577 non-null  object\n",
      " 5   comments       535531 non-null  object\n",
      "dtypes: int64(3), object(3)\n",
      "memory usage: 24.5+ MB\n"
     ]
    }
   ],
   "source": [
    "df_reviews.info()"
   ]
  },
  {
   "cell_type": "code",
   "execution_count": null,
   "id": "0be4992a",
   "metadata": {},
   "outputs": [],
   "source": []
  }
 ],
 "metadata": {
  "kernelspec": {
   "display_name": "Python 3 (ipykernel)",
   "language": "python",
   "name": "python3"
  },
  "language_info": {
   "codemirror_mode": {
    "name": "ipython",
    "version": 3
   },
   "file_extension": ".py",
   "mimetype": "text/x-python",
   "name": "python",
   "nbconvert_exporter": "python",
   "pygments_lexer": "ipython3",
   "version": "3.8.18"
  }
 },
 "nbformat": 4,
 "nbformat_minor": 5
}
