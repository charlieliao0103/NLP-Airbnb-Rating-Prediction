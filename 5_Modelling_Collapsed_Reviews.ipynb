{
 "cells": [
  {
   "cell_type": "markdown",
   "id": "787923b4",
   "metadata": {},
   "source": [
    "# Predicting Star Ratings of Edinburgh Airbnbs through Review Texts Analysis"
   ]
  },
  {
   "cell_type": "markdown",
   "id": "919a2bb0",
   "metadata": {},
   "source": [
    "# Notebook 5: Modelling_Review_Collapsed"
   ]
  },
  {
   "cell_type": "markdown",
   "id": "22d97276",
   "metadata": {},
   "source": [
    "# Introduction"
   ]
  },
  {
   "cell_type": "markdown",
   "id": "75324df7",
   "metadata": {},
   "source": [
    "In this notebook, we will analyze our review dataset using another pre-defined format: **all reviews corresponding to the same listing will be condensed into one block of text and aggregated with their corresponding listing information and overall rating sentiment score**.\n",
    "\n",
    "The reason for us to perform this transformation is that since we do not obtain star rating scores for every review, we used the average review score for each Airbnb listing and defined our sentiment threshold. Therefore, our analysis should have better interpretability if we use the **condensed reviews** to predict averaged rating scores. This means that we will obtain a dataset with **fewer data points** compared to the dataset we used in the previous notebook, as each row represents one Edinburgh Airbnb listing. This might affect our model performance, but hopefully it will allow us to extract more insightful word features.\n",
    "\n",
    "Our analysis will be presented in the following steps:\n",
    "\n",
    "- Import pre-defined functions from previous notebooks. For more specific information about these functions, please view **'my_function.py'**.\n",
    "- Model setup including splitting variables and performing train-test-split stages.\n",
    "- Obtain baseline model performance.\n",
    "- Perform two grid searches following the procedure from the previous notebook.\n",
    "- Perform primary evaluations"
   ]
  },
  {
   "cell_type": "markdown",
   "id": "30d621c2",
   "metadata": {},
   "source": [
    "***"
   ]
  },
  {
   "cell_type": "markdown",
   "id": "f505f46e",
   "metadata": {},
   "source": [
    "# Table of Contents"
   ]
  },
  {
   "cell_type": "markdown",
   "id": "70a30ef9",
   "metadata": {},
   "source": [
    "1. [**Import Libraries**](#a1)<br>\n",
    "    \n",
    "2. [**Modelling Set Up**](#a2)<br>\n",
    "    2.1.[Split Variables](#a2.1)<br>\n",
    "    2.2.[Train Test Split](#a2.2)<br>\n",
    "    \n",
    "3. [**Baseline Model**](#a3)<br>\n",
    "    3.1.[Baseline Model Evaluation](#a3.1)<br>\n",
    "4. [**Modelling**](#a4)<br>\n",
    "    4.1.[GridSearch_1: General Sweep](#a4.1)<br>\n",
    "    4.2 [GridSearch_2: Ngrams](#a4.2)<br>\n",
    "5. [**Summary**](#a6)<br>"
   ]
  },
  {
   "cell_type": "markdown",
   "id": "372f0775",
   "metadata": {},
   "source": [
    "***"
   ]
  },
  {
   "cell_type": "markdown",
   "id": "9497aff3",
   "metadata": {},
   "source": [
    "## Import Libraries <a id='a1'></a>"
   ]
  },
  {
   "cell_type": "code",
   "execution_count": 1,
   "id": "c5eff6a0",
   "metadata": {},
   "outputs": [
    {
     "name": "stderr",
     "output_type": "stream",
     "text": [
      "[nltk_data] Downloading package stopwords to\n",
      "[nltk_data]     C:\\Users\\12276\\AppData\\Roaming\\nltk_data...\n",
      "[nltk_data]   Package stopwords is already up-to-date!\n",
      "[nltk_data] Downloading package wordnet to\n",
      "[nltk_data]     C:\\Users\\12276\\AppData\\Roaming\\nltk_data...\n",
      "[nltk_data]   Package wordnet is already up-to-date!\n"
     ]
    }
   ],
   "source": [
    "# Main Libraries\n",
    "import numpy as np\n",
    "import pandas as pd\n",
    "import matplotlib.pyplot as plt\n",
    "import seaborn as sns\n",
    "\n",
    "# Scipy Library for sparse  matrix\n",
    "from scipy.sparse import csr_matrix\n",
    "\n",
    "# NLP Libraries\n",
    "import nltk\n",
    "import re\n",
    "import string\n",
    "import html\n",
    "import contractions\n",
    "import langid\n",
    "from nltk.tokenize import RegexpTokenizer\n",
    "from nltk.stem import WordNetLemmatizer\n",
    "from nltk.corpus import stopwords\n",
    "from langid.langid import LanguageIdentifier\n",
    "\n",
    "# Download from nltk\n",
    "nltk.download('stopwords')\n",
    "nltk.download('wordnet')\n",
    "\n",
    "# Feature Extraction Libraries\n",
    "from sklearn.feature_extraction.text import TfidfVectorizer\n",
    "from sklearn.feature_extraction.text import CountVectorizer\n",
    "\n",
    "# Dummy Classifer \n",
    "from sklearn.dummy import DummyClassifier\n",
    "\n",
    "# Modelling Libraries\n",
    "from sklearn.utils import resample\n",
    "from sklearn.model_selection import train_test_split\n",
    "from sklearn.linear_model import LogisticRegression\n",
    "from sklearn.neighbors import KNeighborsClassifier\n",
    "from sklearn.tree import DecisionTreeClassifier\n",
    "from sklearn.ensemble import RandomForestClassifier\n",
    "from sklearn.preprocessing import MinMaxScaler, StandardScaler, FunctionTransformer\n",
    "from sklearn.compose import ColumnTransformer\n",
    "from sklearn.pipeline import Pipeline\n",
    "from sklearn.model_selection import GridSearchCV\n",
    "\n",
    "# Evaluation Libraries\n",
    "from sklearn.metrics import confusion_matrix, ConfusionMatrixDisplay\n",
    "from sklearn.metrics import classification_report\n",
    "from sklearn.metrics import precision_score\n",
    "from sklearn.metrics import recall_score\n",
    "from sklearn.metrics import f1_score\n",
    "from sklearn.metrics import accuracy_score\n",
    "\n",
    "import joblib\n",
    "import pickle as pk"
   ]
  },
  {
   "cell_type": "markdown",
   "id": "c8b31a87",
   "metadata": {},
   "source": [
    "#### Import functions from local"
   ]
  },
  {
   "cell_type": "code",
   "execution_count": 99,
   "id": "bb290f88",
   "metadata": {},
   "outputs": [
    {
     "name": "stderr",
     "output_type": "stream",
     "text": [
      "[nltk_data] Downloading package stopwords to\n",
      "[nltk_data]     C:\\Users\\12276\\AppData\\Roaming\\nltk_data...\n",
      "[nltk_data]   Package stopwords is already up-to-date!\n",
      "[nltk_data] Downloading package wordnet to\n",
      "[nltk_data]     C:\\Users\\12276\\AppData\\Roaming\\nltk_data...\n",
      "[nltk_data]   Package wordnet is already up-to-date!\n"
     ]
    }
   ],
   "source": [
    "%run -i my_function.py"
   ]
  },
  {
   "cell_type": "markdown",
   "id": "00db98bf",
   "metadata": {},
   "source": [
    "#### Loading Relevant Data"
   ]
  },
  {
   "cell_type": "code",
   "execution_count": 3,
   "id": "aae965a1",
   "metadata": {},
   "outputs": [],
   "source": [
    "# Load collapsed review data\n",
    "df_collapsed_reviews_by_listing= joblib.load('data/df_collapsed_reviews_by_listing.pkl')"
   ]
  },
  {
   "cell_type": "markdown",
   "id": "9834226c",
   "metadata": {},
   "source": [
    "#### Ignore userwarnings"
   ]
  },
  {
   "cell_type": "code",
   "execution_count": 4,
   "id": "e3b6a4bc",
   "metadata": {},
   "outputs": [],
   "source": [
    "import warnings\n",
    "\n",
    "# Ignore UserWarning\n",
    "warnings.filterwarnings('ignore', category=UserWarning)\n",
    "warnings.filterwarnings('ignore', category=FutureWarning)"
   ]
  },
  {
   "cell_type": "markdown",
   "id": "8bb0b859",
   "metadata": {},
   "source": [
    "#### Check the uncollapsed review data shape"
   ]
  },
  {
   "cell_type": "code",
   "execution_count": 5,
   "id": "1a881930",
   "metadata": {},
   "outputs": [
    {
     "name": "stdout",
     "output_type": "stream",
     "text": [
      "The dataset contains all reviews listed individually is of dimension (5908, 45)\n"
     ]
    }
   ],
   "source": [
    "print(f'The dataset contains all reviews listed individually is of dimension {df_collapsed_reviews_by_listing.shape}')"
   ]
  },
  {
   "cell_type": "markdown",
   "id": "b86c4863",
   "metadata": {},
   "source": [
    "***"
   ]
  },
  {
   "cell_type": "markdown",
   "id": "5b9cb17f",
   "metadata": {},
   "source": [
    "# Modelling Set up <a id='a3'></a>"
   ]
  },
  {
   "cell_type": "markdown",
   "id": "8a1a4d59",
   "metadata": {},
   "source": [
    "## Split the variables <a id='a3.1'></a>"
   ]
  },
  {
   "cell_type": "markdown",
   "id": "a669293d",
   "metadata": {},
   "source": [
    "We need to split the variables into dependent and independent variables before we start fitting the model. The target variable will be the sentiment scores. We will focus on the overall sentiment score and attempt to further analyse the reviews with the other sub-rating transformed sentiment scores."
   ]
  },
  {
   "cell_type": "code",
   "execution_count": 6,
   "id": "c43258f2",
   "metadata": {},
   "outputs": [],
   "source": [
    "# Define X and y for the future model\n",
    "X = df_collapsed_reviews_by_listing.drop(['Overall_sentiment',\n",
    "                                          'accuracy_sentiment',\n",
    "                                          'cleanliness_sentiment',\n",
    "                                          'checkin_sentiment',\n",
    "                                          'communication_sentiment',\n",
    "                                          'location_sentiment',\n",
    "                                          'value_sentiment'], axis=1)\n",
    "y = df_collapsed_reviews_by_listing['Overall_sentiment']"
   ]
  },
  {
   "cell_type": "code",
   "execution_count": 7,
   "id": "e36fc6c9",
   "metadata": {},
   "outputs": [
    {
     "name": "stdout",
     "output_type": "stream",
     "text": [
      "X Shape: (5908, 38)\n",
      "y Shape: (5908,)\n"
     ]
    }
   ],
   "source": [
    "print(f\"X Shape: {X.shape}\")\n",
    "print(f\"y Shape: {y.shape}\")"
   ]
  },
  {
   "cell_type": "markdown",
   "id": "3c9b4732",
   "metadata": {},
   "source": [
    "The dependent variable stored as **X** contains all cleaned listing related numerical data as well as a column that contains the guest review data.\n",
    "\n",
    "The independent variable stored as **y** contains the **Overall sentiment score** that was transformed from the listing's average overall rating score:\n",
    "- 1 was denoted by Overall rating score > 4.8\n",
    "- 0 was denoted by Overall rating score < 4.8\n",
    "\n",
    "We can see that the current dataset only contains about **6000** rows, this number corresponds to the number of Airbnb listings in Edinburgh which has at least three reviews contained in our initial dataset."
   ]
  },
  {
   "cell_type": "markdown",
   "id": "17428dc3",
   "metadata": {},
   "source": [
    "***"
   ]
  },
  {
   "cell_type": "markdown",
   "id": "35f94cdd",
   "metadata": {},
   "source": [
    "## Train Test Split <a id='a3.4'></a>"
   ]
  },
  {
   "cell_type": "markdown",
   "id": "a91f9bcf",
   "metadata": {},
   "source": [
    "The modelling process starts by splitting our dataset into training and testing sets. This procedure is fundamental for the effective evaluation of our model performance.\n",
    "\n",
    "The training data is implemented upon which our model is built and refined, and the testing data provides the benchmark for assessing the model's predictive performance on unseen data. This ensures us to mitigate the risk of **overfitting**, as our model will not just memorize the data pattern but rather learns to generalize on new, unseen data.\n",
    "\n",
    "Additionally, it is important that this splitting process must precede any data transformation steps including random sampling, text vectorization and scaling to prevent potential **data leakage**."
   ]
  },
  {
   "cell_type": "code",
   "execution_count": 47,
   "id": "e3c631f9",
   "metadata": {},
   "outputs": [
    {
     "name": "stdout",
     "output_type": "stream",
     "text": [
      "The number of rows obtained in the training data is 4726, with 38 feature columns.\n",
      "The number of rows obtained in the testing data is 1182, with 38 feature columns.\n"
     ]
    }
   ],
   "source": [
    "# Split test data as 30% of all data, determine random state to make sure every split is the same\n",
    "X_train, X_test, y_train, y_test = train_test_split(X, y, test_size=0.2, random_state=123)\n",
    "\n",
    "# Show the number of rows for training and testing dataset\n",
    "print(f'The number of rows obtained in the training data is {X_train.shape[0]}, with {X_train.shape[1]} feature columns.')\n",
    "print(f'The number of rows obtained in the testing data is {X_test.shape[0]}, with {X_train.shape[1]} feature columns.')"
   ]
  },
  {
   "cell_type": "markdown",
   "id": "3d789bf1",
   "metadata": {},
   "source": [
    "***"
   ]
  },
  {
   "cell_type": "markdown",
   "id": "e9da07db",
   "metadata": {},
   "source": [
    "# Baseline Model <a id='a4'></a>"
   ]
  },
  {
   "cell_type": "markdown",
   "id": "eff30002",
   "metadata": {},
   "source": [
    "As we are developing the best performed models for predicting the class of guest sentiments, it is crucial to establish a baseline model for comparison. We will utilise a **Dummy Classifier** model, which makes predictions without accessing dataset features, essentially performing random guessing. By establishing this baseline, we can decide that any model performing worse than the baseline model will not proceed to further analysis. \n",
    "\n",
    "**Run Time**: 1mins 30s"
   ]
  },
  {
   "cell_type": "code",
   "execution_count": 12,
   "id": "9f725f0f",
   "metadata": {},
   "outputs": [
    {
     "name": "stdout",
     "output_type": "stream",
     "text": [
      "X_train_transfomed_dummy : (4726, 537)\n"
     ]
    }
   ],
   "source": [
    "# Vectorize data using Bag of Words Vectorizer\n",
    "bow_vec = CountVectorizer(max_features = 500, # Only obtain top 500 features based on vectorizer results\n",
    "                            min_df=5, # Feature occurency should be bigger than 5 in the corpus\n",
    "                            tokenizer=customized_tokenizer)\n",
    "\n",
    "# Fit and transform on the vectorizer to training data\n",
    "X_train_bow_d = bow_vec.fit_transform(X_train['comments']).toarray()\n",
    "\n",
    "# Transform on both training data and testing data\n",
    "X_test_bow_d = bow_vec.transform(X_test['comments']).toarray()\n",
    "\n",
    "# Reset Index before concatenating\n",
    "X_train_reset_index = X_train.reset_index(drop=True)\n",
    "X_test_reset_index = X_test.reset_index(drop=True)\n",
    "\n",
    "# Merge the resulting arrays with the original numeric features\n",
    "X_train_bow_d_transformed = pd.concat([X_train_reset_index.drop(['comments'], axis=1),\n",
    "                                         pd.DataFrame(X_train_bow_d, columns=[i for i in bow_vec.get_feature_names_out()])], axis=1)\n",
    "\n",
    "X_test_bow_d_transformed = pd.concat([X_test_reset_index.drop(['comments'], axis=1), \n",
    "                                        pd.DataFrame(X_test_bow_d, columns=[i for i in bow_vec.get_feature_names_out()])], axis = 1)\n",
    "\n",
    "# Print shape of the vectorized training feature data\n",
    "print(f'X_train_transfomed_dummy : {X_train_bow_d_transformed.shape}')"
   ]
  },
  {
   "cell_type": "code",
   "execution_count": 50,
   "id": "acaddbc6",
   "metadata": {},
   "outputs": [
    {
     "name": "stdout",
     "output_type": "stream",
     "text": [
      "The F1 Score (%) for the Baseline Model is: 73.45 %\n"
     ]
    }
   ],
   "source": [
    "# # Dummy Classifier - Baseline Model\n",
    "# Instantiate Dummy Classifier\n",
    "dummy_classifier = DummyClassifier()\n",
    "\n",
    "# Fit the Dummy Classifier on Training data\n",
    "dummy_classifier.fit(X_train_bow_d_transformed, y_train)\n",
    "\n",
    "# Predict the fitted model on Testing Data\n",
    "y_predict_d = dummy_classifier.predict(X_test_bow_d_transformed)\n",
    "\n",
    "# Print F1 score\n",
    "print(f'The F1 Score (%) for the Baseline Model is: {round(f1_score(y_test, y_predict_d)*100, 2)} %')"
   ]
  },
  {
   "cell_type": "markdown",
   "id": "c6da9703",
   "metadata": {},
   "source": [
    "#### Classification report <a id='a4.1'></a>"
   ]
  },
  {
   "cell_type": "code",
   "execution_count": 49,
   "id": "1bd46eda",
   "metadata": {},
   "outputs": [
    {
     "name": "stdout",
     "output_type": "stream",
     "text": [
      "              precision    recall  f1-score   support\n",
      "\n",
      "           0       0.00      0.00      0.00       496\n",
      "           1       0.58      1.00      0.73       686\n",
      "\n",
      "    accuracy                           0.58      1182\n",
      "   macro avg       0.29      0.50      0.37      1182\n",
      "weighted avg       0.34      0.58      0.43      1182\n",
      "\n"
     ]
    }
   ],
   "source": [
    "# Generate classification report to see specific classification evaluation metrics scores\n",
    "baseline_report = classification_report(y_test, y_predict_d)\n",
    "print(baseline_report)"
   ]
  },
  {
   "cell_type": "markdown",
   "id": "e52ccdaa",
   "metadata": {},
   "source": [
    "***"
   ]
  },
  {
   "cell_type": "markdown",
   "id": "45724545",
   "metadata": {},
   "source": [
    "# Modelling <a id='a5'></a>"
   ]
  },
  {
   "cell_type": "markdown",
   "id": "b6788586",
   "metadata": {},
   "source": [
    "After completing data cleaning, pre-processing, and model setup stages, we are ready to train models and make predictions. To determine the best-performing model, we will utilize **GridSearchCV** to find the optimal model with the best hyperparameters. Machine learning metrics and models to be used in our modeling process include:\n",
    "\n",
    "- Text Vectorizer: Bag of Words, TF-IDF\n",
    "- Scaler: StandardScaler\n",
    "- Models: Logistic Regression, Decision Tree Classifier, Random Forest Classifier.\n",
    "\n",
    "Note that for performance purposes, we will be vectorizing the datasets outside of grid search. We will then fit combinations of models to the training data that has been transformed by two types of text vectorizations. During the fitting process, **5-fold cross-validation** will be performed to improve model performance and interpretability. Finally, the model with the highest average validation F1 score will be selected and evaluated at the end of each GridSearch. "
   ]
  },
  {
   "cell_type": "markdown",
   "id": "86b4550b",
   "metadata": {},
   "source": [
    "## GridSearch_1: General Sweep <a id='a5.1'></a>"
   ]
  },
  {
   "cell_type": "markdown",
   "id": "5bfd48ba",
   "metadata": {},
   "source": [
    "During the first GridSearch on this dataset, we will be searching for optimal hyperparameters over wide ranges implementing on the **Logistic Regresion** and **Decision Tree Classifier**. This GridSearch will be run and fitted on two vectorized training sets defined in the previous notebook and we will evaluate the model performances with a brief summary. The selections of models and parameters are summarized below:"
   ]
  },
  {
   "cell_type": "markdown",
   "id": "ac438a43",
   "metadata": {},
   "source": [
    "|    Models   |    Hyperparameters   |   Ranges/Options  |\n",
    "|:-------------:|:-------------:|:-------------:|\n",
    "|    **TfidfVectorizer**     |     max_df   |    0.95     |\n",
    "|                  |     min_df  |    5       |\n",
    "|       **CountVectorizer**           |     max_df  |    0.95       |\n",
    "|                  |     min_df  |    5       |\n",
    "|    **Logistic Regression**     |    C     |    0.001, 0.01, 0.1, 1, 10    |\n",
    "|         |    penalty     |    'none', 'l2'     | \n",
    "|    **Decision Tree Classifier**     |     max_depth    |     2, 8, 32, 64, 128    |\n",
    "|                 |    min_samples_leaf     |     2, 4, 8    |\n",
    "|                 |     min_samples_split    |     2, 4, 8    |\n",
    "|                 |     criterion    |     'gini', 'entropy'    |"
   ]
  },
  {
   "cell_type": "markdown",
   "id": "c0957491",
   "metadata": {},
   "source": [
    "### First GridSearch\n",
    "Run time: 1 hours 27 min 56s"
   ]
  },
  {
   "cell_type": "markdown",
   "id": "8395c94e",
   "metadata": {},
   "source": [
    "To save long execution times for future references, we will use a loading flag to prevent re-training models when it is already saved and can be loaded as a pickle file"
   ]
  },
  {
   "cell_type": "code",
   "execution_count": 16,
   "id": "5def9d0a",
   "metadata": {
    "scrolled": true
   },
   "outputs": [
    {
     "name": "stdout",
     "output_type": "stream",
     "text": [
      "Transforming training sample data .....\n",
      "Training sample data transformed.\n",
      "Loaded pre-trained models (Gridsearch_1)\n"
     ]
    }
   ],
   "source": [
    "# # First GridSearch\n",
    "#-----------------------------------------------------------------------------------------------------------------#\n",
    "# Extract numerical column names for column transformer\n",
    "numeric_columns = X.select_dtypes(exclude='object').columns.to_list()\n",
    "# Define column transformers\n",
    "ct_bow = define_col_trans('ct_bow',  CountVectorizer(max_df=0.95, min_df=5, tokenizer=customized_tokenizer))\n",
    "ct_tfidf = define_col_trans('ct_tfidf',  TfidfVectorizer(max_df=0.95, min_df=5, tokenizer=customized_tokenizer))\n",
    "#-----------------------------------------------------------------------------------------------------------------#\n",
    "# Fit and transform on training data using two types of vectorizers\n",
    "print('Transforming training sample data .....')\n",
    "X_train_ct_bow = ct_bow.fit_transform(X_train)\n",
    "X_train_ct_tfidf= ct_tfidf.fit_transform(X_train)\n",
    "print('Training sample data transformed.')\n",
    "#-----------------------------------------------------------------------------------------------------------------#\n",
    "\n",
    "# If one needs to retrain the model, set loading flag as False\n",
    "loaded_flag_1 = False\n",
    "\n",
    "if loaded_flag_1:\n",
    "    # Load saved fittedgrid\n",
    "    fittedgrid_1_bow_collapsed=joblib.load('data/fittedgrid_1_bow_collapsed.pkl')\n",
    "    fittedgrid_1_tfidf_collapsed=joblib.load('data/fittedgrid_1_tfidf_collapsed.pkl')\n",
    "    print('Loaded pre-trained models (Gridsearch_1)')\n",
    "else:\n",
    "    # Define base pipeline\n",
    "    pipeline_1 = Pipeline([\n",
    "        ('sparse_to_dense', FunctionTransformer(convert_to_array, accept_sparse=True)),\n",
    "        ('scaler', StandardScaler()),\n",
    "        ('model', LogisticRegression())\n",
    "    ])\n",
    "    \n",
    "    # Instantiate Pipeline with grid of parameters\n",
    "    grid_param_1 = [\n",
    "\n",
    "        # Logistic Regression\n",
    "        {\n",
    "            'model'              : [LogisticRegression()],\n",
    "            'model__C'           : [0.001, 0.01, 0.1, 1, 10], # C parameter to control penalty weights\n",
    "            'model__penalty'     : ['none', 'l2'], # Control penalty types, l1: Lasso, l2: Ridge\n",
    "            'model__random_state': [123], # Control gradient descent starting point\n",
    "            'model__max_iter'    : [10000] # Make sure model iterates\n",
    "        },\n",
    "\n",
    "        # Decision Tree Classifier\n",
    "        {\n",
    "            'model'                   : [DecisionTreeClassifier()],\n",
    "            'model__max_depth'        : [2, 8, 32, 64, 128], # Control number of tree splits/depth\n",
    "            'model__min_samples_leaf' : [2, 4, 8], # Control minimum number of samples at a leaf node\n",
    "            'model__min_samples_split': [2, 4, 8], # Control minimum number of samples split at a leaf node\n",
    "            'model__criterion'        : ['gini', 'entropy'], # Control the function to measure the quality of a split\n",
    "            'model__random_state'     :[123] # Control randomness of the estimator\n",
    "        }\n",
    "    ]\n",
    "\n",
    "    # Use GridSearch\n",
    "    grid_1 = GridSearchCV(estimator=pipeline_1, # Define GridSearch estimator pipeline\n",
    "                         param_grid=grid_param_1, # Define parameter grid\n",
    "                         cv=5, # Define 5-fold cross-validation\n",
    "                         n_jobs=-2,\n",
    "                         scoring='f1') \n",
    "\n",
    "    # Fit the grid on training data\n",
    "    fittedgrid_1_bow_collapsed = grid_1.fit(X_train_ct_bow, y_train)\n",
    "    fittedgrid_1_tfidf_collapsed = grid_1.fit(X_train_ct_tfidf, y_train)\n",
    "    \n",
    "    # Save fittedgrid as pickle file\n",
    "    joblib.dump(fittedgrid_1_bow_collapsed, 'data/fittedgrid_1_bow_collapsed.pkl')\n",
    "    joblib.dump(fittedgrid_1_tfidf_collapsed, 'data/fittedgrid_1_tfidf_collapsed.pkl')"
   ]
  },
  {
   "cell_type": "markdown",
   "id": "ebb93142",
   "metadata": {},
   "source": [
    "***"
   ]
  },
  {
   "cell_type": "markdown",
   "id": "e4a946c8",
   "metadata": {},
   "source": [
    "### First GridSearch Results"
   ]
  },
  {
   "cell_type": "markdown",
   "id": "fafdf6c7",
   "metadata": {},
   "source": [
    "#### Selected model results with Bag of Words transformed data "
   ]
  },
  {
   "cell_type": "code",
   "execution_count": 17,
   "id": "19e90ae7",
   "metadata": {},
   "outputs": [
    {
     "name": "stdout",
     "output_type": "stream",
     "text": [
      "\n",
      "--------------------\n",
      "\n",
      "Pipeline(steps=[('sparse_to_dense',\n",
      "                 FunctionTransformer(accept_sparse=True,\n",
      "                                     func=<function convert_to_array at 0x0000023E169A6340>)),\n",
      "                ('scaler', StandardScaler()),\n",
      "                ('model',\n",
      "                 LogisticRegression(C=0.001, max_iter=10000,\n",
      "                                    random_state=123))])\n",
      "\n",
      "--------------------\n",
      "\n",
      "Best Model Train Score (%): 96.08\n",
      "\n",
      "--------------------\n",
      "\n",
      "Best Model Test Score (%): 86.75\n"
     ]
    }
   ],
   "source": [
    "print('\\n--------------------\\n')\n",
    "print(fittedgrid_1_bow_collapsed.best_estimator_)\n",
    "\n",
    "# Print Crossvalidated Score\n",
    "print('\\n--------------------\\n')\n",
    "print(f'Best Model Train Score (%): {round(fittedgrid_1_bow_collapsed.score(X_train_ct_bow, y_train)*100.00, 2)}') \n",
    "\n",
    "# Print Testing Score\n",
    "print('\\n--------------------\\n')\n",
    "\n",
    "# Vectorize on testing data to evaluate model actual performance\n",
    "X_test_ct_bow = ct_bow.transform(X_test)\n",
    "print(f'Best Model Test Score (%): {round(fittedgrid_1_bow_collapsed.score(X_test_ct_bow, y_test)*100, 2)}') "
   ]
  },
  {
   "cell_type": "markdown",
   "id": "065e636d",
   "metadata": {},
   "source": [
    "#### Selected model results with TF-IDF transformed data "
   ]
  },
  {
   "cell_type": "code",
   "execution_count": 51,
   "id": "dd248403",
   "metadata": {},
   "outputs": [
    {
     "name": "stdout",
     "output_type": "stream",
     "text": [
      "\n",
      "--------------------\n",
      "\n",
      "Pipeline(steps=[('sparse_to_dense',\n",
      "                 FunctionTransformer(accept_sparse=True,\n",
      "                                     func=<function convert_to_array at 0x0000023E169A6340>)),\n",
      "                ('scaler', StandardScaler()),\n",
      "                ('model',\n",
      "                 LogisticRegression(C=0.001, max_iter=10000,\n",
      "                                    random_state=123))])\n",
      "\n",
      "--------------------\n",
      "\n",
      "Best Model Train Score (%): 99.57\n",
      "\n",
      "--------------------\n",
      "\n",
      "Best Model Test Score (%): 85.16\n"
     ]
    }
   ],
   "source": [
    "print('\\n--------------------\\n')\n",
    "print(fittedgrid_1_tfidf_collapsed.best_estimator_)\n",
    "\n",
    "# Print Score\n",
    "print('\\n--------------------\\n')\n",
    "print(f'Best Model Train Score (%): {round(fittedgrid_1_tfidf_collapsed.score(X_train_ct_tfidf, y_train)*100.00, 2)}') \n",
    "\n",
    "# Print Testing Score\n",
    "print('\\n--------------------\\n')\n",
    "\n",
    "# Vectorize on testing data to evaluate model actual performance\n",
    "X_test_ct_tfidf = ct_tfidf.transform(X_test)\n",
    "print(f'Best Model Test Score (%): {round(fittedgrid_1_tfidf_collapsed.score(X_test_ct_tfidf, y_test)*100, 2)}') "
   ]
  },
  {
   "cell_type": "markdown",
   "id": "1f3ff6e1",
   "metadata": {},
   "source": [
    "#### Top 10 models with best F1 scores resulted with Bag of Words transformed data"
   ]
  },
  {
   "cell_type": "code",
   "execution_count": 55,
   "id": "b48c7461",
   "metadata": {},
   "outputs": [
    {
     "name": "stdout",
     "output_type": "stream",
     "text": [
      "GridSearch 1 Cross Validation Results\n"
     ]
    },
    {
     "data": {
      "text/html": [
       "<div>\n",
       "<style scoped>\n",
       "    .dataframe tbody tr th:only-of-type {\n",
       "        vertical-align: middle;\n",
       "    }\n",
       "\n",
       "    .dataframe tbody tr th {\n",
       "        vertical-align: top;\n",
       "    }\n",
       "\n",
       "    .dataframe thead th {\n",
       "        text-align: right;\n",
       "    }\n",
       "</style>\n",
       "<table border=\"1\" class=\"dataframe\">\n",
       "  <thead>\n",
       "    <tr style=\"text-align: right;\">\n",
       "      <th></th>\n",
       "      <th>rank_test_score</th>\n",
       "      <th>params</th>\n",
       "      <th>mean_test_score</th>\n",
       "    </tr>\n",
       "  </thead>\n",
       "  <tbody>\n",
       "    <tr>\n",
       "      <th>1</th>\n",
       "      <td>1</td>\n",
       "      <td>{'model': LogisticRegression(C=0.001, max_iter=10000, random_state=123), 'model__C': 0.001, 'model__max_iter': 10000, 'model__penalty': 'l2', 'model__random_state': 123}</td>\n",
       "      <td>0.835450</td>\n",
       "    </tr>\n",
       "    <tr>\n",
       "      <th>3</th>\n",
       "      <td>2</td>\n",
       "      <td>{'model': LogisticRegression(C=0.001, max_iter=10000, random_state=123), 'model__C': 0.01, 'model__max_iter': 10000, 'model__penalty': 'l2', 'model__random_state': 123}</td>\n",
       "      <td>0.823902</td>\n",
       "    </tr>\n",
       "    <tr>\n",
       "      <th>5</th>\n",
       "      <td>3</td>\n",
       "      <td>{'model': LogisticRegression(C=0.001, max_iter=10000, random_state=123), 'model__C': 0.1, 'model__max_iter': 10000, 'model__penalty': 'l2', 'model__random_state': 123}</td>\n",
       "      <td>0.817805</td>\n",
       "    </tr>\n",
       "    <tr>\n",
       "      <th>7</th>\n",
       "      <td>4</td>\n",
       "      <td>{'model': LogisticRegression(C=0.001, max_iter=10000, random_state=123), 'model__C': 1, 'model__max_iter': 10000, 'model__penalty': 'l2', 'model__random_state': 123}</td>\n",
       "      <td>0.811765</td>\n",
       "    </tr>\n",
       "    <tr>\n",
       "      <th>9</th>\n",
       "      <td>5</td>\n",
       "      <td>{'model': LogisticRegression(C=0.001, max_iter=10000, random_state=123), 'model__C': 10, 'model__max_iter': 10000, 'model__penalty': 'l2', 'model__random_state': 123}</td>\n",
       "      <td>0.810164</td>\n",
       "    </tr>\n",
       "    <tr>\n",
       "      <th>15</th>\n",
       "      <td>6</td>\n",
       "      <td>{'model': DecisionTreeClassifier(), 'model__criterion': 'gini', 'model__max_depth': 2, 'model__min_samples_leaf': 4, 'model__min_samples_split': 8, 'model__random_state': 123}</td>\n",
       "      <td>0.788766</td>\n",
       "    </tr>\n",
       "    <tr>\n",
       "      <th>10</th>\n",
       "      <td>6</td>\n",
       "      <td>{'model': DecisionTreeClassifier(), 'model__criterion': 'gini', 'model__max_depth': 2, 'model__min_samples_leaf': 2, 'model__min_samples_split': 2, 'model__random_state': 123}</td>\n",
       "      <td>0.788766</td>\n",
       "    </tr>\n",
       "    <tr>\n",
       "      <th>13</th>\n",
       "      <td>6</td>\n",
       "      <td>{'model': DecisionTreeClassifier(), 'model__criterion': 'gini', 'model__max_depth': 2, 'model__min_samples_leaf': 4, 'model__min_samples_split': 2, 'model__random_state': 123}</td>\n",
       "      <td>0.788766</td>\n",
       "    </tr>\n",
       "    <tr>\n",
       "      <th>11</th>\n",
       "      <td>6</td>\n",
       "      <td>{'model': DecisionTreeClassifier(), 'model__criterion': 'gini', 'model__max_depth': 2, 'model__min_samples_leaf': 2, 'model__min_samples_split': 4, 'model__random_state': 123}</td>\n",
       "      <td>0.788766</td>\n",
       "    </tr>\n",
       "    <tr>\n",
       "      <th>16</th>\n",
       "      <td>6</td>\n",
       "      <td>{'model': DecisionTreeClassifier(), 'model__criterion': 'gini', 'model__max_depth': 2, 'model__min_samples_leaf': 8, 'model__min_samples_split': 2, 'model__random_state': 123}</td>\n",
       "      <td>0.788766</td>\n",
       "    </tr>\n",
       "  </tbody>\n",
       "</table>\n",
       "</div>"
      ],
      "text/plain": [
       "    rank_test_score  \\\n",
       "1                 1   \n",
       "3                 2   \n",
       "5                 3   \n",
       "7                 4   \n",
       "9                 5   \n",
       "15                6   \n",
       "10                6   \n",
       "13                6   \n",
       "11                6   \n",
       "16                6   \n",
       "\n",
       "                                                                                                                                                                             params  \\\n",
       "1         {'model': LogisticRegression(C=0.001, max_iter=10000, random_state=123), 'model__C': 0.001, 'model__max_iter': 10000, 'model__penalty': 'l2', 'model__random_state': 123}   \n",
       "3          {'model': LogisticRegression(C=0.001, max_iter=10000, random_state=123), 'model__C': 0.01, 'model__max_iter': 10000, 'model__penalty': 'l2', 'model__random_state': 123}   \n",
       "5           {'model': LogisticRegression(C=0.001, max_iter=10000, random_state=123), 'model__C': 0.1, 'model__max_iter': 10000, 'model__penalty': 'l2', 'model__random_state': 123}   \n",
       "7             {'model': LogisticRegression(C=0.001, max_iter=10000, random_state=123), 'model__C': 1, 'model__max_iter': 10000, 'model__penalty': 'l2', 'model__random_state': 123}   \n",
       "9            {'model': LogisticRegression(C=0.001, max_iter=10000, random_state=123), 'model__C': 10, 'model__max_iter': 10000, 'model__penalty': 'l2', 'model__random_state': 123}   \n",
       "15  {'model': DecisionTreeClassifier(), 'model__criterion': 'gini', 'model__max_depth': 2, 'model__min_samples_leaf': 4, 'model__min_samples_split': 8, 'model__random_state': 123}   \n",
       "10  {'model': DecisionTreeClassifier(), 'model__criterion': 'gini', 'model__max_depth': 2, 'model__min_samples_leaf': 2, 'model__min_samples_split': 2, 'model__random_state': 123}   \n",
       "13  {'model': DecisionTreeClassifier(), 'model__criterion': 'gini', 'model__max_depth': 2, 'model__min_samples_leaf': 4, 'model__min_samples_split': 2, 'model__random_state': 123}   \n",
       "11  {'model': DecisionTreeClassifier(), 'model__criterion': 'gini', 'model__max_depth': 2, 'model__min_samples_leaf': 2, 'model__min_samples_split': 4, 'model__random_state': 123}   \n",
       "16  {'model': DecisionTreeClassifier(), 'model__criterion': 'gini', 'model__max_depth': 2, 'model__min_samples_leaf': 8, 'model__min_samples_split': 2, 'model__random_state': 123}   \n",
       "\n",
       "    mean_test_score  \n",
       "1          0.835450  \n",
       "3          0.823902  \n",
       "5          0.817805  \n",
       "7          0.811765  \n",
       "9          0.810164  \n",
       "15         0.788766  \n",
       "10         0.788766  \n",
       "13         0.788766  \n",
       "11         0.788766  \n",
       "16         0.788766  "
      ]
     },
     "execution_count": 55,
     "metadata": {},
     "output_type": "execute_result"
    }
   ],
   "source": [
    "# Expand column width to see full results\n",
    "pd.set_option('display.max_colwidth', None)\n",
    "\n",
    "# Store results in a dataframe by sorting mean_test_score in descending order\n",
    "fittedgrid1_results_df = pd.DataFrame(fittedgrid_1_bow_collapsed.cv_results_).sort_values('mean_test_score', ascending=False)\n",
    "\n",
    "# Extract ranking number, models with tuned hyperparameters, and corresponding test scores\n",
    "fittedgrid1_results = fittedgrid1_results_df[['rank_test_score', 'params', 'mean_test_score']].sort_values('mean_test_score', ascending=False)\n",
    "print('GridSearch_1 Cross_Validation Results')\n",
    "\n",
    "# Show top 10 cross validation results\n",
    "fittedgrid1_results.head(10) "
   ]
  },
  {
   "cell_type": "markdown",
   "id": "8b0cd6d1",
   "metadata": {},
   "source": [
    "#### GridSearch_1 Best Model Confusion Matrix"
   ]
  },
  {
   "cell_type": "code",
   "execution_count": 70,
   "id": "006f7f2b",
   "metadata": {},
   "outputs": [
    {
     "data": {
      "image/png": "[encoded data removed]",
      "text/plain": [
       "<Figure size 1000x600 with 2 Axes>"
      ]
     },
     "metadata": {},
     "output_type": "display_data"
    }
   ],
   "source": [
    "# Test data predictions \n",
    "y_pred_grid1 = fittedgrid_1_bow_collapsed.best_estimator_.predict(X_test_ct_bow)\n",
    "\n",
    "# Compute Confusion Matrix\n",
    "Confusion_Matrix_grid1 = confusion_matrix(y_test, y_pred_grid1)\n",
    "\n",
    "# Define the colors in hex format\n",
    "colors_hex = ['#767676', '#FF5A5F']\n",
    "\n",
    "# Create a colormap using ListedColormap\n",
    "custom_cmap = ListedColormap(colors_hex)\n",
    "\n",
    "# Determine plot size\n",
    "plt.figure(figsize=(10, 6))\n",
    "\n",
    "# Plot confusion matrix heatmap\n",
    "sns.heatmap(Confusion_Matrix_grid1, annot=True, cmap = custom_cmap, fmt='d')\n",
    "\n",
    "# Add labels\n",
    "plt.xlabel('Predicted')\n",
    "plt.ylabel('Actual')\n",
    "plt.title('Confusion Matrix GridSearch_1')\n",
    "\n",
    "plt.show()"
   ]
  },
  {
   "cell_type": "markdown",
   "id": "1febb7ff",
   "metadata": {},
   "source": [
    "#### GridSearch_1 Classification Report"
   ]
  },
  {
   "cell_type": "code",
   "execution_count": 71,
   "id": "5fe8f85b",
   "metadata": {},
   "outputs": [
    {
     "name": "stdout",
     "output_type": "stream",
     "text": [
      "              precision    recall  f1-score   support\n",
      "\n",
      "           0       0.87      0.72      0.79       496\n",
      "           1       0.82      0.92      0.87       686\n",
      "\n",
      "    accuracy                           0.84      1182\n",
      "   macro avg       0.84      0.82      0.83      1182\n",
      "weighted avg       0.84      0.84      0.83      1182\n",
      "\n"
     ]
    }
   ],
   "source": [
    "# Show best model test data classification report\n",
    "print(classification_report(y_test, y_pred_grid1))"
   ]
  },
  {
   "cell_type": "markdown",
   "id": "57df879c",
   "metadata": {},
   "source": [
    "### GridSearch_1 Result Summary"
   ]
  },
  {
   "cell_type": "markdown",
   "id": "d588218b",
   "metadata": {},
   "source": [
    "The main procedure we took for this first GridSearch is the same as we used in the previous notebook: We vectorized the dataset using two text vectorizer tools, then by comparing each cross-validation score with different combinations of hyperparameters on the models we selected, we managed to find the best model giving the highest F1 score. The result is significantly different than what we obtained with the previous dataset. Our best model selected is a **Logistic Regression** model with a penalty hyperparameter **'C'** equals to 0.001. After plotting a confusion matrix and extracting a classification report, we are able to summarize the following findings:\n",
    "\n",
    "- As our dataset is much smaller than the one we analyzed in the previous notebook, our best model prediction score on the testing data decreases to **86.75%** with a still high training score of **96.08%**. This indicates slight overfitting and might also be because we obtained a relatively small testing dataset.\n",
    "- Based on the confusion matrix, we observe that our model can predict outstanding listings with only **54** misclassified, but misclassified **139** less-outstanding listings as outstanding. Additionally, from the statistics in the classification report, we observe that our model achieved a **92%** recall score for outstanding listings but a **72%** recall score for less-outstanding listings.\n",
    "\n",
    "Our next step is to include **Random Forest Classifier** aiming at improving our model performance. Additionally, for better interpretability, we will utilize **n-grams** in our text vectorizing stage and remove single-word tokens."
   ]
  },
  {
   "cell_type": "markdown",
   "id": "659ecc65",
   "metadata": {},
   "source": [
    "***"
   ]
  },
  {
   "cell_type": "markdown",
   "id": "5202f5eb",
   "metadata": {},
   "source": [
    "## GridSearch_2 : Ngrams"
   ]
  },
  {
   "cell_type": "markdown",
   "id": "3e9bf677",
   "metadata": {},
   "source": [
    "After the first grid search, we obtained more focused parameter ranges and a currently best performed **Logistic Regression** model. Our next step is to aim for better interpretability and hopefully further enhance our model performance by adding n-grams to the vectorizer. N-grams are essentially pairs of consecutive words that help maintain the sequence and interpretability of the tokens. In our second grid search, we will use bigrams (2 words), trigrams (3 words), and remove single words for both the bag-of-words vectorizer and the TF-IDF vectorizer."
   ]
  },
  {
   "cell_type": "markdown",
   "id": "70d6cdf0",
   "metadata": {},
   "source": [
    "|    Models   |    Hyperparameters   |   Ranges/Options  |\n",
    "|:-------------:|:-------------:|:-------------:|\n",
    "|    **TF-IDF Vectorizer**     |     max_df   |    0.95     |\n",
    "|                  |     min_df  |    5       |\n",
    "|                  |     N_grams  |    bigrams, trigrams       |\n",
    "|       **Bag of Words CountVectorizer**           |     max_df  |    0.95       |\n",
    "|                  |     min_df  |    5       |\n",
    "|                  |     N_grams  |    bigrams, trigrams       |\n",
    "|    **Logistic Regression**     |    C     |    0.001, 0.01, 0.1, 1, 10    |\n",
    "|         |    penalty     |     'l2'     | \n",
    "|    **Decision Tree Classifier**     |     max_depth    |     2, 4, 8    |\n",
    "|                 |    min_samples_leaf     |     2, 4, 8    |\n",
    "|                 |     min_samples_split    |     2, 4, 8    |\n",
    "|                 |     criterion    |     'gini', 'entropy'    |\n",
    "|    **Random Forest Classifier**     |    n_estimators     |     5, 10, 15    |\n",
    "|                 |     max_depth    |     2, 4, 8    |\n",
    "|                 |     min_samples_leaf    |     2, 4, 8    |\n",
    "|                 |     criterion    |     'gini', 'entropy'    |"
   ]
  },
  {
   "cell_type": "markdown",
   "id": "c2844363",
   "metadata": {},
   "source": [
    "### Second GridSearch\n",
    "Run time: 6h 54min 51s"
   ]
  },
  {
   "cell_type": "code",
   "execution_count": 23,
   "id": "e1f739c3",
   "metadata": {},
   "outputs": [
    {
     "name": "stdout",
     "output_type": "stream",
     "text": [
      "Transforming training sample data .....\n",
      "Training sample data transformed.\n",
      "Loaded pre-trained models (Gridsearch_2)\n"
     ]
    }
   ],
   "source": [
    "# # Second GridSearch\n",
    "#-----------------------------------------------------------------------------------------------------------------#\n",
    "# Define column transformers with ngrams added\n",
    "ct_bow_ngrams = define_col_trans('ct_bow',  CountVectorizer(max_df=0.95, min_df=5, tokenizer=customized_tokenizer, ngram_range=(2, 3)))\n",
    "ct_tfidf_ngrams = define_col_trans('ct_tfidf',  TfidfVectorizer(max_df=0.95, min_df=5, tokenizer=customized_tokenizer, ngram_range=(2, 3)))\n",
    "#-----------------------------------------------------------------------------------------------------------------#\n",
    "# Fit and transform on training data using new vectorizers\n",
    "print('Transforming training sample data .....')\n",
    "X_train_ct_bow_ngrams = ct_bow_ngrams.fit_transform(X_train)\n",
    "X_train_ct_tfidf_ngrams= ct_tfidf_ngrams.fit_transform(X_train)\n",
    "print('Training sample data transformed.')\n",
    "#-----------------------------------------------------------------------------------------------------------------#\n",
    "\n",
    "# If one needs to retrain the model, set loading flag as False\n",
    "loaded_flag_2 = True\n",
    "\n",
    "if loaded_flag_2:\n",
    "    print('Loaded pre-trained models (Gridsearch_2)')\n",
    "    # Load saved fittedgrid\n",
    "    fittedgrid_2_bow_collapsed=joblib.load('data/fittedgrid_2_bow_collapsed.pkl')\n",
    "    fittedgrid_2_tfidf_collapsed=joblib.load('data/fittedgrid_2_tfidf_collapsed.pkl')\n",
    "else:\n",
    "\n",
    "    # Define base pipeline\n",
    "    pipeline_2 = Pipeline([\n",
    "        ('sparse_to_dense', FunctionTransformer(convert_to_array, accept_sparse=True)),\n",
    "        ('scaler', StandardScaler()),\n",
    "        ('model', LogisticRegression())\n",
    "    ])\n",
    "\n",
    "    # Instantiate Pipeline with grid of parameters\n",
    "    grid_param_2 = [\n",
    "        \n",
    "        # Logistic Regression\n",
    "        {\n",
    "            'model'              : [LogisticRegression()],\n",
    "            'model__C'           : [0.001, 0.01, 0.1, 1, 10], # C parameter to control penalty weights\n",
    "            'model__penalty'     : ['l2'], # Control penalty types, l1: Lasso, l2: Ridge\n",
    "            'model__random_state': [123], # Control gradient descent starting point\n",
    "            'model__max_iter'    : [10000] # Make sure model iterates\n",
    "        },\n",
    "\n",
    "        # Decision Tree Classifier\n",
    "        {\n",
    "            'model'                   : [DecisionTreeClassifier()],\n",
    "            'model__max_depth'        : [2, 4, 8], # Control number of tree splits/depth\n",
    "            'model__min_samples_leaf' : [2, 4, 8], # Control minimum number of samples at a leaf node\n",
    "            'model__min_samples_split': [2, 4, 8], # Control minimum number of samples split at a leaf node\n",
    "            'model__criterion'        : ['gini'], # Control the function to measure the quality of a split\n",
    "            'model__random_state'     : [123] # Control randomness of the estimator\n",
    "        },\n",
    "\n",
    "        # Random Forest\n",
    "        {\n",
    "            'model'                   : [RandomForestClassifier()],\n",
    "            'model__n_estimators'     : [5, 10, 15], # Control number of trees in the forest\n",
    "            'model__max_depth'        : [2, 4, 8], # Control number of tree splits/depth\n",
    "            'model__min_samples_leaf' : [2, 4, 8], # Control minimum number of samples at a leaf node\n",
    "            'model__criterion'        : ['gini', 'entropy'], # Control the function to measure the quality of a split\n",
    "            'model__random_state'     : [123] # Control randomness of the estimator  \n",
    "        }  \n",
    "    ]\n",
    "\n",
    "    # Use GridSearch\n",
    "    grid_2 = GridSearchCV(estimator=pipeline_2, # Define GridSearch estimator pipeline\n",
    "                         param_grid=grid_param_2, # Define parameter grid\n",
    "                         cv=5, # Define 5-fold cross-validation\n",
    "                         n_jobs=-2,\n",
    "                         scoring='f1') # Define GridSearch evaluation metric to be f1 score\n",
    "\n",
    "    # Fit the grid on training data\n",
    "    fittedgrid_2_bow_collapsed = grid_2.fit(X_train_ct_bow_ngrams, y_train)\n",
    "    fittedgrid_2_tfidf_collapsed = grid_2.fit(X_train_ct_tfidf_ngrams, y_train)\n",
    "    \n",
    "    # Save fittedgrid as pickle file\n",
    "    joblib.dump(fittedgrid_2_bow_collapsed, 'data/fittedgrid_2_bow_collapsed.pkl')\n",
    "    joblib.dump(fittedgrid_2_tfidf_collapsed, 'data/fittedgrid_2_tfidf_collapsed.pkl')"
   ]
  },
  {
   "cell_type": "markdown",
   "id": "646c745d",
   "metadata": {},
   "source": [
    "***"
   ]
  },
  {
   "cell_type": "markdown",
   "id": "99272604",
   "metadata": {},
   "source": [
    "### Second GridSearch Results"
   ]
  },
  {
   "cell_type": "code",
   "execution_count": 24,
   "id": "959fd0b2",
   "metadata": {},
   "outputs": [
    {
     "name": "stdout",
     "output_type": "stream",
     "text": [
      "\n",
      "--------------------\n",
      "\n",
      "Pipeline(steps=[('sparse_to_dense',\n",
      "                 FunctionTransformer(accept_sparse=True,\n",
      "                                     func=<function convert_to_array at 0x0000023E169A6340>)),\n",
      "                ('scaler', StandardScaler()),\n",
      "                ('model',\n",
      "                 LogisticRegression(C=0.001, max_iter=10000,\n",
      "                                    random_state=123))])\n",
      "\n",
      "--------------------\n",
      "\n",
      "Best Model Train Score (%): 100.0\n",
      "\n",
      "--------------------\n",
      "\n",
      "Best Model Test Score (%): 83.13\n"
     ]
    }
   ],
   "source": [
    "print('\\n--------------------\\n')\n",
    "print(fittedgrid_2_bow_collapsed.best_estimator_)\n",
    "\n",
    "# Print Crossvalidated Score\n",
    "print('\\n--------------------\\n')\n",
    "print(f'Best Model Train Score (%): {round(fittedgrid_2_bow_collapsed.score(X_train_ct_bow_ngrams, y_train)*100.00, 2)}') \n",
    "\n",
    "# Print Testing Score\n",
    "print('\\n--------------------\\n')\n",
    "\n",
    "# Vectorize on testing data to evaluate model actual performance\n",
    "X_test_ct_bow_ngrams = ct_bow_ngrams.transform(X_test)\n",
    "print(f'Best Model Test Score (%): {round(fittedgrid_2_bow_collapsed.score(X_test_ct_bow_ngrams, y_test)*100, 2)}') "
   ]
  },
  {
   "cell_type": "code",
   "execution_count": 25,
   "id": "ab674bab",
   "metadata": {
    "scrolled": true
   },
   "outputs": [
    {
     "name": "stdout",
     "output_type": "stream",
     "text": [
      "\n",
      "--------------------\n",
      "\n",
      "Pipeline(steps=[('sparse_to_dense',\n",
      "                 FunctionTransformer(accept_sparse=True,\n",
      "                                     func=<function convert_to_array at 0x0000023E169A6340>)),\n",
      "                ('scaler', StandardScaler()),\n",
      "                ('model',\n",
      "                 LogisticRegression(C=0.001, max_iter=10000,\n",
      "                                    random_state=123))])\n",
      "\n",
      "--------------------\n",
      "\n",
      "Best Model Train Score (%): 100.0\n",
      "\n",
      "--------------------\n",
      "\n",
      "Best Model Test Score (%): 83.69\n"
     ]
    }
   ],
   "source": [
    "print('\\n--------------------\\n')\n",
    "print(fittedgrid_2_tfidf_collapsed.best_estimator_)\n",
    "\n",
    "# Print Score\n",
    "print('\\n--------------------\\n')\n",
    "print(f'Best Model Train Score (%): {round(fittedgrid_2_tfidf_collapsed.score(X_train_ct_tfidf_ngrams, y_train)*100.00, 2)}') \n",
    "\n",
    "# Print Testing Score\n",
    "print('\\n--------------------\\n')\n",
    "\n",
    "# Vectorize on testing data to evaluate model actual performance\n",
    "X_test_ct_tfidf_ngrams = ct_tfidf_ngrams.transform(X_test)\n",
    "print(f'Best Model Test Score (%): {round(fittedgrid_2_tfidf_collapsed.score(X_test_ct_tfidf_ngrams, y_test)*100, 2)}') "
   ]
  },
  {
   "cell_type": "markdown",
   "id": "7089d72f",
   "metadata": {},
   "source": [
    "#### Top 10 models with best F1 scores resulted with TF-IDF transformed data"
   ]
  },
  {
   "cell_type": "code",
   "execution_count": 106,
   "id": "e7638dd5",
   "metadata": {},
   "outputs": [
    {
     "name": "stdout",
     "output_type": "stream",
     "text": [
      "GridSearch_2 Cross_Validation Results\n"
     ]
    },
    {
     "data": {
      "text/html": [
       "<div>\n",
       "<style scoped>\n",
       "    .dataframe tbody tr th:only-of-type {\n",
       "        vertical-align: middle;\n",
       "    }\n",
       "\n",
       "    .dataframe tbody tr th {\n",
       "        vertical-align: top;\n",
       "    }\n",
       "\n",
       "    .dataframe thead th {\n",
       "        text-align: right;\n",
       "    }\n",
       "</style>\n",
       "<table border=\"1\" class=\"dataframe\">\n",
       "  <thead>\n",
       "    <tr style=\"text-align: right;\">\n",
       "      <th></th>\n",
       "      <th>rank_test_score</th>\n",
       "      <th>params</th>\n",
       "      <th>mean_test_score</th>\n",
       "    </tr>\n",
       "  </thead>\n",
       "  <tbody>\n",
       "    <tr>\n",
       "      <th>1</th>\n",
       "      <td>1</td>\n",
       "      <td>{'model': LogisticRegression(C=0.001, max_iter=10000, random_state=123), 'model__C': 0.001, 'model__max_iter': 10000, 'model__penalty': 'l2', 'model__random_state': 123}</td>\n",
       "      <td>0.835450</td>\n",
       "    </tr>\n",
       "    <tr>\n",
       "      <th>3</th>\n",
       "      <td>2</td>\n",
       "      <td>{'model': LogisticRegression(C=0.001, max_iter=10000, random_state=123), 'model__C': 0.01, 'model__max_iter': 10000, 'model__penalty': 'l2', 'model__random_state': 123}</td>\n",
       "      <td>0.823902</td>\n",
       "    </tr>\n",
       "    <tr>\n",
       "      <th>5</th>\n",
       "      <td>3</td>\n",
       "      <td>{'model': LogisticRegression(C=0.001, max_iter=10000, random_state=123), 'model__C': 0.1, 'model__max_iter': 10000, 'model__penalty': 'l2', 'model__random_state': 123}</td>\n",
       "      <td>0.817805</td>\n",
       "    </tr>\n",
       "    <tr>\n",
       "      <th>7</th>\n",
       "      <td>4</td>\n",
       "      <td>{'model': LogisticRegression(C=0.001, max_iter=10000, random_state=123), 'model__C': 1, 'model__max_iter': 10000, 'model__penalty': 'l2', 'model__random_state': 123}</td>\n",
       "      <td>0.811765</td>\n",
       "    </tr>\n",
       "    <tr>\n",
       "      <th>9</th>\n",
       "      <td>5</td>\n",
       "      <td>{'model': LogisticRegression(C=0.001, max_iter=10000, random_state=123), 'model__C': 10, 'model__max_iter': 10000, 'model__penalty': 'l2', 'model__random_state': 123}</td>\n",
       "      <td>0.810164</td>\n",
       "    </tr>\n",
       "    <tr>\n",
       "      <th>15</th>\n",
       "      <td>6</td>\n",
       "      <td>{'model': DecisionTreeClassifier(), 'model__criterion': 'gini', 'model__max_depth': 2, 'model__min_samples_leaf': 4, 'model__min_samples_split': 8, 'model__random_state': 123}</td>\n",
       "      <td>0.788766</td>\n",
       "    </tr>\n",
       "    <tr>\n",
       "      <th>10</th>\n",
       "      <td>6</td>\n",
       "      <td>{'model': DecisionTreeClassifier(), 'model__criterion': 'gini', 'model__max_depth': 2, 'model__min_samples_leaf': 2, 'model__min_samples_split': 2, 'model__random_state': 123}</td>\n",
       "      <td>0.788766</td>\n",
       "    </tr>\n",
       "    <tr>\n",
       "      <th>13</th>\n",
       "      <td>6</td>\n",
       "      <td>{'model': DecisionTreeClassifier(), 'model__criterion': 'gini', 'model__max_depth': 2, 'model__min_samples_leaf': 4, 'model__min_samples_split': 2, 'model__random_state': 123}</td>\n",
       "      <td>0.788766</td>\n",
       "    </tr>\n",
       "    <tr>\n",
       "      <th>11</th>\n",
       "      <td>6</td>\n",
       "      <td>{'model': DecisionTreeClassifier(), 'model__criterion': 'gini', 'model__max_depth': 2, 'model__min_samples_leaf': 2, 'model__min_samples_split': 4, 'model__random_state': 123}</td>\n",
       "      <td>0.788766</td>\n",
       "    </tr>\n",
       "    <tr>\n",
       "      <th>16</th>\n",
       "      <td>6</td>\n",
       "      <td>{'model': DecisionTreeClassifier(), 'model__criterion': 'gini', 'model__max_depth': 2, 'model__min_samples_leaf': 8, 'model__min_samples_split': 2, 'model__random_state': 123}</td>\n",
       "      <td>0.788766</td>\n",
       "    </tr>\n",
       "  </tbody>\n",
       "</table>\n",
       "</div>"
      ],
      "text/plain": [
       "    rank_test_score  \\\n",
       "1                 1   \n",
       "3                 2   \n",
       "5                 3   \n",
       "7                 4   \n",
       "9                 5   \n",
       "15                6   \n",
       "10                6   \n",
       "13                6   \n",
       "11                6   \n",
       "16                6   \n",
       "\n",
       "                                                                                                                                                                             params  \\\n",
       "1         {'model': LogisticRegression(C=0.001, max_iter=10000, random_state=123), 'model__C': 0.001, 'model__max_iter': 10000, 'model__penalty': 'l2', 'model__random_state': 123}   \n",
       "3          {'model': LogisticRegression(C=0.001, max_iter=10000, random_state=123), 'model__C': 0.01, 'model__max_iter': 10000, 'model__penalty': 'l2', 'model__random_state': 123}   \n",
       "5           {'model': LogisticRegression(C=0.001, max_iter=10000, random_state=123), 'model__C': 0.1, 'model__max_iter': 10000, 'model__penalty': 'l2', 'model__random_state': 123}   \n",
       "7             {'model': LogisticRegression(C=0.001, max_iter=10000, random_state=123), 'model__C': 1, 'model__max_iter': 10000, 'model__penalty': 'l2', 'model__random_state': 123}   \n",
       "9            {'model': LogisticRegression(C=0.001, max_iter=10000, random_state=123), 'model__C': 10, 'model__max_iter': 10000, 'model__penalty': 'l2', 'model__random_state': 123}   \n",
       "15  {'model': DecisionTreeClassifier(), 'model__criterion': 'gini', 'model__max_depth': 2, 'model__min_samples_leaf': 4, 'model__min_samples_split': 8, 'model__random_state': 123}   \n",
       "10  {'model': DecisionTreeClassifier(), 'model__criterion': 'gini', 'model__max_depth': 2, 'model__min_samples_leaf': 2, 'model__min_samples_split': 2, 'model__random_state': 123}   \n",
       "13  {'model': DecisionTreeClassifier(), 'model__criterion': 'gini', 'model__max_depth': 2, 'model__min_samples_leaf': 4, 'model__min_samples_split': 2, 'model__random_state': 123}   \n",
       "11  {'model': DecisionTreeClassifier(), 'model__criterion': 'gini', 'model__max_depth': 2, 'model__min_samples_leaf': 2, 'model__min_samples_split': 4, 'model__random_state': 123}   \n",
       "16  {'model': DecisionTreeClassifier(), 'model__criterion': 'gini', 'model__max_depth': 2, 'model__min_samples_leaf': 8, 'model__min_samples_split': 2, 'model__random_state': 123}   \n",
       "\n",
       "    mean_test_score  \n",
       "1          0.835450  \n",
       "3          0.823902  \n",
       "5          0.817805  \n",
       "7          0.811765  \n",
       "9          0.810164  \n",
       "15         0.788766  \n",
       "10         0.788766  \n",
       "13         0.788766  \n",
       "11         0.788766  \n",
       "16         0.788766  "
      ]
     },
     "execution_count": 106,
     "metadata": {},
     "output_type": "execute_result"
    }
   ],
   "source": [
    "# Expand column width to see full results\n",
    "pd.set_option('display.max_colwidth', None)\n",
    "\n",
    "# Store results in a dataframe by sorting mean_test_score in descending order\n",
    "fittedgrid2_results_df = pd.DataFrame(fittedgrid_2_tfidf_collapsed.cv_results_).sort_values('mean_test_score', ascending=False)\n",
    "\n",
    "# Extract ranking number, models with tuned hyperparameters, and corresponding test scores\n",
    "fittedgrid2_results = fittedgrid2_results_df[['rank_test_score', 'params', 'mean_test_score']].sort_values('mean_test_score', ascending=False)\n",
    "print('GridSearch_2 Cross_Validation Results')\n",
    "\n",
    "# Show top 10 cross validation results\n",
    "fittedgrid1_results.head(10) "
   ]
  },
  {
   "cell_type": "markdown",
   "id": "99de68b4",
   "metadata": {},
   "source": [
    "#### GridSearch_2 Best Model Confusion Matrix"
   ]
  },
  {
   "cell_type": "code",
   "execution_count": 107,
   "id": "d27f264d",
   "metadata": {},
   "outputs": [
    {
     "data": {
      "image/png": "[encoded data removed]",
      "text/plain": [
       "<Figure size 1000x600 with 2 Axes>"
      ]
     },
     "metadata": {},
     "output_type": "display_data"
    }
   ],
   "source": [
    "# Test data predictions \n",
    "y_pred_grid2 = fittedgrid_2_tfidf_collapsed.best_estimator_.predict(X_test_ct_tfidf_ngrams)\n",
    "\n",
    "# Compute Confusion Matrix\n",
    "Confusion_Matrix_grid2 = confusion_matrix(y_test, y_pred_grid2)\n",
    "\n",
    "# Define the colors in hex format\n",
    "colors_hex = ['#767676', '#FF5A5F']\n",
    "\n",
    "# Create a colormap using ListedColormap\n",
    "custom_cmap = ListedColormap(colors_hex)\n",
    "\n",
    "# Determine plot size\n",
    "plt.figure(figsize=(10, 6))\n",
    "\n",
    "# Plot confusion matrix heatmap\n",
    "sns.heatmap(Confusion_Matrix_grid2, annot=True, cmap = custom_cmap, fmt='d')\n",
    "\n",
    "# Add labels\n",
    "plt.xlabel('Predicted')\n",
    "plt.ylabel('Actual')\n",
    "plt.title('Confusion Matrix GridSearch_2')\n",
    "\n",
    "plt.show()"
   ]
  },
  {
   "cell_type": "markdown",
   "id": "b88a83c7",
   "metadata": {},
   "source": [
    "#### GridSearch_2 Classification Report"
   ]
  },
  {
   "cell_type": "code",
   "execution_count": 76,
   "id": "8742a0c8",
   "metadata": {},
   "outputs": [
    {
     "name": "stdout",
     "output_type": "stream",
     "text": [
      "              precision    recall  f1-score   support\n",
      "\n",
      "           0       0.84      0.63      0.72       496\n",
      "           1       0.77      0.91      0.84       686\n",
      "\n",
      "    accuracy                           0.79      1182\n",
      "   macro avg       0.81      0.77      0.78      1182\n",
      "weighted avg       0.80      0.79      0.79      1182\n",
      "\n"
     ]
    }
   ],
   "source": [
    "# Show best model test data classification report\n",
    "print(classification_report(y_test, y_pred_grid2))"
   ]
  },
  {
   "cell_type": "markdown",
   "id": "814d8cc0",
   "metadata": {},
   "source": [
    "### GridSearch_2 Result Summary"
   ]
  },
  {
   "cell_type": "markdown",
   "id": "7791b1df",
   "metadata": {},
   "source": [
    "The results from the second GridSearch provided us with some interesting insights. After utilizing n-grams in the text vectorizing stage, our model seems to underperform compared to the best model selected from the previous GridSearch. Our selected model is still the **Logistic Regression model** with a penalty hyperparameter **'C'** equal to **0.001**. After plotting the confusion matrix and extracting statistics from the classification report, we are able to derive the following findings:\n",
    "\n",
    "- During this GridSearch, we utilized n-grams for better model interpretability. However, the current best model underperformed with an F1 score of **83.69** compared to the model from GridSearch_1 (**86.75%**). Considering that the model itself and its corresponding hyperparameters are all the same, we conclude that including n-grams confuses the model, possibly due to the presence of massive blocks of text in each data point. Furthermore, we observe that the training score is **100%** suggesting strong evidence of **overfitting**.\n",
    "- Based on the classification report, we see that the **recall** score for predicting **outstanding** listings remains pretty good at **91%**, while the recall score for predicting **less-outstanding** listings decreases to **63%**. This indicates that it becomes more difficult for our model to decide if a listing is less-outstanding (Overall Star Rating < 4.8). This can be further seen in the confusion matrix. We misclassified only **60** less-outstanding listings as outstanding, which is about the same performance compared to the previous model. However, we misclassified **184** less-outstanding listings as outstanding. This further proves that condensed reviews contain a mixture of feedback from guests, and we need more data for our model to successfully capture specific indicators."
   ]
  },
  {
   "cell_type": "markdown",
   "id": "28dd8920",
   "metadata": {},
   "source": [
    "***"
   ]
  },
  {
   "cell_type": "markdown",
   "id": "0b518916",
   "metadata": {},
   "source": [
    "## Summary"
   ]
  },
  {
   "cell_type": "markdown",
   "id": "68e5c10e",
   "metadata": {},
   "source": [
    "We eventually conducted two grid searches and obtained the following modeling results. The results, including the selected model hyperparameters, will be presented in a dataframe below.\n",
    "\n",
    "Our next step is to use our current findings including fine-tuned model parameter ranges and model selections to perform more specific analysis on what could potentially be the indicators for outstanding listings defined on different subratings. Furthermore, based on the analsyis in this notebook, we decide to proceed with the uncollapsed dataset for analysis since it provides more datapoints hence helps our model to make predictions and prevent overfitting. "
   ]
  },
  {
   "cell_type": "code",
   "execution_count": 81,
   "id": "53beb03d",
   "metadata": {},
   "outputs": [],
   "source": [
    "# Review Collapsed Reviews Modelling Results\n",
    "fittedgrid_results_collapsed = [['Dummy','Dummy Classifier' ,'','', round(accuracy_score(y_test, y_predict_d)*100, 2)],\n",
    "                   ['GridSearch_1_General_Sweep', \n",
    "                    fittedgrid_1_tfidf_collapsed.best_estimator_, \n",
    "                    round(fittedgrid_1_bow_collapsed.score(X_train_ct_bow, y_train)*100.00, 2),\n",
    "                    round(fittedgrid_1_tfidf_collapsed.score(X_train_ct_tfidf, y_train)*100.00, 2), \n",
    "                    round(fittedgrid_1_bow_collapsed.score(X_test_ct_bow, y_test)*100.00,2)],\n",
    "                   ['GridSearch_2_N_grams', \n",
    "                    fittedgrid_2_tfidf_collapsed.best_estimator_, \n",
    "                    round(fittedgrid_2_bow_collapsed.score(X_train_ct_bow_ngrams, y_train)*100.00, 2), \n",
    "                    round(fittedgrid_2_tfidf_collapsed.score(X_train_ct_tfidf_ngrams, y_train)*100.00, 2),\n",
    "                    round(fittedgrid_2_tfidf_collapsed.score(X_test_ct_tfidf_ngrams, y_test)*100.00,2)]]\n",
    "\n",
    "\n",
    "\n",
    "fittedgrid_df_collapsed = pd.DataFrame(fittedgrid_results_collapsed, columns = ['Modelling Title', \n",
    "                                                                                    'Best_Estimator', \n",
    "                                                                                    'Best_Bow_Transformed_Training_Score', \n",
    "                                                                                    'Best_TF_IDF_Transformed_Training_Score',\n",
    "                                                                                    'Best_TF_IDF_Transformed_Testing_Score'])"
   ]
  },
  {
   "cell_type": "code",
   "execution_count": 101,
   "id": "b4a011c4",
   "metadata": {},
   "outputs": [
    {
     "data": {
      "text/html": [
       "<div>\n",
       "<style scoped>\n",
       "    .dataframe tbody tr th:only-of-type {\n",
       "        vertical-align: middle;\n",
       "    }\n",
       "\n",
       "    .dataframe tbody tr th {\n",
       "        vertical-align: top;\n",
       "    }\n",
       "\n",
       "    .dataframe thead th {\n",
       "        text-align: right;\n",
       "    }\n",
       "</style>\n",
       "<table border=\"1\" class=\"dataframe\">\n",
       "  <thead>\n",
       "    <tr style=\"text-align: right;\">\n",
       "      <th></th>\n",
       "      <th>Modelling Title</th>\n",
       "      <th>Best_Estimator</th>\n",
       "      <th>Best_Bow_Transformed_Training_Score</th>\n",
       "      <th>Best_TF_IDF_Transformed_Training_Score</th>\n",
       "      <th>Best_TF_IDF_Transformed_Testing_Score</th>\n",
       "    </tr>\n",
       "  </thead>\n",
       "  <tbody>\n",
       "    <tr>\n",
       "      <th>0</th>\n",
       "      <td>Dummy</td>\n",
       "      <td>Dummy Classifier</td>\n",
       "      <td></td>\n",
       "      <td></td>\n",
       "      <td>58.04</td>\n",
       "    </tr>\n",
       "    <tr>\n",
       "      <th>1</th>\n",
       "      <td>GridSearch_1_General_Sweep</td>\n",
       "      <td>(FunctionTransformer(accept_sparse=True,\\n                    func=&lt;function convert_to_array at 0x0000023E169A6340&gt;), StandardScaler(), LogisticRegression(C=0.001, max_iter=10000, random_state=123))</td>\n",
       "      <td>96.08</td>\n",
       "      <td>99.57</td>\n",
       "      <td>86.75</td>\n",
       "    </tr>\n",
       "    <tr>\n",
       "      <th>2</th>\n",
       "      <td>GridSearch_2_N_grams</td>\n",
       "      <td>(FunctionTransformer(accept_sparse=True,\\n                    func=&lt;function convert_to_array at 0x0000023E169A6340&gt;), StandardScaler(), LogisticRegression(C=0.001, max_iter=10000, random_state=123))</td>\n",
       "      <td>100.0</td>\n",
       "      <td>100.0</td>\n",
       "      <td>83.69</td>\n",
       "    </tr>\n",
       "  </tbody>\n",
       "</table>\n",
       "</div>"
      ],
      "text/plain": [
       "              Modelling Title  \\\n",
       "0                       Dummy   \n",
       "1  GridSearch_1_General_Sweep   \n",
       "2        GridSearch_2_N_grams   \n",
       "\n",
       "                                                                                                                                                                                            Best_Estimator  \\\n",
       "0                                                                                                                                                                                         Dummy Classifier   \n",
       "1  (FunctionTransformer(accept_sparse=True,\\n                    func=<function convert_to_array at 0x0000023E169A6340>), StandardScaler(), LogisticRegression(C=0.001, max_iter=10000, random_state=123))   \n",
       "2  (FunctionTransformer(accept_sparse=True,\\n                    func=<function convert_to_array at 0x0000023E169A6340>), StandardScaler(), LogisticRegression(C=0.001, max_iter=10000, random_state=123))   \n",
       "\n",
       "  Best_Bow_Transformed_Training_Score Best_TF_IDF_Transformed_Training_Score  \\\n",
       "0                                                                              \n",
       "1                               96.08                                  99.57   \n",
       "2                               100.0                                  100.0   \n",
       "\n",
       "   Best_TF_IDF_Transformed_Testing_Score  \n",
       "0                                  58.04  \n",
       "1                                  86.75  \n",
       "2                                  83.69  "
      ]
     },
     "execution_count": 101,
     "metadata": {},
     "output_type": "execute_result"
    }
   ],
   "source": [
    "# Show all estimator parameters\n",
    "pd.set_option('display.max_colwidth', 1000)\n",
    "\n",
    "# Show dataframe\n",
    "fittedgrid_df_collapsed"
   ]
  }
 ],
 "metadata": {
  "kernelspec": {
   "display_name": "clcapstone",
   "language": "python",
   "name": "clcapstone"
  },
  "language_info": {
   "codemirror_mode": {
    "name": "ipython",
    "version": 3
   },
   "file_extension": ".py",
   "mimetype": "text/x-python",
   "name": "python",
   "nbconvert_exporter": "python",
   "pygments_lexer": "ipython3",
   "version": "3.11.5"
  }
 },
 "nbformat": 4,
 "nbformat_minor": 5
}
