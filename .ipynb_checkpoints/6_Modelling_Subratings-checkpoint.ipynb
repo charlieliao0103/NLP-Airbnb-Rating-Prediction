{
 "cells": [
  {
   "cell_type": "markdown",
   "id": "aa145f96",
   "metadata": {},
   "source": [
    "# Predicting Star Ratings of Edinburgh Airbnbs through Review Texts Analysis"
   ]
  },
  {
   "cell_type": "markdown",
   "id": "1eb3641d",
   "metadata": {},
   "source": [
    "# Notebook 6: Modelling_Subratings"
   ]
  },
  {
   "cell_type": "markdown",
   "id": "5d0fa0de",
   "metadata": {},
   "source": [
    "# Introduction"
   ]
  },
  {
   "cell_type": "markdown",
   "id": "2626d30d",
   "metadata": {},
   "source": [
    "In this notebook, we will use our current findings on the analysis for **Overall Ratings** on all Edinburgh Airbnb listings and change our focus onto more specfic subratings. We decided to use the uncollapsed review dataset for analysis since it contains sufficient data for us to train our models and make insightful predictions. We aim to extract more specific and insightful word features when we change our target variable. The workflow for this notebook is as follows:\n",
    "\n",
    "- Import pre-defined functions from previous notebooks. For more specific information about these functions, please view **'my_function.py'**.\n",
    "- Modeling set up for subratings including defining different target variables, perform train-test-split on different group of variables, and plot current taraget variable distributions for all selected target variables. "
   ]
  },
  {
   "cell_type": "markdown",
   "id": "01ade660",
   "metadata": {},
   "source": [
    "***"
   ]
  },
  {
   "cell_type": "markdown",
   "id": "f4705edb",
   "metadata": {},
   "source": [
    "# Table of Contents"
   ]
  },
  {
   "cell_type": "markdown",
   "id": "372f0775",
   "metadata": {},
   "source": [
    "***"
   ]
  },
  {
   "cell_type": "markdown",
   "id": "9497aff3",
   "metadata": {},
   "source": [
    "## Import Libraries <a id='a1'></a>"
   ]
  },
  {
   "cell_type": "code",
   "execution_count": 1,
   "id": "c5eff6a0",
   "metadata": {},
   "outputs": [
    {
     "name": "stderr",
     "output_type": "stream",
     "text": [
      "[nltk_data] Downloading package stopwords to\n",
      "[nltk_data]     C:\\Users\\12276\\AppData\\Roaming\\nltk_data...\n",
      "[nltk_data]   Package stopwords is already up-to-date!\n",
      "[nltk_data] Downloading package wordnet to\n",
      "[nltk_data]     C:\\Users\\12276\\AppData\\Roaming\\nltk_data...\n",
      "[nltk_data]   Package wordnet is already up-to-date!\n"
     ]
    }
   ],
   "source": [
    "# Main Libraries\n",
    "import numpy as np\n",
    "import pandas as pd\n",
    "import matplotlib.pyplot as plt\n",
    "import seaborn as sns\n",
    "\n",
    "# Scipy Library for sparse  matrix\n",
    "from scipy.sparse import csr_matrix\n",
    "\n",
    "# NLP Libraries\n",
    "import nltk\n",
    "import re\n",
    "import string\n",
    "import html\n",
    "import contractions\n",
    "import langid\n",
    "from nltk.tokenize import RegexpTokenizer\n",
    "from nltk.stem import WordNetLemmatizer\n",
    "from nltk.corpus import stopwords\n",
    "from langid.langid import LanguageIdentifier\n",
    "\n",
    "# Download from nltk\n",
    "nltk.download('stopwords')\n",
    "nltk.download('wordnet')\n",
    "\n",
    "# Feature Extraction Libraries\n",
    "from sklearn.feature_extraction.text import TfidfVectorizer\n",
    "from sklearn.feature_extraction.text import CountVectorizer\n",
    "\n",
    "# Dummy Classifer \n",
    "from sklearn.dummy import DummyClassifier\n",
    "\n",
    "# Modelling Libraries\n",
    "from sklearn.utils import resample\n",
    "from sklearn.model_selection import train_test_split\n",
    "from sklearn.linear_model import LogisticRegression\n",
    "from sklearn.neighbors import KNeighborsClassifier\n",
    "from sklearn.tree import DecisionTreeClassifier\n",
    "from sklearn.ensemble import RandomForestClassifier\n",
    "from sklearn.preprocessing import MinMaxScaler, StandardScaler, FunctionTransformer\n",
    "from sklearn.compose import ColumnTransformer\n",
    "from sklearn.pipeline import Pipeline\n",
    "from sklearn.model_selection import GridSearchCV\n",
    "\n",
    "# Evaluation Libraries\n",
    "from sklearn.metrics import confusion_matrix, ConfusionMatrixDisplay\n",
    "from sklearn.metrics import classification_report\n",
    "from sklearn.metrics import precision_score\n",
    "from sklearn.metrics import recall_score\n",
    "from sklearn.metrics import f1_score\n",
    "from sklearn.metrics import accuracy_score\n",
    "\n",
    "import joblib\n",
    "import pickle as pk"
   ]
  },
  {
   "cell_type": "markdown",
   "id": "01ab39dc",
   "metadata": {},
   "source": [
    "#### Import functions from local"
   ]
  },
  {
   "cell_type": "code",
   "execution_count": 2,
   "id": "4981d274",
   "metadata": {},
   "outputs": [
    {
     "name": "stderr",
     "output_type": "stream",
     "text": [
      "[nltk_data] Downloading package stopwords to\n",
      "[nltk_data]     C:\\Users\\12276\\AppData\\Roaming\\nltk_data...\n",
      "[nltk_data]   Package stopwords is already up-to-date!\n",
      "[nltk_data] Downloading package wordnet to\n",
      "[nltk_data]     C:\\Users\\12276\\AppData\\Roaming\\nltk_data...\n",
      "[nltk_data]   Package wordnet is already up-to-date!\n"
     ]
    }
   ],
   "source": [
    "%run -i my_function.py"
   ]
  },
  {
   "cell_type": "markdown",
   "id": "00db98bf",
   "metadata": {},
   "source": [
    "#### Loading Relevant Data"
   ]
  },
  {
   "cell_type": "code",
   "execution_count": 3,
   "id": "aae965a1",
   "metadata": {},
   "outputs": [],
   "source": [
    "# Load uncollapsed review data\n",
    "df_reviews_by_listing= joblib.load('data/df_reviews_by_listing.pkl')"
   ]
  },
  {
   "cell_type": "markdown",
   "id": "9834226c",
   "metadata": {},
   "source": [
    "#### Ignore userwarnings"
   ]
  },
  {
   "cell_type": "code",
   "execution_count": 4,
   "id": "e3b6a4bc",
   "metadata": {},
   "outputs": [],
   "source": [
    "import warnings\n",
    "\n",
    "# Ignore UserWarning\n",
    "warnings.filterwarnings('ignore', category=UserWarning)\n",
    "warnings.filterwarnings('ignore', category=FutureWarning)"
   ]
  },
  {
   "cell_type": "markdown",
   "id": "c6581506",
   "metadata": {},
   "source": [
    "***"
   ]
  },
  {
   "cell_type": "markdown",
   "id": "5b9cb17f",
   "metadata": {},
   "source": [
    "# Modelling Set up for Subratings<a id='a1'></a>"
   ]
  },
  {
   "cell_type": "markdown",
   "id": "8a1a4d59",
   "metadata": {},
   "source": [
    "## Split the variables <a id='a3.1'></a>"
   ]
  },
  {
   "cell_type": "markdown",
   "id": "a669293d",
   "metadata": {},
   "source": [
    "We need to split the variables into dependent and independent variables before we start fitting the model. The target variable will be the sentiment scores. We will focus on the overall sentiment score and attempt to further analyse the reviews with the other sub-rating transformed sentiment scores. Amnong six different subratings, we decide to perform analysis on 'Cleanliness', 'Checkin', 'Communication', and 'Location' subratings sentiment scores. Note that the scores are transformmed using the threshold we defined (4.8) based on the overall rating distribution."
   ]
  },
  {
   "cell_type": "code",
   "execution_count": 5,
   "id": "c43258f2",
   "metadata": {},
   "outputs": [],
   "source": [
    "# Define X for general feature dataset\n",
    "X = df_reviews_by_listing.drop(['listing_id',\n",
    "                                'Overall_sentiment',\n",
    "                               'accuracy_sentiment',\n",
    "                               'cleanliness_sentiment',\n",
    "                               'checkin_sentiment',\n",
    "                               'communication_sentiment',\n",
    "                               'location_sentiment',\n",
    "                               'value_sentiment'], axis=1)\n",
    "\n",
    "# Define different target variables\n",
    "y_cleanliness = df_reviews_by_listing['cleanliness_sentiment']\n",
    "y_checkin = df_reviews_by_listing['checkin_sentiment']\n",
    "y_communication = df_reviews_by_listing['communication_sentiment']\n",
    "y_location = df_reviews_by_listing['location_sentiment']\n",
    "\n",
    "# Create dataframe contains all target variables\n",
    "df_y = pd.concat([y_checkin, y_cleanliness, y_communication, y_location], axis=1)"
   ]
  },
  {
   "cell_type": "markdown",
   "id": "3c9b4732",
   "metadata": {},
   "source": [
    "The dependent variable stored as **X** contains all cleaned listing related numerical data as well as a column that contains the guest review data.\n",
    "\n",
    "The independent variable stored as **y_subsentiments** contains the cnverted sentiments based on overall rating criteria **4.8**:\n",
    "- 1 was denoted by corresponding sub-rating score > 4.8\n",
    "- 0 was denoted by corresponding sub-rating score < 4.8"
   ]
  },
  {
   "cell_type": "markdown",
   "id": "17428dc3",
   "metadata": {},
   "source": [
    "***"
   ]
  },
  {
   "cell_type": "markdown",
   "id": "279c2127",
   "metadata": {},
   "source": [
    "## Target Variable Distribution <a id='a3.2'></a>"
   ]
  },
  {
   "cell_type": "code",
   "execution_count": 6,
   "id": "89f748b1",
   "metadata": {
    "scrolled": false
   },
   "outputs": [
    {
     "data": {
      "image/png": "[encoded data removed]",
      "text/plain": [
       "<Figure size 1000x600 with 1 Axes>"
      ]
     },
     "metadata": {},
     "output_type": "display_data"
    }
   ],
   "source": [
    "# Create lists contain sentiment types and proportion of positive and negative sentiments\n",
    "rating_type=[]\n",
    "sentiment=[]\n",
    "proportion=[]\n",
    "\n",
    "for i in df_y.columns:\n",
    "    new_name=i.replace('_sentiment', '')\n",
    "    df_y = df_y.rename(columns={i: new_name})\n",
    "\n",
    "for i in df_y.columns:\n",
    "    rating_type.extend([i,i])\n",
    "    sentiment.extend([0,1])\n",
    "    proportion.extend([\n",
    "        (1-df_y.mean()[i])*100,\n",
    "        (df_y.mean()[i])*100\n",
    "    ])\n",
    "\n",
    "# Create sentiment proportion dataframe\n",
    "df_sentiment_proportions =pd.DataFrame({'Rating_Type': rating_type, 'Sentiment': sentiment, 'Proportion': proportion})\n",
    "\n",
    "# Determine figure size\n",
    "plt.figure(figsize=(10, 6))\n",
    "\n",
    "# Plot two bars per sentiment type \n",
    "ax=sns.barplot(data=df_sentiment_proportions, x='Rating_Type', y='Proportion', hue='Sentiment', palette=['grey', '#FF5A5F'])\n",
    "\n",
    "# Add annotation\n",
    "for p in ax.patches:\n",
    "    height=p.get_height()\n",
    "    ax.annotate(f'{height:.0f}%', (p.get_x() + p.get_width() / 2., p.get_height()), ha = 'center', va = 'center', xytext = (0,4), textcoords = 'offset points')\n",
    "\n",
    "# Add labels and legends\n",
    "plt.title('Current Target Variables Distribution for Different Subratings',fontsize=16)\n",
    "plt.xlabel('Sentiment Target Variable Types',fontsize=12)\n",
    "plt.ylabel('Percentage %',fontsize=12)\n",
    "\n",
    "plt.legend(title='Sentiment', labels=['0 <4.8', '1 >4.8'],handles=[plt.Line2D([0], [0], color='grey', lw=3),plt.Line2D([0], [0], color='#FF5A5F', lw=3)])\n",
    "\n",
    "# Adjust layouts and labels\n",
    "plt.xticks(rotation=15)\n",
    "plt.xticks(fontsize=10)\n",
    "plt.yticks(fontsize=10)\n",
    "\n",
    "# plt.savefig('Sentiments_Distribution_by_Rating_Types.jpg', dpi =300)\n",
    "\n",
    "plt.show()"
   ]
  },
  {
   "cell_type": "markdown",
   "id": "dfad260a",
   "metadata": {},
   "source": [
    "From the above plot, we observed that the imbalanceness becomes worse after the listing information aggregate to the reviews, all of the four target variables are imbalanced with significantly more positive scores than negative scores based on our current sentiment score threshold of 4.8.\n",
    "\n",
    "To address this issue, we plan to **downsample** reviews with positive sentiments in the next sampling stage. This approach aims to create a more even distribution of the target variable, enhancing the model's ability to generalize across different sentiment categories. However, to avoid potential **data leakage**, we will only perform sampling on the **training** dataset after **Train Test Split**."
   ]
  },
  {
   "cell_type": "markdown",
   "id": "c7486abc",
   "metadata": {},
   "source": [
    "***"
   ]
  },
  {
   "cell_type": "markdown",
   "id": "35f94cdd",
   "metadata": {},
   "source": [
    "## Train Test Split <a id='a3.4'></a>"
   ]
  },
  {
   "cell_type": "markdown",
   "id": "a91f9bcf",
   "metadata": {},
   "source": [
    "The modelling process starts by splitting our dataset into training and testing sets. This procedure is fundamental for the effective evaluation of our model performance. However, since we have four different target variables, we will split them individually with different random_state numbers. This will allow us obtain different groups of train-test-split results. \n",
    "\n",
    "The training data is implemented upon which our model is built and refined, and the testing data provides the benchmark for assessing the model's predictive performance on unseen data. This ensures us to mitigate the risk of **overfitting**, as our model will not just memorize the data pattern but rather learns to generalize on new, unseen data.\n",
    "\n",
    "Additionally, it is important that this splitting process must precede any data transformation steps including random sampling, text vectorization and scaling to prevent potential **data leakage**."
   ]
  },
  {
   "cell_type": "code",
   "execution_count": 7,
   "id": "e3c631f9",
   "metadata": {},
   "outputs": [
    {
     "name": "stdout",
     "output_type": "stream",
     "text": [
      "The number of rows obtained in all subrating training data is 329486, with 38 feature columns.\n",
      "The number of rows obtained in all subrating testing data is 141209, with 38 feature columns.\n"
     ]
    }
   ],
   "source": [
    "# Split test data as 30% of all data, determine random state to make sure every split is the same\n",
    "X_train_checkin, X_test_checkin, y_train_checkin, y_test_checkin = train_test_split(X, y_checkin, test_size=0.3, random_state=1)\n",
    "X_train_cleanliness, X_test_cleanliness, y_train_cleanliness, y_test_cleanliness = train_test_split(X, y_cleanliness, test_size=0.3, random_state=12)\n",
    "X_train_communication, X_test_communication, y_train_communication, y_test_communication = train_test_split(X, y_communication, test_size=0.3, random_state=123)\n",
    "X_train_location, X_test_location, y_train_location, y_test_location = train_test_split(X, y_location, test_size=0.3, random_state=1234)\n",
    "\n",
    "# Show the number of rows for training and testing dataset\n",
    "print(f'The number of rows obtained in all subrating training data is {X_train_checkin.shape[0]}, with {X_train_checkin.shape[1]} feature columns.')\n",
    "print(f'The number of rows obtained in all subrating testing data is {X_test_checkin.shape[0]}, with {X_train_checkin.shape[1]} feature columns.')"
   ]
  },
  {
   "cell_type": "markdown",
   "id": "3d789bf1",
   "metadata": {},
   "source": [
    "***"
   ]
  },
  {
   "cell_type": "markdown",
   "id": "317e2c8a",
   "metadata": {},
   "source": [
    "## Sampling <a id='a3.3'></a>"
   ]
  },
  {
   "cell_type": "markdown",
   "id": "f6a0b998",
   "metadata": {},
   "source": [
    "Since we have a large training dataset with nearly 330k rows and all the target variables are imbalanced, we will perform **downsampling** on the training dataset by randomly select a balanced number of rows for both positive labelled rows and negative labelled rows. The imbalanceness on checkin and communication sentiment scores are both severe, with 85% positive for checkin scores, and 86% positive for communication scores.\n",
    "\n",
    "We will eventually select **3%** of the original training dataset for all subrating train-test-splitted groups."
   ]
  },
  {
   "cell_type": "code",
   "execution_count": 8,
   "id": "9718d87a",
   "metadata": {},
   "outputs": [],
   "source": [
    "# Return downsampled training data for all subratings\n",
    "X_train_sample_checkin, y_train_sample_checkin = downsample_train(X_train_checkin, y_train_checkin, 'checkin_sentiment', 0.03)\n",
    "X_train_sample_cleanliness, y_train_sample_cleanliness = downsample_train(X_train_cleanliness, y_train_cleanliness, 'cleanliness_sentiment', 0.03)\n",
    "X_train_sample_communication, y_train_sample_communication = downsample_train(X_train_communication, y_train_communication, 'communication_sentiment', 0.03)\n",
    "X_train_sample_location, y_train_sample_location = downsample_train(X_train_location, y_train_location, 'location_sentiment', 0.03)"
   ]
  },
  {
   "cell_type": "code",
   "execution_count": 9,
   "id": "16f162eb",
   "metadata": {},
   "outputs": [],
   "source": [
    "# Create train-test-split downsampled groups for each subrating for future loops\n",
    "split_checkin= [X_train_sample_checkin, X_test_checkin, y_train_sample_checkin, y_test_checkin]\n",
    "split_cleanliness = [X_train_sample_cleanliness, X_test_cleanliness, y_train_sample_cleanliness, y_test_cleanliness] \n",
    "split_communication = [X_train_sample_communication, X_test_communication, y_train_sample_communication, y_test_communication]\n",
    "split_location = [X_train_sample_location, X_test_location, y_train_sample_location, y_test_location]"
   ]
  },
  {
   "cell_type": "code",
   "execution_count": 10,
   "id": "0f0e590b",
   "metadata": {},
   "outputs": [
    {
     "name": "stdout",
     "output_type": "stream",
     "text": [
      "The current proportion of each sentiment score class is (%)\n",
      "1    50.0\n",
      "0    50.0\n",
      "Name: checkin_sentiment, dtype: float64\n",
      "\n",
      "--------------------------------------------\n",
      "\n",
      "The current number of rows in the training data is 9884\n"
     ]
    }
   ],
   "source": [
    "# Check for current target variable distribution\n",
    "print('The current proportion of each sentiment score class is (%)')\n",
    "print((y_train_sample_checkin.value_counts(normalize=True))*100)\n",
    "print('\\n--------------------------------------------\\n')\n",
    "print(f'The current number of rows in the training data is {X_train_sample_checkin.shape[0]}')"
   ]
  },
  {
   "cell_type": "markdown",
   "id": "570c215c",
   "metadata": {},
   "source": [
    "Thus we have downsampled our training data from nearly 330k (329486) rows to nearly 10k (9884), and we also obtained a balanced training data. This procedure will potentially improve our model performance but potentially overfit in the testing set."
   ]
  },
  {
   "cell_type": "markdown",
   "id": "e338d9c3",
   "metadata": {},
   "source": [
    "***"
   ]
  },
  {
   "cell_type": "markdown",
   "id": "f52a4670",
   "metadata": {},
   "source": [
    "***"
   ]
  },
  {
   "cell_type": "markdown",
   "id": "e9da07db",
   "metadata": {},
   "source": [
    "# Baseline Model <a id='a4'></a>"
   ]
  },
  {
   "cell_type": "markdown",
   "id": "eff30002",
   "metadata": {},
   "source": [
    "As we are developing the best performed models for predicting the class of guest sentiments, it is crucial to establish a baseline model for comparison. We will utilise a **Dummy Classifier** model, which makes predictions without accessing dataset features, essentially performing random guessing. By establishing this baseline, we can decide that any model performing worse than the baseline model will not proceed to further analysis. Since we have four different target variables, we will perform the baseline model on each of them and obtain a summarised dataframe showing baseline model results for each of the subrating type.\n",
    "\n",
    "**Run Time**: 23min 2s"
   ]
  },
  {
   "cell_type": "code",
   "execution_count": 21,
   "id": "9f725f0f",
   "metadata": {},
   "outputs": [
    {
     "name": "stdout",
     "output_type": "stream",
     "text": [
      "The baseline model results for each subrating as target variable\n"
     ]
    },
    {
     "data": {
      "text/html": [
       "<div>\n",
       "<style scoped>\n",
       "    .dataframe tbody tr th:only-of-type {\n",
       "        vertical-align: middle;\n",
       "    }\n",
       "\n",
       "    .dataframe tbody tr th {\n",
       "        vertical-align: top;\n",
       "    }\n",
       "\n",
       "    .dataframe thead th {\n",
       "        text-align: right;\n",
       "    }\n",
       "</style>\n",
       "<table border=\"1\" class=\"dataframe\">\n",
       "  <thead>\n",
       "    <tr style=\"text-align: right;\">\n",
       "      <th></th>\n",
       "      <th>Classifier_Name</th>\n",
       "      <th>Dummy_Testing_Accuracy_Score</th>\n",
       "    </tr>\n",
       "  </thead>\n",
       "  <tbody>\n",
       "    <tr>\n",
       "      <th>0</th>\n",
       "      <td>dummy_classifier_checkin</td>\n",
       "      <td>14.66</td>\n",
       "    </tr>\n",
       "    <tr>\n",
       "      <th>1</th>\n",
       "      <td>dummy_classifier_cleanliness</td>\n",
       "      <td>37.23</td>\n",
       "    </tr>\n",
       "    <tr>\n",
       "      <th>2</th>\n",
       "      <td>dummy_classifier_communication</td>\n",
       "      <td>13.94</td>\n",
       "    </tr>\n",
       "    <tr>\n",
       "      <th>3</th>\n",
       "      <td>dummy_classifier_location</td>\n",
       "      <td>28.70</td>\n",
       "    </tr>\n",
       "  </tbody>\n",
       "</table>\n",
       "</div>"
      ],
      "text/plain": [
       "                  Classifier_Name  Dummy_Testing_Accuracy_Score\n",
       "0        dummy_classifier_checkin                         14.66\n",
       "1    dummy_classifier_cleanliness                         37.23\n",
       "2  dummy_classifier_communication                         13.94\n",
       "3       dummy_classifier_location                         28.70"
      ]
     },
     "execution_count": 21,
     "metadata": {},
     "output_type": "execute_result"
    }
   ],
   "source": [
    "# Group all subrating train-test-split data together\n",
    "all_splits= [split_checkin, split_cleanliness, split_communication, split_location]\n",
    "\n",
    "# Prepare result dataframe\n",
    "dummy_classifier_results_all_subratings = pd.DataFrame()\n",
    "\n",
    "# Prepare column list containers\n",
    "subrating_names= ['dummy_classifier_checkin', 'dummy_classifier_cleanliness', 'dummy_classifier_communication', 'dummy_classifier_location']\n",
    "dummy_testing_scores=[]\n",
    "\n",
    "# Using loaded_flag to reduce running time, if need to retrain, change loaded_flag_dummy to False\n",
    "load_flag_dummy = True\n",
    "\n",
    "if load_flag_dummy:\n",
    "    print('The baseline model results for each subrating as target variable')\n",
    "    # Load pre-trained dummy classifier on all subrating target variable results\n",
    "    dummy_classifier_results_all_subratings = joblib.load('data/dummy_classifier_results_all_subratings.pkl')\n",
    "    \n",
    "else:\n",
    "    # Prepare result dataframe\n",
    "    dummy_classifier_results_all_subratings = pd.DataFrame()\n",
    "\n",
    "    # Prepare column list containers\n",
    "    subrating_names= ['dummy_classifier_checkin', 'dummy_classifier_cleanliness', 'dummy_classifier_communication', 'dummy_classifier_location']\n",
    "    dummy_testing_scores=[]\n",
    "    \n",
    "    # Running loop for each subrating dummy classifier prediction\n",
    "    j=1\n",
    "    for i in all_splits:\n",
    "        print(f'Getting baseline model {j} Testing Results') \n",
    "        \n",
    "        # Use same intervention for convenience\n",
    "        X_train_sample, X_test, y_train_sample, y_test = i[0], i[1], i[2], i[3]\n",
    "        \n",
    "        # Vectorize data using Bag of Words Vectorizer\n",
    "        bow_vec = CountVectorizer(max_features = 500, # Only obtain top 500 features based on vectorizer results\n",
    "                                    min_df=5, # Feature occurency should be bigger than 5 in the corpus\n",
    "                                    tokenizer=customized_tokenizer)\n",
    "\n",
    "        # Fit and transform on the vectorizer to training data\n",
    "        X_train_tfidf_d = bow_vec.fit_transform(X_train_sample['comments']).toarray()\n",
    "\n",
    "        # Transform on both training data and testing data\n",
    "        X_test_tfidf_d = bow_vec.transform(X_test['comments']).toarray()\n",
    "\n",
    "        # Reset Index before concatenating\n",
    "        X_train_sample_reset_index = X_train_sample.reset_index(drop=True)\n",
    "        X_test_reset_index = X_test.reset_index(drop=True)\n",
    "\n",
    "        # Merge the resulting arrays with the original numeric features\n",
    "        X_train_tfidf_d_transformed = pd.concat([X_train_sample_reset_index.drop(['comments'], axis=1),\n",
    "                                                 pd.DataFrame(X_train_tfidf_d, columns=[i for i in bow_vec.get_feature_names_out()])], axis=1)\n",
    "\n",
    "        X_test_tfidf_d_transformed = pd.concat([X_test_reset_index.drop(['comments'], axis=1), \n",
    "                                                pd.DataFrame(X_test_tfidf_d, columns=[i for i in bow_vec.get_feature_names_out()])], axis = 1)\n",
    "\n",
    "        # # Dummy Classifier - Baseline Model\n",
    "        # Instantiate Dummy Classifier\n",
    "        dummy_classifier = DummyClassifier()\n",
    "\n",
    "        # Fit the Dummy Classifier on Training data\n",
    "        dummy_classifier.fit(X_train_tfidf_d_transformed, y_train_sample)\n",
    "\n",
    "        # Predict the fitted model on Testing Data\n",
    "        y_predict_d = dummy_classifier.predict(X_test_tfidf_d_transformed)\n",
    "        \n",
    "        # Obtain dummy testing score for this target variable\n",
    "        dummy_test_score = round(accuracy_score(y_test, y_predict_d)*100, 2)\n",
    "        \n",
    "        # Add result to testing score list\n",
    "        dummy_testing_scores.append(dummy_test_score)\n",
    "        \n",
    "        j+=1\n",
    "    dummy_classifier_results_all_subratings['Classifier_Name'] = subrating_names\n",
    "    dummy_classifier_results_all_subratings['Dummy_Testing_Accuracy_Score'] = dummy_testing_scores\n",
    "    \n",
    "    # Return result dataframe\n",
    "    print('The baseline model results for each subrating as target variable')\n",
    "    \n",
    "    # Same dataframe as pickle file \n",
    "    dummy_classifier_results_all_subratings.to_pickle('data/dummy_classifier_results_all_subratings.pkl')\n",
    "\n",
    "    \n",
    "# Show dataframe\n",
    "dummy_classifier_results_all_subratings"
   ]
  },
  {
   "cell_type": "code",
   "execution_count": 33,
   "id": "62764264",
   "metadata": {},
   "outputs": [
    {
     "name": "stdout",
     "output_type": "stream",
     "text": [
      "Loaded Pre-trained GridSearch Results with Different Subrating as Target Variable\n"
     ]
    }
   ],
   "source": [
    "# 2 hours 3mins 36s\n",
    "#-----------------------------------------------------------------------------------------------------------------#\n",
    "# Extract numerical column names for column transformer\n",
    "numeric_columns = X.select_dtypes(exclude='object').columns.to_list()\n",
    "# Define column transformers with ngrams added\n",
    "ct_bow_ngrams = define_col_trans('ct_bow',  CountVectorizer(max_df=0.95, min_df=5, tokenizer=customized_tokenizer, ngram_range=(2, 3)))\n",
    "ct_tfidf_ngrams = define_col_trans('ct_tfidf',  TfidfVectorizer(max_df=0.95, min_df=5, tokenizer=customized_tokenizer, ngram_range=(2, 3)))\n",
    "#-----------------------------------------------------------------------------------------------------------------#\n",
    "\n",
    "# # GridSearch on different subrating as target variable\n",
    "\n",
    "# Using loaded_flag to reduce running time, if need to retrain, change loaded_flag_dummy to False\n",
    "load_flag_subratings = True\n",
    "\n",
    "if load_flag_subratings:\n",
    "    print('Loaded Pre-trained GridSearch Results with Different Subrating as Target Variable')\n",
    "    # Load pre-trained bow transformed fittedgrids for all subratings\n",
    "    fittedgrid_bow_checkin = joblib.load('data/fittedgrid_bow_checkin.pkl')\n",
    "    fittedgrid_bow_cleanliness = joblib.load('data/fittedgrid_bow_cleanliness.pkl')\n",
    "    fittedgrid_bow_communication = joblib.load('data/fittedgrid_bow_communication.pkl')\n",
    "    fittedgrid_bow_location = joblib.load('data/fittedgrid_bow_location.pkl')\n",
    "    # Load pre-trained TF-IDF transformed fittedgrids for all subratings\n",
    "    fittedgrid_tfidf_checkin = joblib.load('data/fittedgrid_tfidf_checkin.pkl')\n",
    "    fittedgrid_tfidf_cleanliness = joblib.load('data/fittedgrid_tfidf_cleanliness.pkl')\n",
    "    fittedgrid_tfidf_communication = joblib.load('data/fittedgrid_tfidf_communication.pkl')\n",
    "    fittedgrid_tfidf_location = joblib.load('data/fittedgrid_tfidf_location.pkl')\n",
    "    # Load pre-transformed data lists for both training data and testing data\n",
    "    bow_transformed_train_subratings = joblib.load('data/bow_transformed_train_subratings')\n",
    "    tfidf_transformed_train_subratings = joblib.load('data/tfidf_transformed_train_subratings')\n",
    "    bow_transformed_test_subratings = joblib.load('data/bow_transformed_test_subratings')\n",
    "    tfidf_transformed_test_subratings = joblib.load('data/tfidf_transformed_test_subratings')\n",
    "else:\n",
    "    # Prepare list of fittedgrid results transformed by bow vectorizer\n",
    "    fitted_grids_bow_ngrams_subratings = []\n",
    "    \n",
    "    # Prepare list of fittedgrid results transformed by TF-IDF vectorizer\n",
    "    fitted_grids_tfidf_ngrams_subratings = []\n",
    "    \n",
    "    # Prepare list to store transformed training data for each iteration\n",
    "    bow_transformed_train_subratings=[]\n",
    "    tfidf_transformed_train_subratings=[]\n",
    "    \n",
    "    # Prepare list to store transformed testing data for each iteration\n",
    "    bow_transformed_test_subratings=[]\n",
    "    tfidf_transformed_test_subratings=[]\n",
    "\n",
    "    # Define number j for manual verbose\n",
    "    j = 1\n",
    "    \n",
    "    # Run GridSearch loop on subratings \n",
    "    for i in all_splits:\n",
    "        print(f'Getting GridSeach Results for Target Variable {j}') \n",
    "\n",
    "        # Use same names for convenience\n",
    "        X_train_sample, X_test, y_train_sample, y_test = i[0], i[1], i[2], i[3]\n",
    "\n",
    "        #-----------------------------------------------------------------------------------------------------------------#\n",
    "        # Fit and transform on training data and testing data using new vectorizers\n",
    "        print(f'Transforming training sample data for target variable {j}.....')\n",
    "        X_train_ct_bow_ngrams = ct_bow_ngrams.fit_transform(X_train_sample)\n",
    "        X_train_ct_tfidf_ngrams= ct_tfidf_ngrams.fit_transform(X_train_sample)\n",
    "        print(f'Done. Training sample data transformed for target variable {j}.')\n",
    "        print(f'Transforming Testing data for target variable {j}.....')\n",
    "        X_test_ct_bow_ngrams = ct_bow_ngrams.transform(X_test)\n",
    "        X_test_ct_tfidf_ngrams = ct_tfidf_ngrams.transform(X_test)\n",
    "        print(f'Done. Testing data transformed for target variable {j}.')\n",
    "        \n",
    "        # Add transformed training data to list\n",
    "        bow_transformed_train_subratings.append(X_train_ct_bow_ngrams)\n",
    "        tfidf_transformed_train_subratings.append(X_train_ct_tfidf_ngrams) \n",
    "        \n",
    "        # Add transformed testing data to list\n",
    "        bow_transformed_test_subratings.append(X_test_ct_bow_ngrams)\n",
    "        tfidf_transformed_test_subratings.append(X_test_ct_tfidf_ngrams) \n",
    "        #-----------------------------------------------------------------------------------------------------------------#\n",
    "        # Define base pipeline\n",
    "        pipeline = Pipeline([\n",
    "            ('sparse_to_dense', FunctionTransformer(convert_to_array, accept_sparse=True)),\n",
    "            ('scaler', StandardScaler()),\n",
    "            ('model', LogisticRegression())\n",
    "        ])\n",
    "\n",
    "        # Instantiate Pipeline with grid of parameters\n",
    "        grid_param = [\n",
    "            \n",
    "            # Decision Tree Classifier\n",
    "            {\n",
    "                'model'                   : [DecisionTreeClassifier()],\n",
    "                'model__max_depth'        : [2, 8, 32, 64, 128], # Control number of tree splits/depth\n",
    "                'model__min_samples_leaf' : [2, 4], # Control minimum number of samples at a leaf node\n",
    "                'model__min_samples_split': [2, 3, 4], # Control minimum number of samples split at a leaf node\n",
    "                'model__criterion'        : ['entropy'], # Control the function to measure the quality of a split\n",
    "                'model__random_state'     : [123] # Control randomness of the estimator\n",
    "            }\n",
    "            \n",
    "        ]\n",
    "        # Use GridSearch\n",
    "        grid = GridSearchCV(estimator=pipeline, # Define GridSearch estimator pipeline\n",
    "                             param_grid=grid_param, # Define parameter grid\n",
    "                             cv=5, # Define 5-fold cross-validation\n",
    "                             n_jobs=-2,\n",
    "                             scoring='f1',\n",
    "                             verbose=1) # Define GridSearch evaluation metric to be f1 score\n",
    "        #-----------------------------------------------------------------------------------------------------------------#\n",
    "        # Fit the grid on training data\n",
    "        print(f'Fitting on target variable {j}')\n",
    "        fittedgrid_bow = grid.fit(X_train_ct_bow_ngrams, y_train_sample)\n",
    "        fittedgrid_tfidf = grid.fit(X_train_ct_tfidf_ngrams, y_train_sample)\n",
    "        print(f'The {j} fit finished')\n",
    "\n",
    "        # Add fitted grids to list \n",
    "        fitted_grids_bow_ngrams_subratings.append(fittedgrid_bow) \n",
    "        fitted_grids_tfidf_ngrams_subratings.append(fittedgrid_tfidf)  \n",
    "        \n",
    "        j+=1\n",
    "    #-----------------------------------------------------------------------------------------------------------------#      \n",
    "    # Specify fittedgrid for each target variable\n",
    "    fittedgrid_bow_checkin = fitted_grids_bow_ngrams_subratings[0]\n",
    "    fittedgrid_bow_cleanliness = fitted_grids_bow_ngrams_subratings[1]        \n",
    "    fittedgrid_bow_communication = fitted_grids_bow_ngrams_subratings[2]\n",
    "    fittedgrid_bow_location = fitted_grids_bow_ngrams_subratings[3]\n",
    "\n",
    "    fittedgrid_tfidf_checkin = fitted_grids_tfidf_ngrams_subratings[0]\n",
    "    fittedgrid_tfidf_cleanliness = fitted_grids_tfidf_ngrams_subratings[1]        \n",
    "    fittedgrid_tfidf_communication = fitted_grids_tfidf_ngrams_subratings[2]\n",
    "    fittedgrid_tfidf_location = fitted_grids_tfidf_ngrams_subratings[3]\n",
    "    #-----------------------------------------------------------------------------------------------------------------#        \n",
    "    # Save fittedgrid as pickle file\n",
    "    joblib.dump(fittedgrid_bow_checkin, 'data/fittedgrid_bow_checkin.pkl')\n",
    "    joblib.dump(fittedgrid_bow_cleanliness, 'data/fittedgrid_bow_cleanliness.pkl')        \n",
    "    joblib.dump(fittedgrid_bow_communication, 'data/fittedgrid_bow_communication.pkl')\n",
    "    joblib.dump(fittedgrid_bow_location, 'data/fittedgrid_bow_location.pkl')\n",
    "\n",
    "    joblib.dump(fittedgrid_tfidf_checkin, 'data/fittedgrid_tfidf_checkin.pkl')        \n",
    "    joblib.dump(fittedgrid_tfidf_cleanliness, 'data/fittedgrid_tfidf_cleanliness.pkl')        \n",
    "    joblib.dump(fittedgrid_tfidf_communication, 'data/fittedgrid_tfidf_communication.pkl')        \n",
    "    joblib.dump(fittedgrid_tfidf_location, 'data/fittedgrid_tfidf_location.pkl')  \n",
    "    #-----------------------------------------------------------------------------------------------------------------# \n",
    "    # Save transformed training data as pickle file\n",
    "    joblib.dump(bow_transformed_train_subratings, 'data/bow_transformed_train_subratings')\n",
    "    joblib.dump(tfidf_transformed_train_subratings, 'data/tfidf_transformed_train_subratings')\n",
    "    \n",
    "    # Save transformed testing data as pickle file\n",
    "    joblib.dump(bow_transformed_test_subratings, 'data/bow_transformed_test_subratings')\n",
    "    joblib.dump(tfidf_transformed_test_subratings, 'data/tfidf_transformed_test_subratings')"
   ]
  },
  {
   "cell_type": "markdown",
   "id": "e52ccdaa",
   "metadata": {},
   "source": [
    "***"
   ]
  },
  {
   "cell_type": "markdown",
   "id": "45724545",
   "metadata": {},
   "source": [
    "# Modelling <a id='a5'></a>"
   ]
  },
  {
   "cell_type": "markdown",
   "id": "b6788586",
   "metadata": {},
   "source": [
    "After completing data cleaning, pre-processing, and model setup stages, we are ready to train models and make predictions. To determine the best-performing model, we will utilize **GridSearchCV** to find the optimal model with the best hyperparameters. Machine learning metrics and models to be used in our modeling process include:\n",
    "\n",
    "- Text Vectorizer: Bag of Words, TF-IDF\n",
    "- Scaler: StandardScaler\n",
    "- Models: Logistic Regression, Decision Tree Classifier, Random Forest Classifier.\n",
    "\n",
    "Note that for performance purposes, we will be vectorizing the datasets outside of grid search. We will then fit combinations of models to the training data that has been transformed by two types of text vectorizations. During the fitting process, **5-fold cross-validation** will be performed to improve model performance and interpretability. Finally, the model with the highest average validation F1 score will be selected and evaluated at the end of each GridSearch."
   ]
  },
  {
   "cell_type": "markdown",
   "id": "86b4550b",
   "metadata": {},
   "source": [
    "## GridSearch_1: General Sweep <a id='a5.1'></a>"
   ]
  },
  {
   "cell_type": "markdown",
   "id": "5bfd48ba",
   "metadata": {},
   "source": [
    "During the first GridSearch, we will be searching for optimal hyperparameters over wide range implementing on the **Logistic Regresion** and **Decision Tree Classifier**. This GridSearch will be run and fitted on two vectorized training sets defined above and we will evaluate the model performances with a brief summary. The selections of models and parameters are summarized below:"
   ]
  },
  {
   "cell_type": "markdown",
   "id": "ac438a43",
   "metadata": {},
   "source": [
    "|    Models   |    Hyperparameters   |   Ranges/Options  |\n",
    "|:-------------:|:-------------:|:-------------:|\n",
    "|    **TfidfVectorizer**     |     max_df   |    0.95     |\n",
    "|                  |     min_df  |    5       |\n",
    "|       **CountVectorizer**           |     max_df  |    0.95       |\n",
    "|                  |     min_df  |    5       |\n",
    "|    **Logistic Regression**     |    C     |    0.001, 0.01, 0.1, 1, 10    |\n",
    "|         |    penalty     |    'none', 'l2'     | \n",
    "|    **Decision Tree Classifier**     |     max_depth    |     2, 8, 32, 64, 128    |\n",
    "|                 |    min_samples_leaf     |     2, 4, 8    |\n",
    "|                 |     min_samples_split    |     2, 4, 8    |\n",
    "|                 |     criterion    |     'gini', 'entropy'    |"
   ]
  },
  {
   "cell_type": "markdown",
   "id": "92a6aeed",
   "metadata": {},
   "source": [
    "To save long execution times for future references, we will use a loading flag to prevent re-training models when it is already saved and can be loaded as a pickle file"
   ]
  },
  {
   "cell_type": "code",
   "execution_count": 30,
   "id": "5def9d0a",
   "metadata": {
    "scrolled": true
   },
   "outputs": [
    {
     "name": "stdout",
     "output_type": "stream",
     "text": [
      "Transforming training sample data .....\n",
      "Training sample data transformed.\n",
      "CPU times: total: 53.3 s\n",
      "Wall time: 6min 16s\n"
     ]
    }
   ],
   "source": [
    "%%time\n",
    "# # First GridSearch\n",
    "\n",
    "#-----------------------------------------------------------------------------------------------------------------#\n",
    "# Fit and transform on training data using two types of vectorizers\n",
    "print('Transforming training sample data .....')\n",
    "X_train_ct_bow = ct_bow.fit_transform(X_train_sample)\n",
    "X_train_ct_tfidf= ct_tfidf.fit_transform(X_train_sample)\n",
    "print('Training sample data transformed.')\n",
    "#-----------------------------------------------------------------------------------------------------------------#\n",
    "\n",
    "# If one needs to retrain the model, set loading flag as False\n",
    "loaded_flag_1 = False\n",
    "\n",
    "if loaded_flag_1:\n",
    "    print('Loaded pre-trained models (Gridsearch_1)')\n",
    "    # Load saved fittedgrid\n",
    "    fittedgrid_1_bow=joblib.load('data/fittedgrid_1_bow.pkl')\n",
    "    fittedgrid_1_tfidf=joblib.load('data/fittedgrid_1_tfidf.pkl')\n",
    "else:\n",
    "    # Define base pipeline\n",
    "    pipeline_1 = Pipeline([\n",
    "        ('sparse_to_dense', FunctionTransformer(convert_to_array, accept_sparse=True)),\n",
    "        ('scaler', StandardScaler()),\n",
    "        ('model', LogisticRegression())\n",
    "    ])\n",
    "    \n",
    "    # Instantiate Pipeline with grid of parameters\n",
    "    grid_param_1 = [\n",
    "\n",
    "        # Logistic Regression\n",
    "        {\n",
    "            'model'              : [LogisticRegression()],\n",
    "            'model__C'           : [0.001, 0.01, 0.1, 1, 10], # C parameter to control penalty weights\n",
    "            'model__penalty'     : ['none', 'l2'], # Control penalty types, l1: Lasso, l2: Ridge\n",
    "            'model__random_state': [123], # Control gradient descent starting point\n",
    "            'model__max_iter'    : [10000] # Make sure model iterates\n",
    "        },\n",
    "\n",
    "        # Decision Tree Classifier\n",
    "        {\n",
    "            'model'                   : [DecisionTreeClassifier()],\n",
    "            'model__max_depth'        : [2, 8, 32, 64, 128], # Control number of tree splits/depth\n",
    "            'model__min_samples_leaf' : [2, 4, 8], # Control minimum number of samples at a leaf node\n",
    "            'model__min_samples_split': [2, 4, 8], # Control minimum number of samples split at a leaf node\n",
    "            'model__criterion'        : ['gini', 'entropy'], # Control the function to measure the quality of a split\n",
    "            'model__random_state'     :[123] # Control randomness of the estimator\n",
    "        }\n",
    "    ]\n",
    "\n",
    "    # Use GridSearch\n",
    "    grid_1 = GridSearchCV(estimator=pipeline_1, # Define GridSearch estimator pipeline\n",
    "                         param_grid=grid_param_1, # Define parameter grid\n",
    "                         cv=5, # Define 5-fold cross-validation\n",
    "                         n_jobs=-2,\n",
    "                         scoring='f1') \n",
    "\n",
    "    # Fit the grid on training data\n",
    "    fittedgrid_1_bow = grid_1.fit(X_train_ct_bow, y_train_sample)\n",
    "    fittedgrid_1_tfidf = grid_1.fit(X_train_ct_tfidf, y_train_sample)\n",
    "    \n",
    "    # Save fittedgrid as pickle file\n",
    "    #joblib.dump(fittedgrid_1_bow, 'data/fittedgrid_1_bow.pkl')\n",
    "    #joblib.dump(fittedgrid_1_tfidf, 'data/fittedgrid_1_tfidf.pkl')"
   ]
  },
  {
   "cell_type": "markdown",
   "id": "fafdf6c7",
   "metadata": {},
   "source": [
    "#### Selected model results with Bag of Words transformed data (Gridsearch_1)"
   ]
  },
  {
   "cell_type": "code",
   "execution_count": 33,
   "id": "19e90ae7",
   "metadata": {},
   "outputs": [
    {
     "name": "stdout",
     "output_type": "stream",
     "text": [
      "\n",
      "--------------------\n",
      "\n",
      "Pipeline(steps=[('sparse_to_dense',\n",
      "                 FunctionTransformer(accept_sparse=True,\n",
      "                                     func=<function convert_to_array at 0x00000198B5CED080>)),\n",
      "                ('scaler', StandardScaler()),\n",
      "                ('model',\n",
      "                 LogisticRegression(C=0.001, max_iter=10000,\n",
      "                                    random_state=123))])\n",
      "\n",
      "--------------------\n",
      "\n",
      "Best Model Train Score (%): 89.78\n",
      "\n",
      "--------------------\n",
      "\n",
      "Best Model Test Score (%): 91.02\n"
     ]
    }
   ],
   "source": [
    "print('\\n--------------------\\n')\n",
    "print(fittedgrid_1_bow.best_estimator_)\n",
    "\n",
    "# Print Crossvalidated Score\n",
    "print('\\n--------------------\\n')\n",
    "print(f'Best Model Train Score (%): {round(fittedgrid_1_bow.score(X_train_ct_bow, y_train_sample)*100.00, 2)}') \n",
    "\n",
    "# Print Testing Score\n",
    "print('\\n--------------------\\n')\n",
    "\n",
    "# Vectorize on testing data to evaluate model actual performance\n",
    "X_test_ct_bow = ct_bow.transform(X_test)\n",
    "print(f'Best Model Test Score (%): {round(fittedgrid_1_bow.score(X_test_ct_bow, y_test)*100, 2)}') "
   ]
  },
  {
   "cell_type": "markdown",
   "id": "065e636d",
   "metadata": {},
   "source": [
    "#### Selected model results with TF-IDF transformed data (Gridsearch_1)"
   ]
  },
  {
   "cell_type": "code",
   "execution_count": 34,
   "id": "dd248403",
   "metadata": {},
   "outputs": [
    {
     "name": "stdout",
     "output_type": "stream",
     "text": [
      "\n",
      "--------------------\n",
      "\n",
      "Pipeline(steps=[('sparse_to_dense',\n",
      "                 FunctionTransformer(accept_sparse=True,\n",
      "                                     func=<function convert_to_array at 0x00000198B5CED080>)),\n",
      "                ('scaler', StandardScaler()),\n",
      "                ('model',\n",
      "                 LogisticRegression(C=0.001, max_iter=10000,\n",
      "                                    random_state=123))])\n",
      "\n",
      "--------------------\n",
      "\n",
      "Best Model Train Score (%): 99.54\n",
      "\n",
      "--------------------\n",
      "\n",
      "Best Model Test Score (%): 88.09\n"
     ]
    }
   ],
   "source": [
    "print('\\n--------------------\\n')\n",
    "print(fittedgrid_1_tfidf.best_estimator_)\n",
    "\n",
    "# Print Score\n",
    "print('\\n--------------------\\n')\n",
    "print(f'Best Model Train Score (%): {round(fittedgrid_1_tfidf.score(X_train_ct_tfidf, y_train_sample)*100.00, 2)}') \n",
    "\n",
    "# Print Testing Score\n",
    "print('\\n--------------------\\n')\n",
    "\n",
    "# Vectorize on testing data to evaluate model actual performance\n",
    "X_test_ct_tfidf = ct_tfidf.transform(X_test)\n",
    "print(f'Best Model Test Score (%): {round(fittedgrid_1_tfidf.score(X_test_ct_tfidf, y_test)*100, 2)}') "
   ]
  },
  {
   "cell_type": "markdown",
   "id": "bcd62590",
   "metadata": {},
   "source": [
    "#### Top 20 models with best F1 scores resulted with TF-IDF transformed data (Gridsearch_1)"
   ]
  },
  {
   "cell_type": "code",
   "execution_count": 1,
   "id": "a635855a",
   "metadata": {},
   "outputs": [
    {
     "ename": "NameError",
     "evalue": "name 'pd' is not defined",
     "output_type": "error",
     "traceback": [
      "\u001b[1;31m---------------------------------------------------------------------------\u001b[0m",
      "\u001b[1;31mNameError\u001b[0m                                 Traceback (most recent call last)",
      "Cell \u001b[1;32mIn[1], line 2\u001b[0m\n\u001b[0;32m      1\u001b[0m \u001b[38;5;66;03m# Expand column width to see full results\u001b[39;00m\n\u001b[1;32m----> 2\u001b[0m pd\u001b[38;5;241m.\u001b[39mset_option(\u001b[38;5;124m'\u001b[39m\u001b[38;5;124mdisplay.max_colwidth\u001b[39m\u001b[38;5;124m'\u001b[39m, \u001b[38;5;28;01mNone\u001b[39;00m)\n\u001b[0;32m      4\u001b[0m \u001b[38;5;66;03m# Store results in a dataframe by sorting mean_test_score in descending order\u001b[39;00m\n\u001b[0;32m      5\u001b[0m fittedgrid1_results_df \u001b[38;5;241m=\u001b[39m pd\u001b[38;5;241m.\u001b[39mDataFrame(fittedgrid_1_tfidf\u001b[38;5;241m.\u001b[39mcv_results_)\u001b[38;5;241m.\u001b[39msort_values(\u001b[38;5;124m'\u001b[39m\u001b[38;5;124mmean_test_score\u001b[39m\u001b[38;5;124m'\u001b[39m, ascending\u001b[38;5;241m=\u001b[39m\u001b[38;5;28;01mFalse\u001b[39;00m)\n",
      "\u001b[1;31mNameError\u001b[0m: name 'pd' is not defined"
     ]
    }
   ],
   "source": [
    "# Expand column width to see full results\n",
    "pd.set_option('display.max_colwidth', None)\n",
    "\n",
    "# Store results in a dataframe by sorting mean_test_score in descending order\n",
    "fittedgrid1_results_df = pd.DataFrame(fittedgrid_1_tfidf.cv_results_).sort_values('mean_test_score', ascending=False)\n",
    "\n",
    "# Extract ranking number, models with tuned hyperparameters, and corresponding test scores\n",
    "fittedgrid1_results = fittedgrid1_results_df[['rank_test_score', 'params', 'mean_test_score']].sort_values('mean_test_score', ascending=False)\n",
    "print('GridSearch 1 Cross Validation Results')\n",
    "\n",
    "# Show top 10 cross validation results\n",
    "fittedgrid1_results.head(10) "
   ]
  },
  {
   "cell_type": "markdown",
   "id": "cb7b06b2",
   "metadata": {},
   "source": [
    "Next, we will study the currently selected best model in more detail by examining if there are patterns in its misclassified reviews. We will first obtain the more specific evaluation results by looking at the classification report and plotting a corresponding confusion matrix."
   ]
  },
  {
   "cell_type": "markdown",
   "id": "57df879c",
   "metadata": {},
   "source": [
    "#### GridSearch_1 Result Summary"
   ]
  },
  {
   "cell_type": "markdown",
   "id": "e61b1cab",
   "metadata": {},
   "source": [
    "From the first gridsearch, we successfully selected our current best model: Decision Tree Classifier with \n"
   ]
  },
  {
   "cell_type": "markdown",
   "id": "659ecc65",
   "metadata": {},
   "source": [
    "***"
   ]
  },
  {
   "cell_type": "markdown",
   "id": "5202f5eb",
   "metadata": {},
   "source": [
    "## GridSearch_2 : Ngrams"
   ]
  },
  {
   "cell_type": "markdown",
   "id": "efc5e69a",
   "metadata": {},
   "source": [
    "After the first grid search, we obtained more focused parameter ranges and a currently best performed DT model. Our next step is to aim for better interpretability and hopefully further enhance our model performance by adding n-grams to the vectorizer. N-grams are essentially pairs of consecutive words that help maintain the sequence and interpretability of the tokens. In our second grid search, we will use bigrams (2 words), trigrams (3 words), and remove single words for both the bag-of-words vectorizer and the TF-IDF vectorizer."
   ]
  },
  {
   "cell_type": "code",
   "execution_count": 31,
   "id": "e1f739c3",
   "metadata": {
    "scrolled": true
   },
   "outputs": [
    {
     "name": "stdout",
     "output_type": "stream",
     "text": [
      "Transforming training sample data .....\n",
      "Training sample data transformed.\n",
      "Loaded pre-trained models (Gridsearch_2)\n",
      "CPU times: total: 33.1 s\n",
      "Wall time: 33.2 s\n"
     ]
    }
   ],
   "source": [
    "%%time\n",
    "\n",
    "# # Second GridSearch\n",
    "\n",
    "#-----------------------------------------------------------------------------------------------------------------#\n",
    "# Define column transformers with ngrams added\n",
    "ct_bow_ngrams = define_col_trans('ct_bow',  CountVectorizer(max_df=0.95, min_df=5, tokenizer=customized_tokenizer, ngram_range=(2, 3)))\n",
    "ct_tfidf_ngrams = define_col_trans('ct_tfidf',  TfidfVectorizer(max_df=0.95, min_df=5, tokenizer=customized_tokenizer, ngram_range=(2, 3)))\n",
    "\n",
    "# Fit and transform on training data using new vectorizers\n",
    "print('Transforming training sample data .....')\n",
    "X_train_ct_bow_ngrams = ct_bow_ngrams.fit_transform(X_train_sample)\n",
    "X_train_ct_tfidf_ngrams= ct_tfidf_ngrams.fit_transform(X_train_sample)\n",
    "print('Training sample data transformed.')\n",
    "#-----------------------------------------------------------------------------------------------------------------#\n",
    "# If one needs to retrain the model, set loading flag as False\n",
    "loaded_flag_2 = True\n",
    "\n",
    "if loaded_flag_2:\n",
    "    print('Loaded pre-trained models (Gridsearch_2)')\n",
    "    # Load saved fittedgrid\n",
    "    fittedgrid_2_bow=joblib.load('data/fittedgrid_2_bow.pkl')\n",
    "    fittedgrid_2_tfidf=joblib.load('data/fittedgrid_2_tfidf.pkl')\n",
    "else:\n",
    "\n",
    "    # Define base pipeline\n",
    "    pipeline_2 = Pipeline([\n",
    "        ('sparse_to_dense', FunctionTransformer(convert_to_array, accept_sparse=True)),\n",
    "        ('scaler', StandardScaler()),\n",
    "        ('model', LogisticRegression())\n",
    "    ])\n",
    "\n",
    "    # Instantiate Pipeline with grid of parameters\n",
    "    grid_param_2 = [\n",
    "\n",
    "        # Decision Tree Classifier\n",
    "        {\n",
    "            'model'                   : [DecisionTreeClassifier()],\n",
    "            'model__max_depth'        : [32, 64, 128], # Control number of tree splits/depth\n",
    "            'model__min_samples_leaf' : [2], # Control minimum number of samples at a leaf node\n",
    "            'model__min_samples_split': [2, 3, 4], # Control minimum number of samples split at a leaf node\n",
    "            'model__criterion'        : ['entropy'], # Control the function to measure the quality of a split\n",
    "            'model__random_state'     : [123] # Control randomness of the estimator\n",
    "        },\n",
    "\n",
    "        # Random Forest\n",
    "        {\n",
    "            'model'                   : [RandomForestClassifier()],\n",
    "            'model__n_estimators'     : [5, 10, 15], # Control number of trees in the forest\n",
    "            'model__max_depth'        : [32, 64, 128], # Control number of tree splits/depth\n",
    "            'model__min_samples_leaf' : [2], # Control minimum number of samples at a leaf node\n",
    "            'model__criterion'        : ['gini', 'entropy'], # Control the function to measure the quality of a split\n",
    "            'model__random_state'     : [123] # Control randomness of the estimator  \n",
    "        }  \n",
    "    ]\n",
    "\n",
    "    # Use GridSearch\n",
    "    grid_2 = GridSearchCV(estimator=pipeline_2, # Define GridSearch estimator pipeline\n",
    "                         param_grid=grid_param_2, # Define parameter grid\n",
    "                         cv=5, # Define 5-fold cross-validation\n",
    "                         n_jobs=-2,\n",
    "                         scoring='f1',\n",
    "                         verbose=1) # Define GridSearch evaluation metric to be f1 score\n",
    "\n",
    "    # Fit the grid on training data\n",
    "    fittedgrid_2_bow = grid_2.fit(X_train_ct_bow_ngrams, y_train_sample)\n",
    "    fittedgrid_2_tfidf = grid_2.fit(X_train_ct_tfidf_ngrams, y_train_sample)\n",
    "    \n",
    "    # Save fittedgrid as pickle file\n",
    "    joblib.dump(fittedgrid_2_bow, 'data/fittedgrid_2_bow.pkl')\n",
    "    joblib.dump(fittedgrid_2_tfidf, 'data/fittedgrid_2_tfidf.pkl')"
   ]
  },
  {
   "cell_type": "markdown",
   "id": "d3097d49",
   "metadata": {},
   "source": [
    "#### Selected model results with Bag of Words transformed data (Gridsearch_1)"
   ]
  },
  {
   "cell_type": "code",
   "execution_count": 32,
   "id": "959fd0b2",
   "metadata": {},
   "outputs": [
    {
     "name": "stdout",
     "output_type": "stream",
     "text": [
      "\n",
      "--------------------\n",
      "\n",
      "Pipeline(steps=[('sparse_to_dense',\n",
      "                 FunctionTransformer(accept_sparse=True,\n",
      "                                     func=<function convert_to_array at 0x00000276F7454360>)),\n",
      "                ('scaler', StandardScaler()),\n",
      "                ('model',\n",
      "                 DecisionTreeClassifier(criterion='entropy', max_depth=32,\n",
      "                                        min_samples_leaf=2,\n",
      "                                        random_state=123))])\n",
      "\n",
      "--------------------\n",
      "\n",
      "Best Model Train Score (%): 98.83\n",
      "\n",
      "--------------------\n",
      "\n",
      "Best Model Test Score (%): 95.2\n"
     ]
    }
   ],
   "source": [
    "print('\\n--------------------\\n')\n",
    "print(fittedgrid_2_bow.best_estimator_)\n",
    "\n",
    "# Print Crossvalidated Score\n",
    "print('\\n--------------------\\n')\n",
    "print(f'Best Model Train Score (%): {round(fittedgrid_2_bow.score(X_train_ct_bow_ngrams, y_train_sample)*100.00, 2)}') \n",
    "\n",
    "# Print Testing Score\n",
    "print('\\n--------------------\\n')\n",
    "\n",
    "# Vectorize on testing data to evaluate model actual performance\n",
    "X_test_ct_bow_ngrams = ct_bow_ngrams.transform(X_test)\n",
    "print(f'Best Model Test Score (%): {round(fittedgrid_2_bow.score(X_test_ct_bow_ngrams, y_test)*100, 2)}') "
   ]
  },
  {
   "cell_type": "markdown",
   "id": "b065238d",
   "metadata": {},
   "source": [
    "#### Selected model results with TF-IDF transformed data (Gridsearch_2)"
   ]
  },
  {
   "cell_type": "code",
   "execution_count": 33,
   "id": "ab674bab",
   "metadata": {
    "scrolled": true
   },
   "outputs": [
    {
     "name": "stdout",
     "output_type": "stream",
     "text": [
      "\n",
      "--------------------\n",
      "\n",
      "Pipeline(steps=[('sparse_to_dense',\n",
      "                 FunctionTransformer(accept_sparse=True,\n",
      "                                     func=<function convert_to_array at 0x00000276F7454360>)),\n",
      "                ('scaler', StandardScaler()),\n",
      "                ('model',\n",
      "                 DecisionTreeClassifier(criterion='entropy', max_depth=32,\n",
      "                                        min_samples_leaf=2,\n",
      "                                        random_state=123))])\n",
      "\n",
      "--------------------\n",
      "\n",
      "Best Model Train Score (%): 99.08\n",
      "\n",
      "--------------------\n",
      "\n",
      "Best Model Test Score (%): 95.33\n"
     ]
    }
   ],
   "source": [
    "print('\\n--------------------\\n')\n",
    "print(fittedgrid_2_tfidf.best_estimator_)\n",
    "\n",
    "# Print Score\n",
    "print('\\n--------------------\\n')\n",
    "print(f'Best Model Train Score (%): {round(fittedgrid_2_tfidf.score(X_train_ct_tfidf_ngrams, y_train_sample)*100.00, 2)}') \n",
    "\n",
    "# Print Testing Score\n",
    "print('\\n--------------------\\n')\n",
    "\n",
    "# Vectorize on testing data to evaluate model actual performance\n",
    "X_test_ct_tfidf_ngrams = ct_tfidf_ngrams.transform(X_test)\n",
    "print(f'Best Model Test Score (%): {round(fittedgrid_2_tfidf.score(X_test_ct_tfidf_ngrams, y_test)*100, 2)}') "
   ]
  },
  {
   "cell_type": "code",
   "execution_count": 37,
   "id": "b12ef9dc",
   "metadata": {},
   "outputs": [
    {
     "name": "stdout",
     "output_type": "stream",
     "text": [
      "GridSearch 2 Cross Validation Results\n"
     ]
    },
    {
     "data": {
      "text/html": [
       "<div>\n",
       "<style scoped>\n",
       "    .dataframe tbody tr th:only-of-type {\n",
       "        vertical-align: middle;\n",
       "    }\n",
       "\n",
       "    .dataframe tbody tr th {\n",
       "        vertical-align: top;\n",
       "    }\n",
       "\n",
       "    .dataframe thead th {\n",
       "        text-align: right;\n",
       "    }\n",
       "</style>\n",
       "<table border=\"1\" class=\"dataframe\">\n",
       "  <thead>\n",
       "    <tr style=\"text-align: right;\">\n",
       "      <th></th>\n",
       "      <th>rank_test_score</th>\n",
       "      <th>params</th>\n",
       "      <th>mean_test_score</th>\n",
       "    </tr>\n",
       "  </thead>\n",
       "  <tbody>\n",
       "    <tr>\n",
       "      <th>0</th>\n",
       "      <td>1</td>\n",
       "      <td>{'model': DecisionTreeClassifier(criterion='entropy', max_depth=32, min_samples_leaf=2,\n",
       "                       random_state=123), 'model__criterion': 'entropy', 'model__max_depth': 32, 'model__min_samples_leaf': 2, 'model__min_samples_split': 2, 'model__random_state': 123}</td>\n",
       "      <td>0.934014</td>\n",
       "    </tr>\n",
       "    <tr>\n",
       "      <th>1</th>\n",
       "      <td>1</td>\n",
       "      <td>{'model': DecisionTreeClassifier(criterion='entropy', max_depth=32, min_samples_leaf=2,\n",
       "                       random_state=123), 'model__criterion': 'entropy', 'model__max_depth': 32, 'model__min_samples_leaf': 2, 'model__min_samples_split': 3, 'model__random_state': 123}</td>\n",
       "      <td>0.934014</td>\n",
       "    </tr>\n",
       "    <tr>\n",
       "      <th>2</th>\n",
       "      <td>1</td>\n",
       "      <td>{'model': DecisionTreeClassifier(criterion='entropy', max_depth=32, min_samples_leaf=2,\n",
       "                       random_state=123), 'model__criterion': 'entropy', 'model__max_depth': 32, 'model__min_samples_leaf': 2, 'model__min_samples_split': 4, 'model__random_state': 123}</td>\n",
       "      <td>0.934014</td>\n",
       "    </tr>\n",
       "    <tr>\n",
       "      <th>3</th>\n",
       "      <td>1</td>\n",
       "      <td>{'model': DecisionTreeClassifier(criterion='entropy', max_depth=32, min_samples_leaf=2,\n",
       "                       random_state=123), 'model__criterion': 'entropy', 'model__max_depth': 64, 'model__min_samples_leaf': 2, 'model__min_samples_split': 2, 'model__random_state': 123}</td>\n",
       "      <td>0.934014</td>\n",
       "    </tr>\n",
       "    <tr>\n",
       "      <th>4</th>\n",
       "      <td>1</td>\n",
       "      <td>{'model': DecisionTreeClassifier(criterion='entropy', max_depth=32, min_samples_leaf=2,\n",
       "                       random_state=123), 'model__criterion': 'entropy', 'model__max_depth': 64, 'model__min_samples_leaf': 2, 'model__min_samples_split': 3, 'model__random_state': 123}</td>\n",
       "      <td>0.934014</td>\n",
       "    </tr>\n",
       "    <tr>\n",
       "      <th>5</th>\n",
       "      <td>1</td>\n",
       "      <td>{'model': DecisionTreeClassifier(criterion='entropy', max_depth=32, min_samples_leaf=2,\n",
       "                       random_state=123), 'model__criterion': 'entropy', 'model__max_depth': 64, 'model__min_samples_leaf': 2, 'model__min_samples_split': 4, 'model__random_state': 123}</td>\n",
       "      <td>0.934014</td>\n",
       "    </tr>\n",
       "    <tr>\n",
       "      <th>6</th>\n",
       "      <td>1</td>\n",
       "      <td>{'model': DecisionTreeClassifier(criterion='entropy', max_depth=32, min_samples_leaf=2,\n",
       "                       random_state=123), 'model__criterion': 'entropy', 'model__max_depth': 128, 'model__min_samples_leaf': 2, 'model__min_samples_split': 2, 'model__random_state': 123}</td>\n",
       "      <td>0.934014</td>\n",
       "    </tr>\n",
       "    <tr>\n",
       "      <th>7</th>\n",
       "      <td>1</td>\n",
       "      <td>{'model': DecisionTreeClassifier(criterion='entropy', max_depth=32, min_samples_leaf=2,\n",
       "                       random_state=123), 'model__criterion': 'entropy', 'model__max_depth': 128, 'model__min_samples_leaf': 2, 'model__min_samples_split': 3, 'model__random_state': 123}</td>\n",
       "      <td>0.934014</td>\n",
       "    </tr>\n",
       "    <tr>\n",
       "      <th>8</th>\n",
       "      <td>1</td>\n",
       "      <td>{'model': DecisionTreeClassifier(criterion='entropy', max_depth=32, min_samples_leaf=2,\n",
       "                       random_state=123), 'model__criterion': 'entropy', 'model__max_depth': 128, 'model__min_samples_leaf': 2, 'model__min_samples_split': 4, 'model__random_state': 123}</td>\n",
       "      <td>0.934014</td>\n",
       "    </tr>\n",
       "    <tr>\n",
       "      <th>26</th>\n",
       "      <td>10</td>\n",
       "      <td>{'model': RandomForestClassifier(), 'model__criterion': 'entropy', 'model__max_depth': 128, 'model__min_samples_leaf': 2, 'model__n_estimators': 15, 'model__random_state': 123}</td>\n",
       "      <td>0.826801</td>\n",
       "    </tr>\n",
       "  </tbody>\n",
       "</table>\n",
       "</div>"
      ],
      "text/plain": [
       "    rank_test_score  \\\n",
       "0                 1   \n",
       "1                 1   \n",
       "2                 1   \n",
       "3                 1   \n",
       "4                 1   \n",
       "5                 1   \n",
       "6                 1   \n",
       "7                 1   \n",
       "8                 1   \n",
       "26               10   \n",
       "\n",
       "                                                                                                                                                                                                                                                                                params  \\\n",
       "0    {'model': DecisionTreeClassifier(criterion='entropy', max_depth=32, min_samples_leaf=2,\n",
       "                       random_state=123), 'model__criterion': 'entropy', 'model__max_depth': 32, 'model__min_samples_leaf': 2, 'model__min_samples_split': 2, 'model__random_state': 123}   \n",
       "1    {'model': DecisionTreeClassifier(criterion='entropy', max_depth=32, min_samples_leaf=2,\n",
       "                       random_state=123), 'model__criterion': 'entropy', 'model__max_depth': 32, 'model__min_samples_leaf': 2, 'model__min_samples_split': 3, 'model__random_state': 123}   \n",
       "2    {'model': DecisionTreeClassifier(criterion='entropy', max_depth=32, min_samples_leaf=2,\n",
       "                       random_state=123), 'model__criterion': 'entropy', 'model__max_depth': 32, 'model__min_samples_leaf': 2, 'model__min_samples_split': 4, 'model__random_state': 123}   \n",
       "3    {'model': DecisionTreeClassifier(criterion='entropy', max_depth=32, min_samples_leaf=2,\n",
       "                       random_state=123), 'model__criterion': 'entropy', 'model__max_depth': 64, 'model__min_samples_leaf': 2, 'model__min_samples_split': 2, 'model__random_state': 123}   \n",
       "4    {'model': DecisionTreeClassifier(criterion='entropy', max_depth=32, min_samples_leaf=2,\n",
       "                       random_state=123), 'model__criterion': 'entropy', 'model__max_depth': 64, 'model__min_samples_leaf': 2, 'model__min_samples_split': 3, 'model__random_state': 123}   \n",
       "5    {'model': DecisionTreeClassifier(criterion='entropy', max_depth=32, min_samples_leaf=2,\n",
       "                       random_state=123), 'model__criterion': 'entropy', 'model__max_depth': 64, 'model__min_samples_leaf': 2, 'model__min_samples_split': 4, 'model__random_state': 123}   \n",
       "6   {'model': DecisionTreeClassifier(criterion='entropy', max_depth=32, min_samples_leaf=2,\n",
       "                       random_state=123), 'model__criterion': 'entropy', 'model__max_depth': 128, 'model__min_samples_leaf': 2, 'model__min_samples_split': 2, 'model__random_state': 123}   \n",
       "7   {'model': DecisionTreeClassifier(criterion='entropy', max_depth=32, min_samples_leaf=2,\n",
       "                       random_state=123), 'model__criterion': 'entropy', 'model__max_depth': 128, 'model__min_samples_leaf': 2, 'model__min_samples_split': 3, 'model__random_state': 123}   \n",
       "8   {'model': DecisionTreeClassifier(criterion='entropy', max_depth=32, min_samples_leaf=2,\n",
       "                       random_state=123), 'model__criterion': 'entropy', 'model__max_depth': 128, 'model__min_samples_leaf': 2, 'model__min_samples_split': 4, 'model__random_state': 123}   \n",
       "26                                                                                                    {'model': RandomForestClassifier(), 'model__criterion': 'entropy', 'model__max_depth': 128, 'model__min_samples_leaf': 2, 'model__n_estimators': 15, 'model__random_state': 123}   \n",
       "\n",
       "    mean_test_score  \n",
       "0          0.934014  \n",
       "1          0.934014  \n",
       "2          0.934014  \n",
       "3          0.934014  \n",
       "4          0.934014  \n",
       "5          0.934014  \n",
       "6          0.934014  \n",
       "7          0.934014  \n",
       "8          0.934014  \n",
       "26         0.826801  "
      ]
     },
     "execution_count": 37,
     "metadata": {},
     "output_type": "execute_result"
    }
   ],
   "source": [
    "# Store results in a dataframe by sorting mean_test_score in descending order\n",
    "fittedgrid2_results_df = pd.DataFrame(fittedgrid_2_tfidf.cv_results_).sort_values('mean_test_score', ascending=False)\n",
    "\n",
    "# Extract ranking number, models with tuned hyperparameters, and corresponding test scores\n",
    "fittedgrid2_results = fittedgrid2_results_df[['rank_test_score', 'params', 'mean_test_score']].sort_values('mean_test_score', ascending=False)\n",
    "print('GridSearch 2 Cross Validation Results')\n",
    "\n",
    "# Show top 10 cross validation results\n",
    "fittedgrid2_results.head(10) "
   ]
  },
  {
   "cell_type": "code",
   "execution_count": null,
   "id": "ba3455c0",
   "metadata": {},
   "outputs": [],
   "source": []
  },
  {
   "cell_type": "code",
   "execution_count": null,
   "id": "ac52350b",
   "metadata": {},
   "outputs": [],
   "source": []
  },
  {
   "cell_type": "code",
   "execution_count": null,
   "id": "7e4e2e62",
   "metadata": {},
   "outputs": [],
   "source": []
  },
  {
   "cell_type": "code",
   "execution_count": null,
   "id": "267546df",
   "metadata": {},
   "outputs": [],
   "source": []
  },
  {
   "cell_type": "code",
   "execution_count": null,
   "id": "cef02048",
   "metadata": {},
   "outputs": [],
   "source": []
  },
  {
   "cell_type": "code",
   "execution_count": null,
   "id": "7c473999",
   "metadata": {},
   "outputs": [],
   "source": []
  },
  {
   "cell_type": "code",
   "execution_count": null,
   "id": "164b57f1",
   "metadata": {},
   "outputs": [],
   "source": []
  },
  {
   "cell_type": "code",
   "execution_count": null,
   "id": "1cd01a5b",
   "metadata": {},
   "outputs": [],
   "source": []
  },
  {
   "cell_type": "code",
   "execution_count": null,
   "id": "d8d05da6",
   "metadata": {},
   "outputs": [],
   "source": []
  },
  {
   "cell_type": "code",
   "execution_count": null,
   "id": "f631481f",
   "metadata": {},
   "outputs": [],
   "source": []
  },
  {
   "cell_type": "code",
   "execution_count": null,
   "id": "62c0eca2",
   "metadata": {},
   "outputs": [],
   "source": []
  },
  {
   "cell_type": "code",
   "execution_count": null,
   "id": "f23a85c7",
   "metadata": {},
   "outputs": [],
   "source": []
  },
  {
   "cell_type": "code",
   "execution_count": null,
   "id": "e40f0a5e",
   "metadata": {},
   "outputs": [],
   "source": []
  },
  {
   "cell_type": "code",
   "execution_count": null,
   "id": "28979e0e",
   "metadata": {},
   "outputs": [],
   "source": []
  },
  {
   "cell_type": "code",
   "execution_count": null,
   "id": "a5de7caf",
   "metadata": {},
   "outputs": [],
   "source": []
  },
  {
   "cell_type": "code",
   "execution_count": null,
   "id": "deaebcb4",
   "metadata": {},
   "outputs": [],
   "source": []
  },
  {
   "cell_type": "code",
   "execution_count": null,
   "id": "323d599b",
   "metadata": {},
   "outputs": [],
   "source": []
  },
  {
   "cell_type": "code",
   "execution_count": null,
   "id": "9770202b",
   "metadata": {},
   "outputs": [],
   "source": []
  },
  {
   "cell_type": "code",
   "execution_count": null,
   "id": "451fb752",
   "metadata": {},
   "outputs": [],
   "source": []
  },
  {
   "cell_type": "code",
   "execution_count": null,
   "id": "5d796df1",
   "metadata": {},
   "outputs": [],
   "source": []
  },
  {
   "cell_type": "code",
   "execution_count": null,
   "id": "2f15bd18",
   "metadata": {},
   "outputs": [],
   "source": []
  }
 ],
 "metadata": {
  "kernelspec": {
   "display_name": "clcapstone",
   "language": "python",
   "name": "clcapstone"
  },
  "language_info": {
   "codemirror_mode": {
    "name": "ipython",
    "version": 3
   },
   "file_extension": ".py",
   "mimetype": "text/x-python",
   "name": "python",
   "nbconvert_exporter": "python",
   "pygments_lexer": "ipython3",
   "version": "3.11.5"
  }
 },
 "nbformat": 4,
 "nbformat_minor": 5
}
