{
 "cells": [
  {
   "cell_type": "markdown",
   "id": "787923b4",
   "metadata": {},
   "source": [
    "# Predicting Star Ratings of Edinburgh Airbnbs through Review Texts Analysis"
   ]
  },
  {
   "cell_type": "markdown",
   "id": "919a2bb0",
   "metadata": {},
   "source": [
    "# Notebook 4: Modelling_Review_Uncollapsed"
   ]
  },
  {
   "cell_type": "markdown",
   "id": "16f247c3",
   "metadata": {},
   "source": [
    "In this notebook, we will further process our Airbnb reviews using natural language processing (NLP) and machine learning techniques. We will first define a customized tokenizer to remove any irrelevant contents from the text and separate the review texts into individual words. Next, we will set up for modelling stage including define the Baseline Score for future model evaluation.  After that, we will utilize different machine learning models and attempt to find the best-performing models by tuning hyperparameters using GridSearch. Finally, we will use evaluation metrics to assess our results.\n",
    "\n",
    "**Note**: The review data used in this notebook is the cleaned and processed review dataset with listing information aggregated to each review. The reviews are **not collapsed** to each Airbnb Listing."
   ]
  },
  {
   "cell_type": "markdown",
   "id": "30d621c2",
   "metadata": {},
   "source": [
    "***"
   ]
  },
  {
   "cell_type": "markdown",
   "id": "f505f46e",
   "metadata": {},
   "source": [
    "# Table of Contents"
   ]
  },
  {
   "cell_type": "markdown",
   "id": "f590c6e3",
   "metadata": {},
   "source": [
    "1. [**Import Libraries**](#a1)<br>\n",
    "\n",
    "2. [**Customized Tokenizer**](#a2)<br>\n",
    "    \n",
    "3. [**Modelling Set Up**](#a3)<br>\n",
    "    3.1.[Split Variables](#a3.1)<br>\n",
    "    3.2.[Target Varaible Distribution](#a3.2)<br>\n",
    "    3.3.[Train Test Split](#a3.3)<br>\n",
    "    3.4.[Sampling](#a3.4)<br>\n",
    "    3.5.[Helper Function](#a3.5)<br>\n",
    "        \n",
    "4. [**Baseline Model**](#a4)<br>\n",
    "    4.1.[Baseline Model Evaluation](#a4.1)<br>\n",
    "5. [**Modelling**](#a5)<br>\n",
    "    5.1.[GridSearch_1: Genearl Sweep](#a5.1)<br>"
   ]
  },
  {
   "cell_type": "markdown",
   "id": "372f0775",
   "metadata": {},
   "source": [
    "***"
   ]
  },
  {
   "cell_type": "markdown",
   "id": "9497aff3",
   "metadata": {},
   "source": [
    "## Import Libraries <a id='a1'></a>"
   ]
  },
  {
   "cell_type": "code",
   "execution_count": 1,
   "id": "c5eff6a0",
   "metadata": {},
   "outputs": [
    {
     "name": "stderr",
     "output_type": "stream",
     "text": [
      "[nltk_data] Downloading package stopwords to\n",
      "[nltk_data]     C:\\Users\\12276\\AppData\\Roaming\\nltk_data...\n",
      "[nltk_data]   Package stopwords is already up-to-date!\n",
      "[nltk_data] Downloading package wordnet to\n",
      "[nltk_data]     C:\\Users\\12276\\AppData\\Roaming\\nltk_data...\n",
      "[nltk_data]   Package wordnet is already up-to-date!\n"
     ]
    }
   ],
   "source": [
    "# Main Libraries\n",
    "import numpy as np\n",
    "import pandas as pd\n",
    "import matplotlib.pyplot as plt\n",
    "import seaborn as sns\n",
    "\n",
    "# Scipy Library for sparse  matrix\n",
    "from scipy.sparse import csr_matrix\n",
    "\n",
    "# NLP Libraries\n",
    "import nltk\n",
    "import re\n",
    "import string\n",
    "import html\n",
    "import contractions\n",
    "import langid\n",
    "from nltk.tokenize import RegexpTokenizer\n",
    "from nltk.stem import WordNetLemmatizer\n",
    "from nltk.corpus import stopwords\n",
    "from langid.langid import LanguageIdentifier\n",
    "\n",
    "# Download from nltk\n",
    "nltk.download('stopwords')\n",
    "nltk.download('wordnet')\n",
    "\n",
    "# Feature Extraction Libraries\n",
    "from sklearn.feature_extraction.text import TfidfVectorizer\n",
    "from sklearn.feature_extraction.text import CountVectorizer\n",
    "\n",
    "# Dummy Classifer \n",
    "from sklearn.dummy import DummyClassifier\n",
    "\n",
    "# Modelling Libraries\n",
    "from sklearn.utils import resample\n",
    "from sklearn.model_selection import train_test_split\n",
    "from sklearn.linear_model import LogisticRegression\n",
    "from sklearn.neighbors import KNeighborsClassifier\n",
    "from sklearn.tree import DecisionTreeClassifier\n",
    "from sklearn.ensemble import RandomForestClassifier\n",
    "from sklearn.preprocessing import MinMaxScaler, StandardScaler, FunctionTransformer\n",
    "from sklearn.compose import ColumnTransformer\n",
    "from sklearn.pipeline import Pipeline\n",
    "from sklearn.model_selection import GridSearchCV\n",
    "\n",
    "# Evaluation Libraries\n",
    "from sklearn.metrics import confusion_matrix, ConfusionMatrixDisplay\n",
    "from sklearn.metrics import classification_report\n",
    "from sklearn.metrics import precision_score\n",
    "from sklearn.metrics import recall_score\n",
    "from sklearn.metrics import f1_score\n",
    "from sklearn.metrics import accuracy_score\n",
    "\n",
    "import joblib"
   ]
  },
  {
   "cell_type": "markdown",
   "id": "00db98bf",
   "metadata": {},
   "source": [
    "#### Loading Relevant Data"
   ]
  },
  {
   "cell_type": "code",
   "execution_count": 2,
   "id": "aae965a1",
   "metadata": {},
   "outputs": [],
   "source": [
    "# Load uncollapsed review data\n",
    "df_reviews_by_listing= joblib.load('data/df_reviews_by_listing.pkl')"
   ]
  },
  {
   "cell_type": "markdown",
   "id": "9834226c",
   "metadata": {},
   "source": [
    "#### Ignore userwarnings"
   ]
  },
  {
   "cell_type": "code",
   "execution_count": 180,
   "id": "e3b6a4bc",
   "metadata": {},
   "outputs": [],
   "source": [
    "import warnings\n",
    "\n",
    "# Ignore UserWarning\n",
    "warnings.filterwarnings('ignore', category=UserWarning)\n",
    "warnings.filterwarnings('ignore', category=FutureWarning)"
   ]
  },
  {
   "cell_type": "markdown",
   "id": "c6581506",
   "metadata": {},
   "source": [
    "***"
   ]
  },
  {
   "cell_type": "markdown",
   "id": "97cd4865",
   "metadata": {},
   "source": [
    "# Customized Text Tokenizer <a id='a2'></a>"
   ]
  },
  {
   "cell_type": "markdown",
   "id": "c8a5d316",
   "metadata": {},
   "source": [
    "Our ultimate goal is to use machine learning models to accurately predict guests' sentiment scores, determining whether they will give a rating of over 4.8 or not. To enable the models to comprehend the review texts, we must first separate the documents into individual tokens. This task requires defining various tokenizing requirements to remove irrelevant text components from the data. Therefore, our customized text tokenizer should be able to:\n",
    "- Lowercase text\n",
    "- Remove punctuations\n",
    "- Remove Whitespaces\n",
    "- Remove HTML white spaces of format <br/>\n",
    "- Remove emails\n",
    "- Remove emojis\n",
    "- Remove English Stop words\n",
    "- Remove special characters\n",
    "- Remove numbers\n",
    "- Remove weblinks\n",
    "- Expand contractions\n",
    "- Remove Non-English Text Characters (Mixed with English review that was not detected and filtered in the pre-processing stage)\n",
    "- Perfome Texts Lemmatization (each word is mapped to a fixed, meaningful common root form)"
   ]
  },
  {
   "cell_type": "code",
   "execution_count": 4,
   "id": "23d7baae",
   "metadata": {},
   "outputs": [],
   "source": [
    "def customized_tokenizer(sentence):\n",
    "    \n",
    "    # Remove HTML tags and entities\n",
    "    sentence = html.unescape(sentence)\n",
    "    sentence = re.sub(r'<[^>]+>', '', sentence)\n",
    "    \n",
    "    # Remove HTML white spaces \\r<br/> and <br/>\n",
    "    sentence = re.sub(r'(\\r<br/>)|(<br/>)', ' ', sentence)\n",
    "    \n",
    "    # Remove punctuations\n",
    "    sentence = re.sub(r'[^\\w\\s]', '', sentence)\n",
    "    \n",
    "    # Lowercase text\n",
    "    sentence = sentence.lower()\n",
    "    \n",
    "    # Remove whitespaces\n",
    "    sentence = re.sub(r'\\s+', ' ', sentence)\n",
    "    \n",
    "    # Remove emails\n",
    "    sentence = re.sub(r'\\S*@\\S*\\s?', '', sentence)\n",
    "    \n",
    "    # Remove emojis\n",
    "    sentence = sentence.encode('ascii', 'ignore').decode('ascii')\n",
    "    \n",
    "    # Remove special characters\n",
    "    sentence = re.sub(r'[^A-Za-z\\s]', '', sentence)\n",
    "    \n",
    "    # Remove numbers\n",
    "    sentence = re.sub(r'[0-9]+', '', sentence)\n",
    "    \n",
    "    # Remove weblinks\n",
    "    sentence = re.sub(r'http\\S+', '', sentence)\n",
    "    \n",
    "    # Expand contractions\n",
    "    sentence = contractions.fix(sentence)\n",
    "    \n",
    "    # Remove non-English text characters\n",
    "    if langid.classify(sentence)[0] != 'en':\n",
    "        sentence = ''\n",
    "    \n",
    "    # Remove English stopwords\n",
    "    eng_stop_words=stopwords.words('english')\n",
    "    eng_stop_words.extend(['apartment','flat','edinburgh','could', 'would', 'x']) # Append EDA insights driven stop words\n",
    "    stop_words = set(eng_stop_words)\n",
    "    tokens = sentence.split()\n",
    "    sentence = ' '.join([word for word in tokens if word.lower() not in stop_words])\n",
    "    \n",
    "    # Perform text stemming\n",
    "    lemmatizer = WordNetLemmatizer()\n",
    "    sentence = ' '.join([lemmatizer.lemmatize(word, pos = 'v') for word in sentence.split()])\n",
    "    \n",
    "    # Tokenize cleaned sentence\n",
    "    tokenizer = RegexpTokenizer(r'\\w+')\n",
    "    tokens = tokenizer.tokenize(sentence)\n",
    "    \n",
    "    return tokens"
   ]
  },
  {
   "cell_type": "markdown",
   "id": "37aec368",
   "metadata": {},
   "source": [
    "#### Save function as a pickle file"
   ]
  },
  {
   "cell_type": "code",
   "execution_count": 5,
   "id": "9b789d48",
   "metadata": {},
   "outputs": [
    {
     "data": {
      "text/plain": [
       "['data/customized_tokenizer.pkl']"
      ]
     },
     "execution_count": 5,
     "metadata": {},
     "output_type": "execute_result"
    }
   ],
   "source": [
    "joblib.dump(customized_tokenizer, 'data/customized_tokenizer.pkl')"
   ]
  },
  {
   "cell_type": "markdown",
   "id": "3b3a4f60",
   "metadata": {},
   "source": [
    "***"
   ]
  },
  {
   "cell_type": "markdown",
   "id": "8bb0b859",
   "metadata": {},
   "source": [
    "#### Check the uncollapsed review data shape"
   ]
  },
  {
   "cell_type": "code",
   "execution_count": 6,
   "id": "1a881930",
   "metadata": {},
   "outputs": [
    {
     "name": "stdout",
     "output_type": "stream",
     "text": [
      "The dataset contains all reviews listed individually is of dimension (470702, 46)\n"
     ]
    }
   ],
   "source": [
    "print(f'The dataset contains all reviews listed individually is of dimension {df_reviews_by_listing.shape}')"
   ]
  },
  {
   "cell_type": "markdown",
   "id": "5b9cb17f",
   "metadata": {},
   "source": [
    "# Modelling Set up <a id='a3'></a>"
   ]
  },
  {
   "cell_type": "markdown",
   "id": "8a1a4d59",
   "metadata": {},
   "source": [
    "## Split the variables <a id='a3.1'></a>"
   ]
  },
  {
   "cell_type": "markdown",
   "id": "a669293d",
   "metadata": {},
   "source": [
    "We need to split the variables into dependent and independent variables before we start fitting the model. The target variable will be the sentiment scores. We will focus on the overall sentiment score and attempt to further analyse the reviews with the other sub-rating transformed sentiment scores."
   ]
  },
  {
   "cell_type": "code",
   "execution_count": 7,
   "id": "c43258f2",
   "metadata": {},
   "outputs": [],
   "source": [
    "# Define X and y for the future model\n",
    "X = df_reviews_by_listing.drop(['listing_id',\n",
    "                               'Overall_sentiment',\n",
    "                               'accuracy_sentiment',\n",
    "                               'cleanliness_sentiment',\n",
    "                               'checkin_sentiment',\n",
    "                               'communication_sentiment',\n",
    "                               'location_sentiment',\n",
    "                               'value_sentiment'], axis=1)\n",
    "y = df_reviews_by_listing['Overall_sentiment']"
   ]
  },
  {
   "cell_type": "code",
   "execution_count": 8,
   "id": "e36fc6c9",
   "metadata": {},
   "outputs": [
    {
     "name": "stdout",
     "output_type": "stream",
     "text": [
      "X Shape: (470702, 38)\n",
      "y Shape: (470702,)\n"
     ]
    }
   ],
   "source": [
    "print(f\"X Shape: {X.shape}\")\n",
    "print(f\"y Shape: {y.shape}\")"
   ]
  },
  {
   "cell_type": "code",
   "execution_count": 9,
   "id": "e0ce381f",
   "metadata": {
    "scrolled": true
   },
   "outputs": [
    {
     "data": {
      "text/html": [
       "<div>\n",
       "<style scoped>\n",
       "    .dataframe tbody tr th:only-of-type {\n",
       "        vertical-align: middle;\n",
       "    }\n",
       "\n",
       "    .dataframe tbody tr th {\n",
       "        vertical-align: top;\n",
       "    }\n",
       "\n",
       "    .dataframe thead th {\n",
       "        text-align: right;\n",
       "    }\n",
       "</style>\n",
       "<table border=\"1\" class=\"dataframe\">\n",
       "  <thead>\n",
       "    <tr style=\"text-align: right;\">\n",
       "      <th></th>\n",
       "      <th>0</th>\n",
       "    </tr>\n",
       "  </thead>\n",
       "  <tbody>\n",
       "    <tr>\n",
       "      <th>host_response_rate</th>\n",
       "      <td>100.0</td>\n",
       "    </tr>\n",
       "    <tr>\n",
       "      <th>host_acceptance_rate</th>\n",
       "      <td>92.0</td>\n",
       "    </tr>\n",
       "    <tr>\n",
       "      <th>host_is_superhost</th>\n",
       "      <td>0</td>\n",
       "    </tr>\n",
       "    <tr>\n",
       "      <th>latitude</th>\n",
       "      <td>55.95759</td>\n",
       "    </tr>\n",
       "    <tr>\n",
       "      <th>longitude</th>\n",
       "      <td>-3.18805</td>\n",
       "    </tr>\n",
       "    <tr>\n",
       "      <th>accommodates</th>\n",
       "      <td>2</td>\n",
       "    </tr>\n",
       "    <tr>\n",
       "      <th>bathroom_num</th>\n",
       "      <td>1.0</td>\n",
       "    </tr>\n",
       "    <tr>\n",
       "      <th>beds</th>\n",
       "      <td>1.0</td>\n",
       "    </tr>\n",
       "    <tr>\n",
       "      <th>minimum_nights</th>\n",
       "      <td>3</td>\n",
       "    </tr>\n",
       "    <tr>\n",
       "      <th>maximum_nights</th>\n",
       "      <td>30</td>\n",
       "    </tr>\n",
       "    <tr>\n",
       "      <th>has_availability</th>\n",
       "      <td>0</td>\n",
       "    </tr>\n",
       "    <tr>\n",
       "      <th>number_of_reviews</th>\n",
       "      <td>532</td>\n",
       "    </tr>\n",
       "    <tr>\n",
       "      <th>number_of_reviews_ltm</th>\n",
       "      <td>82</td>\n",
       "    </tr>\n",
       "    <tr>\n",
       "      <th>instant_bookable</th>\n",
       "      <td>1</td>\n",
       "    </tr>\n",
       "    <tr>\n",
       "      <th>calculated_host_listings_count</th>\n",
       "      <td>1</td>\n",
       "    </tr>\n",
       "    <tr>\n",
       "      <th>calculated_host_listings_count_entire_homes</th>\n",
       "      <td>1</td>\n",
       "    </tr>\n",
       "    <tr>\n",
       "      <th>calculated_host_listings_count_private_rooms</th>\n",
       "      <td>0</td>\n",
       "    </tr>\n",
       "    <tr>\n",
       "      <th>calculated_host_listings_count_shared_rooms</th>\n",
       "      <td>0</td>\n",
       "    </tr>\n",
       "    <tr>\n",
       "      <th>reviews_per_month</th>\n",
       "      <td>3.38</td>\n",
       "    </tr>\n",
       "    <tr>\n",
       "      <th>private_bath</th>\n",
       "      <td>1</td>\n",
       "    </tr>\n",
       "    <tr>\n",
       "      <th>host_since_year</th>\n",
       "      <td>2009</td>\n",
       "    </tr>\n",
       "    <tr>\n",
       "      <th>host_since_month</th>\n",
       "      <td>12</td>\n",
       "    </tr>\n",
       "    <tr>\n",
       "      <th>first_review_year</th>\n",
       "      <td>2011</td>\n",
       "    </tr>\n",
       "    <tr>\n",
       "      <th>first_review_month</th>\n",
       "      <td>1</td>\n",
       "    </tr>\n",
       "    <tr>\n",
       "      <th>last_review_year</th>\n",
       "      <td>2023</td>\n",
       "    </tr>\n",
       "    <tr>\n",
       "      <th>last_review_month</th>\n",
       "      <td>12</td>\n",
       "    </tr>\n",
       "    <tr>\n",
       "      <th>host_from_Edinburgh</th>\n",
       "      <td>1</td>\n",
       "    </tr>\n",
       "    <tr>\n",
       "      <th>host_response_time_a few days or more</th>\n",
       "      <td>0</td>\n",
       "    </tr>\n",
       "    <tr>\n",
       "      <th>host_response_time_within a day</th>\n",
       "      <td>0</td>\n",
       "    </tr>\n",
       "    <tr>\n",
       "      <th>host_response_time_within a few hours</th>\n",
       "      <td>1</td>\n",
       "    </tr>\n",
       "    <tr>\n",
       "      <th>host_response_time_within an hour</th>\n",
       "      <td>0</td>\n",
       "    </tr>\n",
       "    <tr>\n",
       "      <th>host_verifications_email</th>\n",
       "      <td>1</td>\n",
       "    </tr>\n",
       "    <tr>\n",
       "      <th>host_verifications_phone</th>\n",
       "      <td>1</td>\n",
       "    </tr>\n",
       "    <tr>\n",
       "      <th>host_verifications_work_email</th>\n",
       "      <td>0</td>\n",
       "    </tr>\n",
       "    <tr>\n",
       "      <th>room_type_Entire home/apt</th>\n",
       "      <td>1</td>\n",
       "    </tr>\n",
       "    <tr>\n",
       "      <th>room_type_Hotel room</th>\n",
       "      <td>0</td>\n",
       "    </tr>\n",
       "    <tr>\n",
       "      <th>room_type_Private room</th>\n",
       "      <td>0</td>\n",
       "    </tr>\n",
       "    <tr>\n",
       "      <th>comments</th>\n",
       "      <td>My wife and I stayed at this beautiful apartme...</td>\n",
       "    </tr>\n",
       "  </tbody>\n",
       "</table>\n",
       "</div>"
      ],
      "text/plain": [
       "                                                                                              0\n",
       "host_response_rate                                                                        100.0\n",
       "host_acceptance_rate                                                                       92.0\n",
       "host_is_superhost                                                                             0\n",
       "latitude                                                                               55.95759\n",
       "longitude                                                                              -3.18805\n",
       "accommodates                                                                                  2\n",
       "bathroom_num                                                                                1.0\n",
       "beds                                                                                        1.0\n",
       "minimum_nights                                                                                3\n",
       "maximum_nights                                                                               30\n",
       "has_availability                                                                              0\n",
       "number_of_reviews                                                                           532\n",
       "number_of_reviews_ltm                                                                        82\n",
       "instant_bookable                                                                              1\n",
       "calculated_host_listings_count                                                                1\n",
       "calculated_host_listings_count_entire_homes                                                   1\n",
       "calculated_host_listings_count_private_rooms                                                  0\n",
       "calculated_host_listings_count_shared_rooms                                                   0\n",
       "reviews_per_month                                                                          3.38\n",
       "private_bath                                                                                  1\n",
       "host_since_year                                                                            2009\n",
       "host_since_month                                                                             12\n",
       "first_review_year                                                                          2011\n",
       "first_review_month                                                                            1\n",
       "last_review_year                                                                           2023\n",
       "last_review_month                                                                            12\n",
       "host_from_Edinburgh                                                                           1\n",
       "host_response_time_a few days or more                                                         0\n",
       "host_response_time_within a day                                                               0\n",
       "host_response_time_within a few hours                                                         1\n",
       "host_response_time_within an hour                                                             0\n",
       "host_verifications_email                                                                      1\n",
       "host_verifications_phone                                                                      1\n",
       "host_verifications_work_email                                                                 0\n",
       "room_type_Entire home/apt                                                                     1\n",
       "room_type_Hotel room                                                                          0\n",
       "room_type_Private room                                                                        0\n",
       "comments                                      My wife and I stayed at this beautiful apartme..."
      ]
     },
     "execution_count": 9,
     "metadata": {},
     "output_type": "execute_result"
    }
   ],
   "source": [
    "X.head(1).T"
   ]
  },
  {
   "cell_type": "code",
   "execution_count": 10,
   "id": "74f58e83",
   "metadata": {},
   "outputs": [
    {
     "data": {
      "text/plain": [
       "array([1, 0], dtype=int64)"
      ]
     },
     "execution_count": 10,
     "metadata": {},
     "output_type": "execute_result"
    }
   ],
   "source": [
    "y.unique()"
   ]
  },
  {
   "cell_type": "markdown",
   "id": "3c9b4732",
   "metadata": {},
   "source": [
    "The dependent variable stored as **X** contains all cleaned listing related numerical data as well as a column that contains the guest review data.\n",
    "\n",
    "The independent variable stored as **y** contains the **Overall sentiment score** that was transformed from the listing's average overall rating score:\n",
    "- 1 was denoted by Overall rating score > 4.8\n",
    "- 0 was denoted by Overall rating score < 4.8"
   ]
  },
  {
   "cell_type": "markdown",
   "id": "c6c964fb",
   "metadata": {},
   "source": [
    "***"
   ]
  },
  {
   "cell_type": "markdown",
   "id": "3ec8c907",
   "metadata": {},
   "source": [
    "## Target Variable Distribution <a id='a3.2'></a>"
   ]
  },
  {
   "cell_type": "markdown",
   "id": "c8fcfd84",
   "metadata": {},
   "source": [
    "In the EDA notebook, we analyzed the distribution of overall sentiments in the listing data and showed that the scores are balanced (**1: 58%, 0: 42%**). Now that we've merged all reviews with their corresponding listings and attached sentiment scores, it's important to recheck the distribution to ensure that the sentiment scores remain balanced after the data merging process."
   ]
  },
  {
   "cell_type": "code",
   "execution_count": 11,
   "id": "f062eb07",
   "metadata": {
    "scrolled": true
   },
   "outputs": [
    {
     "data": {
      "image/png": "[encoded data removed]",
      "text/plain": [
       "<Figure size 1000x600 with 1 Axes>"
      ]
     },
     "metadata": {},
     "output_type": "display_data"
    }
   ],
   "source": [
    "# Create distribution results for our target variable\n",
    "overall_sentiment_distribution=round(df_reviews_by_listing['Overall_sentiment'].value_counts(normalize=True).sort_index()*100, 2)\n",
    "\n",
    "# Determine figure size\n",
    "plt.figure(figsize=(10,6))\n",
    "\n",
    "# Create barplot\n",
    "ax = overall_sentiment_distribution.plot.bar(color='#FF5A5F')\n",
    "\n",
    "# Add labels\n",
    "plt.title('Overall Sentiment Distribution for All Reviews', fontsize=18)\n",
    "plt.xlabel('Overall Sentiment', fontsize=15)\n",
    "plt.ylabel('Proportion (%)', fontsize=15)\n",
    "plt.bar_label(ax.containers[0], size=14)\n",
    "plt.xticks(rotation = 360)\n",
    "\n",
    "plt.tight_layout()  \n",
    "plt.show()"
   ]
  },
  {
   "cell_type": "markdown",
   "id": "dfad260a",
   "metadata": {},
   "source": [
    "The current sentiment score distribution (37:63) is not as balanced as it was analysed in the listing level. This imbalance indicates a potential bias in the dataset, with a disproportionate number of reviews having positive sentiments compared to negative sentiments.\n",
    "\n",
    "To address this issue, we plan to **downsample** reviews with positive sentiments in the next sampling stage. This approach aims to create a more even distribution of the target variable, enhancing the model's ability to generalize across different sentiment categories. However, to avoid potential **data leakage**, we will only perform sampling on the **training** dataset after **Train Test Split**.\n",
    "\n",
    "We also conclude that this imbalance may be attributed to positive review bias, where guests are more inclined to leave positive reviews. Additionally, the reinforcement effect further amplifies this bias, as the presence of positive reviews may influence subsequent guests to also leave positive reviews."
   ]
  },
  {
   "cell_type": "markdown",
   "id": "c7486abc",
   "metadata": {},
   "source": [
    "***"
   ]
  },
  {
   "cell_type": "markdown",
   "id": "35f94cdd",
   "metadata": {},
   "source": [
    "## Train Test Split <a id='a3.4'></a>"
   ]
  },
  {
   "cell_type": "markdown",
   "id": "a91f9bcf",
   "metadata": {},
   "source": [
    "The modelling process starts by splitting our dataset into training and testing sets. This procedure is fundamental for the effective evaluation of our model performance.\n",
    "\n",
    "The training data is implemented upon which our model is built and refined, and the testing data provides the benchmark for assessing the model's predictive performance on unseen data. This ensures us to mitigate the risk of **overfitting**, as our model will not just memorize the data pattern but rather learns to generalize on new, unseen data.\n",
    "\n",
    "Additionally, it is important that this splitting process must precede any data transformation steps including random sampling, text vectorization and scaling to prevent potential **data leakage**."
   ]
  },
  {
   "cell_type": "code",
   "execution_count": 12,
   "id": "e3c631f9",
   "metadata": {},
   "outputs": [
    {
     "name": "stdout",
     "output_type": "stream",
     "text": [
      "The number of rows obtained in the training data is 376561, with 38 feature columns.\n",
      "The number of rows obtained in the testing data is 94141, with 38 feature columns.\n"
     ]
    }
   ],
   "source": [
    "# Split test data as 30% of all data, determine random state to make sure every split is the same\n",
    "X_train, X_test, y_train, y_test = train_test_split(X, y, test_size=0.2, random_state=123)\n",
    "\n",
    "# Show the number of rows for training and testing dataset\n",
    "print(f'The number of rows obtained in the training data is {X_train.shape[0]}, with {X_train.shape[1]} feature columns.')\n",
    "print(f'The number of rows obtained in the testing data is {X_test.shape[0]}, with {X_train.shape[1]} feature columns.')"
   ]
  },
  {
   "cell_type": "markdown",
   "id": "a25ae312",
   "metadata": {},
   "source": [
    "***"
   ]
  },
  {
   "cell_type": "markdown",
   "id": "7804603b",
   "metadata": {},
   "source": [
    "## Sampling <a id='a3.3'></a>"
   ]
  },
  {
   "cell_type": "markdown",
   "id": "31881043",
   "metadata": {},
   "source": [
    "Since we have a large training dataset with nearly 330k rows and an imbalanced target variable, we will perform **downsampling** on the training dataset by randomly select a balanced number of rows for both positive labelled rows and negative labelled rows.\n",
    "\n",
    "We will eventually select 3% of the original training dataset."
   ]
  },
  {
   "cell_type": "code",
   "execution_count": 14,
   "id": "d8216bd1",
   "metadata": {},
   "outputs": [],
   "source": [
    "# Define function that can perform downsampling on training data and make it perfectly balanced\n",
    "def downsample_train(X_train, y_train, target, proportion):\n",
    "    '''\n",
    "    Function only works on target variable as binary column. \n",
    "    \n",
    "    Returns downsampled X_train and y_train which\n",
    "    has downsampled to specified proportion of original\n",
    "    data, also makes sure y_train is balanced\n",
    "    \n",
    "    PARAMETERS:\n",
    "    - X_train: dataframe, splitted feature training data\n",
    "    - y_train: dataframe, splitted farget training data\n",
    "    - target: str, target variable name\n",
    "    - proportion: float, specified downsample proportion of total training data\n",
    "    \n",
    "    RETURNS:\n",
    "    - X_train_sample: Downsampled X_train\n",
    "    - y_train_sample: Downsampled y_train\n",
    "    \n",
    "    '''\n",
    "    # Specify number of rows for each class \n",
    "    num_rows_each = round(proportion*X_train.shape[0]/2)\n",
    "    \n",
    "    # Temporarily concatenate X_train and y_train back to dataframe format\n",
    "    df_train = pd.concat([X_train, y_train], axis=1)\n",
    "    \n",
    "    # Split classes\n",
    "    df_pos = df_train[df_train[target] == 1]\n",
    "    df_neg = df_train[df_train[target] == 0]\n",
    "    \n",
    "    # Resplit X and y for both two classes\n",
    "    X_pos, y_pos = df_pos.drop(target, axis=1), df_pos[target]\n",
    "    X_neg, y_neg = df_neg.drop(target, axis=1), df_neg[target]\n",
    "    \n",
    "    # Select randomized samples from each class\n",
    "    X_pos_sample, y_pos_sample = resample(X_pos, y_pos, random_state=123, n_samples = num_rows_each, replace=False, stratify=y_pos)\n",
    "    X_neg_sample, y_neg_sample = resample(X_neg, y_neg, random_state=123, n_samples = num_rows_each, replace=False, stratify=y_neg)\n",
    "    \n",
    "    # Concatenate back downsampled data\n",
    "    X_train_sample = pd.concat([X_pos_sample, X_neg_sample], axis=0)\n",
    "    y_train_sample = pd.concat([y_pos_sample, y_neg_sample], axis=0)\n",
    "    \n",
    "    return X_train_sample, y_train_sample"
   ]
  },
  {
   "cell_type": "code",
   "execution_count": 15,
   "id": "6618a742",
   "metadata": {},
   "outputs": [],
   "source": [
    "# Return downsampled training data\n",
    "X_train_sample, y_train_sample = downsample_train(X_train, y_train, 'Overall_sentiment', 0.03)"
   ]
  },
  {
   "cell_type": "code",
   "execution_count": 16,
   "id": "4d6fbed9",
   "metadata": {},
   "outputs": [
    {
     "name": "stdout",
     "output_type": "stream",
     "text": [
      "The current proportion of each sentiment score class is (%)\n",
      "1    50.0\n",
      "0    50.0\n",
      "Name: Overall_sentiment, dtype: float64\n",
      "\n",
      "--------------------------------------------\n",
      "\n",
      "The current number of rows in the training data is 11296\n"
     ]
    }
   ],
   "source": [
    "# Check for current target variable distribution\n",
    "print('The current proportion of each sentiment score class is (%)')\n",
    "print((y_train_sample.value_counts(normalize=True))*100)\n",
    "print('\\n--------------------------------------------\\n')\n",
    "print(f'The current number of rows in the training data is {X_train_sample.shape[0]}')"
   ]
  },
  {
   "cell_type": "markdown",
   "id": "e5d042c0",
   "metadata": {},
   "source": [
    "Thus we have downsampled our training data nearly 330k (376561) rows to just over 10k (11296), and we also obtained a balanced training data. We will hope that this will potentially improve our model performance and also help the models to generalize well in the testing set."
   ]
  },
  {
   "cell_type": "markdown",
   "id": "e338d9c3",
   "metadata": {},
   "source": [
    "***"
   ]
  },
  {
   "cell_type": "markdown",
   "id": "d942a090",
   "metadata": {},
   "source": [
    "## Helper Function <a id='a3.5'></a>"
   ]
  },
  {
   "cell_type": "markdown",
   "id": "943d4829",
   "metadata": {},
   "source": [
    "Our dataset includes multiple non-review features, in the later text vectorization stage, it is not necessary for these columns to be processed by the vectorizers. Hence, we require a helper function to handle these numerical columns separately, and generate a column transformer based on our selection on different text vectorizers including `CountVectorizer` and `TfidfVectorizer`. \n",
    "\n",
    "Additionally, the numerical features in our dataset vary across different ranges, necessitating the scaling of data during the modeling stage. However, the text vectorizers will return a sparse matrix after transformation, while scalers like `StandardScaler` and `MinMaxScaler` require a dense array as input. Hence, we'll also need a function to convert the sparse matrix into a dense array.\n",
    "\n",
    "This code is borrowed from [Allistair Cota](https://github.com/allistaircota/rate_my_restaurant/blob/main/notebooks/NB3-Modelling.ipynb)."
   ]
  },
  {
   "cell_type": "markdown",
   "id": "0e8f66c0",
   "metadata": {},
   "source": [
    "| Vectorizer  | Scaler| \n",
    "|:-------:|:--------:|\n",
    "|[TF-IDF Vectorizer](https://scikit-learn.org/stable/modules/generated/sklearn.feature_extraction.text.TfidfVectorizer.html#sklearn.feature_extraction.text.TfidfVectorizer) |  [StandardScaler](https://scikit-learn.org/stable/modules/generated/sklearn.preprocessing.StandardScaler.html)  |\n",
    "|[Count-Vectorizer](https://en.wikipedia.org/wiki/Bag-of-words_model)  |[MinMaxScaler](https://scikit-learn.org/stable/modules/generated/sklearn.preprocessing.MinMaxScaler.html) |"
   ]
  },
  {
   "cell_type": "code",
   "execution_count": 17,
   "id": "9033142d",
   "metadata": {},
   "outputs": [],
   "source": [
    "# Extract numerical column names\n",
    "numeric_columns = X.select_dtypes(exclude='object').columns.to_list()\n",
    "\n",
    "def define_col_trans(input_text, vectorizer):\n",
    "    '''\n",
    "    Returns a ColumnTransformer which first performs a \n",
    "    passthrough on the numeric columns, then applies\n",
    "    a vectorizer on the `text` column\n",
    "    \n",
    "    PARAMETERS:\n",
    "    - input_text: str, to name the vectorizer tuple\n",
    "    - vectorizer: Sklearn text vectorizer\n",
    "    \n",
    "    RETURNS:\n",
    "    - col_trans: sklearn ColumnTransformer\n",
    "    \n",
    "    '''\n",
    "    \n",
    "    col_trans = ColumnTransformer([\n",
    "        ('numeric', 'passthrough', numeric_columns), # numerical_columns defined above\n",
    "        (input_text, vectorizer, 'comments') # 'comments' as review text feature column\n",
    "    ])\n",
    "    \n",
    "    return col_trans\n",
    "\n",
    "def convert_to_array(sparse_matrix):\n",
    "    '''\n",
    "    Converts sparse matrix to dense array\n",
    "    \n",
    "    PARAMETERS:\n",
    "    - sparse_matrix: scipy.sparse.csr_matrix or numpy array\n",
    "    \n",
    "    RETURNS:\n",
    "    - If sparse_matrix is not a scipy.sparse.csr_matrix,\n",
    "      sparse_matrix is returned. Else, returns the dense array\n",
    "      form of sparse_matrix.\n",
    "    \n",
    "    '''\n",
    "    \n",
    "    if type(sparse_matrix) == csr_matrix:\n",
    "    \n",
    "        return sparse_matrix.toarray()\n",
    "    \n",
    "    else:\n",
    "        return sparse_matrix"
   ]
  },
  {
   "cell_type": "markdown",
   "id": "a014e180",
   "metadata": {},
   "source": [
    "#### Text vectorizer list"
   ]
  },
  {
   "cell_type": "code",
   "execution_count": 18,
   "id": "4393dc82",
   "metadata": {},
   "outputs": [],
   "source": [
    "# Define column transformers\n",
    "ct_bow = define_col_trans('ct_bow',  CountVectorizer(max_df=0.95, min_df=5, tokenizer=customized_tokenizer))\n",
    "ct_tfidf = define_col_trans('ct_tfidf',  TfidfVectorizer(max_df=0.95, min_df=5, tokenizer=customized_tokenizer))"
   ]
  },
  {
   "cell_type": "markdown",
   "id": "d4517b42",
   "metadata": {},
   "source": [
    "***"
   ]
  },
  {
   "cell_type": "markdown",
   "id": "5e5a9559",
   "metadata": {},
   "source": [
    "# Baseline Model <a id='a4'></a>"
   ]
  },
  {
   "cell_type": "markdown",
   "id": "30130fdf",
   "metadata": {},
   "source": [
    "As we are developing the best performed models for predicting the class of guest sentiments, it is crucial to establish a baseline model for comparison. We will utilise a **Dummy Classifier** model, which makes predictions without accessing dataset features, essentially performing random guessing. By establishing this baseline, we can decide that any model performing worse than the baseline model will not proceed to further analysis.\n",
    "\n",
    "**Run Time**: 3mins 30s"
   ]
  },
  {
   "cell_type": "code",
   "execution_count": 34,
   "id": "9f725f0f",
   "metadata": {},
   "outputs": [
    {
     "name": "stdout",
     "output_type": "stream",
     "text": [
      "X_train_transfomed_dummy : (11296, 537)\n",
      "CPU times: total: 3min 30s\n",
      "Wall time: 3min 31s\n"
     ]
    }
   ],
   "source": [
    "# Vectorize data using Bag of Words Vectorizer\n",
    "bow_vec = CountVectorizer(max_features = 500, # Only obtain top 500 features based on vectorizer results\n",
    "                            min_df=5, # Feature occurency should be bigger than 5 in the corpus\n",
    "                            tokenizer=customized_tokenizer)\n",
    "\n",
    "# Fit and transform on the vectorizer to training data\n",
    "X_train_tfidf_d = bow_vec.fit_transform(X_train_sample['comments']).toarray()\n",
    "\n",
    "# Transform on both training data and testing data\n",
    "X_test_tfidf_d = bow_vec.transform(X_test['comments']).toarray()\n",
    "\n",
    "# Reset Index before concatenating\n",
    "X_train_sample_reset_index = X_train_sample.reset_index(drop=True)\n",
    "X_test_reset_index = X_test.reset_index(drop=True)\n",
    "\n",
    "# Merge the resulting arrays with the original numeric features\n",
    "X_train_tfidf_d_transformed = pd.concat([X_train_sample_reset_index.drop(['comments'], axis=1),\n",
    "                                         pd.DataFrame(X_train_tfidf_d, columns=[i for i in bow_vec.get_feature_names_out()])], axis=1)\n",
    "\n",
    "X_test_tfidf_d_transformed = pd.concat([X_test_reset_index.drop(['comments'], axis=1), \n",
    "                                        pd.DataFrame(X_test_tfidf_d, columns=[i for i in bow_vec.get_feature_names_out()])], axis = 1)\n",
    "\n",
    "# Print shape of the vectorized training feature data\n",
    "print(f'X_train_transfomed_dummy : {X_train_tfidf_d_transformed.shape}')"
   ]
  },
  {
   "cell_type": "code",
   "execution_count": 36,
   "id": "acaddbc6",
   "metadata": {},
   "outputs": [
    {
     "name": "stdout",
     "output_type": "stream",
     "text": [
      "The Accuracy Score (%) for the Baseline Model is: 37.38 %\n"
     ]
    }
   ],
   "source": [
    "# # Dummy Classifier - Baseline Model\n",
    "# Instantiate Dummy Classifier\n",
    "dummy_classifier = DummyClassifier()\n",
    "\n",
    "# Fit the Dummy Classifier on Training data\n",
    "dummy_classifier.fit(X_train_tfidf_d_transformed, y_train_sample)\n",
    "\n",
    "# Predict the fitted model on Testing Data\n",
    "y_predict_d = dummy_classifier.predict(X_test_tfidf_d_transformed)\n",
    "\n",
    "# Print F1 score\n",
    "print(f'The Accuracy Score (%) for the Baseline Model is: {round(accuracy_score(y_test, y_predict_d)*100, 2)} %')"
   ]
  },
  {
   "cell_type": "markdown",
   "id": "c6da9703",
   "metadata": {},
   "source": [
    "#### Classification report <a id='a4.1'></a>"
   ]
  },
  {
   "cell_type": "code",
   "execution_count": 37,
   "id": "1bd46eda",
   "metadata": {},
   "outputs": [
    {
     "name": "stdout",
     "output_type": "stream",
     "text": [
      "              precision    recall  f1-score   support\n",
      "\n",
      "           0       0.37      1.00      0.54     35192\n",
      "           1       0.00      0.00      0.00     58949\n",
      "\n",
      "    accuracy                           0.37     94141\n",
      "   macro avg       0.19      0.50      0.27     94141\n",
      "weighted avg       0.14      0.37      0.20     94141\n",
      "\n"
     ]
    }
   ],
   "source": [
    "# Generate classification report to see specific classification evaluation metrics scores\n",
    "baseline_report = classification_report(y_test, y_predict_d)\n",
    "print(baseline_report)"
   ]
  },
  {
   "cell_type": "markdown",
   "id": "82453c87",
   "metadata": {},
   "source": [
    "Based on the findings from the classification report, the model classification accuracy score achieved by the dummy classifier is **37.38%**. This baseline performance indicates that future models should aim to surpass this threshold to be considered effective. Therefore, our goal for future models is to achieve an accuracy score higher than 38%, indicating improved predictive capability and accuracy in classifying sentiments. \n",
    "\n",
    "**Note**: This result is reflected by the actual proportion of negative sentiments in the testing dataset as Dummy Classifier takes random guesses."
   ]
  },
  {
   "cell_type": "markdown",
   "id": "9d3bac38",
   "metadata": {},
   "source": [
    "***"
   ]
  },
  {
   "cell_type": "markdown",
   "id": "45724545",
   "metadata": {},
   "source": [
    "# Modelling <a id='a5'></a>"
   ]
  },
  {
   "cell_type": "markdown",
   "id": "932b741c",
   "metadata": {},
   "source": [
    "After completing data cleaning, pre-processing, and model setup stages, we are ready to train models and make predictions. To determine the best-performing model, we will utilize **GridSearchCV** to find the optimal model with the best hyperparameters. Machine learning metrics and models to be used in our modeling process include:\n",
    "\n",
    "- Text Vectorizer: Bag of Words, TF-IDF\n",
    "- Scaler: StandardScaler\n",
    "- Models: Logistic Regression, Decision Tree Classifier, Random Forest Classifier.\n",
    "\n",
    "Note that for performance purposes, we will be vectorizing the datasets outside of grid search. We will then fit combinations of models to the training data that has been transformed by two types of text vectorizations. During the fitting process, **5-fold cross-validation** will be performed to improve model performance and interpretability. Finally, the model with the highest average validation F1 score will be selected and evaluated at the end of each GridSearch."
   ]
  },
  {
   "cell_type": "code",
   "execution_count": 42,
   "id": "d1b09cb5",
   "metadata": {},
   "outputs": [],
   "source": [
    "# Fit and transform on training data using two types of vectorizers\n",
    "X_train_ct_bow = ct_bow.fit_transform(X_train_sample)\n",
    "X_train_ct_tfidf= ct_tfidf.fit_transform(X_train_sample)"
   ]
  },
  {
   "cell_type": "markdown",
   "id": "ace0f7a8",
   "metadata": {},
   "source": [
    "## GridSearch_1: General Sweep <a id='a5.1'></a>"
   ]
  },
  {
   "cell_type": "markdown",
   "id": "2f21ab8a",
   "metadata": {},
   "source": [
    "During the first GridSearch, we will be searching for optimal hyperparameters over wide range implementing on the **Logistic Regresion** and **Decision Tree Classifier**. This GridSearch will be run and fitted on two vectorized training sets defined above and we will evaluate the model performances with a brief summary. The selections of models and parameters are summarized below:"
   ]
  },
  {
   "cell_type": "markdown",
   "id": "5988dbac",
   "metadata": {},
   "source": [
    "|    Models   |    Hyperparameters   |   Ranges/Options  |\n",
    "|:-------------:|:-------------:|:-------------:|\n",
    "|    **TfidfVectorizer**     |     max_df   |    0.95     |\n",
    "|                  |     min_df  |    5       |\n",
    "|       **CountVectorizer**           |     max_df  |    0.95       |\n",
    "|                  |     min_df  |    5       |\n",
    "|    **Logistic Regression**     |    C     |    0.001, 0.01, 0.1, 1, 10    |\n",
    "|         |    penalty     |    'none', 'l2'     | \n",
    "|    **Decision Tree**     |     max_depth    |     2, 8, 32, 64, 128    |\n",
    "|                 |    min_samples_leaf     |     2, 4, 8    |\n",
    "|                 |     min_samples_split    |     2, 4, 8    |\n",
    "|                 |     criterion    |     'gini', 'entropy'    |"
   ]
  },
  {
   "cell_type": "code",
   "execution_count": 43,
   "id": "5def9d0a",
   "metadata": {
    "scrolled": true
   },
   "outputs": [
    {
     "name": "stdout",
     "output_type": "stream",
     "text": [
      "CPU times: total: 14.9 s\n",
      "Wall time: 49min 11s\n"
     ]
    }
   ],
   "source": [
    "%%time\n",
    "\n",
    "# First GridSearch\n",
    "\n",
    "# Define base pipeline\n",
    "pipeline_1 = Pipeline([\n",
    "    ('sparse_to_dense', FunctionTransformer(convert_to_array, accept_sparse=True)),\n",
    "    ('scaler', StandardScaler()),\n",
    "    ('model', LogisticRegression())\n",
    "])\n",
    "\n",
    "# Instantiate Pipeline with grid of parameters\n",
    "grid_param_1 = [\n",
    "    \n",
    "    # Logistic Regression\n",
    "    {\n",
    "        'model'              : [LogisticRegression()],\n",
    "        'model__C'           : [0.001, 0.01, 0.1, 1, 10], # C parameter to control penalty weights\n",
    "        'model__penalty'     : ['none', 'l2'], # Control penalty types, l1: Lasso, l2: Ridge\n",
    "        'model__random_state': [123], # Control gradient descent starting point\n",
    "        'model__max_iter'    : [10000] # Make sure model iterates\n",
    "    },\n",
    "    \n",
    "    # Decision Tree Classifier\n",
    "    {\n",
    "        'model'                   : [DecisionTreeClassifier()],\n",
    "        'model__max_depth'        : [2, 8, 32, 64, 128], # Control number of tree splits/depth\n",
    "        'model__min_samples_leaf' : [2, 4, 8], # Control minimum number of samples at a leaf node\n",
    "        'model__min_samples_split': [2, 4, 8], # Control minimum number of samples split at a leaf node\n",
    "        'model__criterion'        : ['gini', 'entropy'], # Control the function to measure the quality of a split\n",
    "        'model__random_state'     :[123] # Control randomness of the estimator\n",
    "    }\n",
    "]\n",
    "\n",
    "# Use GridSearch\n",
    "grid_1 = GridSearchCV(estimator=pipeline_1, # Define GridSearch estimator pipeline\n",
    "                     param_grid=grid_param_1, # Define parameter grid\n",
    "                     cv=5, # Define 5-fold cross-validation\n",
    "                     n_jobs=-2) \n",
    "\n",
    "# Fit the grid on training data\n",
    "fittedgrid_1_bow = grid_1.fit(X_train_ct_bow, y_train_sample)\n",
    "fittedgrid_1_tfidf = grid_1.fit(X_train_ct_tfidf, y_train_sample)\n",
    "\n",
    "# Save GridSearch_1\n",
    "grid_model_1_bow = fittedgrid_1_bow\n",
    "grid_model_1_tfidf = fittedgrid_1_tfidf"
   ]
  },
  {
   "cell_type": "markdown",
   "id": "8eb9d2bd",
   "metadata": {},
   "source": [
    "#### Selected model results with Bag of Words transformed data "
   ]
  },
  {
   "cell_type": "code",
   "execution_count": 78,
   "id": "9817ca04",
   "metadata": {},
   "outputs": [
    {
     "name": "stdout",
     "output_type": "stream",
     "text": [
      "\n",
      "--------------------\n",
      "\n",
      "Pipeline(steps=[('sparse_to_dense',\n",
      "                 FunctionTransformer(accept_sparse=True,\n",
      "                                     func=<function convert_to_array at 0x000001E792BC9440>)),\n",
      "                ('scaler', StandardScaler()),\n",
      "                ('model',\n",
      "                 DecisionTreeClassifier(criterion='entropy', max_depth=32,\n",
      "                                        min_samples_leaf=2,\n",
      "                                        random_state=123))])\n",
      "\n",
      "--------------------\n",
      "\n",
      "Best Model Train Score (%): 97.35\n",
      "\n",
      "--------------------\n",
      "\n",
      "Best Model Test Score (%): 93.62\n"
     ]
    }
   ],
   "source": [
    "print('\\n--------------------\\n')\n",
    "print(fittedgrid_1_bow.best_estimator_)\n",
    "\n",
    "# Print Crossvalidated Score\n",
    "print('\\n--------------------\\n')\n",
    "print(f'Best Model Train Score (%): {round(fittedgrid_1_bow.score(X_train_ct_bow, y_train_sample)*100.00, 2)}') \n",
    "\n",
    "# Print Testing Score\n",
    "print('\\n--------------------\\n')\n",
    "\n",
    "# Vectorize on training data before the implementation of the fittedgrid\n",
    "X_test_ct_bow = ct_bow.transform(X_test)\n",
    "print(f'Best Model Test Score (%): {round(fittedgrid_1_bow.score(X_test_ct_bow, y_test)*100, 2)}') "
   ]
  },
  {
   "cell_type": "markdown",
   "id": "bb6452b0",
   "metadata": {},
   "source": [
    "#### Selected model results with TF-IDF transformed data "
   ]
  },
  {
   "cell_type": "code",
   "execution_count": 114,
   "id": "dd248403",
   "metadata": {},
   "outputs": [
    {
     "name": "stdout",
     "output_type": "stream",
     "text": [
      "\n",
      "--------------------\n",
      "\n",
      "Pipeline(steps=[('sparse_to_dense',\n",
      "                 FunctionTransformer(accept_sparse=True,\n",
      "                                     func=<function convert_to_array at 0x000001E792BC9440>)),\n",
      "                ('scaler', StandardScaler()),\n",
      "                ('model',\n",
      "                 DecisionTreeClassifier(criterion='entropy', max_depth=32,\n",
      "                                        min_samples_leaf=2,\n",
      "                                        random_state=123))])\n",
      "\n",
      "--------------------\n",
      "\n",
      "Best Model Train Score (%): 99.27\n",
      "\n",
      "--------------------\n",
      "\n",
      "Best Model Test Score (%): 94.43\n"
     ]
    }
   ],
   "source": [
    "print('\\n--------------------\\n')\n",
    "print(fittedgrid_1_tfidf.best_estimator_)\n",
    "\n",
    "# Print Score\n",
    "print('\\n--------------------\\n')\n",
    "print(f'Best Model Train Score (%): {round(fittedgrid_1_tfidf.score(X_train_ct_tfidf, y_train_sample)*100.00, 2)}') \n",
    "\n",
    "# Print Testing Score\n",
    "print('\\n--------------------\\n')\n",
    "# Vectorize on training data before the implementation of the fittedgrid\n",
    "X_test_ct_tfidf = ct_tfidf.transform(X_test)\n",
    "print(f'Best Model Test Score (%): {round(fittedgrid_1_tfidf.score(X_test_ct_tfidf, y_test)*100, 2)}') "
   ]
  },
  {
   "cell_type": "markdown",
   "id": "84c46dce",
   "metadata": {},
   "source": [
    "#### Indicating Words"
   ]
  },
  {
   "cell_type": "code",
   "execution_count": 211,
   "id": "557c750b",
   "metadata": {},
   "outputs": [],
   "source": [
    "def extract_key_words_plot(grid, ct, n_words, ct_prefix):\n",
    "    '''\n",
    "    Returns a barplot that shows the top words with\n",
    "    highest coefficients in the selected best model\n",
    "    in the fitted GridSearch\n",
    "    \n",
    "    PARAMETERS:\n",
    "    - grid: Fitted resulted Grid\n",
    "    - ct: Column Transformer\n",
    "    - n_words: int, Number of words that will be shown in the plot\n",
    "    - ct_prefix: str, The prefix of the word features\n",
    "    \n",
    "    RETURNS:\n",
    "    - barplot that shows the top indicating words for the best model \n",
    "    \n",
    "    '''  \n",
    "    # Extract the best model from grid search result\n",
    "    best_model= grid.best_estimator_\n",
    "    \n",
    "    # Extract feature coefficients out of best model in the resulted grid\n",
    "    coefficients = best_model.named_steps['model'].feature_importances_\n",
    "    \n",
    "    # Extract feature names from column transformer\n",
    "    feature_names = ct.get_feature_names_out()\n",
    "    \n",
    "    # Generate column indicate if the feature is numerical or word related\n",
    "    if_word=[]\n",
    "    for i in range(len(feature_names)):\n",
    "        if feature_names[i][0] == 'n':\n",
    "            if_word.append(0)\n",
    "        else:\n",
    "            if_word.append(1)\n",
    "    \n",
    "    # create dataframe contains feature names with corresponding coefficients resulted from best model\n",
    "    df_features = pd.DataFrame({'coefficients':coefficients, 'feature_names': feature_names, 'if_word': if_word})     \n",
    "    \n",
    "    # Split into numerical feature dataframe and word feature daraframe\n",
    "    df_word = df_features[df_features['if_word']==1]\n",
    "    df_num =  df_features[df_features['if_word']==0]\n",
    "    \n",
    "    # Order the features based on coefficients and remove prefix\n",
    "    df_word = df_word.sort_values('coefficients', ascending=False).reset_index(drop=True).loc[:n_words-1]\n",
    "    df_num = df_num.sort_values('coefficients', ascending=False).reset_index(drop=True).loc[:n_words-5]\n",
    "    \n",
    "    # Plot separate plots for word features and numerical features on two subplots\n",
    "    \n",
    "    plt.subplots(1, 2, figsize=(16,6))  # one row, two columns \n",
    "    \n",
    "    # Word Features plot\n",
    "    plt.subplot(1,2, 1)  # slot 1\n",
    "    plt.bar(height=df_word['coefficients'], x=df_word['feature_names'].str.replace(ct_prefix+'__', ''), color='#FF5A5F')\n",
    "    plt.title(f'Top {n_words} Indicating words')\n",
    "    plt.xlabel('Word Features')\n",
    "    plt.ylabel('Model Coefficients')\n",
    "    plt.xticks(rotation=45)\n",
    "    \n",
    "    # Numerical Features plot\n",
    "    plt.subplot(1,2, 2)  # slot 2\n",
    "    plt.bar(height=df_num['coefficients'], x=df_num['feature_names'].str.replace('numeric__', ''), color='#FF5A5F')\n",
    "    plt.title(f'Top {n_words-4} Indicating Listing Features')\n",
    "    plt.xlabel('Listing Features')\n",
    "    plt.ylabel('Model Coefficients')\n",
    "    plt.xticks(rotation=45)\n",
    "    \n",
    "    plt.show()"
   ]
  },
  {
   "cell_type": "code",
   "execution_count": 212,
   "id": "7c92af34",
   "metadata": {},
   "outputs": [
    {
     "data": {
      "image/png": "[encoded data removed]",
      "text/plain": [
       "<Figure size 1600x600 with 2 Axes>"
      ]
     },
     "metadata": {},
     "output_type": "display_data"
    }
   ],
   "source": [
    "extract_key_words_plot(fittedgrid_1_bow, ct_bow, 10, 'ct_bow')"
   ]
  },
  {
   "cell_type": "markdown",
   "id": "ebc1ab1a",
   "metadata": {},
   "source": [
    "#### GridSearch_1 Result Summary"
   ]
  },
  {
   "cell_type": "code",
   "execution_count": 213,
   "id": "11c130c5",
   "metadata": {
    "scrolled": false
   },
   "outputs": [
    {
     "name": "stdout",
     "output_type": "stream",
     "text": [
      "GridSearch 1 Cross Validation Results\n"
     ]
    },
    {
     "data": {
      "text/html": [
       "<div>\n",
       "<style scoped>\n",
       "    .dataframe tbody tr th:only-of-type {\n",
       "        vertical-align: middle;\n",
       "    }\n",
       "\n",
       "    .dataframe tbody tr th {\n",
       "        vertical-align: top;\n",
       "    }\n",
       "\n",
       "    .dataframe thead th {\n",
       "        text-align: right;\n",
       "    }\n",
       "</style>\n",
       "<table border=\"1\" class=\"dataframe\">\n",
       "  <thead>\n",
       "    <tr style=\"text-align: right;\">\n",
       "      <th></th>\n",
       "      <th>rank_test_score</th>\n",
       "      <th>params</th>\n",
       "      <th>mean_test_score</th>\n",
       "      <th>std_test_score</th>\n",
       "    </tr>\n",
       "  </thead>\n",
       "  <tbody>\n",
       "    <tr>\n",
       "      <th>92</th>\n",
       "      <td>1</td>\n",
       "      <td>{'model': DecisionTreeClassifier(criterion='entropy', max_depth=32, min_samples_leaf=2,\n",
       "                       random_state=123), 'model__criterion': 'entropy', 'model__max_depth': 128, 'model__min_samples_leaf': 2, 'model__min_samples_split': 4, 'model__random_state': 123}</td>\n",
       "      <td>0.915645</td>\n",
       "      <td>0.003115</td>\n",
       "    </tr>\n",
       "    <tr>\n",
       "      <th>83</th>\n",
       "      <td>1</td>\n",
       "      <td>{'model': DecisionTreeClassifier(criterion='entropy', max_depth=32, min_samples_leaf=2,\n",
       "                       random_state=123), 'model__criterion': 'entropy', 'model__max_depth': 64, 'model__min_samples_leaf': 2, 'model__min_samples_split': 4, 'model__random_state': 123}</td>\n",
       "      <td>0.915645</td>\n",
       "      <td>0.003115</td>\n",
       "    </tr>\n",
       "    <tr>\n",
       "      <th>91</th>\n",
       "      <td>1</td>\n",
       "      <td>{'model': DecisionTreeClassifier(criterion='entropy', max_depth=32, min_samples_leaf=2,\n",
       "                       random_state=123), 'model__criterion': 'entropy', 'model__max_depth': 128, 'model__min_samples_leaf': 2, 'model__min_samples_split': 2, 'model__random_state': 123}</td>\n",
       "      <td>0.915645</td>\n",
       "      <td>0.003115</td>\n",
       "    </tr>\n",
       "    <tr>\n",
       "      <th>73</th>\n",
       "      <td>1</td>\n",
       "      <td>{'model': DecisionTreeClassifier(criterion='entropy', max_depth=32, min_samples_leaf=2,\n",
       "                       random_state=123), 'model__criterion': 'entropy', 'model__max_depth': 32, 'model__min_samples_leaf': 2, 'model__min_samples_split': 2, 'model__random_state': 123}</td>\n",
       "      <td>0.915645</td>\n",
       "      <td>0.003115</td>\n",
       "    </tr>\n",
       "    <tr>\n",
       "      <th>82</th>\n",
       "      <td>1</td>\n",
       "      <td>{'model': DecisionTreeClassifier(criterion='entropy', max_depth=32, min_samples_leaf=2,\n",
       "                       random_state=123), 'model__criterion': 'entropy', 'model__max_depth': 64, 'model__min_samples_leaf': 2, 'model__min_samples_split': 2, 'model__random_state': 123}</td>\n",
       "      <td>0.915645</td>\n",
       "      <td>0.003115</td>\n",
       "    </tr>\n",
       "    <tr>\n",
       "      <th>74</th>\n",
       "      <td>1</td>\n",
       "      <td>{'model': DecisionTreeClassifier(criterion='entropy', max_depth=32, min_samples_leaf=2,\n",
       "                       random_state=123), 'model__criterion': 'entropy', 'model__max_depth': 32, 'model__min_samples_leaf': 2, 'model__min_samples_split': 4, 'model__random_state': 123}</td>\n",
       "      <td>0.915645</td>\n",
       "      <td>0.003115</td>\n",
       "    </tr>\n",
       "    <tr>\n",
       "      <th>84</th>\n",
       "      <td>7</td>\n",
       "      <td>{'model': DecisionTreeClassifier(criterion='entropy', max_depth=32, min_samples_leaf=2,\n",
       "                       random_state=123), 'model__criterion': 'entropy', 'model__max_depth': 64, 'model__min_samples_leaf': 2, 'model__min_samples_split': 8, 'model__random_state': 123}</td>\n",
       "      <td>0.914410</td>\n",
       "      <td>0.002994</td>\n",
       "    </tr>\n",
       "    <tr>\n",
       "      <th>75</th>\n",
       "      <td>7</td>\n",
       "      <td>{'model': DecisionTreeClassifier(criterion='entropy', max_depth=32, min_samples_leaf=2,\n",
       "                       random_state=123), 'model__criterion': 'entropy', 'model__max_depth': 32, 'model__min_samples_leaf': 2, 'model__min_samples_split': 8, 'model__random_state': 123}</td>\n",
       "      <td>0.914410</td>\n",
       "      <td>0.002994</td>\n",
       "    </tr>\n",
       "    <tr>\n",
       "      <th>93</th>\n",
       "      <td>7</td>\n",
       "      <td>{'model': DecisionTreeClassifier(criterion='entropy', max_depth=32, min_samples_leaf=2,\n",
       "                       random_state=123), 'model__criterion': 'entropy', 'model__max_depth': 128, 'model__min_samples_leaf': 2, 'model__min_samples_split': 8, 'model__random_state': 123}</td>\n",
       "      <td>0.914410</td>\n",
       "      <td>0.002994</td>\n",
       "    </tr>\n",
       "    <tr>\n",
       "      <th>85</th>\n",
       "      <td>10</td>\n",
       "      <td>{'model': DecisionTreeClassifier(criterion='entropy', max_depth=32, min_samples_leaf=2,\n",
       "                       random_state=123), 'model__criterion': 'entropy', 'model__max_depth': 64, 'model__min_samples_leaf': 4, 'model__min_samples_split': 2, 'model__random_state': 123}</td>\n",
       "      <td>0.913105</td>\n",
       "      <td>0.005159</td>\n",
       "    </tr>\n",
       "  </tbody>\n",
       "</table>\n",
       "</div>"
      ],
      "text/plain": [
       "    rank_test_score  \\\n",
       "92                1   \n",
       "83                1   \n",
       "91                1   \n",
       "73                1   \n",
       "82                1   \n",
       "74                1   \n",
       "84                7   \n",
       "75                7   \n",
       "93                7   \n",
       "85               10   \n",
       "\n",
       "                                                                                                                                                                                                                                                                                params  \\\n",
       "92  {'model': DecisionTreeClassifier(criterion='entropy', max_depth=32, min_samples_leaf=2,\n",
       "                       random_state=123), 'model__criterion': 'entropy', 'model__max_depth': 128, 'model__min_samples_leaf': 2, 'model__min_samples_split': 4, 'model__random_state': 123}   \n",
       "83   {'model': DecisionTreeClassifier(criterion='entropy', max_depth=32, min_samples_leaf=2,\n",
       "                       random_state=123), 'model__criterion': 'entropy', 'model__max_depth': 64, 'model__min_samples_leaf': 2, 'model__min_samples_split': 4, 'model__random_state': 123}   \n",
       "91  {'model': DecisionTreeClassifier(criterion='entropy', max_depth=32, min_samples_leaf=2,\n",
       "                       random_state=123), 'model__criterion': 'entropy', 'model__max_depth': 128, 'model__min_samples_leaf': 2, 'model__min_samples_split': 2, 'model__random_state': 123}   \n",
       "73   {'model': DecisionTreeClassifier(criterion='entropy', max_depth=32, min_samples_leaf=2,\n",
       "                       random_state=123), 'model__criterion': 'entropy', 'model__max_depth': 32, 'model__min_samples_leaf': 2, 'model__min_samples_split': 2, 'model__random_state': 123}   \n",
       "82   {'model': DecisionTreeClassifier(criterion='entropy', max_depth=32, min_samples_leaf=2,\n",
       "                       random_state=123), 'model__criterion': 'entropy', 'model__max_depth': 64, 'model__min_samples_leaf': 2, 'model__min_samples_split': 2, 'model__random_state': 123}   \n",
       "74   {'model': DecisionTreeClassifier(criterion='entropy', max_depth=32, min_samples_leaf=2,\n",
       "                       random_state=123), 'model__criterion': 'entropy', 'model__max_depth': 32, 'model__min_samples_leaf': 2, 'model__min_samples_split': 4, 'model__random_state': 123}   \n",
       "84   {'model': DecisionTreeClassifier(criterion='entropy', max_depth=32, min_samples_leaf=2,\n",
       "                       random_state=123), 'model__criterion': 'entropy', 'model__max_depth': 64, 'model__min_samples_leaf': 2, 'model__min_samples_split': 8, 'model__random_state': 123}   \n",
       "75   {'model': DecisionTreeClassifier(criterion='entropy', max_depth=32, min_samples_leaf=2,\n",
       "                       random_state=123), 'model__criterion': 'entropy', 'model__max_depth': 32, 'model__min_samples_leaf': 2, 'model__min_samples_split': 8, 'model__random_state': 123}   \n",
       "93  {'model': DecisionTreeClassifier(criterion='entropy', max_depth=32, min_samples_leaf=2,\n",
       "                       random_state=123), 'model__criterion': 'entropy', 'model__max_depth': 128, 'model__min_samples_leaf': 2, 'model__min_samples_split': 8, 'model__random_state': 123}   \n",
       "85   {'model': DecisionTreeClassifier(criterion='entropy', max_depth=32, min_samples_leaf=2,\n",
       "                       random_state=123), 'model__criterion': 'entropy', 'model__max_depth': 64, 'model__min_samples_leaf': 4, 'model__min_samples_split': 2, 'model__random_state': 123}   \n",
       "\n",
       "    mean_test_score  std_test_score  \n",
       "92         0.915645        0.003115  \n",
       "83         0.915645        0.003115  \n",
       "91         0.915645        0.003115  \n",
       "73         0.915645        0.003115  \n",
       "82         0.915645        0.003115  \n",
       "74         0.915645        0.003115  \n",
       "84         0.914410        0.002994  \n",
       "75         0.914410        0.002994  \n",
       "93         0.914410        0.002994  \n",
       "85         0.913105        0.005159  "
      ]
     },
     "execution_count": 213,
     "metadata": {},
     "output_type": "execute_result"
    }
   ],
   "source": [
    "pd.set_option('display.max_colwidth', None) #set dataframes with expanded columns to view full parameters\n",
    "\n",
    "# Show results in a dataframe\n",
    "gs1_results_df = pd.DataFrame(fittedgrid_1_bow.cv_results_).sort_values('mean_test_score', ascending=False) #rank by mean_test_score\n",
    "gs1_results = gs1_results_df[['rank_test_score', 'params', 'mean_test_score', 'std_test_score']].sort_values('mean_test_score', ascending=False) # Order by highest mean_test_score/5 fold cross validation\n",
    "print(\"GridSearch 1 Cross Validation Results\")\n",
    "gs1_results.head(10) # top 10 cv results"
   ]
  },
  {
   "cell_type": "markdown",
   "id": "a7c68da6",
   "metadata": {},
   "source": [
    "***"
   ]
  },
  {
   "cell_type": "markdown",
   "id": "856444d9",
   "metadata": {},
   "source": [
    "## GridSearch_2 : Narrowed Range with ensemble learnings (Undone and unfitted)"
   ]
  },
  {
   "cell_type": "code",
   "execution_count": null,
   "id": "e1f739c3",
   "metadata": {},
   "outputs": [],
   "source": [
    "%%time\n",
    "\n",
    "# Second GridSearch\n",
    "\n",
    "# Define base pipeline\n",
    "pipeline_1 = Pipeline([\n",
    "    ('sparse_to_dense', FunctionTransformer(convert_to_array, accept_sparse=True)),\n",
    "    ('scaler', StandardScaler()),\n",
    "    ('model', LogisticRegression())\n",
    "])\n",
    "\n",
    "# Instantiate Pipeline with grid of parameters\n",
    "grid_param_2 = [\n",
    "    \n",
    "    # Logistic Regression\n",
    "    {\n",
    "        'model'              : [LogisticRegression()],\n",
    "        'model__C'           : [0.001, 0.01, 0.1, 1, 10], # C parameter to control penalty weights\n",
    "        'model__penalty'     : ['none', 'l2'], # Control penalty types, l1: Lasso, l2: Ridge\n",
    "        'model__random_state': [123], # Control gradient descent starting point\n",
    "        'model__max_iter'    : [10000] # Make sure model iterates\n",
    "    },\n",
    "    \n",
    "    # Decision Tree Classifier\n",
    "    {\n",
    "        'model'                   : [DecisionTreeClassifier()],\n",
    "        'model__max_depth'        : [2, 8, 32, 64, 128], # Control number of tree splits/depth\n",
    "        'model__min_samples_leaf' : [2, 4, 8], # Control minimum number of samples at a leaf node\n",
    "        'model__min_samples_split': [2, 4, 8], # Control minimum number of samples split at a leaf node\n",
    "        'model__criterion'        : ['gini', 'entropy'], # Control the function to measure the quality of a split\n",
    "        'model__random_state'     :[123] # Control randomness of the estimator\n",
    "    },\n",
    "    \n",
    "    # Random Forest\n",
    "    {\n",
    "        'model'                   : [RandomForestClassifier()],\n",
    "        'model__n_estimators'     : [10,20,30,40,50], # Control number of trees in the forest\n",
    "        'model__max_depth'        : [2, 8, 32, 64, 128], # Control number of tree splits/depth\n",
    "        'model__min_samples_leaf' : [2,3,4], # Control minimum number of samples at a leaf node\n",
    "        'model__min_samples_split': [1,2,3], # Control minimum number of samples split at a leaf node\n",
    "        'model__criterion'        : ['gini', 'entropy'], # Control the function to measure the quality of a split\n",
    "        'model__random_state'     :[123] # Control randomness of the estimator  \n",
    "    }  \n",
    "]\n",
    "\n",
    "# Use GridSearch\n",
    "grid_1 = GridSearchCV(estimator=pipeline_1, # Define GridSearch estimator pipeline\n",
    "                     param_grid=grid_param_1, # Define parameter grid\n",
    "                     cv=5, # Define 5-fold cross-validation\n",
    "                     scoring='f1', # Define GridSearch evaluation metric to be f1 score\n",
    "                     n_jobs=-2)\n",
    "\n",
    "# Fit the grid on training data\n",
    "fittedgrid_1_bow = grid_1.fit(X_train_ct_bow, y_train)\n",
    "fittedgrid_1_tfidf = grid_1.fit(X_train_ct_tfidf, y_train)\n",
    "\n",
    "# Save GridSearch_1\n",
    "grid_model_1_bow = fittedgrid_1_bow\n",
    "grid_model_1_tfidf = fittedgrid_1_tfidf"
   ]
  },
  {
   "cell_type": "code",
   "execution_count": null,
   "id": "959fd0b2",
   "metadata": {},
   "outputs": [],
   "source": []
  },
  {
   "cell_type": "code",
   "execution_count": null,
   "id": "ab674bab",
   "metadata": {},
   "outputs": [],
   "source": []
  },
  {
   "cell_type": "code",
   "execution_count": null,
   "id": "d8294bfe",
   "metadata": {},
   "outputs": [],
   "source": []
  },
  {
   "cell_type": "code",
   "execution_count": null,
   "id": "cca39901",
   "metadata": {},
   "outputs": [],
   "source": []
  }
 ],
 "metadata": {
  "kernelspec": {
   "display_name": "Python 3 (ipykernel)",
   "language": "python",
   "name": "python3"
  },
  "language_info": {
   "codemirror_mode": {
    "name": "ipython",
    "version": 3
   },
   "file_extension": ".py",
   "mimetype": "text/x-python",
   "name": "python",
   "nbconvert_exporter": "python",
   "pygments_lexer": "ipython3",
   "version": "3.11.5"
  }
 },
 "nbformat": 4,
 "nbformat_minor": 5
}
