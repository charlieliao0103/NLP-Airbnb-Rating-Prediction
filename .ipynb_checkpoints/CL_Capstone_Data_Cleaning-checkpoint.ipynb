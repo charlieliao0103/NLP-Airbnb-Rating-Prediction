{
 "cells": [
  {
   "attachments": {},
   "cell_type": "markdown",
   "id": "f7eadf37",
   "metadata": {},
   "source": [
    "# Edinburgh Airbnb Star Rating Outcomes Prediction through Review Texts Analysis"
   ]
  },
  {
   "cell_type": "markdown",
   "id": "192cab39",
   "metadata": {},
   "source": [
    "# Notebook 1: Data Cleaning\n",
    "\n",
    "In this notebook, we will first outline the objectives of the project. Then, we will begin the foundational steps, including loading the datasets, analyzing the contents of our data, and performing the first stage of the data cleaning process."
   ]
  },
  {
   "cell_type": "markdown",
   "id": "bd317dc0",
   "metadata": {},
   "source": [
    "***"
   ]
  },
  {
   "cell_type": "markdown",
   "id": "cc9e17c9",
   "metadata": {},
   "source": [
    "# Table of Contents"
   ]
  },
  {
   "cell_type": "markdown",
   "id": "b5734ee3",
   "metadata": {},
   "source": [
    "1. [**Introduction**](#a1) <br>\n",
    "\n",
    "2. [**Data Descriptions**](#a2) <br>\n",
    "    2.1 [**Import Libraries**](#a2.1) <br>\n",
    "    2.2 [**Dataset Descriptions**](#a2.2) <br>\n",
    "    2.3 [**Data Dictionary of Airbnb listing dataset**](#a2.3) <br>\n",
    "    2.4 [**Rating Types Overview**](#a2.4) <br>\n",
    "    2.5 [**Dataset summary overview**](#a2.5) <br> \n",
    "\n",
    "3. [**Review Dataset Cleaning**](#a3) <br>\n",
    "\n",
    "4. [**Listing Dataset Cleaning**](#a4) <br>\n",
    "    4.1 [**First Stage Cleaning**](#a4.1) <br>\n",
    "    4.2 [**Host Related Columns Cleaning**](#a4.2) <br>\n",
    "    4.3 [**Location Related Columns Cleaning**](#a4.3) <br>\n",
    "    4.4 [**Property Related Columns Cleaning**](#a4.4) <br>\n",
    "    4.5 [**Other Columns Cleaning**](#a4.5) <br>\n",
    "    \n",
    "5. [**Price Column Null Values Cleaning**](#a5) <br>\n",
    "\n",
    "6. [**Extract Datasets**](#a6) <br>\n",
    "\n",
    "7. [**Summary**](#a7) <br>"
   ]
  },
  {
   "cell_type": "markdown",
   "id": "58b1418b",
   "metadata": {},
   "source": [
    "# Introduction <a id=\"a1\"></a>"
   ]
  },
  {
   "cell_type": "markdown",
   "id": "088a49b7",
   "metadata": {},
   "source": [
    "#### Problem Statement\n",
    "\n",
    "For this analysis, the focus lies in the quest to improve the hosting experience on Airbnb, particularly in the city of Edinburgh. One challenge Airbnb hosts face is understanding what factors contribute to \n",
    "their Airbnb listing's star ratings, which significantly impact their bookings and revenue.\n",
    "\n",
    "We aim to uncover valuable insights by analyzing review texts. Our primary goal is to predict average star ratings based on these reviews, providing hosts with actionable feedback on areas of improvement. By extracting key features from reviews, such as cleanliness, communication, and amenities, we can offer guidance to both new hosts seeking to establish themselves and experienced hosts looking to enhance their offerings. \n",
    "\n",
    "Ultimately, this analysis aims to empower hosts by providing useful insights and actionable recommendations to enhance their performance and maximize their ratings. Furthermore, we aim for these insights to not only benefit hosts in Edinburgh but also serve as valuable guidance for hosts in other cities facing similar challenges in the competitive Airbnb landscape."
   ]
  },
  {
   "cell_type": "markdown",
   "id": "b7393cc9",
   "metadata": {},
   "source": [
    "#### Data Collection\n",
    "\n",
    "The data used in this project consists of two datasets downloaded from [Inside Airbnb](http://insideairbnb.com/get-the-data). The first dataset contains information about Edinburgh Airbnb Listings, and the second dataset contains the reviews of these listings.\n",
    "\n",
    "The data dictionary can be downloaded [here](https://docs.google.com/spreadsheets/d/1iWCNJcSutYqpULSQHlNyGInUvHg2BoUGoNRIGa6Szc4/edit#gid=1322284596)."
   ]
  },
  {
   "cell_type": "markdown",
   "id": "69720ad2",
   "metadata": {},
   "source": [
    "***"
   ]
  },
  {
   "cell_type": "markdown",
   "id": "e694b998",
   "metadata": {},
   "source": [
    "# Data descriptions <a id=\"a2\"></a>"
   ]
  },
  {
   "cell_type": "markdown",
   "id": "682e7759",
   "metadata": {},
   "source": [
    "## Import libraries <a id=\"a2.1\"></a>"
   ]
  },
  {
   "cell_type": "code",
   "execution_count": 1,
   "id": "37a8a8d3",
   "metadata": {},
   "outputs": [],
   "source": [
    "# Main libraries\n",
    "import pandas as pd\n",
    "import numpy as np\n",
    "\n",
    "# Library for extracting data\n",
    "import joblib"
   ]
  },
  {
   "cell_type": "markdown",
   "id": "06411392",
   "metadata": {},
   "source": [
    "***"
   ]
  },
  {
   "cell_type": "markdown",
   "id": "46f21e26",
   "metadata": {},
   "source": [
    "## Dataset descriptions <a id=\"a2.2\"></a>"
   ]
  },
  {
   "cell_type": "code",
   "execution_count": 2,
   "id": "5e32c246",
   "metadata": {},
   "outputs": [],
   "source": [
    "# Import datasets\n",
    "df_listings= pd.read_csv('data/listings.csv')\n",
    "df_reviews=pd.read_csv('data/reviews.csv')"
   ]
  },
  {
   "cell_type": "code",
   "execution_count": 3,
   "id": "fcaf2ef4",
   "metadata": {},
   "outputs": [
    {
     "data": {
      "text/html": [
       "<div>\n",
       "<style scoped>\n",
       "    .dataframe tbody tr th:only-of-type {\n",
       "        vertical-align: middle;\n",
       "    }\n",
       "\n",
       "    .dataframe tbody tr th {\n",
       "        vertical-align: top;\n",
       "    }\n",
       "\n",
       "    .dataframe thead th {\n",
       "        text-align: right;\n",
       "    }\n",
       "</style>\n",
       "<table border=\"1\" class=\"dataframe\">\n",
       "  <thead>\n",
       "    <tr style=\"text-align: right;\">\n",
       "      <th></th>\n",
       "      <th>0</th>\n",
       "    </tr>\n",
       "  </thead>\n",
       "  <tbody>\n",
       "    <tr>\n",
       "      <th>id</th>\n",
       "      <td>15420</td>\n",
       "    </tr>\n",
       "    <tr>\n",
       "      <th>listing_url</th>\n",
       "      <td>https://www.airbnb.com/rooms/15420</td>\n",
       "    </tr>\n",
       "    <tr>\n",
       "      <th>scrape_id</th>\n",
       "      <td>20231217045056</td>\n",
       "    </tr>\n",
       "    <tr>\n",
       "      <th>last_scraped</th>\n",
       "      <td>2023-12-17</td>\n",
       "    </tr>\n",
       "    <tr>\n",
       "      <th>source</th>\n",
       "      <td>city scrape</td>\n",
       "    </tr>\n",
       "    <tr>\n",
       "      <th>...</th>\n",
       "      <td>...</td>\n",
       "    </tr>\n",
       "    <tr>\n",
       "      <th>calculated_host_listings_count</th>\n",
       "      <td>1</td>\n",
       "    </tr>\n",
       "    <tr>\n",
       "      <th>calculated_host_listings_count_entire_homes</th>\n",
       "      <td>1</td>\n",
       "    </tr>\n",
       "    <tr>\n",
       "      <th>calculated_host_listings_count_private_rooms</th>\n",
       "      <td>0</td>\n",
       "    </tr>\n",
       "    <tr>\n",
       "      <th>calculated_host_listings_count_shared_rooms</th>\n",
       "      <td>0</td>\n",
       "    </tr>\n",
       "    <tr>\n",
       "      <th>reviews_per_month</th>\n",
       "      <td>3.38</td>\n",
       "    </tr>\n",
       "  </tbody>\n",
       "</table>\n",
       "<p>75 rows × 1 columns</p>\n",
       "</div>"
      ],
      "text/plain": [
       "                                                                               0\n",
       "id                                                                         15420\n",
       "listing_url                                   https://www.airbnb.com/rooms/15420\n",
       "scrape_id                                                         20231217045056\n",
       "last_scraped                                                          2023-12-17\n",
       "source                                                               city scrape\n",
       "...                                                                          ...\n",
       "calculated_host_listings_count                                                 1\n",
       "calculated_host_listings_count_entire_homes                                    1\n",
       "calculated_host_listings_count_private_rooms                                   0\n",
       "calculated_host_listings_count_shared_rooms                                    0\n",
       "reviews_per_month                                                           3.38\n",
       "\n",
       "[75 rows x 1 columns]"
      ]
     },
     "execution_count": 3,
     "metadata": {},
     "output_type": "execute_result"
    }
   ],
   "source": [
    "# Show the first row of the listing dataframe\n",
    "# As we have too many columns, we will make a matrix transpose to show all information\n",
    "df_listings.head(1).T"
   ]
  },
  {
   "cell_type": "code",
   "execution_count": 4,
   "id": "ea3f2b1e",
   "metadata": {},
   "outputs": [
    {
     "data": {
      "text/html": [
       "<div>\n",
       "<style scoped>\n",
       "    .dataframe tbody tr th:only-of-type {\n",
       "        vertical-align: middle;\n",
       "    }\n",
       "\n",
       "    .dataframe tbody tr th {\n",
       "        vertical-align: top;\n",
       "    }\n",
       "\n",
       "    .dataframe thead th {\n",
       "        text-align: right;\n",
       "    }\n",
       "</style>\n",
       "<table border=\"1\" class=\"dataframe\">\n",
       "  <thead>\n",
       "    <tr style=\"text-align: right;\">\n",
       "      <th></th>\n",
       "      <th>listing_id</th>\n",
       "      <th>id</th>\n",
       "      <th>date</th>\n",
       "      <th>reviewer_id</th>\n",
       "      <th>reviewer_name</th>\n",
       "      <th>comments</th>\n",
       "    </tr>\n",
       "  </thead>\n",
       "  <tbody>\n",
       "    <tr>\n",
       "      <th>0</th>\n",
       "      <td>15420</td>\n",
       "      <td>171793</td>\n",
       "      <td>2011-01-18</td>\n",
       "      <td>186358</td>\n",
       "      <td>Nels</td>\n",
       "      <td>My wife and I stayed at this beautiful apartme...</td>\n",
       "    </tr>\n",
       "  </tbody>\n",
       "</table>\n",
       "</div>"
      ],
      "text/plain": [
       "   listing_id      id        date  reviewer_id reviewer_name  \\\n",
       "0       15420  171793  2011-01-18       186358          Nels   \n",
       "\n",
       "                                            comments  \n",
       "0  My wife and I stayed at this beautiful apartme...  "
      ]
     },
     "execution_count": 4,
     "metadata": {},
     "output_type": "execute_result"
    }
   ],
   "source": [
    "# Show the first row of the reviews dataframe\n",
    "df_reviews.head(1)"
   ]
  },
  {
   "cell_type": "code",
   "execution_count": 5,
   "id": "a0c253ef",
   "metadata": {},
   "outputs": [
    {
     "name": "stdout",
     "output_type": "stream",
     "text": [
      "The shape of the listing dataset is (7049, 75)\n",
      "The shape of the review dataset is (535577, 6)\n"
     ]
    }
   ],
   "source": [
    "# Show the dimensions of the datasets.\n",
    "print(f'The shape of the listing dataset is {df_listings.shape}')\n",
    "print(f'The shape of the review dataset is {df_reviews.shape}')"
   ]
  },
  {
   "cell_type": "markdown",
   "id": "d2071d64",
   "metadata": {},
   "source": [
    "We have two datasets that need to perform data cleaning at this stage. The Airbnb listing dataset contains **7049** rows and **75** columns. The reviews dataset contains **535577** rows and **6** columns. We will analyse the columns for these two datasets in more detail later, and eventually we will merge the information into one dataframe."
   ]
  },
  {
   "cell_type": "code",
   "execution_count": 6,
   "id": "c5be42be",
   "metadata": {
    "scrolled": true
   },
   "outputs": [
    {
     "name": "stdout",
     "output_type": "stream",
     "text": [
      "The initial columns in the listing dataset are\n"
     ]
    },
    {
     "data": {
      "text/plain": [
       "['id',\n",
       " 'listing_url',\n",
       " 'scrape_id',\n",
       " 'last_scraped',\n",
       " 'source',\n",
       " 'name',\n",
       " 'description',\n",
       " 'neighborhood_overview',\n",
       " 'picture_url',\n",
       " 'host_id',\n",
       " 'host_url',\n",
       " 'host_name',\n",
       " 'host_since',\n",
       " 'host_location',\n",
       " 'host_about',\n",
       " 'host_response_time',\n",
       " 'host_response_rate',\n",
       " 'host_acceptance_rate',\n",
       " 'host_is_superhost',\n",
       " 'host_thumbnail_url',\n",
       " 'host_picture_url',\n",
       " 'host_neighbourhood',\n",
       " 'host_listings_count',\n",
       " 'host_total_listings_count',\n",
       " 'host_verifications',\n",
       " 'host_has_profile_pic',\n",
       " 'host_identity_verified',\n",
       " 'neighbourhood',\n",
       " 'neighbourhood_cleansed',\n",
       " 'neighbourhood_group_cleansed',\n",
       " 'latitude',\n",
       " 'longitude',\n",
       " 'property_type',\n",
       " 'room_type',\n",
       " 'accommodates',\n",
       " 'bathrooms',\n",
       " 'bathrooms_text',\n",
       " 'bedrooms',\n",
       " 'beds',\n",
       " 'amenities',\n",
       " 'price',\n",
       " 'minimum_nights',\n",
       " 'maximum_nights',\n",
       " 'minimum_minimum_nights',\n",
       " 'maximum_minimum_nights',\n",
       " 'minimum_maximum_nights',\n",
       " 'maximum_maximum_nights',\n",
       " 'minimum_nights_avg_ntm',\n",
       " 'maximum_nights_avg_ntm',\n",
       " 'calendar_updated',\n",
       " 'has_availability',\n",
       " 'availability_30',\n",
       " 'availability_60',\n",
       " 'availability_90',\n",
       " 'availability_365',\n",
       " 'calendar_last_scraped',\n",
       " 'number_of_reviews',\n",
       " 'number_of_reviews_ltm',\n",
       " 'number_of_reviews_l30d',\n",
       " 'first_review',\n",
       " 'last_review',\n",
       " 'review_scores_rating',\n",
       " 'review_scores_accuracy',\n",
       " 'review_scores_cleanliness',\n",
       " 'review_scores_checkin',\n",
       " 'review_scores_communication',\n",
       " 'review_scores_location',\n",
       " 'review_scores_value',\n",
       " 'license',\n",
       " 'instant_bookable',\n",
       " 'calculated_host_listings_count',\n",
       " 'calculated_host_listings_count_entire_homes',\n",
       " 'calculated_host_listings_count_private_rooms',\n",
       " 'calculated_host_listings_count_shared_rooms',\n",
       " 'reviews_per_month']"
      ]
     },
     "execution_count": 6,
     "metadata": {},
     "output_type": "execute_result"
    }
   ],
   "source": [
    "# Show the list that contains listings dataframe's columns\n",
    "print(f'The initial columns in the listing dataset are')\n",
    "list(df_listings.columns)"
   ]
  },
  {
   "cell_type": "code",
   "execution_count": 7,
   "id": "5e188960",
   "metadata": {},
   "outputs": [
    {
     "name": "stdout",
     "output_type": "stream",
     "text": [
      "The initial columns in the review dataset are\n"
     ]
    },
    {
     "data": {
      "text/plain": [
       "['listing_id', 'id', 'date', 'reviewer_id', 'reviewer_name', 'comments']"
      ]
     },
     "execution_count": 7,
     "metadata": {},
     "output_type": "execute_result"
    }
   ],
   "source": [
    "# Show the list that contains review dataframe's columns\n",
    "print(f'The initial columns in the review dataset are')\n",
    "list(df_reviews.columns)"
   ]
  },
  {
   "cell_type": "markdown",
   "id": "4cbfae0b",
   "metadata": {},
   "source": [
    "## Data Dictionaries of Airbnb listing dataset <a id=\"a2.3\"></a>"
   ]
  },
  {
   "cell_type": "code",
   "execution_count": 8,
   "id": "af797138",
   "metadata": {},
   "outputs": [],
   "source": [
    "# Import raw data dictionary csv\n",
    "df_dictionary = pd.read_csv('data/Data Dictionary.csv')\n",
    "\n",
    "# Drop the first 6 unnecessary rows\n",
    "df_dictionary_clean=df_dictionary.drop(range(6), axis=0)\n",
    "\n",
    "# Reset index\n",
    "df_dictionary_clean.reset_index(drop=True, inplace=True)\n",
    "\n",
    "# Use the first row as column rows\n",
    "df_dictionary_clean.columns=list(df_dictionary_clean.loc[0])\n",
    "\n",
    "# Remove the first row\n",
    "df_dictionary_clean.drop(0, inplace=True, axis=0)\n",
    "\n",
    "# Reset index\n",
    "df_dictionary_clean.reset_index(inplace=True, drop = True)\n",
    "\n",
    "# Drop the 'Calculated' and 'Reference' column\n",
    "df_dictionary_clean.drop(['Calculated', 'Reference'], axis=1, inplace=True)"
   ]
  },
  {
   "cell_type": "code",
   "execution_count": 9,
   "id": "f6b4e096",
   "metadata": {
    "scrolled": true
   },
   "outputs": [
    {
     "data": {
      "text/html": [
       "<div>\n",
       "<style scoped>\n",
       "    .dataframe tbody tr th:only-of-type {\n",
       "        vertical-align: middle;\n",
       "    }\n",
       "\n",
       "    .dataframe tbody tr th {\n",
       "        vertical-align: top;\n",
       "    }\n",
       "\n",
       "    .dataframe thead th {\n",
       "        text-align: right;\n",
       "    }\n",
       "</style>\n",
       "<table border=\"1\" class=\"dataframe\">\n",
       "  <thead>\n",
       "    <tr style=\"text-align: right;\">\n",
       "      <th></th>\n",
       "      <th>Field</th>\n",
       "      <th>Type</th>\n",
       "      <th>Description</th>\n",
       "    </tr>\n",
       "  </thead>\n",
       "  <tbody>\n",
       "    <tr>\n",
       "      <th>0</th>\n",
       "      <td>id</td>\n",
       "      <td>integer</td>\n",
       "      <td>Airbnb's unique identifier for the listing</td>\n",
       "    </tr>\n",
       "    <tr>\n",
       "      <th>1</th>\n",
       "      <td>listing_url</td>\n",
       "      <td>text</td>\n",
       "      <td>NaN</td>\n",
       "    </tr>\n",
       "    <tr>\n",
       "      <th>2</th>\n",
       "      <td>scrape_id</td>\n",
       "      <td>bigint</td>\n",
       "      <td>Inside Airbnb \"Scrape\" this was part of</td>\n",
       "    </tr>\n",
       "    <tr>\n",
       "      <th>3</th>\n",
       "      <td>last_scraped</td>\n",
       "      <td>datetime</td>\n",
       "      <td>UTC. The date and time this listing was \"scraped\".</td>\n",
       "    </tr>\n",
       "    <tr>\n",
       "      <th>4</th>\n",
       "      <td>source</td>\n",
       "      <td>text</td>\n",
       "      <td>One of \"neighbourhood search\" or \"previous scrape\". \"neighbourhood search\" means that the listing was found by searching the city, while \"previous scrape\" means that the listing was seen in another scrape performed in the last 65 days, and the listing was confirmed to be still available on the Airbnb site.</td>\n",
       "    </tr>\n",
       "    <tr>\n",
       "      <th>5</th>\n",
       "      <td>name</td>\n",
       "      <td>text</td>\n",
       "      <td>Name of the listing</td>\n",
       "    </tr>\n",
       "    <tr>\n",
       "      <th>6</th>\n",
       "      <td>description</td>\n",
       "      <td>text</td>\n",
       "      <td>Detailed description of the listing</td>\n",
       "    </tr>\n",
       "    <tr>\n",
       "      <th>7</th>\n",
       "      <td>neighborhood_overview</td>\n",
       "      <td>text</td>\n",
       "      <td>Host's description of the neighbourhood</td>\n",
       "    </tr>\n",
       "    <tr>\n",
       "      <th>8</th>\n",
       "      <td>picture_url</td>\n",
       "      <td>text</td>\n",
       "      <td>URL to the Airbnb hosted regular sized image for the listing</td>\n",
       "    </tr>\n",
       "    <tr>\n",
       "      <th>9</th>\n",
       "      <td>host_id</td>\n",
       "      <td>integer</td>\n",
       "      <td>Airbnb's unique identifier for the host/user</td>\n",
       "    </tr>\n",
       "    <tr>\n",
       "      <th>10</th>\n",
       "      <td>host_url</td>\n",
       "      <td>text</td>\n",
       "      <td>The Airbnb page for the host</td>\n",
       "    </tr>\n",
       "    <tr>\n",
       "      <th>11</th>\n",
       "      <td>host_name</td>\n",
       "      <td>text</td>\n",
       "      <td>Name of the host. Usually just the first name(s).</td>\n",
       "    </tr>\n",
       "    <tr>\n",
       "      <th>12</th>\n",
       "      <td>host_since</td>\n",
       "      <td>date</td>\n",
       "      <td>The date the host/user was created. For hosts that are Airbnb guests this could be the date they registered as a guest.</td>\n",
       "    </tr>\n",
       "    <tr>\n",
       "      <th>13</th>\n",
       "      <td>host_location</td>\n",
       "      <td>text</td>\n",
       "      <td>The host's self reported location</td>\n",
       "    </tr>\n",
       "    <tr>\n",
       "      <th>14</th>\n",
       "      <td>host_about</td>\n",
       "      <td>text</td>\n",
       "      <td>Description about the host</td>\n",
       "    </tr>\n",
       "    <tr>\n",
       "      <th>15</th>\n",
       "      <td>host_response_time</td>\n",
       "      <td>NaN</td>\n",
       "      <td>NaN</td>\n",
       "    </tr>\n",
       "    <tr>\n",
       "      <th>16</th>\n",
       "      <td>host_response_rate</td>\n",
       "      <td>NaN</td>\n",
       "      <td>NaN</td>\n",
       "    </tr>\n",
       "    <tr>\n",
       "      <th>17</th>\n",
       "      <td>host_acceptance_rate</td>\n",
       "      <td>NaN</td>\n",
       "      <td>That rate at which a host accepts booking requests.</td>\n",
       "    </tr>\n",
       "    <tr>\n",
       "      <th>18</th>\n",
       "      <td>host_is_superhost</td>\n",
       "      <td>boolean [t=true; f=false]</td>\n",
       "      <td>NaN</td>\n",
       "    </tr>\n",
       "    <tr>\n",
       "      <th>19</th>\n",
       "      <td>host_thumbnail_url</td>\n",
       "      <td>text</td>\n",
       "      <td>NaN</td>\n",
       "    </tr>\n",
       "    <tr>\n",
       "      <th>20</th>\n",
       "      <td>host_picture_url</td>\n",
       "      <td>text</td>\n",
       "      <td>NaN</td>\n",
       "    </tr>\n",
       "    <tr>\n",
       "      <th>21</th>\n",
       "      <td>host_neighbourhood</td>\n",
       "      <td>text</td>\n",
       "      <td>NaN</td>\n",
       "    </tr>\n",
       "    <tr>\n",
       "      <th>22</th>\n",
       "      <td>host_listings_count</td>\n",
       "      <td>text</td>\n",
       "      <td>The number of listings the host has (per Airbnb calculations)</td>\n",
       "    </tr>\n",
       "    <tr>\n",
       "      <th>23</th>\n",
       "      <td>host_total_listings_count</td>\n",
       "      <td>text</td>\n",
       "      <td>The number of listings the host has (per Airbnb calculations)</td>\n",
       "    </tr>\n",
       "    <tr>\n",
       "      <th>24</th>\n",
       "      <td>host_verifications</td>\n",
       "      <td>NaN</td>\n",
       "      <td>NaN</td>\n",
       "    </tr>\n",
       "    <tr>\n",
       "      <th>25</th>\n",
       "      <td>host_has_profile_pic</td>\n",
       "      <td>boolean [t=true; f=false]</td>\n",
       "      <td>NaN</td>\n",
       "    </tr>\n",
       "    <tr>\n",
       "      <th>26</th>\n",
       "      <td>host_identity_verified</td>\n",
       "      <td>boolean [t=true; f=false]</td>\n",
       "      <td>NaN</td>\n",
       "    </tr>\n",
       "    <tr>\n",
       "      <th>27</th>\n",
       "      <td>neighbourhood</td>\n",
       "      <td>text</td>\n",
       "      <td>NaN</td>\n",
       "    </tr>\n",
       "    <tr>\n",
       "      <th>28</th>\n",
       "      <td>neighbourhood_cleansed</td>\n",
       "      <td>text</td>\n",
       "      <td>The neighbourhood as geocoded using the latitude and longitude against neighborhoods as defined by open or public digital shapefiles.</td>\n",
       "    </tr>\n",
       "    <tr>\n",
       "      <th>29</th>\n",
       "      <td>neighbourhood_group_cleansed</td>\n",
       "      <td>text</td>\n",
       "      <td>The neighbourhood group as geocoded using the latitude and longitude against neighborhoods as defined by open or public digital shapefiles.</td>\n",
       "    </tr>\n",
       "    <tr>\n",
       "      <th>30</th>\n",
       "      <td>latitude</td>\n",
       "      <td>numeric</td>\n",
       "      <td>Uses the World Geodetic System (WGS84) projection for latitude and longitude.</td>\n",
       "    </tr>\n",
       "    <tr>\n",
       "      <th>31</th>\n",
       "      <td>longitude</td>\n",
       "      <td>numeric</td>\n",
       "      <td>Uses the World Geodetic System (WGS84) projection for latitude and longitude.</td>\n",
       "    </tr>\n",
       "    <tr>\n",
       "      <th>32</th>\n",
       "      <td>property_type</td>\n",
       "      <td>text</td>\n",
       "      <td>Self selected property type. Hotels and Bed and Breakfasts are described as such by their hosts in this field</td>\n",
       "    </tr>\n",
       "    <tr>\n",
       "      <th>33</th>\n",
       "      <td>room_type</td>\n",
       "      <td>text</td>\n",
       "      <td>[Entire home/apt|Private room|Shared room|Hotel]\\n\\nAll homes are grouped into the following three room types:\\n\\nEntire place\\nPrivate room\\nShared room\\nEntire place\\nEntire places are best if you're seeking a home away from home. With an entire place, you'll have the whole space to yourself. This usually includes a bedroom, a bathroom, a kitchen, and a separate, dedicated entrance. Hosts should note in the description if they'll be on the property or not (ex: \"Host occupies first floor of the home\"), and provide further details on the listing.\\n\\nPrivate rooms\\nPrivate rooms are great for when you prefer a little privacy, and still value a local connection. When you book a private room, you'll have your own private room for sleeping and may share some spaces with others. You might need to walk through indoor spaces that another host or guest may occupy to get to your room.\\n\\nShared rooms\\nShared rooms are for when you don't mind sharing a space with others. When you book a shared room, you'll be sleeping in a space that is shared with others and share the entire space with other people. Shared rooms are popular among flexible travelers looking for new friends and budget-friendly stays.</td>\n",
       "    </tr>\n",
       "    <tr>\n",
       "      <th>34</th>\n",
       "      <td>accommodates</td>\n",
       "      <td>integer</td>\n",
       "      <td>The maximum capacity of the listing</td>\n",
       "    </tr>\n",
       "    <tr>\n",
       "      <th>35</th>\n",
       "      <td>bathrooms</td>\n",
       "      <td>numeric</td>\n",
       "      <td>The number of bathrooms in the listing</td>\n",
       "    </tr>\n",
       "    <tr>\n",
       "      <th>36</th>\n",
       "      <td>bathrooms_text</td>\n",
       "      <td>string</td>\n",
       "      <td>The number of bathrooms in the listing. \\nOn the Airbnb web-site, the bathrooms field has evolved from a number to a textual description. For older scrapes, bathrooms is used.</td>\n",
       "    </tr>\n",
       "    <tr>\n",
       "      <th>37</th>\n",
       "      <td>bedrooms</td>\n",
       "      <td>integer</td>\n",
       "      <td>The number of bedrooms</td>\n",
       "    </tr>\n",
       "    <tr>\n",
       "      <th>38</th>\n",
       "      <td>beds</td>\n",
       "      <td>integer</td>\n",
       "      <td>The number of bed(s)</td>\n",
       "    </tr>\n",
       "    <tr>\n",
       "      <th>39</th>\n",
       "      <td>amenities</td>\n",
       "      <td>json</td>\n",
       "      <td>NaN</td>\n",
       "    </tr>\n",
       "    <tr>\n",
       "      <th>40</th>\n",
       "      <td>price</td>\n",
       "      <td>currency</td>\n",
       "      <td>daily price in local currency</td>\n",
       "    </tr>\n",
       "    <tr>\n",
       "      <th>41</th>\n",
       "      <td>minimum_nights</td>\n",
       "      <td>integer</td>\n",
       "      <td>minimum number of night stay for the listing (calendar rules may be different)</td>\n",
       "    </tr>\n",
       "    <tr>\n",
       "      <th>42</th>\n",
       "      <td>maximum_nights</td>\n",
       "      <td>integer</td>\n",
       "      <td>maximum number of night stay for the listing (calendar rules may be different)</td>\n",
       "    </tr>\n",
       "    <tr>\n",
       "      <th>43</th>\n",
       "      <td>minimum_minimum_nights</td>\n",
       "      <td>integer</td>\n",
       "      <td>the smallest minimum_night value from the calender (looking 365 nights in the future)</td>\n",
       "    </tr>\n",
       "    <tr>\n",
       "      <th>44</th>\n",
       "      <td>maximum_minimum_nights</td>\n",
       "      <td>integer</td>\n",
       "      <td>the largest minimum_night value from the calender (looking 365 nights in the future)</td>\n",
       "    </tr>\n",
       "    <tr>\n",
       "      <th>45</th>\n",
       "      <td>minimum_maximum_nights</td>\n",
       "      <td>integer</td>\n",
       "      <td>the smallest maximum_night value from the calender (looking 365 nights in the future)</td>\n",
       "    </tr>\n",
       "    <tr>\n",
       "      <th>46</th>\n",
       "      <td>maximum_maximum_nights</td>\n",
       "      <td>integer</td>\n",
       "      <td>the largest maximum_night value from the calender (looking 365 nights in the future)</td>\n",
       "    </tr>\n",
       "    <tr>\n",
       "      <th>47</th>\n",
       "      <td>minimum_nights_avg_ntm</td>\n",
       "      <td>numeric</td>\n",
       "      <td>the average minimum_night value from the calender (looking 365 nights in the future)</td>\n",
       "    </tr>\n",
       "    <tr>\n",
       "      <th>48</th>\n",
       "      <td>maximum_nights_avg_ntm</td>\n",
       "      <td>numeric</td>\n",
       "      <td>the average maximum_night value from the calender (looking 365 nights in the future)</td>\n",
       "    </tr>\n",
       "    <tr>\n",
       "      <th>49</th>\n",
       "      <td>calendar_updated</td>\n",
       "      <td>date</td>\n",
       "      <td>NaN</td>\n",
       "    </tr>\n",
       "    <tr>\n",
       "      <th>50</th>\n",
       "      <td>has_availability</td>\n",
       "      <td>boolean</td>\n",
       "      <td>[t=true; f=false]</td>\n",
       "    </tr>\n",
       "    <tr>\n",
       "      <th>51</th>\n",
       "      <td>availability_30</td>\n",
       "      <td>integer</td>\n",
       "      <td>avaliability_x. The availability of the listing x days in the future as determined by the calendar. Note a listing may not be available because it has been booked by a guest or blocked by the host.</td>\n",
       "    </tr>\n",
       "    <tr>\n",
       "      <th>52</th>\n",
       "      <td>availability_60</td>\n",
       "      <td>integer</td>\n",
       "      <td>avaliability_x. The availability of the listing x days in the future as determined by the calendar. Note a listing may not be available because it has been booked by a guest or blocked by the host.</td>\n",
       "    </tr>\n",
       "    <tr>\n",
       "      <th>53</th>\n",
       "      <td>availability_90</td>\n",
       "      <td>integer</td>\n",
       "      <td>avaliability_x. The availability of the listing x days in the future as determined by the calendar. Note a listing may not be available because it has been booked by a guest or blocked by the host.</td>\n",
       "    </tr>\n",
       "    <tr>\n",
       "      <th>54</th>\n",
       "      <td>availability_365</td>\n",
       "      <td>integer</td>\n",
       "      <td>avaliability_x. The availability of the listing x days in the future as determined by the calendar. Note a listing may not be available because it has been booked by a guest or blocked by the host.</td>\n",
       "    </tr>\n",
       "    <tr>\n",
       "      <th>55</th>\n",
       "      <td>calendar_last_scraped</td>\n",
       "      <td>date</td>\n",
       "      <td>NaN</td>\n",
       "    </tr>\n",
       "    <tr>\n",
       "      <th>56</th>\n",
       "      <td>number_of_reviews</td>\n",
       "      <td>integer</td>\n",
       "      <td>The number of reviews the listing has</td>\n",
       "    </tr>\n",
       "    <tr>\n",
       "      <th>57</th>\n",
       "      <td>number_of_reviews_ltm</td>\n",
       "      <td>integer</td>\n",
       "      <td>The number of reviews the listing has (in the last 12 months)</td>\n",
       "    </tr>\n",
       "    <tr>\n",
       "      <th>58</th>\n",
       "      <td>number_of_reviews_l30d</td>\n",
       "      <td>integer</td>\n",
       "      <td>The number of reviews the listing has (in the last 30 days)</td>\n",
       "    </tr>\n",
       "    <tr>\n",
       "      <th>59</th>\n",
       "      <td>first_review</td>\n",
       "      <td>date</td>\n",
       "      <td>The date of the first/oldest review</td>\n",
       "    </tr>\n",
       "    <tr>\n",
       "      <th>60</th>\n",
       "      <td>last_review</td>\n",
       "      <td>date</td>\n",
       "      <td>The date of the last/newest review</td>\n",
       "    </tr>\n",
       "    <tr>\n",
       "      <th>61</th>\n",
       "      <td>review_scores_rating</td>\n",
       "      <td>NaN</td>\n",
       "      <td>NaN</td>\n",
       "    </tr>\n",
       "    <tr>\n",
       "      <th>62</th>\n",
       "      <td>review_scores_accuracy</td>\n",
       "      <td>NaN</td>\n",
       "      <td>NaN</td>\n",
       "    </tr>\n",
       "    <tr>\n",
       "      <th>63</th>\n",
       "      <td>review_scores_cleanliness</td>\n",
       "      <td>NaN</td>\n",
       "      <td>NaN</td>\n",
       "    </tr>\n",
       "    <tr>\n",
       "      <th>64</th>\n",
       "      <td>review_scores_checkin</td>\n",
       "      <td>NaN</td>\n",
       "      <td>NaN</td>\n",
       "    </tr>\n",
       "    <tr>\n",
       "      <th>65</th>\n",
       "      <td>review_scores_communication</td>\n",
       "      <td>NaN</td>\n",
       "      <td>NaN</td>\n",
       "    </tr>\n",
       "    <tr>\n",
       "      <th>66</th>\n",
       "      <td>review_scores_location</td>\n",
       "      <td>NaN</td>\n",
       "      <td>NaN</td>\n",
       "    </tr>\n",
       "    <tr>\n",
       "      <th>67</th>\n",
       "      <td>review_scores_value</td>\n",
       "      <td>NaN</td>\n",
       "      <td>NaN</td>\n",
       "    </tr>\n",
       "    <tr>\n",
       "      <th>68</th>\n",
       "      <td>license</td>\n",
       "      <td>text</td>\n",
       "      <td>The licence/permit/registration number</td>\n",
       "    </tr>\n",
       "    <tr>\n",
       "      <th>69</th>\n",
       "      <td>instant_bookable</td>\n",
       "      <td>boolean</td>\n",
       "      <td>[t=true; f=false]. Whether the guest can automatically book the listing without the host requiring to accept their booking request. An indicator of a commercial listing.</td>\n",
       "    </tr>\n",
       "    <tr>\n",
       "      <th>70</th>\n",
       "      <td>calculated_host_listings_count</td>\n",
       "      <td>integer</td>\n",
       "      <td>The number of listings the host has in the current scrape, in the city/region geography.</td>\n",
       "    </tr>\n",
       "    <tr>\n",
       "      <th>71</th>\n",
       "      <td>calculated_host_listings_count_entire_homes</td>\n",
       "      <td>integer</td>\n",
       "      <td>The number of Entire home/apt listings the host has in the current scrape, in the city/region geography</td>\n",
       "    </tr>\n",
       "    <tr>\n",
       "      <th>72</th>\n",
       "      <td>calculated_host_listings_count_private_rooms</td>\n",
       "      <td>integer</td>\n",
       "      <td>The number of Private room listings the host has in the current scrape, in the city/region geography</td>\n",
       "    </tr>\n",
       "    <tr>\n",
       "      <th>73</th>\n",
       "      <td>calculated_host_listings_count_shared_rooms</td>\n",
       "      <td>integer</td>\n",
       "      <td>The number of Shared room listings the host has in the current scrape, in the city/region geography</td>\n",
       "    </tr>\n",
       "    <tr>\n",
       "      <th>74</th>\n",
       "      <td>reviews_per_month</td>\n",
       "      <td>numeric</td>\n",
       "      <td>The number of reviews the listing has over the lifetime of the listing</td>\n",
       "    </tr>\n",
       "    <tr>\n",
       "      <th>75</th>\n",
       "      <td>NaN</td>\n",
       "      <td>NaN</td>\n",
       "      <td>NaN</td>\n",
       "    </tr>\n",
       "    <tr>\n",
       "      <th>76</th>\n",
       "      <td>Change control</td>\n",
       "      <td>NaN</td>\n",
       "      <td>NaN</td>\n",
       "    </tr>\n",
       "    <tr>\n",
       "      <th>77</th>\n",
       "      <td>Field</td>\n",
       "      <td>Change</td>\n",
       "      <td>NaN</td>\n",
       "    </tr>\n",
       "    <tr>\n",
       "      <th>78</th>\n",
       "      <td>source</td>\n",
       "      <td>Added</td>\n",
       "      <td>NaN</td>\n",
       "    </tr>\n",
       "  </tbody>\n",
       "</table>\n",
       "</div>"
      ],
      "text/plain": [
       "                                           Field                       Type  \\\n",
       "0                                             id                    integer   \n",
       "1                                    listing_url                       text   \n",
       "2                                      scrape_id                     bigint   \n",
       "3                                   last_scraped                   datetime   \n",
       "4                                         source                       text   \n",
       "5                                           name                       text   \n",
       "6                                    description                       text   \n",
       "7                          neighborhood_overview                       text   \n",
       "8                                    picture_url                       text   \n",
       "9                                        host_id                    integer   \n",
       "10                                      host_url                       text   \n",
       "11                                     host_name                       text   \n",
       "12                                    host_since                       date   \n",
       "13                                 host_location                       text   \n",
       "14                                    host_about                       text   \n",
       "15                            host_response_time                        NaN   \n",
       "16                            host_response_rate                        NaN   \n",
       "17                          host_acceptance_rate                        NaN   \n",
       "18                             host_is_superhost  boolean [t=true; f=false]   \n",
       "19                            host_thumbnail_url                       text   \n",
       "20                              host_picture_url                       text   \n",
       "21                            host_neighbourhood                       text   \n",
       "22                           host_listings_count                       text   \n",
       "23                     host_total_listings_count                       text   \n",
       "24                            host_verifications                        NaN   \n",
       "25                          host_has_profile_pic  boolean [t=true; f=false]   \n",
       "26                        host_identity_verified  boolean [t=true; f=false]   \n",
       "27                                 neighbourhood                       text   \n",
       "28                        neighbourhood_cleansed                       text   \n",
       "29                  neighbourhood_group_cleansed                       text   \n",
       "30                                      latitude                    numeric   \n",
       "31                                     longitude                    numeric   \n",
       "32                                 property_type                       text   \n",
       "33                                     room_type                       text   \n",
       "34                                  accommodates                    integer   \n",
       "35                                     bathrooms                    numeric   \n",
       "36                                bathrooms_text                     string   \n",
       "37                                      bedrooms                    integer   \n",
       "38                                          beds                    integer   \n",
       "39                                     amenities                       json   \n",
       "40                                         price                   currency   \n",
       "41                                minimum_nights                    integer   \n",
       "42                                maximum_nights                    integer   \n",
       "43                        minimum_minimum_nights                    integer   \n",
       "44                        maximum_minimum_nights                    integer   \n",
       "45                        minimum_maximum_nights                    integer   \n",
       "46                        maximum_maximum_nights                    integer   \n",
       "47                        minimum_nights_avg_ntm                    numeric   \n",
       "48                        maximum_nights_avg_ntm                    numeric   \n",
       "49                              calendar_updated                       date   \n",
       "50                              has_availability                    boolean   \n",
       "51                               availability_30                    integer   \n",
       "52                               availability_60                    integer   \n",
       "53                               availability_90                    integer   \n",
       "54                              availability_365                    integer   \n",
       "55                         calendar_last_scraped                       date   \n",
       "56                             number_of_reviews                    integer   \n",
       "57                         number_of_reviews_ltm                    integer   \n",
       "58                        number_of_reviews_l30d                    integer   \n",
       "59                                  first_review                       date   \n",
       "60                                   last_review                       date   \n",
       "61                          review_scores_rating                        NaN   \n",
       "62                        review_scores_accuracy                        NaN   \n",
       "63                     review_scores_cleanliness                        NaN   \n",
       "64                         review_scores_checkin                        NaN   \n",
       "65                   review_scores_communication                        NaN   \n",
       "66                        review_scores_location                        NaN   \n",
       "67                           review_scores_value                        NaN   \n",
       "68                                       license                       text   \n",
       "69                              instant_bookable                    boolean   \n",
       "70                calculated_host_listings_count                    integer   \n",
       "71   calculated_host_listings_count_entire_homes                    integer   \n",
       "72  calculated_host_listings_count_private_rooms                    integer   \n",
       "73   calculated_host_listings_count_shared_rooms                    integer   \n",
       "74                             reviews_per_month                    numeric   \n",
       "75                                           NaN                        NaN   \n",
       "76                                Change control                        NaN   \n",
       "77                                         Field                     Change   \n",
       "78                                        source                      Added   \n",
       "\n",
       "                                                                                                                                                                                                                                                                                                                                                                                                                                                                                                                                                                                                                                                                                                                                                                                                                                                                                                                                                                                                                                                                                                                                                                                                                                                 Description  \n",
       "0                                                                                                                                                                                                                                                                                                                                                                                                                                                                                                                                                                                                                                                                                                                                                                                                                                                                                                                                                                                                                                                                                                                                                                                                                 Airbnb's unique identifier for the listing  \n",
       "1                                                                                                                                                                                                                                                                                                                                                                                                                                                                                                                                                                                                                                                                                                                                                                                                                                                                                                                                                                                                                                                                                                                                                                                                                                                        NaN  \n",
       "2                                                                                                                                                                                                                                                                                                                                                                                                                                                                                                                                                                                                                                                                                                                                                                                                                                                                                                                                                                                                                                                                                                                                                                                                                    Inside Airbnb \"Scrape\" this was part of  \n",
       "3                                                                                                                                                                                                                                                                                                                                                                                                                                                                                                                                                                                                                                                                                                                                                                                                                                                                                                                                                                                                                                                                                                                                                                                                         UTC. The date and time this listing was \"scraped\".  \n",
       "4                                                                                                                                                                                                                                                                                                                                                                                                                                                                                                                                                                                                                                                                                                                                                                                                                                                                                                                                        One of \"neighbourhood search\" or \"previous scrape\". \"neighbourhood search\" means that the listing was found by searching the city, while \"previous scrape\" means that the listing was seen in another scrape performed in the last 65 days, and the listing was confirmed to be still available on the Airbnb site.  \n",
       "5                                                                                                                                                                                                                                                                                                                                                                                                                                                                                                                                                                                                                                                                                                                                                                                                                                                                                                                                                                                                                                                                                                                                                                                                                                        Name of the listing  \n",
       "6                                                                                                                                                                                                                                                                                                                                                                                                                                                                                                                                                                                                                                                                                                                                                                                                                                                                                                                                                                                                                                                                                                                                                                                                                        Detailed description of the listing  \n",
       "7                                                                                                                                                                                                                                                                                                                                                                                                                                                                                                                                                                                                                                                                                                                                                                                                                                                                                                                                                                                                                                                                                                                                                                                                                    Host's description of the neighbourhood  \n",
       "8                                                                                                                                                                                                                                                                                                                                                                                                                                                                                                                                                                                                                                                                                                                                                                                                                                                                                                                                                                                                                                                                                                                                                                                               URL to the Airbnb hosted regular sized image for the listing  \n",
       "9                                                                                                                                                                                                                                                                                                                                                                                                                                                                                                                                                                                                                                                                                                                                                                                                                                                                                                                                                                                                                                                                                                                                                                                                               Airbnb's unique identifier for the host/user  \n",
       "10                                                                                                                                                                                                                                                                                                                                                                                                                                                                                                                                                                                                                                                                                                                                                                                                                                                                                                                                                                                                                                                                                                                                                                                                                              The Airbnb page for the host  \n",
       "11                                                                                                                                                                                                                                                                                                                                                                                                                                                                                                                                                                                                                                                                                                                                                                                                                                                                                                                                                                                                                                                                                                                                                                                                         Name of the host. Usually just the first name(s).  \n",
       "12                                                                                                                                                                                                                                                                                                                                                                                                                                                                                                                                                                                                                                                                                                                                                                                                                                                                                                                                                                                                                                                                                                                                   The date the host/user was created. For hosts that are Airbnb guests this could be the date they registered as a guest.  \n",
       "13                                                                                                                                                                                                                                                                                                                                                                                                                                                                                                                                                                                                                                                                                                                                                                                                                                                                                                                                                                                                                                                                                                                                                                                                                         The host's self reported location  \n",
       "14                                                                                                                                                                                                                                                                                                                                                                                                                                                                                                                                                                                                                                                                                                                                                                                                                                                                                                                                                                                                                                                                                                                                                                                                                                Description about the host  \n",
       "15                                                                                                                                                                                                                                                                                                                                                                                                                                                                                                                                                                                                                                                                                                                                                                                                                                                                                                                                                                                                                                                                                                                                                                                                                                                       NaN  \n",
       "16                                                                                                                                                                                                                                                                                                                                                                                                                                                                                                                                                                                                                                                                                                                                                                                                                                                                                                                                                                                                                                                                                                                                                                                                                                                       NaN  \n",
       "17                                                                                                                                                                                                                                                                                                                                                                                                                                                                                                                                                                                                                                                                                                                                                                                                                                                                                                                                                                                                                                                                                                                                                                                                       That rate at which a host accepts booking requests.  \n",
       "18                                                                                                                                                                                                                                                                                                                                                                                                                                                                                                                                                                                                                                                                                                                                                                                                                                                                                                                                                                                                                                                                                                                                                                                                                                                       NaN  \n",
       "19                                                                                                                                                                                                                                                                                                                                                                                                                                                                                                                                                                                                                                                                                                                                                                                                                                                                                                                                                                                                                                                                                                                                                                                                                                                       NaN  \n",
       "20                                                                                                                                                                                                                                                                                                                                                                                                                                                                                                                                                                                                                                                                                                                                                                                                                                                                                                                                                                                                                                                                                                                                                                                                                                                       NaN  \n",
       "21                                                                                                                                                                                                                                                                                                                                                                                                                                                                                                                                                                                                                                                                                                                                                                                                                                                                                                                                                                                                                                                                                                                                                                                                                                                       NaN  \n",
       "22                                                                                                                                                                                                                                                                                                                                                                                                                                                                                                                                                                                                                                                                                                                                                                                                                                                                                                                                                                                                                                                                                                                                                                                             The number of listings the host has (per Airbnb calculations)  \n",
       "23                                                                                                                                                                                                                                                                                                                                                                                                                                                                                                                                                                                                                                                                                                                                                                                                                                                                                                                                                                                                                                                                                                                                                                                             The number of listings the host has (per Airbnb calculations)  \n",
       "24                                                                                                                                                                                                                                                                                                                                                                                                                                                                                                                                                                                                                                                                                                                                                                                                                                                                                                                                                                                                                                                                                                                                                                                                                                                       NaN  \n",
       "25                                                                                                                                                                                                                                                                                                                                                                                                                                                                                                                                                                                                                                                                                                                                                                                                                                                                                                                                                                                                                                                                                                                                                                                                                                                       NaN  \n",
       "26                                                                                                                                                                                                                                                                                                                                                                                                                                                                                                                                                                                                                                                                                                                                                                                                                                                                                                                                                                                                                                                                                                                                                                                                                                                       NaN  \n",
       "27                                                                                                                                                                                                                                                                                                                                                                                                                                                                                                                                                                                                                                                                                                                                                                                                                                                                                                                                                                                                                                                                                                                                                                                                                                                       NaN  \n",
       "28                                                                                                                                                                                                                                                                                                                                                                                                                                                                                                                                                                                                                                                                                                                                                                                                                                                                                                                                                                                                                                                                                                                     The neighbourhood as geocoded using the latitude and longitude against neighborhoods as defined by open or public digital shapefiles.  \n",
       "29                                                                                                                                                                                                                                                                                                                                                                                                                                                                                                                                                                                                                                                                                                                                                                                                                                                                                                                                                                                                                                                                                                               The neighbourhood group as geocoded using the latitude and longitude against neighborhoods as defined by open or public digital shapefiles.  \n",
       "30                                                                                                                                                                                                                                                                                                                                                                                                                                                                                                                                                                                                                                                                                                                                                                                                                                                                                                                                                                                                                                                                                                                                                                             Uses the World Geodetic System (WGS84) projection for latitude and longitude.  \n",
       "31                                                                                                                                                                                                                                                                                                                                                                                                                                                                                                                                                                                                                                                                                                                                                                                                                                                                                                                                                                                                                                                                                                                                                                             Uses the World Geodetic System (WGS84) projection for latitude and longitude.  \n",
       "32                                                                                                                                                                                                                                                                                                                                                                                                                                                                                                                                                                                                                                                                                                                                                                                                                                                                                                                                                                                                                                                                                                                                             Self selected property type. Hotels and Bed and Breakfasts are described as such by their hosts in this field  \n",
       "33  [Entire home/apt|Private room|Shared room|Hotel]\\n\\nAll homes are grouped into the following three room types:\\n\\nEntire place\\nPrivate room\\nShared room\\nEntire place\\nEntire places are best if you're seeking a home away from home. With an entire place, you'll have the whole space to yourself. This usually includes a bedroom, a bathroom, a kitchen, and a separate, dedicated entrance. Hosts should note in the description if they'll be on the property or not (ex: \"Host occupies first floor of the home\"), and provide further details on the listing.\\n\\nPrivate rooms\\nPrivate rooms are great for when you prefer a little privacy, and still value a local connection. When you book a private room, you'll have your own private room for sleeping and may share some spaces with others. You might need to walk through indoor spaces that another host or guest may occupy to get to your room.\\n\\nShared rooms\\nShared rooms are for when you don't mind sharing a space with others. When you book a shared room, you'll be sleeping in a space that is shared with others and share the entire space with other people. Shared rooms are popular among flexible travelers looking for new friends and budget-friendly stays.  \n",
       "34                                                                                                                                                                                                                                                                                                                                                                                                                                                                                                                                                                                                                                                                                                                                                                                                                                                                                                                                                                                                                                                                                                                                                                                                                       The maximum capacity of the listing  \n",
       "35                                                                                                                                                                                                                                                                                                                                                                                                                                                                                                                                                                                                                                                                                                                                                                                                                                                                                                                                                                                                                                                                                                                                                                                                                    The number of bathrooms in the listing  \n",
       "36                                                                                                                                                                                                                                                                                                                                                                                                                                                                                                                                                                                                                                                                                                                                                                                                                                                                                                                                                                                                                                                                           The number of bathrooms in the listing. \\nOn the Airbnb web-site, the bathrooms field has evolved from a number to a textual description. For older scrapes, bathrooms is used.  \n",
       "37                                                                                                                                                                                                                                                                                                                                                                                                                                                                                                                                                                                                                                                                                                                                                                                                                                                                                                                                                                                                                                                                                                                                                                                                                                    The number of bedrooms  \n",
       "38                                                                                                                                                                                                                                                                                                                                                                                                                                                                                                                                                                                                                                                                                                                                                                                                                                                                                                                                                                                                                                                                                                                                                                                                                                      The number of bed(s)  \n",
       "39                                                                                                                                                                                                                                                                                                                                                                                                                                                                                                                                                                                                                                                                                                                                                                                                                                                                                                                                                                                                                                                                                                                                                                                                                                                       NaN  \n",
       "40                                                                                                                                                                                                                                                                                                                                                                                                                                                                                                                                                                                                                                                                                                                                                                                                                                                                                                                                                                                                                                                                                                                                                                                                                             daily price in local currency  \n",
       "41                                                                                                                                                                                                                                                                                                                                                                                                                                                                                                                                                                                                                                                                                                                                                                                                                                                                                                                                                                                                                                                                                                                                                                            minimum number of night stay for the listing (calendar rules may be different)  \n",
       "42                                                                                                                                                                                                                                                                                                                                                                                                                                                                                                                                                                                                                                                                                                                                                                                                                                                                                                                                                                                                                                                                                                                                                                            maximum number of night stay for the listing (calendar rules may be different)  \n",
       "43                                                                                                                                                                                                                                                                                                                                                                                                                                                                                                                                                                                                                                                                                                                                                                                                                                                                                                                                                                                                                                                                                                                                                                     the smallest minimum_night value from the calender (looking 365 nights in the future)  \n",
       "44                                                                                                                                                                                                                                                                                                                                                                                                                                                                                                                                                                                                                                                                                                                                                                                                                                                                                                                                                                                                                                                                                                                                                                      the largest minimum_night value from the calender (looking 365 nights in the future)  \n",
       "45                                                                                                                                                                                                                                                                                                                                                                                                                                                                                                                                                                                                                                                                                                                                                                                                                                                                                                                                                                                                                                                                                                                                                                     the smallest maximum_night value from the calender (looking 365 nights in the future)  \n",
       "46                                                                                                                                                                                                                                                                                                                                                                                                                                                                                                                                                                                                                                                                                                                                                                                                                                                                                                                                                                                                                                                                                                                                                                      the largest maximum_night value from the calender (looking 365 nights in the future)  \n",
       "47                                                                                                                                                                                                                                                                                                                                                                                                                                                                                                                                                                                                                                                                                                                                                                                                                                                                                                                                                                                                                                                                                                                                                                      the average minimum_night value from the calender (looking 365 nights in the future)  \n",
       "48                                                                                                                                                                                                                                                                                                                                                                                                                                                                                                                                                                                                                                                                                                                                                                                                                                                                                                                                                                                                                                                                                                                                                                      the average maximum_night value from the calender (looking 365 nights in the future)  \n",
       "49                                                                                                                                                                                                                                                                                                                                                                                                                                                                                                                                                                                                                                                                                                                                                                                                                                                                                                                                                                                                                                                                                                                                                                                                                                                       NaN  \n",
       "50                                                                                                                                                                                                                                                                                                                                                                                                                                                                                                                                                                                                                                                                                                                                                                                                                                                                                                                                                                                                                                                                                                                                                                                                                                         [t=true; f=false]  \n",
       "51                                                                                                                                                                                                                                                                                                                                                                                                                                                                                                                                                                                                                                                                                                                                                                                                                                                                                                                                                                                                                                                     avaliability_x. The availability of the listing x days in the future as determined by the calendar. Note a listing may not be available because it has been booked by a guest or blocked by the host.  \n",
       "52                                                                                                                                                                                                                                                                                                                                                                                                                                                                                                                                                                                                                                                                                                                                                                                                                                                                                                                                                                                                                                                     avaliability_x. The availability of the listing x days in the future as determined by the calendar. Note a listing may not be available because it has been booked by a guest or blocked by the host.  \n",
       "53                                                                                                                                                                                                                                                                                                                                                                                                                                                                                                                                                                                                                                                                                                                                                                                                                                                                                                                                                                                                                                                     avaliability_x. The availability of the listing x days in the future as determined by the calendar. Note a listing may not be available because it has been booked by a guest or blocked by the host.  \n",
       "54                                                                                                                                                                                                                                                                                                                                                                                                                                                                                                                                                                                                                                                                                                                                                                                                                                                                                                                                                                                                                                                     avaliability_x. The availability of the listing x days in the future as determined by the calendar. Note a listing may not be available because it has been booked by a guest or blocked by the host.  \n",
       "55                                                                                                                                                                                                                                                                                                                                                                                                                                                                                                                                                                                                                                                                                                                                                                                                                                                                                                                                                                                                                                                                                                                                                                                                                                                       NaN  \n",
       "56                                                                                                                                                                                                                                                                                                                                                                                                                                                                                                                                                                                                                                                                                                                                                                                                                                                                                                                                                                                                                                                                                                                                                                                                                     The number of reviews the listing has  \n",
       "57                                                                                                                                                                                                                                                                                                                                                                                                                                                                                                                                                                                                                                                                                                                                                                                                                                                                                                                                                                                                                                                                                                                                                                                             The number of reviews the listing has (in the last 12 months)  \n",
       "58                                                                                                                                                                                                                                                                                                                                                                                                                                                                                                                                                                                                                                                                                                                                                                                                                                                                                                                                                                                                                                                                                                                                                                                               The number of reviews the listing has (in the last 30 days)  \n",
       "59                                                                                                                                                                                                                                                                                                                                                                                                                                                                                                                                                                                                                                                                                                                                                                                                                                                                                                                                                                                                                                                                                                                                                                                                                       The date of the first/oldest review  \n",
       "60                                                                                                                                                                                                                                                                                                                                                                                                                                                                                                                                                                                                                                                                                                                                                                                                                                                                                                                                                                                                                                                                                                                                                                                                                        The date of the last/newest review  \n",
       "61                                                                                                                                                                                                                                                                                                                                                                                                                                                                                                                                                                                                                                                                                                                                                                                                                                                                                                                                                                                                                                                                                                                                                                                                                                                       NaN  \n",
       "62                                                                                                                                                                                                                                                                                                                                                                                                                                                                                                                                                                                                                                                                                                                                                                                                                                                                                                                                                                                                                                                                                                                                                                                                                                                       NaN  \n",
       "63                                                                                                                                                                                                                                                                                                                                                                                                                                                                                                                                                                                                                                                                                                                                                                                                                                                                                                                                                                                                                                                                                                                                                                                                                                                       NaN  \n",
       "64                                                                                                                                                                                                                                                                                                                                                                                                                                                                                                                                                                                                                                                                                                                                                                                                                                                                                                                                                                                                                                                                                                                                                                                                                                                       NaN  \n",
       "65                                                                                                                                                                                                                                                                                                                                                                                                                                                                                                                                                                                                                                                                                                                                                                                                                                                                                                                                                                                                                                                                                                                                                                                                                                                       NaN  \n",
       "66                                                                                                                                                                                                                                                                                                                                                                                                                                                                                                                                                                                                                                                                                                                                                                                                                                                                                                                                                                                                                                                                                                                                                                                                                                                       NaN  \n",
       "67                                                                                                                                                                                                                                                                                                                                                                                                                                                                                                                                                                                                                                                                                                                                                                                                                                                                                                                                                                                                                                                                                                                                                                                                                                                       NaN  \n",
       "68                                                                                                                                                                                                                                                                                                                                                                                                                                                                                                                                                                                                                                                                                                                                                                                                                                                                                                                                                                                                                                                                                                                                                                                                                    The licence/permit/registration number  \n",
       "69                                                                                                                                                                                                                                                                                                                                                                                                                                                                                                                                                                                                                                                                                                                                                                                                                                                                                                                                                                                                                                                                                 [t=true; f=false]. Whether the guest can automatically book the listing without the host requiring to accept their booking request. An indicator of a commercial listing.  \n",
       "70                                                                                                                                                                                                                                                                                                                                                                                                                                                                                                                                                                                                                                                                                                                                                                                                                                                                                                                                                                                                                                                                                                                                                                  The number of listings the host has in the current scrape, in the city/region geography.  \n",
       "71                                                                                                                                                                                                                                                                                                                                                                                                                                                                                                                                                                                                                                                                                                                                                                                                                                                                                                                                                                                                                                                                                                                                                   The number of Entire home/apt listings the host has in the current scrape, in the city/region geography  \n",
       "72                                                                                                                                                                                                                                                                                                                                                                                                                                                                                                                                                                                                                                                                                                                                                                                                                                                                                                                                                                                                                                                                                                                                                      The number of Private room listings the host has in the current scrape, in the city/region geography  \n",
       "73                                                                                                                                                                                                                                                                                                                                                                                                                                                                                                                                                                                                                                                                                                                                                                                                                                                                                                                                                                                                                                                                                                                                                       The number of Shared room listings the host has in the current scrape, in the city/region geography  \n",
       "74                                                                                                                                                                                                                                                                                                                                                                                                                                                                                                                                                                                                                                                                                                                                                                                                                                                                                                                                                                                                                                                                                                                                                                                    The number of reviews the listing has over the lifetime of the listing  \n",
       "75                                                                                                                                                                                                                                                                                                                                                                                                                                                                                                                                                                                                                                                                                                                                                                                                                                                                                                                                                                                                                                                                                                                                                                                                                                                       NaN  \n",
       "76                                                                                                                                                                                                                                                                                                                                                                                                                                                                                                                                                                                                                                                                                                                                                                                                                                                                                                                                                                                                                                                                                                                                                                                                                                                       NaN  \n",
       "77                                                                                                                                                                                                                                                                                                                                                                                                                                                                                                                                                                                                                                                                                                                                                                                                                                                                                                                                                                                                                                                                                                                                                                                                                                                       NaN  \n",
       "78                                                                                                                                                                                                                                                                                                                                                                                                                                                                                                                                                                                                                                                                                                                                                                                                                                                                                                                                                                                                                                                                                                                                                                                                                                                       NaN  "
      ]
     },
     "execution_count": 9,
     "metadata": {},
     "output_type": "execute_result"
    }
   ],
   "source": [
    "# Show the data dictionary dataframe\n",
    "pd.set_option('display.max_row', 100)\n",
    "pd.set_option('display.max_colwidth', 100000)\n",
    "df_dictionary_clean"
   ]
  },
  {
   "cell_type": "markdown",
   "id": "19805af5",
   "metadata": {},
   "source": [
    "## Rating types overview <a id=\"a2.4\"></a>\n",
    "\n",
    "**review_scores_rating**\t\n",
    "- Overall experience. Overall, how was the stay?\n",
    "\n",
    "**review_scores_cleanliness**\n",
    "- Cleanliness. Did guests feel that the space was clean and tidy?\n",
    "\n",
    "**review_scores_accuracy**\n",
    "- Accuracy. How accurately did the listing page represent the space? For example, guests should be able to find up-to-date info and photos in the listing description.\n",
    "\n",
    "**review_scores_value**\n",
    "- Value. Did the guest feel that the listing provided good value for the price?\n",
    "\n",
    "**review_scores_communication**\n",
    "- Communication. How well did you communicate before and during the stay? Guests often care that their host responds quickly, reliably, and frequently to their messages and questions.\n",
    "\n",
    "**review_score_checkin**\n",
    "- Check-in. How smoothly did check-in go?\n",
    "\n",
    "**review_score_location**\n",
    "- Location. How did guests feel about the neighbourhood? This may mean that there’s an accurate description for proximity and access to transportation, shopping centres, city centre, etc., and a description that includes special considerations, like noise, and family safety."
   ]
  },
  {
   "cell_type": "markdown",
   "id": "eba7baf7",
   "metadata": {},
   "source": [
    "***"
   ]
  },
  {
   "cell_type": "markdown",
   "id": "82e9a6a3",
   "metadata": {},
   "source": [
    "## Dataset summary overview <a id=\"a2.5\"></a>"
   ]
  },
  {
   "cell_type": "code",
   "execution_count": 10,
   "id": "9097fadb",
   "metadata": {
    "scrolled": true
   },
   "outputs": [
    {
     "name": "stdout",
     "output_type": "stream",
     "text": [
      "<class 'pandas.core.frame.DataFrame'>\n",
      "RangeIndex: 7049 entries, 0 to 7048\n",
      "Data columns (total 75 columns):\n",
      " #   Column                                        Non-Null Count  Dtype  \n",
      "---  ------                                        --------------  -----  \n",
      " 0   id                                            7049 non-null   int64  \n",
      " 1   listing_url                                   7049 non-null   object \n",
      " 2   scrape_id                                     7049 non-null   int64  \n",
      " 3   last_scraped                                  7049 non-null   object \n",
      " 4   source                                        7049 non-null   object \n",
      " 5   name                                          7049 non-null   object \n",
      " 6   description                                   0 non-null      float64\n",
      " 7   neighborhood_overview                         4813 non-null   object \n",
      " 8   picture_url                                   7049 non-null   object \n",
      " 9   host_id                                       7049 non-null   int64  \n",
      " 10  host_url                                      7049 non-null   object \n",
      " 11  host_name                                     7049 non-null   object \n",
      " 12  host_since                                    7049 non-null   object \n",
      " 13  host_location                                 5816 non-null   object \n",
      " 14  host_about                                    3976 non-null   object \n",
      " 15  host_response_time                            5178 non-null   object \n",
      " 16  host_response_rate                            5178 non-null   object \n",
      " 17  host_acceptance_rate                          6171 non-null   object \n",
      " 18  host_is_superhost                             7017 non-null   object \n",
      " 19  host_thumbnail_url                            7049 non-null   object \n",
      " 20  host_picture_url                              7049 non-null   object \n",
      " 21  host_neighbourhood                            2548 non-null   object \n",
      " 22  host_listings_count                           7049 non-null   int64  \n",
      " 23  host_total_listings_count                     7049 non-null   int64  \n",
      " 24  host_verifications                            7049 non-null   object \n",
      " 25  host_has_profile_pic                          7049 non-null   object \n",
      " 26  host_identity_verified                        7049 non-null   object \n",
      " 27  neighbourhood                                 4813 non-null   object \n",
      " 28  neighbourhood_cleansed                        7049 non-null   object \n",
      " 29  neighbourhood_group_cleansed                  0 non-null      float64\n",
      " 30  latitude                                      7049 non-null   float64\n",
      " 31  longitude                                     7049 non-null   float64\n",
      " 32  property_type                                 7049 non-null   object \n",
      " 33  room_type                                     7049 non-null   object \n",
      " 34  accommodates                                  7049 non-null   int64  \n",
      " 35  bathrooms                                     0 non-null      float64\n",
      " 36  bathrooms_text                                7037 non-null   object \n",
      " 37  bedrooms                                      0 non-null      float64\n",
      " 38  beds                                          6952 non-null   float64\n",
      " 39  amenities                                     7049 non-null   object \n",
      " 40  price                                         5541 non-null   object \n",
      " 41  minimum_nights                                7049 non-null   int64  \n",
      " 42  maximum_nights                                7049 non-null   int64  \n",
      " 43  minimum_minimum_nights                        7049 non-null   int64  \n",
      " 44  maximum_minimum_nights                        7049 non-null   int64  \n",
      " 45  minimum_maximum_nights                        7049 non-null   int64  \n",
      " 46  maximum_maximum_nights                        7049 non-null   int64  \n",
      " 47  minimum_nights_avg_ntm                        7049 non-null   float64\n",
      " 48  maximum_nights_avg_ntm                        7049 non-null   float64\n",
      " 49  calendar_updated                              0 non-null      float64\n",
      " 50  has_availability                              5541 non-null   object \n",
      " 51  availability_30                               7049 non-null   int64  \n",
      " 52  availability_60                               7049 non-null   int64  \n",
      " 53  availability_90                               7049 non-null   int64  \n",
      " 54  availability_365                              7049 non-null   int64  \n",
      " 55  calendar_last_scraped                         7049 non-null   object \n",
      " 56  number_of_reviews                             7049 non-null   int64  \n",
      " 57  number_of_reviews_ltm                         7049 non-null   int64  \n",
      " 58  number_of_reviews_l30d                        7049 non-null   int64  \n",
      " 59  first_review                                  6424 non-null   object \n",
      " 60  last_review                                   6424 non-null   object \n",
      " 61  review_scores_rating                          6428 non-null   float64\n",
      " 62  review_scores_accuracy                        6428 non-null   float64\n",
      " 63  review_scores_cleanliness                     6428 non-null   float64\n",
      " 64  review_scores_checkin                         6428 non-null   float64\n",
      " 65  review_scores_communication                   6428 non-null   float64\n",
      " 66  review_scores_location                        6428 non-null   float64\n",
      " 67  review_scores_value                           6428 non-null   float64\n",
      " 68  license                                       693 non-null    object \n",
      " 69  instant_bookable                              7049 non-null   object \n",
      " 70  calculated_host_listings_count                7049 non-null   int64  \n",
      " 71  calculated_host_listings_count_entire_homes   7049 non-null   int64  \n",
      " 72  calculated_host_listings_count_private_rooms  7049 non-null   int64  \n",
      " 73  calculated_host_listings_count_shared_rooms   7049 non-null   int64  \n",
      " 74  reviews_per_month                             6424 non-null   float64\n",
      "dtypes: float64(18), int64(23), object(34)\n",
      "memory usage: 4.0+ MB\n"
     ]
    }
   ],
   "source": [
    "# Check the listing dataframe data types\n",
    "df_listings.info()"
   ]
  },
  {
   "cell_type": "code",
   "execution_count": 11,
   "id": "000546df",
   "metadata": {
    "scrolled": true
   },
   "outputs": [
    {
     "name": "stdout",
     "output_type": "stream",
     "text": [
      "Initial Percentage of Null Values in the Listing dataset %\n",
      "bedrooms                                        100.00\n",
      "description                                     100.00\n",
      "calendar_updated                                100.00\n",
      "bathrooms                                       100.00\n",
      "neighbourhood_group_cleansed                    100.00\n",
      "license                                          90.17\n",
      "host_neighbourhood                               63.85\n",
      "host_about                                       43.59\n",
      "neighbourhood                                    31.72\n",
      "neighborhood_overview                            31.72\n",
      "host_response_rate                               26.54\n",
      "host_response_time                               26.54\n",
      "price                                            21.39\n",
      "has_availability                                 21.39\n",
      "host_location                                    17.49\n",
      "host_acceptance_rate                             12.46\n",
      "first_review                                      8.87\n",
      "last_review                                       8.87\n",
      "reviews_per_month                                 8.87\n",
      "review_scores_accuracy                            8.81\n",
      "review_scores_location                            8.81\n",
      "review_scores_rating                              8.81\n",
      "review_scores_cleanliness                         8.81\n",
      "review_scores_checkin                             8.81\n",
      "review_scores_communication                       8.81\n",
      "review_scores_value                               8.81\n",
      "beds                                              1.38\n",
      "host_is_superhost                                 0.45\n",
      "bathrooms_text                                    0.17\n",
      "calendar_last_scraped                             0.00\n",
      "number_of_reviews                                 0.00\n",
      "availability_365                                  0.00\n",
      "availability_90                                   0.00\n",
      "availability_60                                   0.00\n",
      "availability_30                                   0.00\n",
      "number_of_reviews_ltm                             0.00\n",
      "number_of_reviews_l30d                            0.00\n",
      "host_thumbnail_url                                0.00\n",
      "source                                            0.00\n",
      "last_scraped                                      0.00\n",
      "picture_url                                       0.00\n",
      "scrape_id                                         0.00\n",
      "instant_bookable                                  0.00\n",
      "calculated_host_listings_count                    0.00\n",
      "calculated_host_listings_count_entire_homes       0.00\n",
      "calculated_host_listings_count_private_rooms      0.00\n",
      "calculated_host_listings_count_shared_rooms       0.00\n",
      "name                                              0.00\n",
      "minimum_nights_avg_ntm                            0.00\n",
      "maximum_nights_avg_ntm                            0.00\n",
      "host_picture_url                                  0.00\n",
      "host_listings_count                               0.00\n",
      "host_total_listings_count                         0.00\n",
      "host_verifications                                0.00\n",
      "host_has_profile_pic                              0.00\n",
      "host_identity_verified                            0.00\n",
      "host_since                                        0.00\n",
      "neighbourhood_cleansed                            0.00\n",
      "host_name                                         0.00\n",
      "latitude                                          0.00\n",
      "longitude                                         0.00\n",
      "property_type                                     0.00\n",
      "room_type                                         0.00\n",
      "accommodates                                      0.00\n",
      "host_url                                          0.00\n",
      "listing_url                                       0.00\n",
      "amenities                                         0.00\n",
      "host_id                                           0.00\n",
      "minimum_nights                                    0.00\n",
      "maximum_nights                                    0.00\n",
      "minimum_minimum_nights                            0.00\n",
      "maximum_minimum_nights                            0.00\n",
      "minimum_maximum_nights                            0.00\n",
      "maximum_maximum_nights                            0.00\n",
      "id                                                0.00\n",
      "dtype: float64\n"
     ]
    }
   ],
   "source": [
    "# Check the percentage of null values in listing dataset\n",
    "pd.set_option('display.max_rows', 75)\n",
    "print(\"Initial Percentage of Null Values in the Listing dataset %\")\n",
    "print(round(df_listings.isna().sum()/df_listings.shape[0]*100, 2).sort_values (ascending=False)) #coverted into a percent(%) and round to 2 decimal places"
   ]
  },
  {
   "cell_type": "code",
   "execution_count": 12,
   "id": "63b9ca2d",
   "metadata": {
    "scrolled": true
   },
   "outputs": [
    {
     "name": "stdout",
     "output_type": "stream",
     "text": [
      "<class 'pandas.core.frame.DataFrame'>\n",
      "RangeIndex: 535577 entries, 0 to 535576\n",
      "Data columns (total 6 columns):\n",
      " #   Column         Non-Null Count   Dtype \n",
      "---  ------         --------------   ----- \n",
      " 0   listing_id     535577 non-null  int64 \n",
      " 1   id             535577 non-null  int64 \n",
      " 2   date           535577 non-null  object\n",
      " 3   reviewer_id    535577 non-null  int64 \n",
      " 4   reviewer_name  535577 non-null  object\n",
      " 5   comments       535542 non-null  object\n",
      "dtypes: int64(3), object(3)\n",
      "memory usage: 24.5+ MB\n"
     ]
    }
   ],
   "source": [
    "# Check the review dataframe data types\n",
    "df_reviews.info()"
   ]
  },
  {
   "cell_type": "code",
   "execution_count": 13,
   "id": "69a44f57",
   "metadata": {},
   "outputs": [
    {
     "name": "stdout",
     "output_type": "stream",
     "text": [
      "Initial Percentage of Null Values in the Review dataset %\n",
      "comments         0.01\n",
      "listing_id       0.00\n",
      "id               0.00\n",
      "date             0.00\n",
      "reviewer_id      0.00\n",
      "reviewer_name    0.00\n",
      "dtype: float64\n"
     ]
    }
   ],
   "source": [
    "# Check the percentage of null values in review dataset\n",
    "print(\"Initial Percentage of Null Values in the Review dataset %\")\n",
    "print(round(df_reviews.isna().sum()/df_reviews.shape[0]*100, 2).sort_values (ascending=False)) #coverted into a percent(%) and round to 2 decimal places"
   ]
  },
  {
   "cell_type": "markdown",
   "id": "686bcde1",
   "metadata": {},
   "source": [
    "The listing dataset contains multiple columns with null values. We will investigate all of the columns by category first considering we have over 70 columns in the listing dataset. Then we will drop the columns if they either contain no useful information, contain only null values, or contain replicated information that we can retrieve from the other columns. We will also investigate the rows that contain missing values from the remaining columns and fillin these values if necessary before we decide to drop these rows. \n",
    "\n",
    "The review dataset seems quite clean, as we only have `comments` column contains less than 0.1% of null values, we will drop these rows from the review dataset."
   ]
  },
  {
   "cell_type": "markdown",
   "id": "a253b8f2",
   "metadata": {},
   "source": [
    "***"
   ]
  },
  {
   "cell_type": "markdown",
   "id": "c6216762",
   "metadata": {},
   "source": [
    "# Clean the Review Dataset <a id=\"a3\"></a>"
   ]
  },
  {
   "cell_type": "markdown",
   "id": "dcd4533e",
   "metadata": {},
   "source": [
    "First, we will clean the review dataset by removing the rows with no reviews and also remove the rows which corresponds to listings with less than 3 reviews. This is so that our review analysis later will have enough reviews for each of the Airbnb listing."
   ]
  },
  {
   "cell_type": "code",
   "execution_count": 14,
   "id": "da39b241",
   "metadata": {},
   "outputs": [
    {
     "data": {
      "text/plain": [
       "id               0\n",
       "date             0\n",
       "reviewer_id      0\n",
       "reviewer_name    0\n",
       "comments         0\n",
       "dtype: int64"
      ]
     },
     "execution_count": 14,
     "metadata": {},
     "output_type": "execute_result"
    }
   ],
   "source": [
    "# Create a dataframe contains these null review data\n",
    "null_reviews = df_reviews[df_reviews['comments'].isnull()]\n",
    "\n",
    "# Check if the listings in the null_reviews dataframe have no reviews at all in the entire dataframe\n",
    "df_reviews.groupby('listing_id').count().loc[null_reviews['listing_id']].isnull().sum()"
   ]
  },
  {
   "cell_type": "markdown",
   "id": "09f6535f",
   "metadata": {},
   "source": [
    "Therefore, we can use all the unique listing ids in the reviews dataframe to filter our listing dataframe after we drop these rows by extracting the listing ids that have more than 3 reviews."
   ]
  },
  {
   "cell_type": "code",
   "execution_count": 15,
   "id": "a84a40e1",
   "metadata": {},
   "outputs": [],
   "source": [
    "# Remove these rows in the reviews dataframe\n",
    "df_reviews_clean=df_reviews.drop(null_reviews.index, axis=0)\n",
    "\n",
    "# Reset index\n",
    "df_reviews_clean=df_reviews_clean.reset_index(drop=True)\n",
    "\n",
    "# Filter listing data and only select listings with more than 3 reviews\n",
    "review_counts=df_reviews_clean.groupby('listing_id').count()['id']\n",
    "\n",
    "# Generate listing ids which has more than 3 reviews\n",
    "filtered_list=[i for i in review_counts.index if review_counts[i]>=3]\n",
    "\n",
    "# Select 'listing_id' column as dataframe index\n",
    "df_reviews_clean.set_index('listing_id', inplace=True)\n",
    "\n",
    "# Remove rows that have ids not in the generated reviews filtered list and reset index.\n",
    "df_reviews_clean=df_reviews_clean.loc[filtered_list].reset_index()"
   ]
  },
  {
   "cell_type": "markdown",
   "id": "669a84b5",
   "metadata": {},
   "source": [
    "***"
   ]
  },
  {
   "cell_type": "markdown",
   "id": "18c9e068",
   "metadata": {},
   "source": [
    "# Clean the Listing Dataset <a id=\"a4\"></a>"
   ]
  },
  {
   "cell_type": "markdown",
   "id": "3c5a6454",
   "metadata": {},
   "source": [
    "First, we will remove the listings from the extracted listing ids that have less than 3 reviews."
   ]
  },
  {
   "cell_type": "markdown",
   "id": "8b912bc2",
   "metadata": {},
   "source": [
    "## First Stage Cleaning <a id=\"a4.1\"></a>"
   ]
  },
  {
   "cell_type": "markdown",
   "id": "6e91a490",
   "metadata": {},
   "source": [
    "### Remove listings with less than 3 reviews "
   ]
  },
  {
   "cell_type": "code",
   "execution_count": 16,
   "id": "34329d49",
   "metadata": {},
   "outputs": [],
   "source": [
    "# Select 'listing_id' column as dataframe index\n",
    "df_listings_clean=df_listings.set_index('id')\n",
    "\n",
    "# Remove rows that have ids not in the generated reviews filtered list and reset index.\n",
    "df_listings_clean=df_listings_clean.loc[filtered_list].reset_index()"
   ]
  },
  {
   "cell_type": "markdown",
   "id": "ddec6192",
   "metadata": {},
   "source": [
    "Before we remove the columns that only contain null values, we will first remove the urls and scraping related columns."
   ]
  },
  {
   "cell_type": "markdown",
   "id": "859027c2",
   "metadata": {},
   "source": [
    "### Remove url/Scraping columns"
   ]
  },
  {
   "cell_type": "code",
   "execution_count": 17,
   "id": "2dcde539",
   "metadata": {},
   "outputs": [],
   "source": [
    "# Remove url and scrape related columns\n",
    "ls=[]\n",
    "for i in df_listings_clean.columns:\n",
    "    if ('url' in i) | ('scrape' in i):\n",
    "        ls.append(i)\n",
    "df_listings_clean.drop(ls, axis=1, inplace=True)\n",
    "df_listings_clean.drop('source', axis=1, inplace=True)"
   ]
  },
  {
   "cell_type": "markdown",
   "id": "9c994c2c",
   "metadata": {},
   "source": [
    "### Remove columns only contain null values"
   ]
  },
  {
   "cell_type": "code",
   "execution_count": 18,
   "id": "c7560f42",
   "metadata": {},
   "outputs": [],
   "source": [
    "# Remove columns contain no values\n",
    "for i in df_listings_clean.columns:\n",
    "    if df_listings_clean.isnull().sum()[i] == df_listings_clean.shape[0]:\n",
    "        df_listings_clean.drop(i, axis=1, inplace=True)    "
   ]
  },
  {
   "cell_type": "markdown",
   "id": "c0b4b3d2",
   "metadata": {},
   "source": [
    "## Clean Host related columns <a id=\"a4.2\"></a>"
   ]
  },
  {
   "cell_type": "markdown",
   "id": "ad948d2c",
   "metadata": {},
   "source": [
    "First, we will drop the columns that contain replicated information."
   ]
  },
  {
   "cell_type": "code",
   "execution_count": 19,
   "id": "89d0bb56",
   "metadata": {
    "scrolled": true
   },
   "outputs": [
    {
     "name": "stdout",
     "output_type": "stream",
     "text": [
      "The columns that are related to the listing hosts are\n"
     ]
    },
    {
     "data": {
      "text/plain": [
       "['host_id',\n",
       " 'host_name',\n",
       " 'host_since',\n",
       " 'host_location',\n",
       " 'host_about',\n",
       " 'host_response_time',\n",
       " 'host_response_rate',\n",
       " 'host_acceptance_rate',\n",
       " 'host_is_superhost',\n",
       " 'host_neighbourhood',\n",
       " 'host_listings_count',\n",
       " 'host_total_listings_count',\n",
       " 'host_verifications',\n",
       " 'host_has_profile_pic',\n",
       " 'host_identity_verified',\n",
       " 'calculated_host_listings_count',\n",
       " 'calculated_host_listings_count_entire_homes',\n",
       " 'calculated_host_listings_count_private_rooms',\n",
       " 'calculated_host_listings_count_shared_rooms']"
      ]
     },
     "execution_count": 19,
     "metadata": {},
     "output_type": "execute_result"
    }
   ],
   "source": [
    "# Create a list which has host related column names\n",
    "host_columns=[]\n",
    "for i in df_listings_clean.columns:\n",
    "    if 'host' in i:\n",
    "        host_columns.append(i)\n",
    "# Show the host related column names\n",
    "print(f'The columns that are related to the listing hosts are')\n",
    "host_columns"
   ]
  },
  {
   "cell_type": "markdown",
   "id": "e16601f9",
   "metadata": {},
   "source": [
    "We will remove the `host_name` column as names are irrelevant for our analysis, also it will include plenty duplicate values. The `host_neighbourhood` is dropped as it contains duplicate information compare to the `host_location` column. "
   ]
  },
  {
   "cell_type": "code",
   "execution_count": 20,
   "id": "15751c0f",
   "metadata": {},
   "outputs": [],
   "source": [
    "# Remove 'host_name','host_total_listings_count' and 'host_listings_count' columns\n",
    "df_listings_clean.drop(['host_name','host_neighbourhood', 'host_total_listings_count', 'host_listings_count'],\n",
    "                       inplace=True, axis=1)"
   ]
  },
  {
   "cell_type": "markdown",
   "id": "a6d4a13f",
   "metadata": {},
   "source": [
    "We will also remove `host_total_listings_count` and `host_listings_count` as the `calculated_host_listings_count` is the correct column showing the number of listings per host after checking. "
   ]
  },
  {
   "cell_type": "code",
   "execution_count": 21,
   "id": "fc62a701",
   "metadata": {},
   "outputs": [],
   "source": [
    "# Create an array contains number of listings per host\n",
    "host_listing_num=df_listings.groupby('host_id').count()['id']\n",
    "\n",
    "# Check if the number of listings per host matches the 'calculated_host_listings_count' column\n",
    "for i in host_listing_num.index:\n",
    "    if host_listing_num[i] != df_listings[df_listings['host_id']==i]['calculated_host_listings_count'].unique():\n",
    "        print(i, 'This one is wrong')"
   ]
  },
  {
   "cell_type": "markdown",
   "id": "b721971f",
   "metadata": {},
   "source": [
    "No error appears so the column `calculated_host_listings_count` matches `host_listing_count` column.\n",
    "\n",
    "However, after we remove the listings with less than 3 reviews, the number of listings for the hosts will change as some of their listings will be excluded in our analysis. Therefore we will edit the column and reassign the number of listings for them."
   ]
  },
  {
   "cell_type": "code",
   "execution_count": 22,
   "id": "0a0467e4",
   "metadata": {},
   "outputs": [],
   "source": [
    "# Create an array contains current number of listings per host\n",
    "host_listing_num_current=df_listings_clean.groupby('host_id').count()['id']\n",
    "\n",
    "# Make host_id as dataframe index\n",
    "df_listings_clean.set_index('host_id', inplace=True)\n",
    "\n",
    "# Reassign number of listings for these hosts\n",
    "for i in host_listing_num_current.index:\n",
    "    df_listings_clean.loc[i, 'calculated_host_listings_count'] = host_listing_num_current[i]\n",
    "\n",
    "# Reset index\n",
    "df_listings_clean.reset_index(inplace=True)"
   ]
  },
  {
   "cell_type": "markdown",
   "id": "9bfd638c",
   "metadata": {},
   "source": [
    "Next, we will look at the host related columns that contain missing values."
   ]
  },
  {
   "cell_type": "code",
   "execution_count": 23,
   "id": "10ae9f65",
   "metadata": {},
   "outputs": [
    {
     "data": {
      "text/plain": [
       "host_location            902\n",
       "host_about              2386\n",
       "host_response_time      1417\n",
       "host_response_rate      1417\n",
       "host_acceptance_rate     596\n",
       "host_is_superhost         30\n",
       "dtype: int64"
      ]
     },
     "execution_count": 23,
     "metadata": {},
     "output_type": "execute_result"
    }
   ],
   "source": [
    "# Create a list which has host related column names\n",
    "host_columns_cleaned=[]\n",
    "for i in df_listings_clean.columns:\n",
    "    if 'host' in i:\n",
    "        host_columns_cleaned.append(i)\n",
    "        \n",
    "# Create a series that contains number of null values in all remaing host related columns\n",
    "host_cleaned_null=df_listings_clean[host_columns_cleaned].isnull().sum()\n",
    "\n",
    "# Use list comprehension to show the columns that have null values\n",
    "host_cleaned_null[[i for i in host_cleaned_null.index if host_cleaned_null[i] !=0]]"
   ]
  },
  {
   "cell_type": "markdown",
   "id": "b91608ea",
   "metadata": {},
   "source": [
    "The `host_location` column contains the location details about the host, the `host_about` column shows the host introductions. As these columns contains texts, we can fill the null values in these columns as 'None'."
   ]
  },
  {
   "cell_type": "code",
   "execution_count": 24,
   "id": "8800d370",
   "metadata": {},
   "outputs": [],
   "source": [
    "# Fill null values in neighbourhood_overview columns\n",
    "df_listings_clean[['host_location', 'host_about']] = df_listings_clean[['host_location', 'host_about']].fillna(value='None')"
   ]
  },
  {
   "cell_type": "markdown",
   "id": "27f848cf",
   "metadata": {},
   "source": [
    "The `host_response_time`, `host_response_rate` and `host_acceptance_rate` reveals similar information about how active the hosts are regard to new bookings. We will deal with these three columns seperately by first looking at what the data is like."
   ]
  },
  {
   "cell_type": "code",
   "execution_count": 25,
   "id": "d4dd0629",
   "metadata": {},
   "outputs": [
    {
     "data": {
      "text/plain": [
       "within an hour        3595\n",
       "within a few hours     574\n",
       "within a day           265\n",
       "a few days or more      59\n",
       "Name: host_response_time, dtype: int64"
      ]
     },
     "execution_count": 25,
     "metadata": {},
     "output_type": "execute_result"
    }
   ],
   "source": [
    "# Check the values in 'host_response_time' columns\n",
    "df_listings_clean['host_response_time'].value_counts()"
   ]
  },
  {
   "cell_type": "code",
   "execution_count": 26,
   "id": "ef8f9778",
   "metadata": {
    "scrolled": true
   },
   "outputs": [
    {
     "data": {
      "text/plain": [
       "100%    3648\n",
       "99%      250\n",
       "90%      134\n",
       "98%       74\n",
       "80%       32\n",
       "0%        31\n",
       "96%       28\n",
       "97%       21\n",
       "93%       20\n",
       "92%       17\n",
       "94%       17\n",
       "50%       16\n",
       "83%       16\n",
       "67%       15\n",
       "86%       14\n",
       "81%       12\n",
       "88%       12\n",
       "60%       12\n",
       "95%       11\n",
       "84%       11\n",
       "89%       11\n",
       "75%       11\n",
       "70%       10\n",
       "71%        8\n",
       "57%        8\n",
       "91%        7\n",
       "82%        6\n",
       "63%        5\n",
       "29%        5\n",
       "20%        5\n",
       "40%        4\n",
       "25%        4\n",
       "78%        3\n",
       "66%        3\n",
       "33%        2\n",
       "30%        2\n",
       "58%        2\n",
       "34%        2\n",
       "13%        1\n",
       "87%        1\n",
       "10%        1\n",
       "43%        1\n",
       "Name: host_response_rate, dtype: int64"
      ]
     },
     "execution_count": 26,
     "metadata": {},
     "output_type": "execute_result"
    }
   ],
   "source": [
    "# Check the values in 'host_response_rate' columns\n",
    "df_listings_clean['host_response_rate'].value_counts()"
   ]
  },
  {
   "cell_type": "code",
   "execution_count": 27,
   "id": "6edcd1b4",
   "metadata": {
    "scrolled": true
   },
   "outputs": [
    {
     "data": {
      "text/plain": [
       "100%    2099\n",
       "99%      838\n",
       "98%      271\n",
       "97%      252\n",
       "96%      178\n",
       "        ... \n",
       "26%        1\n",
       "13%        1\n",
       "14%        1\n",
       "30%        1\n",
       "24%        1\n",
       "Name: host_acceptance_rate, Length: 85, dtype: int64"
      ]
     },
     "execution_count": 27,
     "metadata": {},
     "output_type": "execute_result"
    }
   ],
   "source": [
    "# Check the values in 'host_acceptance_rate' columns\n",
    "df_listings_clean['host_acceptance_rate'].value_counts()"
   ]
  },
  {
   "cell_type": "markdown",
   "id": "8ab81f58",
   "metadata": {},
   "source": [
    "Therefore, we will fill the null values in `host_response_time` as 'Not provided', convert the `host_response_rate` and `host_acceptance_rate` as floats from percentage string, and fill null values in these two columns as 0."
   ]
  },
  {
   "cell_type": "code",
   "execution_count": 28,
   "id": "a4046927",
   "metadata": {},
   "outputs": [],
   "source": [
    "# Fill the null values in 'host_response_time' as 'Not provided'.\n",
    "df_listings_clean['host_response_time'] = df_listings_clean['host_response_time'].fillna('Not provided')\n",
    "\n",
    "# Convert the response rate as floats from percentage string and fill null values as 0.\n",
    "df_listings_clean['host_response_rate'] = df_listings_clean['host_response_rate'].apply(lambda col: float(str(col).replace('%', '')))\n",
    "df_listings_clean['host_response_rate'] = df_listings_clean['host_response_rate'].fillna(value=0)\n",
    "\n",
    "# Convert the acceptance rate as floats from percentage string and fill null values as 0.\n",
    "df_listings_clean['host_acceptance_rate'] = df_listings_clean['host_acceptance_rate'].apply(lambda col: float(str(col).replace('%', '')))\n",
    "df_listings_clean['host_acceptance_rate'] = df_listings_clean['host_acceptance_rate'].fillna(value=0)"
   ]
  },
  {
   "cell_type": "markdown",
   "id": "35255dc8",
   "metadata": {},
   "source": [
    "For the `host_is_superhost` column, the data shows if the host is a superhost using boolean values (t for true and f for false). Therefore, it is sensible to assume that a null value indicates that the host is not a superhost."
   ]
  },
  {
   "cell_type": "code",
   "execution_count": 29,
   "id": "6f00d5e9",
   "metadata": {},
   "outputs": [
    {
     "data": {
      "text/plain": [
       "f    3322\n",
       "t    2558\n",
       "Name: host_is_superhost, dtype: int64"
      ]
     },
     "execution_count": 29,
     "metadata": {},
     "output_type": "execute_result"
    }
   ],
   "source": [
    "# Check the 'host_is_superhost' column.\n",
    "df_listings_clean['host_is_superhost'].value_counts()"
   ]
  },
  {
   "cell_type": "code",
   "execution_count": 30,
   "id": "8595a214",
   "metadata": {},
   "outputs": [],
   "source": [
    "# Fillin null values for 'host_is_superhost' column by 'f'.\n",
    "df_listings_clean['host_is_superhost'] = df_listings_clean['host_is_superhost'].fillna(value='f')"
   ]
  },
  {
   "cell_type": "markdown",
   "id": "3d1c123e",
   "metadata": {},
   "source": [
    "We can check if the current host related columns contain any null values"
   ]
  },
  {
   "cell_type": "code",
   "execution_count": 31,
   "id": "4e105c04",
   "metadata": {
    "scrolled": true
   },
   "outputs": [
    {
     "data": {
      "text/plain": [
       "host_id                                         0\n",
       "host_since                                      0\n",
       "host_location                                   0\n",
       "host_about                                      0\n",
       "host_response_time                              0\n",
       "host_response_rate                              0\n",
       "host_acceptance_rate                            0\n",
       "host_is_superhost                               0\n",
       "host_verifications                              0\n",
       "host_has_profile_pic                            0\n",
       "host_identity_verified                          0\n",
       "calculated_host_listings_count                  0\n",
       "calculated_host_listings_count_entire_homes     0\n",
       "calculated_host_listings_count_private_rooms    0\n",
       "calculated_host_listings_count_shared_rooms     0\n",
       "dtype: int64"
      ]
     },
     "execution_count": 31,
     "metadata": {},
     "output_type": "execute_result"
    }
   ],
   "source": [
    "df_listings_clean[host_columns_cleaned].isnull().sum()"
   ]
  },
  {
   "cell_type": "markdown",
   "id": "e5d6873e",
   "metadata": {},
   "source": [
    "## Clean location related columns <a id=\"a4.3\"></a>"
   ]
  },
  {
   "cell_type": "markdown",
   "id": "61c161ed",
   "metadata": {},
   "source": [
    "From the listing column names, we can extract the columns that contain property location informtion. The columns are `neighbourhood_overview`, `neighbourhood`, `neighbourhood_cleansed`,`latitude`, `longtitude`. We can first see what these columns contain, then check if these columns contain any null values."
   ]
  },
  {
   "cell_type": "code",
   "execution_count": 32,
   "id": "c44ce73d",
   "metadata": {},
   "outputs": [
    {
     "data": {
      "text/html": [
       "<div>\n",
       "<style scoped>\n",
       "    .dataframe tbody tr th:only-of-type {\n",
       "        vertical-align: middle;\n",
       "    }\n",
       "\n",
       "    .dataframe tbody tr th {\n",
       "        vertical-align: top;\n",
       "    }\n",
       "\n",
       "    .dataframe thead th {\n",
       "        text-align: right;\n",
       "    }\n",
       "</style>\n",
       "<table border=\"1\" class=\"dataframe\">\n",
       "  <thead>\n",
       "    <tr style=\"text-align: right;\">\n",
       "      <th></th>\n",
       "      <th>0</th>\n",
       "    </tr>\n",
       "  </thead>\n",
       "  <tbody>\n",
       "    <tr>\n",
       "      <th>neighborhood_overview</th>\n",
       "      <td>The neighbourhood is in the historic New Town, renowned for its Georgian architecture and a World Heritage Site.  Whilst it is a 5 minute walk to Princes Street, it has its own distinctive atmosphere with lovely independent shops, boutiques, restaurants &amp; bars.&lt;br /&gt;To view my Guidebook, click on More about Location under the map, then click on Show Host Guidebook at the bottom of the Location pop-up.</td>\n",
       "    </tr>\n",
       "    <tr>\n",
       "      <th>neighbourhood</th>\n",
       "      <td>Edinburgh, City of Edinburgh, United Kingdom</td>\n",
       "    </tr>\n",
       "    <tr>\n",
       "      <th>neighbourhood_cleansed</th>\n",
       "      <td>Old Town, Princes Street and Leith Street</td>\n",
       "    </tr>\n",
       "    <tr>\n",
       "      <th>latitude</th>\n",
       "      <td>55.95759</td>\n",
       "    </tr>\n",
       "    <tr>\n",
       "      <th>longitude</th>\n",
       "      <td>-3.18805</td>\n",
       "    </tr>\n",
       "  </tbody>\n",
       "</table>\n",
       "</div>"
      ],
      "text/plain": [
       "                                                                                                                                                                                                                                                                                                                                                                                                                                           0\n",
       "neighborhood_overview   The neighbourhood is in the historic New Town, renowned for its Georgian architecture and a World Heritage Site.  Whilst it is a 5 minute walk to Princes Street, it has its own distinctive atmosphere with lovely independent shops, boutiques, restaurants & bars.<br />To view my Guidebook, click on More about Location under the map, then click on Show Host Guidebook at the bottom of the Location pop-up.\n",
       "neighbourhood                                                                                                                                                                                                                                                                                                                                                                                   Edinburgh, City of Edinburgh, United Kingdom\n",
       "neighbourhood_cleansed                                                                                                                                                                                                                                                                                                                                                                             Old Town, Princes Street and Leith Street\n",
       "latitude                                                                                                                                                                                                                                                                                                                                                                                                                            55.95759\n",
       "longitude                                                                                                                                                                                                                                                                                                                                                                                                                           -3.18805"
      ]
     },
     "execution_count": 32,
     "metadata": {},
     "output_type": "execute_result"
    }
   ],
   "source": [
    "# Check the location columns in the first row \n",
    "df_listings_clean[['neighborhood_overview', 'neighbourhood', 'neighbourhood_cleansed', 'latitude', 'longitude']].head(1).T"
   ]
  },
  {
   "cell_type": "code",
   "execution_count": 33,
   "id": "41661929",
   "metadata": {},
   "outputs": [
    {
     "data": {
      "text/plain": [
       "neighborhood_overview     1589\n",
       "neighbourhood             1589\n",
       "neighbourhood_cleansed       0\n",
       "latitude                     0\n",
       "longitude                    0\n",
       "dtype: int64"
      ]
     },
     "execution_count": 33,
     "metadata": {},
     "output_type": "execute_result"
    }
   ],
   "source": [
    "# Check if the property location related columns have any null values\n",
    "df_listings_clean[['neighborhood_overview', 'neighbourhood', 'neighbourhood_cleansed', 'latitude', 'longitude']].isnull().sum()"
   ]
  },
  {
   "cell_type": "markdown",
   "id": "fdf41868",
   "metadata": {},
   "source": [
    "The `neighborhood_overview` column shows the neighborhood information hosts write about the listing, thus we can fill the null values in this column as 'None'. The `neighbourhood` column contains replicated information as the `neighborhood_overview` column, thus we can drop this column."
   ]
  },
  {
   "cell_type": "code",
   "execution_count": 34,
   "id": "701ba716",
   "metadata": {},
   "outputs": [],
   "source": [
    "# Fill the null values in the neighborhood_overview column as None\n",
    "df_listings_clean['neighborhood_overview'] = df_listings_clean['neighborhood_overview'].fillna('None')\n",
    "\n",
    "# Remove neighbourhood column\n",
    "df_listings_clean.drop('neighbourhood', axis=1, inplace= True)"
   ]
  },
  {
   "cell_type": "markdown",
   "id": "9c23947a",
   "metadata": {},
   "source": [
    "## Clean property related columns <a id=\"a4.4\"></a>"
   ]
  },
  {
   "cell_type": "markdown",
   "id": "6dbe83e4",
   "metadata": {},
   "source": [
    "The listing dataset contains multiple columns that are related to the property itself. This includes `name`,`property_type`,`room_type`,`accomodates`,`bathrooms_text`,`beds`,and `amenities`. We will first see what these columns contain, then check if these columns contain null values. "
   ]
  },
  {
   "cell_type": "code",
   "execution_count": 35,
   "id": "dc931682",
   "metadata": {},
   "outputs": [
    {
     "data": {
      "text/html": [
       "<div>\n",
       "<style scoped>\n",
       "    .dataframe tbody tr th:only-of-type {\n",
       "        vertical-align: middle;\n",
       "    }\n",
       "\n",
       "    .dataframe tbody tr th {\n",
       "        vertical-align: top;\n",
       "    }\n",
       "\n",
       "    .dataframe thead th {\n",
       "        text-align: right;\n",
       "    }\n",
       "</style>\n",
       "<table border=\"1\" class=\"dataframe\">\n",
       "  <thead>\n",
       "    <tr style=\"text-align: right;\">\n",
       "      <th></th>\n",
       "      <th>0</th>\n",
       "    </tr>\n",
       "  </thead>\n",
       "  <tbody>\n",
       "    <tr>\n",
       "      <th>name</th>\n",
       "      <td>Rental unit in Edinburgh · ★4.98 · 1 bedroom · 1 bed · 1 bath</td>\n",
       "    </tr>\n",
       "    <tr>\n",
       "      <th>property_type</th>\n",
       "      <td>Entire rental unit</td>\n",
       "    </tr>\n",
       "    <tr>\n",
       "      <th>room_type</th>\n",
       "      <td>Entire home/apt</td>\n",
       "    </tr>\n",
       "    <tr>\n",
       "      <th>accommodates</th>\n",
       "      <td>2</td>\n",
       "    </tr>\n",
       "    <tr>\n",
       "      <th>bathrooms_text</th>\n",
       "      <td>1 bath</td>\n",
       "    </tr>\n",
       "    <tr>\n",
       "      <th>beds</th>\n",
       "      <td>1.0</td>\n",
       "    </tr>\n",
       "    <tr>\n",
       "      <th>amenities</th>\n",
       "      <td>[]</td>\n",
       "    </tr>\n",
       "  </tbody>\n",
       "</table>\n",
       "</div>"
      ],
      "text/plain": [
       "                                                                            0\n",
       "name            Rental unit in Edinburgh · ★4.98 · 1 bedroom · 1 bed · 1 bath\n",
       "property_type                                              Entire rental unit\n",
       "room_type                                                     Entire home/apt\n",
       "accommodates                                                                2\n",
       "bathrooms_text                                                         1 bath\n",
       "beds                                                                      1.0\n",
       "amenities                                                                  []"
      ]
     },
     "execution_count": 35,
     "metadata": {},
     "output_type": "execute_result"
    }
   ],
   "source": [
    "# Check the property related columns in the first row \n",
    "df_listings_clean[['name','property_type','room_type','accommodates','bathrooms_text','beds','amenities']].head(1).T"
   ]
  },
  {
   "cell_type": "code",
   "execution_count": 36,
   "id": "5cac283c",
   "metadata": {},
   "outputs": [
    {
     "data": {
      "text/plain": [
       "name               0\n",
       "property_type      0\n",
       "room_type          0\n",
       "accommodates       0\n",
       "bathrooms_text     4\n",
       "beds              47\n",
       "amenities          0\n",
       "dtype: int64"
      ]
     },
     "execution_count": 36,
     "metadata": {},
     "output_type": "execute_result"
    }
   ],
   "source": [
    "# Check if the property related columns contain any null values\n",
    "df_listings_clean[['name','property_type','room_type','accommodates','bathrooms_text','beds','amenities']].isnull().sum()"
   ]
  },
  {
   "cell_type": "markdown",
   "id": "9c8ec749",
   "metadata": {},
   "source": [
    "By checking the amentities column, we observe that no useful information is contained therefore we will drop this column."
   ]
  },
  {
   "cell_type": "code",
   "execution_count": 37,
   "id": "d06d5135",
   "metadata": {},
   "outputs": [
    {
     "data": {
      "text/plain": [
       "[]    5910\n",
       "Name: amenities, dtype: int64"
      ]
     },
     "execution_count": 37,
     "metadata": {},
     "output_type": "execute_result"
    }
   ],
   "source": [
    "# Check the amentities column\n",
    "df_listings_clean['amenities'].value_counts()"
   ]
  },
  {
   "cell_type": "code",
   "execution_count": 38,
   "id": "9dd9d90a",
   "metadata": {},
   "outputs": [],
   "source": [
    "# Drop amentities column\n",
    "df_listings_clean.drop('amenities', axis=1, inplace=True)"
   ]
  },
  {
   "cell_type": "markdown",
   "id": "10fae461",
   "metadata": {},
   "source": [
    "The name of the property contains the information of the property_type, location, star rating, number of bedrooms and number of bathrooms. Therefore, we can extract the information in this column to fill the null values in the `bathrooms_text` and the `beds` columns first, then drop this column.\n",
    "\n",
    "For the 'bathrooms_text', we can check what the rows that contain these data looks like in our dataframe."
   ]
  },
  {
   "cell_type": "code",
   "execution_count": 39,
   "id": "cb52c0b4",
   "metadata": {},
   "outputs": [
    {
     "data": {
      "text/html": [
       "<div>\n",
       "<style scoped>\n",
       "    .dataframe tbody tr th:only-of-type {\n",
       "        vertical-align: middle;\n",
       "    }\n",
       "\n",
       "    .dataframe tbody tr th {\n",
       "        vertical-align: top;\n",
       "    }\n",
       "\n",
       "    .dataframe thead th {\n",
       "        text-align: right;\n",
       "    }\n",
       "</style>\n",
       "<table border=\"1\" class=\"dataframe\">\n",
       "  <thead>\n",
       "    <tr style=\"text-align: right;\">\n",
       "      <th></th>\n",
       "      <th>83</th>\n",
       "      <th>151</th>\n",
       "      <th>228</th>\n",
       "      <th>536</th>\n",
       "    </tr>\n",
       "  </thead>\n",
       "  <tbody>\n",
       "    <tr>\n",
       "      <th>host_id</th>\n",
       "      <td>2989965</td>\n",
       "      <td>7385507</td>\n",
       "      <td>12724800</td>\n",
       "      <td>20509940</td>\n",
       "    </tr>\n",
       "    <tr>\n",
       "      <th>id</th>\n",
       "      <td>641460</td>\n",
       "      <td>1360543</td>\n",
       "      <td>2486691</td>\n",
       "      <td>6909721</td>\n",
       "    </tr>\n",
       "    <tr>\n",
       "      <th>name</th>\n",
       "      <td>Serviced apartment in Edinburgh · ★4.54 · 2 bedrooms · 4 beds</td>\n",
       "      <td>Home in Edinburgh · ★4.67 · 1 bedroom · 1 bed</td>\n",
       "      <td>Rental unit in Edinburgh · ★4.93 · 1 bedroom · 1 bed</td>\n",
       "      <td>Hostel in Edinburgh · ★4.68 · Studio · 1 bed</td>\n",
       "    </tr>\n",
       "    <tr>\n",
       "      <th>neighborhood_overview</th>\n",
       "      <td>There is a 24-hour Asda supermarket located within 5 minutes’ drive from the apartments with ample parking provided.&lt;br /&gt;&lt;br /&gt;There is also a wide range of restaurants within 10 minutes’ walk from the apartments. These include Loch Fyne, The Lodge and Porto &amp; Fi. Ocean Terminal shopping centre offers great shopping, dining and cinema, all under one roof. This shopping centre is located approximately 15 minutes’ walk from our apartments.</td>\n",
       "      <td>None</td>\n",
       "      <td>Beautiful neighbourhood, situated in a wide, tree-lined, cobbled avenue right next to Edinburgh's wonderful meadows. Only 10 minutes walk from centre of Edinburgh, the Marchmont area is gifted with leafy surroundings, a choice of street cafes, restaurants, small local shops, supermarket, gym and swimming pool within 5- 10 minutes walk.</td>\n",
       "      <td>Whether you're visiting for the Fringe festival, a Rugby match, or to learn about the city's rich history, there's no shortage of things to do in Edinburgh.</td>\n",
       "    </tr>\n",
       "    <tr>\n",
       "      <th>host_since</th>\n",
       "      <td>2012-07-19</td>\n",
       "      <td>2013-07-09</td>\n",
       "      <td>2014-03-02</td>\n",
       "      <td>2014-08-25</td>\n",
       "    </tr>\n",
       "    <tr>\n",
       "      <th>host_location</th>\n",
       "      <td>Edinburgh, United Kingdom</td>\n",
       "      <td>Edinburgh, United Kingdom</td>\n",
       "      <td>Edinburgh, United Kingdom</td>\n",
       "      <td>None</td>\n",
       "    </tr>\n",
       "    <tr>\n",
       "      <th>host_about</th>\n",
       "      <td>Hi, We are Ocean Serviced Apartments.\\r\\nWe have a team of 8 staff members, running a very professional serviced apartment company. \\r\\nWe only provide good quality serviced apartments in Edinburgh. \\r\\nPerfect for holidays, city breaks and business travellers.\\r\\n\\r\\nWith only a few staff members we aim to always have happy guests.\\r\\nPlease contact us for any information before, during and after your stay,\\r\\n</td>\n",
       "      <td>Local Scotsman, from Oban originally, but lived in Edinburgh for many years.</td>\n",
       "      <td>Everyone has a story, let's talk!</td>\n",
       "      <td>None</td>\n",
       "    </tr>\n",
       "    <tr>\n",
       "      <th>host_response_time</th>\n",
       "      <td>Not provided</td>\n",
       "      <td>within a few hours</td>\n",
       "      <td>Not provided</td>\n",
       "      <td>within an hour</td>\n",
       "    </tr>\n",
       "    <tr>\n",
       "      <th>host_response_rate</th>\n",
       "      <td>0.0</td>\n",
       "      <td>100.0</td>\n",
       "      <td>0.0</td>\n",
       "      <td>96.0</td>\n",
       "    </tr>\n",
       "    <tr>\n",
       "      <th>host_acceptance_rate</th>\n",
       "      <td>100.0</td>\n",
       "      <td>0.0</td>\n",
       "      <td>0.0</td>\n",
       "      <td>100.0</td>\n",
       "    </tr>\n",
       "    <tr>\n",
       "      <th>host_is_superhost</th>\n",
       "      <td>f</td>\n",
       "      <td>f</td>\n",
       "      <td>f</td>\n",
       "      <td>f</td>\n",
       "    </tr>\n",
       "    <tr>\n",
       "      <th>host_verifications</th>\n",
       "      <td>['email', 'phone', 'work_email']</td>\n",
       "      <td>['email', 'phone']</td>\n",
       "      <td>['email', 'phone', 'work_email']</td>\n",
       "      <td>['email', 'phone']</td>\n",
       "    </tr>\n",
       "    <tr>\n",
       "      <th>host_has_profile_pic</th>\n",
       "      <td>t</td>\n",
       "      <td>t</td>\n",
       "      <td>t</td>\n",
       "      <td>t</td>\n",
       "    </tr>\n",
       "    <tr>\n",
       "      <th>host_identity_verified</th>\n",
       "      <td>f</td>\n",
       "      <td>t</td>\n",
       "      <td>t</td>\n",
       "      <td>t</td>\n",
       "    </tr>\n",
       "    <tr>\n",
       "      <th>neighbourhood_cleansed</th>\n",
       "      <td>Western Harbour and Leith Docks</td>\n",
       "      <td>Deans Village</td>\n",
       "      <td>Marchmont West</td>\n",
       "      <td>Old Town, Princes Street and Leith Street</td>\n",
       "    </tr>\n",
       "    <tr>\n",
       "      <th>latitude</th>\n",
       "      <td>55.98616</td>\n",
       "      <td>55.94985</td>\n",
       "      <td>55.93767</td>\n",
       "      <td>55.95123</td>\n",
       "    </tr>\n",
       "    <tr>\n",
       "      <th>longitude</th>\n",
       "      <td>-3.18849</td>\n",
       "      <td>-3.21821</td>\n",
       "      <td>-3.19818</td>\n",
       "      <td>-3.20041</td>\n",
       "    </tr>\n",
       "    <tr>\n",
       "      <th>property_type</th>\n",
       "      <td>Room in serviced apartment</td>\n",
       "      <td>Private room in home</td>\n",
       "      <td>Private room in rental unit</td>\n",
       "      <td>Room in hostel</td>\n",
       "    </tr>\n",
       "    <tr>\n",
       "      <th>room_type</th>\n",
       "      <td>Hotel room</td>\n",
       "      <td>Private room</td>\n",
       "      <td>Private room</td>\n",
       "      <td>Hotel room</td>\n",
       "    </tr>\n",
       "    <tr>\n",
       "      <th>accommodates</th>\n",
       "      <td>5</td>\n",
       "      <td>2</td>\n",
       "      <td>2</td>\n",
       "      <td>2</td>\n",
       "    </tr>\n",
       "    <tr>\n",
       "      <th>bathrooms_text</th>\n",
       "      <td>NaN</td>\n",
       "      <td>NaN</td>\n",
       "      <td>NaN</td>\n",
       "      <td>NaN</td>\n",
       "    </tr>\n",
       "    <tr>\n",
       "      <th>beds</th>\n",
       "      <td>4.0</td>\n",
       "      <td>1.0</td>\n",
       "      <td>1.0</td>\n",
       "      <td>1.0</td>\n",
       "    </tr>\n",
       "    <tr>\n",
       "      <th>price</th>\n",
       "      <td>$200.00</td>\n",
       "      <td>$100.00</td>\n",
       "      <td>NaN</td>\n",
       "      <td>$196.00</td>\n",
       "    </tr>\n",
       "    <tr>\n",
       "      <th>minimum_nights</th>\n",
       "      <td>4</td>\n",
       "      <td>90</td>\n",
       "      <td>3</td>\n",
       "      <td>1</td>\n",
       "    </tr>\n",
       "    <tr>\n",
       "      <th>maximum_nights</th>\n",
       "      <td>300</td>\n",
       "      <td>1125</td>\n",
       "      <td>1125</td>\n",
       "      <td>365</td>\n",
       "    </tr>\n",
       "    <tr>\n",
       "      <th>minimum_minimum_nights</th>\n",
       "      <td>4</td>\n",
       "      <td>90</td>\n",
       "      <td>3</td>\n",
       "      <td>1</td>\n",
       "    </tr>\n",
       "    <tr>\n",
       "      <th>maximum_minimum_nights</th>\n",
       "      <td>4</td>\n",
       "      <td>90</td>\n",
       "      <td>3</td>\n",
       "      <td>3</td>\n",
       "    </tr>\n",
       "    <tr>\n",
       "      <th>minimum_maximum_nights</th>\n",
       "      <td>1125</td>\n",
       "      <td>1125</td>\n",
       "      <td>1125</td>\n",
       "      <td>365</td>\n",
       "    </tr>\n",
       "    <tr>\n",
       "      <th>maximum_maximum_nights</th>\n",
       "      <td>1125</td>\n",
       "      <td>1125</td>\n",
       "      <td>1125</td>\n",
       "      <td>365</td>\n",
       "    </tr>\n",
       "    <tr>\n",
       "      <th>minimum_nights_avg_ntm</th>\n",
       "      <td>4.0</td>\n",
       "      <td>90.0</td>\n",
       "      <td>3.0</td>\n",
       "      <td>2.9</td>\n",
       "    </tr>\n",
       "    <tr>\n",
       "      <th>maximum_nights_avg_ntm</th>\n",
       "      <td>1125.0</td>\n",
       "      <td>1125.0</td>\n",
       "      <td>1125.0</td>\n",
       "      <td>365.0</td>\n",
       "    </tr>\n",
       "    <tr>\n",
       "      <th>has_availability</th>\n",
       "      <td>t</td>\n",
       "      <td>t</td>\n",
       "      <td>NaN</td>\n",
       "      <td>t</td>\n",
       "    </tr>\n",
       "    <tr>\n",
       "      <th>availability_30</th>\n",
       "      <td>0</td>\n",
       "      <td>0</td>\n",
       "      <td>0</td>\n",
       "      <td>11</td>\n",
       "    </tr>\n",
       "    <tr>\n",
       "      <th>availability_60</th>\n",
       "      <td>0</td>\n",
       "      <td>0</td>\n",
       "      <td>0</td>\n",
       "      <td>37</td>\n",
       "    </tr>\n",
       "    <tr>\n",
       "      <th>availability_90</th>\n",
       "      <td>0</td>\n",
       "      <td>0</td>\n",
       "      <td>0</td>\n",
       "      <td>64</td>\n",
       "    </tr>\n",
       "    <tr>\n",
       "      <th>availability_365</th>\n",
       "      <td>4</td>\n",
       "      <td>1</td>\n",
       "      <td>0</td>\n",
       "      <td>298</td>\n",
       "    </tr>\n",
       "    <tr>\n",
       "      <th>number_of_reviews</th>\n",
       "      <td>82</td>\n",
       "      <td>18</td>\n",
       "      <td>14</td>\n",
       "      <td>22</td>\n",
       "    </tr>\n",
       "    <tr>\n",
       "      <th>number_of_reviews_ltm</th>\n",
       "      <td>1</td>\n",
       "      <td>0</td>\n",
       "      <td>0</td>\n",
       "      <td>2</td>\n",
       "    </tr>\n",
       "    <tr>\n",
       "      <th>number_of_reviews_l30d</th>\n",
       "      <td>0</td>\n",
       "      <td>0</td>\n",
       "      <td>0</td>\n",
       "      <td>0</td>\n",
       "    </tr>\n",
       "    <tr>\n",
       "      <th>first_review</th>\n",
       "      <td>2013-08-13</td>\n",
       "      <td>2013-08-07</td>\n",
       "      <td>2015-02-20</td>\n",
       "      <td>2015-09-21</td>\n",
       "    </tr>\n",
       "    <tr>\n",
       "      <th>last_review</th>\n",
       "      <td>2023-08-12</td>\n",
       "      <td>2018-01-03</td>\n",
       "      <td>2018-06-20</td>\n",
       "      <td>2023-11-15</td>\n",
       "    </tr>\n",
       "    <tr>\n",
       "      <th>review_scores_rating</th>\n",
       "      <td>4.54</td>\n",
       "      <td>4.67</td>\n",
       "      <td>4.93</td>\n",
       "      <td>4.68</td>\n",
       "    </tr>\n",
       "    <tr>\n",
       "      <th>review_scores_accuracy</th>\n",
       "      <td>4.76</td>\n",
       "      <td>4.89</td>\n",
       "      <td>5.0</td>\n",
       "      <td>4.68</td>\n",
       "    </tr>\n",
       "    <tr>\n",
       "      <th>review_scores_cleanliness</th>\n",
       "      <td>4.67</td>\n",
       "      <td>4.44</td>\n",
       "      <td>4.79</td>\n",
       "      <td>4.68</td>\n",
       "    </tr>\n",
       "    <tr>\n",
       "      <th>review_scores_checkin</th>\n",
       "      <td>4.6</td>\n",
       "      <td>4.83</td>\n",
       "      <td>5.0</td>\n",
       "      <td>4.59</td>\n",
       "    </tr>\n",
       "    <tr>\n",
       "      <th>review_scores_communication</th>\n",
       "      <td>4.62</td>\n",
       "      <td>4.83</td>\n",
       "      <td>4.93</td>\n",
       "      <td>4.68</td>\n",
       "    </tr>\n",
       "    <tr>\n",
       "      <th>review_scores_location</th>\n",
       "      <td>4.47</td>\n",
       "      <td>4.78</td>\n",
       "      <td>4.93</td>\n",
       "      <td>4.82</td>\n",
       "    </tr>\n",
       "    <tr>\n",
       "      <th>review_scores_value</th>\n",
       "      <td>4.54</td>\n",
       "      <td>4.5</td>\n",
       "      <td>4.71</td>\n",
       "      <td>4.68</td>\n",
       "    </tr>\n",
       "    <tr>\n",
       "      <th>license</th>\n",
       "      <td>NaN</td>\n",
       "      <td>NaN</td>\n",
       "      <td>NaN</td>\n",
       "      <td>NaN</td>\n",
       "    </tr>\n",
       "    <tr>\n",
       "      <th>instant_bookable</th>\n",
       "      <td>t</td>\n",
       "      <td>f</td>\n",
       "      <td>f</td>\n",
       "      <td>t</td>\n",
       "    </tr>\n",
       "    <tr>\n",
       "      <th>calculated_host_listings_count</th>\n",
       "      <td>5</td>\n",
       "      <td>1</td>\n",
       "      <td>1</td>\n",
       "      <td>6</td>\n",
       "    </tr>\n",
       "    <tr>\n",
       "      <th>calculated_host_listings_count_entire_homes</th>\n",
       "      <td>4</td>\n",
       "      <td>0</td>\n",
       "      <td>0</td>\n",
       "      <td>0</td>\n",
       "    </tr>\n",
       "    <tr>\n",
       "      <th>calculated_host_listings_count_private_rooms</th>\n",
       "      <td>0</td>\n",
       "      <td>1</td>\n",
       "      <td>1</td>\n",
       "      <td>1</td>\n",
       "    </tr>\n",
       "    <tr>\n",
       "      <th>calculated_host_listings_count_shared_rooms</th>\n",
       "      <td>0</td>\n",
       "      <td>0</td>\n",
       "      <td>0</td>\n",
       "      <td>2</td>\n",
       "    </tr>\n",
       "    <tr>\n",
       "      <th>reviews_per_month</th>\n",
       "      <td>0.65</td>\n",
       "      <td>0.14</td>\n",
       "      <td>0.13</td>\n",
       "      <td>0.22</td>\n",
       "    </tr>\n",
       "  </tbody>\n",
       "</table>\n",
       "</div>"
      ],
      "text/plain": [
       "                                                                                                                                                                                                                                                                                                                                                                                                                                                                                                     83   \\\n",
       "host_id                                                                                                                                                                                                                                                                                                                                                                                                                                                                                          2989965   \n",
       "id                                                                                                                                                                                                                                                                                                                                                                                                                                                                                                641460   \n",
       "name                                                                                                                                                                                                                                                                                                                                                                                                                                       Serviced apartment in Edinburgh · ★4.54 · 2 bedrooms · 4 beds   \n",
       "neighborhood_overview                         There is a 24-hour Asda supermarket located within 5 minutes’ drive from the apartments with ample parking provided.<br /><br />There is also a wide range of restaurants within 10 minutes’ walk from the apartments. These include Loch Fyne, The Lodge and Porto & Fi. Ocean Terminal shopping centre offers great shopping, dining and cinema, all under one roof. This shopping centre is located approximately 15 minutes’ walk from our apartments.   \n",
       "host_since                                                                                                                                                                                                                                                                                                                                                                                                                                                                                    2012-07-19   \n",
       "host_location                                                                                                                                                                                                                                                                                                                                                                                                                                                                  Edinburgh, United Kingdom   \n",
       "host_about                                                               Hi, We are Ocean Serviced Apartments.\\r\\nWe have a team of 8 staff members, running a very professional serviced apartment company. \\r\\nWe only provide good quality serviced apartments in Edinburgh. \\r\\nPerfect for holidays, city breaks and business travellers.\\r\\n\\r\\nWith only a few staff members we aim to always have happy guests.\\r\\nPlease contact us for any information before, during and after your stay,\\r\\n   \n",
       "host_response_time                                                                                                                                                                                                                                                                                                                                                                                                                                                                          Not provided   \n",
       "host_response_rate                                                                                                                                                                                                                                                                                                                                                                                                                                                                                   0.0   \n",
       "host_acceptance_rate                                                                                                                                                                                                                                                                                                                                                                                                                                                                               100.0   \n",
       "host_is_superhost                                                                                                                                                                                                                                                                                                                                                                                                                                                                                      f   \n",
       "host_verifications                                                                                                                                                                                                                                                                                                                                                                                                                                                      ['email', 'phone', 'work_email']   \n",
       "host_has_profile_pic                                                                                                                                                                                                                                                                                                                                                                                                                                                                                   t   \n",
       "host_identity_verified                                                                                                                                                                                                                                                                                                                                                                                                                                                                                 f   \n",
       "neighbourhood_cleansed                                                                                                                                                                                                                                                                                                                                                                                                                                                   Western Harbour and Leith Docks   \n",
       "latitude                                                                                                                                                                                                                                                                                                                                                                                                                                                                                        55.98616   \n",
       "longitude                                                                                                                                                                                                                                                                                                                                                                                                                                                                                       -3.18849   \n",
       "property_type                                                                                                                                                                                                                                                                                                                                                                                                                                                                 Room in serviced apartment   \n",
       "room_type                                                                                                                                                                                                                                                                                                                                                                                                                                                                                     Hotel room   \n",
       "accommodates                                                                                                                                                                                                                                                                                                                                                                                                                                                                                           5   \n",
       "bathrooms_text                                                                                                                                                                                                                                                                                                                                                                                                                                                                                       NaN   \n",
       "beds                                                                                                                                                                                                                                                                                                                                                                                                                                                                                                 4.0   \n",
       "price                                                                                                                                                                                                                                                                                                                                                                                                                                                                                            $200.00   \n",
       "minimum_nights                                                                                                                                                                                                                                                                                                                                                                                                                                                                                         4   \n",
       "maximum_nights                                                                                                                                                                                                                                                                                                                                                                                                                                                                                       300   \n",
       "minimum_minimum_nights                                                                                                                                                                                                                                                                                                                                                                                                                                                                                 4   \n",
       "maximum_minimum_nights                                                                                                                                                                                                                                                                                                                                                                                                                                                                                 4   \n",
       "minimum_maximum_nights                                                                                                                                                                                                                                                                                                                                                                                                                                                                              1125   \n",
       "maximum_maximum_nights                                                                                                                                                                                                                                                                                                                                                                                                                                                                              1125   \n",
       "minimum_nights_avg_ntm                                                                                                                                                                                                                                                                                                                                                                                                                                                                               4.0   \n",
       "maximum_nights_avg_ntm                                                                                                                                                                                                                                                                                                                                                                                                                                                                            1125.0   \n",
       "has_availability                                                                                                                                                                                                                                                                                                                                                                                                                                                                                       t   \n",
       "availability_30                                                                                                                                                                                                                                                                                                                                                                                                                                                                                        0   \n",
       "availability_60                                                                                                                                                                                                                                                                                                                                                                                                                                                                                        0   \n",
       "availability_90                                                                                                                                                                                                                                                                                                                                                                                                                                                                                        0   \n",
       "availability_365                                                                                                                                                                                                                                                                                                                                                                                                                                                                                       4   \n",
       "number_of_reviews                                                                                                                                                                                                                                                                                                                                                                                                                                                                                     82   \n",
       "number_of_reviews_ltm                                                                                                                                                                                                                                                                                                                                                                                                                                                                                  1   \n",
       "number_of_reviews_l30d                                                                                                                                                                                                                                                                                                                                                                                                                                                                                 0   \n",
       "first_review                                                                                                                                                                                                                                                                                                                                                                                                                                                                                  2013-08-13   \n",
       "last_review                                                                                                                                                                                                                                                                                                                                                                                                                                                                                   2023-08-12   \n",
       "review_scores_rating                                                                                                                                                                                                                                                                                                                                                                                                                                                                                4.54   \n",
       "review_scores_accuracy                                                                                                                                                                                                                                                                                                                                                                                                                                                                              4.76   \n",
       "review_scores_cleanliness                                                                                                                                                                                                                                                                                                                                                                                                                                                                           4.67   \n",
       "review_scores_checkin                                                                                                                                                                                                                                                                                                                                                                                                                                                                                4.6   \n",
       "review_scores_communication                                                                                                                                                                                                                                                                                                                                                                                                                                                                         4.62   \n",
       "review_scores_location                                                                                                                                                                                                                                                                                                                                                                                                                                                                              4.47   \n",
       "review_scores_value                                                                                                                                                                                                                                                                                                                                                                                                                                                                                 4.54   \n",
       "license                                                                                                                                                                                                                                                                                                                                                                                                                                                                                              NaN   \n",
       "instant_bookable                                                                                                                                                                                                                                                                                                                                                                                                                                                                                       t   \n",
       "calculated_host_listings_count                                                                                                                                                                                                                                                                                                                                                                                                                                                                         5   \n",
       "calculated_host_listings_count_entire_homes                                                                                                                                                                                                                                                                                                                                                                                                                                                            4   \n",
       "calculated_host_listings_count_private_rooms                                                                                                                                                                                                                                                                                                                                                                                                                                                           0   \n",
       "calculated_host_listings_count_shared_rooms                                                                                                                                                                                                                                                                                                                                                                                                                                                            0   \n",
       "reviews_per_month                                                                                                                                                                                                                                                                                                                                                                                                                                                                                   0.65   \n",
       "\n",
       "                                                                                                                       151  \\\n",
       "host_id                                                                                                            7385507   \n",
       "id                                                                                                                 1360543   \n",
       "name                                                                         Home in Edinburgh · ★4.67 · 1 bedroom · 1 bed   \n",
       "neighborhood_overview                                                                                                 None   \n",
       "host_since                                                                                                      2013-07-09   \n",
       "host_location                                                                                    Edinburgh, United Kingdom   \n",
       "host_about                                    Local Scotsman, from Oban originally, but lived in Edinburgh for many years.   \n",
       "host_response_time                                                                                      within a few hours   \n",
       "host_response_rate                                                                                                   100.0   \n",
       "host_acceptance_rate                                                                                                   0.0   \n",
       "host_is_superhost                                                                                                        f   \n",
       "host_verifications                                                                                      ['email', 'phone']   \n",
       "host_has_profile_pic                                                                                                     t   \n",
       "host_identity_verified                                                                                                   t   \n",
       "neighbourhood_cleansed                                                                                       Deans Village   \n",
       "latitude                                                                                                          55.94985   \n",
       "longitude                                                                                                         -3.21821   \n",
       "property_type                                                                                         Private room in home   \n",
       "room_type                                                                                                     Private room   \n",
       "accommodates                                                                                                             2   \n",
       "bathrooms_text                                                                                                         NaN   \n",
       "beds                                                                                                                   1.0   \n",
       "price                                                                                                              $100.00   \n",
       "minimum_nights                                                                                                          90   \n",
       "maximum_nights                                                                                                        1125   \n",
       "minimum_minimum_nights                                                                                                  90   \n",
       "maximum_minimum_nights                                                                                                  90   \n",
       "minimum_maximum_nights                                                                                                1125   \n",
       "maximum_maximum_nights                                                                                                1125   \n",
       "minimum_nights_avg_ntm                                                                                                90.0   \n",
       "maximum_nights_avg_ntm                                                                                              1125.0   \n",
       "has_availability                                                                                                         t   \n",
       "availability_30                                                                                                          0   \n",
       "availability_60                                                                                                          0   \n",
       "availability_90                                                                                                          0   \n",
       "availability_365                                                                                                         1   \n",
       "number_of_reviews                                                                                                       18   \n",
       "number_of_reviews_ltm                                                                                                    0   \n",
       "number_of_reviews_l30d                                                                                                   0   \n",
       "first_review                                                                                                    2013-08-07   \n",
       "last_review                                                                                                     2018-01-03   \n",
       "review_scores_rating                                                                                                  4.67   \n",
       "review_scores_accuracy                                                                                                4.89   \n",
       "review_scores_cleanliness                                                                                             4.44   \n",
       "review_scores_checkin                                                                                                 4.83   \n",
       "review_scores_communication                                                                                           4.83   \n",
       "review_scores_location                                                                                                4.78   \n",
       "review_scores_value                                                                                                    4.5   \n",
       "license                                                                                                                NaN   \n",
       "instant_bookable                                                                                                         f   \n",
       "calculated_host_listings_count                                                                                           1   \n",
       "calculated_host_listings_count_entire_homes                                                                              0   \n",
       "calculated_host_listings_count_private_rooms                                                                             1   \n",
       "calculated_host_listings_count_shared_rooms                                                                              0   \n",
       "reviews_per_month                                                                                                     0.14   \n",
       "\n",
       "                                                                                                                                                                                                                                                                                                                                                                                            228  \\\n",
       "host_id                                                                                                                                                                                                                                                                                                                                                                                12724800   \n",
       "id                                                                                                                                                                                                                                                                                                                                                                                      2486691   \n",
       "name                                                                                                                                                                                                                                                                                                                                       Rental unit in Edinburgh · ★4.93 · 1 bedroom · 1 bed   \n",
       "neighborhood_overview                         Beautiful neighbourhood, situated in a wide, tree-lined, cobbled avenue right next to Edinburgh's wonderful meadows. Only 10 minutes walk from centre of Edinburgh, the Marchmont area is gifted with leafy surroundings, a choice of street cafes, restaurants, small local shops, supermarket, gym and swimming pool within 5- 10 minutes walk.   \n",
       "host_since                                                                                                                                                                                                                                                                                                                                                                           2014-03-02   \n",
       "host_location                                                                                                                                                                                                                                                                                                                                                         Edinburgh, United Kingdom   \n",
       "host_about                                                                                                                                                                                                                                                                                                                                                    Everyone has a story, let's talk!   \n",
       "host_response_time                                                                                                                                                                                                                                                                                                                                                                 Not provided   \n",
       "host_response_rate                                                                                                                                                                                                                                                                                                                                                                          0.0   \n",
       "host_acceptance_rate                                                                                                                                                                                                                                                                                                                                                                        0.0   \n",
       "host_is_superhost                                                                                                                                                                                                                                                                                                                                                                             f   \n",
       "host_verifications                                                                                                                                                                                                                                                                                                                                             ['email', 'phone', 'work_email']   \n",
       "host_has_profile_pic                                                                                                                                                                                                                                                                                                                                                                          t   \n",
       "host_identity_verified                                                                                                                                                                                                                                                                                                                                                                        t   \n",
       "neighbourhood_cleansed                                                                                                                                                                                                                                                                                                                                                           Marchmont West   \n",
       "latitude                                                                                                                                                                                                                                                                                                                                                                               55.93767   \n",
       "longitude                                                                                                                                                                                                                                                                                                                                                                              -3.19818   \n",
       "property_type                                                                                                                                                                                                                                                                                                                                                       Private room in rental unit   \n",
       "room_type                                                                                                                                                                                                                                                                                                                                                                          Private room   \n",
       "accommodates                                                                                                                                                                                                                                                                                                                                                                                  2   \n",
       "bathrooms_text                                                                                                                                                                                                                                                                                                                                                                              NaN   \n",
       "beds                                                                                                                                                                                                                                                                                                                                                                                        1.0   \n",
       "price                                                                                                                                                                                                                                                                                                                                                                                       NaN   \n",
       "minimum_nights                                                                                                                                                                                                                                                                                                                                                                                3   \n",
       "maximum_nights                                                                                                                                                                                                                                                                                                                                                                             1125   \n",
       "minimum_minimum_nights                                                                                                                                                                                                                                                                                                                                                                        3   \n",
       "maximum_minimum_nights                                                                                                                                                                                                                                                                                                                                                                        3   \n",
       "minimum_maximum_nights                                                                                                                                                                                                                                                                                                                                                                     1125   \n",
       "maximum_maximum_nights                                                                                                                                                                                                                                                                                                                                                                     1125   \n",
       "minimum_nights_avg_ntm                                                                                                                                                                                                                                                                                                                                                                      3.0   \n",
       "maximum_nights_avg_ntm                                                                                                                                                                                                                                                                                                                                                                   1125.0   \n",
       "has_availability                                                                                                                                                                                                                                                                                                                                                                            NaN   \n",
       "availability_30                                                                                                                                                                                                                                                                                                                                                                               0   \n",
       "availability_60                                                                                                                                                                                                                                                                                                                                                                               0   \n",
       "availability_90                                                                                                                                                                                                                                                                                                                                                                               0   \n",
       "availability_365                                                                                                                                                                                                                                                                                                                                                                              0   \n",
       "number_of_reviews                                                                                                                                                                                                                                                                                                                                                                            14   \n",
       "number_of_reviews_ltm                                                                                                                                                                                                                                                                                                                                                                         0   \n",
       "number_of_reviews_l30d                                                                                                                                                                                                                                                                                                                                                                        0   \n",
       "first_review                                                                                                                                                                                                                                                                                                                                                                         2015-02-20   \n",
       "last_review                                                                                                                                                                                                                                                                                                                                                                          2018-06-20   \n",
       "review_scores_rating                                                                                                                                                                                                                                                                                                                                                                       4.93   \n",
       "review_scores_accuracy                                                                                                                                                                                                                                                                                                                                                                      5.0   \n",
       "review_scores_cleanliness                                                                                                                                                                                                                                                                                                                                                                  4.79   \n",
       "review_scores_checkin                                                                                                                                                                                                                                                                                                                                                                       5.0   \n",
       "review_scores_communication                                                                                                                                                                                                                                                                                                                                                                4.93   \n",
       "review_scores_location                                                                                                                                                                                                                                                                                                                                                                     4.93   \n",
       "review_scores_value                                                                                                                                                                                                                                                                                                                                                                        4.71   \n",
       "license                                                                                                                                                                                                                                                                                                                                                                                     NaN   \n",
       "instant_bookable                                                                                                                                                                                                                                                                                                                                                                              f   \n",
       "calculated_host_listings_count                                                                                                                                                                                                                                                                                                                                                                1   \n",
       "calculated_host_listings_count_entire_homes                                                                                                                                                                                                                                                                                                                                                   0   \n",
       "calculated_host_listings_count_private_rooms                                                                                                                                                                                                                                                                                                                                                  1   \n",
       "calculated_host_listings_count_shared_rooms                                                                                                                                                                                                                                                                                                                                                   0   \n",
       "reviews_per_month                                                                                                                                                                                                                                                                                                                                                                          0.13   \n",
       "\n",
       "                                                                                                                                                                                                       536  \n",
       "host_id                                                                                                                                                                                           20509940  \n",
       "id                                                                                                                                                                                                 6909721  \n",
       "name                                                                                                                                                          Hostel in Edinburgh · ★4.68 · Studio · 1 bed  \n",
       "neighborhood_overview                         Whether you're visiting for the Fringe festival, a Rugby match, or to learn about the city's rich history, there's no shortage of things to do in Edinburgh.  \n",
       "host_since                                                                                                                                                                                      2014-08-25  \n",
       "host_location                                                                                                                                                                                         None  \n",
       "host_about                                                                                                                                                                                            None  \n",
       "host_response_time                                                                                                                                                                          within an hour  \n",
       "host_response_rate                                                                                                                                                                                    96.0  \n",
       "host_acceptance_rate                                                                                                                                                                                 100.0  \n",
       "host_is_superhost                                                                                                                                                                                        f  \n",
       "host_verifications                                                                                                                                                                      ['email', 'phone']  \n",
       "host_has_profile_pic                                                                                                                                                                                     t  \n",
       "host_identity_verified                                                                                                                                                                                   t  \n",
       "neighbourhood_cleansed                                                                                                                                           Old Town, Princes Street and Leith Street  \n",
       "latitude                                                                                                                                                                                          55.95123  \n",
       "longitude                                                                                                                                                                                         -3.20041  \n",
       "property_type                                                                                                                                                                               Room in hostel  \n",
       "room_type                                                                                                                                                                                       Hotel room  \n",
       "accommodates                                                                                                                                                                                             2  \n",
       "bathrooms_text                                                                                                                                                                                         NaN  \n",
       "beds                                                                                                                                                                                                   1.0  \n",
       "price                                                                                                                                                                                              $196.00  \n",
       "minimum_nights                                                                                                                                                                                           1  \n",
       "maximum_nights                                                                                                                                                                                         365  \n",
       "minimum_minimum_nights                                                                                                                                                                                   1  \n",
       "maximum_minimum_nights                                                                                                                                                                                   3  \n",
       "minimum_maximum_nights                                                                                                                                                                                 365  \n",
       "maximum_maximum_nights                                                                                                                                                                                 365  \n",
       "minimum_nights_avg_ntm                                                                                                                                                                                 2.9  \n",
       "maximum_nights_avg_ntm                                                                                                                                                                               365.0  \n",
       "has_availability                                                                                                                                                                                         t  \n",
       "availability_30                                                                                                                                                                                         11  \n",
       "availability_60                                                                                                                                                                                         37  \n",
       "availability_90                                                                                                                                                                                         64  \n",
       "availability_365                                                                                                                                                                                       298  \n",
       "number_of_reviews                                                                                                                                                                                       22  \n",
       "number_of_reviews_ltm                                                                                                                                                                                    2  \n",
       "number_of_reviews_l30d                                                                                                                                                                                   0  \n",
       "first_review                                                                                                                                                                                    2015-09-21  \n",
       "last_review                                                                                                                                                                                     2023-11-15  \n",
       "review_scores_rating                                                                                                                                                                                  4.68  \n",
       "review_scores_accuracy                                                                                                                                                                                4.68  \n",
       "review_scores_cleanliness                                                                                                                                                                             4.68  \n",
       "review_scores_checkin                                                                                                                                                                                 4.59  \n",
       "review_scores_communication                                                                                                                                                                           4.68  \n",
       "review_scores_location                                                                                                                                                                                4.82  \n",
       "review_scores_value                                                                                                                                                                                   4.68  \n",
       "license                                                                                                                                                                                                NaN  \n",
       "instant_bookable                                                                                                                                                                                         t  \n",
       "calculated_host_listings_count                                                                                                                                                                           6  \n",
       "calculated_host_listings_count_entire_homes                                                                                                                                                              0  \n",
       "calculated_host_listings_count_private_rooms                                                                                                                                                             1  \n",
       "calculated_host_listings_count_shared_rooms                                                                                                                                                              2  \n",
       "reviews_per_month                                                                                                                                                                                     0.22  "
      ]
     },
     "execution_count": 39,
     "metadata": {},
     "output_type": "execute_result"
    }
   ],
   "source": [
    "# Check the rows that contains missing bathroom_text data.\n",
    "df_listings_clean[df_listings_clean['bathrooms_text'].isnull()].T"
   ]
  },
  {
   "cell_type": "code",
   "execution_count": 40,
   "id": "00b2ebaa",
   "metadata": {
    "scrolled": true
   },
   "outputs": [
    {
     "data": {
      "text/plain": [
       "1 bath               2887\n",
       "1 shared bath         861\n",
       "2 baths               803\n",
       "1.5 baths             429\n",
       "1 private bath        415\n",
       "1.5 shared baths      165\n",
       "3 baths                99\n",
       "2.5 baths              78\n",
       "2 shared baths         47\n",
       "3.5 baths              21\n",
       "0 baths                19\n",
       "2.5 shared baths       15\n",
       "4 baths                15\n",
       "Half-bath              12\n",
       "Shared half-bath       11\n",
       "0 shared baths          7\n",
       "5 baths                 6\n",
       "5.5 baths               4\n",
       "3 shared baths          3\n",
       "4.5 baths               2\n",
       "7 baths                 1\n",
       "9 shared baths          1\n",
       "9 baths                 1\n",
       "6.5 baths               1\n",
       "8.5 baths               1\n",
       "6 baths                 1\n",
       "Private half-bath       1\n",
       "Name: bathrooms_text, dtype: int64"
      ]
     },
     "execution_count": 40,
     "metadata": {},
     "output_type": "execute_result"
    }
   ],
   "source": [
    "# Check the distinct column values in the bathrooms_text column.\n",
    "df_listings_clean['bathrooms_text'].value_counts()"
   ]
  },
  {
   "cell_type": "markdown",
   "id": "3e1e37ea",
   "metadata": {},
   "source": [
    "Therefore, we will first fill the null values as 0 for both newly added columns, then convert this text column into numerical columns by appending two numerical columns `bathroom_num` and `private_bath` where `bathroom_num` gives the number of bathrooms and `private_bath` shows 1 if the bathrooms are private, and 0 if the bathrooms are shared."
   ]
  },
  {
   "cell_type": "code",
   "execution_count": 41,
   "id": "721bc8f5",
   "metadata": {},
   "outputs": [],
   "source": [
    "# Fill in the missing bathroom_text data\n",
    "df_listings_clean['bathrooms_text']=df_listings_clean['bathrooms_text'].fillna(value='0 shared baths')"
   ]
  },
  {
   "cell_type": "code",
   "execution_count": 42,
   "id": "af673c8e",
   "metadata": {},
   "outputs": [],
   "source": [
    "# Add 0.5 in front of Half baths\n",
    "for i in range(df_listings_clean.shape[0]):\n",
    "    if 'alf' in df_listings_clean['bathrooms_text'][i]:\n",
    "        df_listings_clean.loc[i, 'bathrooms_text'] = '0.5 '+ df_listings_clean.loc[i, 'bathrooms_text']"
   ]
  },
  {
   "cell_type": "code",
   "execution_count": 43,
   "id": "56708df6",
   "metadata": {},
   "outputs": [],
   "source": [
    "# Extract numbers and if shared information from the bathroom text column\n",
    "private_bath=[]\n",
    "for i in range(df_listings_clean.shape[0]):\n",
    "    if 'hared' in df_listings_clean.loc[i, 'bathrooms_text']:\n",
    "        private_bath.append(0)\n",
    "    else:\n",
    "        private_bath.append(1)\n",
    "    df_listings_clean.loc[i, 'bathrooms_text'] = float(df_listings_clean.loc[i, 'bathrooms_text'].split()[0])\n",
    "\n",
    "# Add the binary column to our dataframe\n",
    "df_listings_clean['private_bath']=private_bath\n",
    "\n",
    "# Rename bathrooms_text to bathroom_num\n",
    "df_listings_clean.rename(columns={'bathrooms_text': 'bathroom_num'}, inplace=True)\n",
    "\n",
    "# Convert the column type to float\n",
    "df_listings_clean['bathroom_num']=df_listings_clean['bathroom_num'].astype(float)"
   ]
  },
  {
   "cell_type": "markdown",
   "id": "0963385a",
   "metadata": {},
   "source": [
    "Now we can add the missing bedroom numbers by checking the name of the property."
   ]
  },
  {
   "cell_type": "code",
   "execution_count": 44,
   "id": "33bb0c88",
   "metadata": {},
   "outputs": [],
   "source": [
    "# Get the row index for the rows contain missing beds data\n",
    "index_beds_missing=df_listings_clean[df_listings_clean['beds'].isnull()].index\n",
    "\n",
    "# Get the corresponding names data\n",
    "names_beds_missing=df_listings_clean.loc[index_beds_missing, 'name']\n",
    "\n",
    "# Extract bed counts from the names data\n",
    "extract_beds=[]\n",
    "for i in names_beds_missing.index:\n",
    "    j=names_beds_missing[i].split()\n",
    "    for k in range(len(j)):\n",
    "        if 'bedroom' in j[k]:\n",
    "            extract_beds.append(float(j[k-1]))\n",
    "        elif 'Studio' in j[k]:\n",
    "            extract_beds.append(1)\n",
    "        elif 'Camper' in j[k]:\n",
    "            extract_beds.append(1)\n",
    "\n",
    "# Fill missing values of beds using extracted beds number\n",
    "df_listings_clean.loc[df_listings_clean['beds'].isnull(), 'beds']=extract_beds"
   ]
  },
  {
   "cell_type": "markdown",
   "id": "efeb9e51",
   "metadata": {},
   "source": [
    "Then we can drop the `name` column"
   ]
  },
  {
   "cell_type": "code",
   "execution_count": 45,
   "id": "027b9bb8",
   "metadata": {},
   "outputs": [],
   "source": [
    "# Drop name column \n",
    "df_listings_clean.drop('name', axis=1, inplace=True)"
   ]
  },
  {
   "cell_type": "markdown",
   "id": "6407a0ec",
   "metadata": {},
   "source": [
    "## Clean other columns <a id=\"a4.5\"></a>"
   ]
  },
  {
   "cell_type": "markdown",
   "id": "c6e19427",
   "metadata": {},
   "source": [
    "We can check what are the columns that still contain null values in our current listing dataset."
   ]
  },
  {
   "cell_type": "code",
   "execution_count": 46,
   "id": "579f31bd",
   "metadata": {},
   "outputs": [
    {
     "data": {
      "text/plain": [
       "price               1216\n",
       "has_availability    1216\n",
       "license             5247\n",
       "dtype: int64"
      ]
     },
     "execution_count": 46,
     "metadata": {},
     "output_type": "execute_result"
    }
   ],
   "source": [
    "# Create temporary series object that contains the number of null values for each column in the listing dataframe\n",
    "temp_null_series=df_listings_clean.isnull().sum()\n",
    "\n",
    "# Use list comprehension to show the columns that have null values\n",
    "temp_null_series[[i for i in temp_null_series.index if temp_null_series[i] !=0]]"
   ]
  },
  {
   "cell_type": "markdown",
   "id": "9945d6a1",
   "metadata": {},
   "source": [
    "By checking the percentage of the null values in the license column, we observe that it contains null values in nearly 90% of the rows. Therefore, we will drop the `license` column."
   ]
  },
  {
   "cell_type": "code",
   "execution_count": 47,
   "id": "f623aa53",
   "metadata": {},
   "outputs": [
    {
     "name": "stdout",
     "output_type": "stream",
     "text": [
      "Percentage of Null Values % in the license column is\n",
      "88.78\n"
     ]
    }
   ],
   "source": [
    "# Check the proportion of the null values in the license column\n",
    "print('Percentage of Null Values % in the license column is')\n",
    "print(round(df_listings_clean['license'].isnull().sum()/len(df_listings_clean)*100, 2)) #coverted into a percent(%) and round to 2 decimal places"
   ]
  },
  {
   "cell_type": "code",
   "execution_count": 48,
   "id": "810f2131",
   "metadata": {},
   "outputs": [],
   "source": [
    "# Drop the license column\n",
    "df_listings_clean.drop('license', axis=1, inplace=True)"
   ]
  },
  {
   "cell_type": "markdown",
   "id": "7ab89e65",
   "metadata": {},
   "source": [
    "Next, we will check what values the `price` and `has_availability` columns contain."
   ]
  },
  {
   "cell_type": "code",
   "execution_count": 49,
   "id": "e1d81e14",
   "metadata": {},
   "outputs": [
    {
     "data": {
      "text/plain": [
       "$100.00      85\n",
       "$150.00      76\n",
       "$120.00      62\n",
       "$90.00       61\n",
       "$200.00      60\n",
       "             ..\n",
       "$995.00       1\n",
       "$1,747.00     1\n",
       "$545.00       1\n",
       "$524.00       1\n",
       "$407.00       1\n",
       "Name: price, Length: 520, dtype: int64"
      ]
     },
     "execution_count": 49,
     "metadata": {},
     "output_type": "execute_result"
    }
   ],
   "source": [
    "# Check the price column\n",
    "df_listings_clean['price'].value_counts()"
   ]
  },
  {
   "cell_type": "markdown",
   "id": "750e91be",
   "metadata": {},
   "source": [
    "Therefore, we can first convert the values into floats, then try to fill the null values by using other columns in the dataset to predict the price values."
   ]
  },
  {
   "cell_type": "code",
   "execution_count": 50,
   "id": "16daa0f3",
   "metadata": {},
   "outputs": [],
   "source": [
    "# Convert 'price' column to numbers\n",
    "price_int=[]\n",
    "for i in range(len(df_listings_clean['price'])):\n",
    "    p=df_listings_clean['price'][i]\n",
    "    if type(p) == str:\n",
    "        n=p.split('$')[1]\n",
    "        if ',' in list(n):\n",
    "            n_no_comma=''.join([x for x in n if x != ','])\n",
    "            price_int.append(float(n_no_comma))  \n",
    "        else:\n",
    "            price_int.append(float(n))\n",
    "    else:\n",
    "        price_int.append(np.nan)\n",
    "df_listings_clean['price']=price_int\n",
    "\n",
    "# Convert existing column to float for future filtering\n",
    "df_listings_clean['price']=df_listings_clean['price'].astype(float)"
   ]
  },
  {
   "cell_type": "code",
   "execution_count": 51,
   "id": "e5c4769a",
   "metadata": {},
   "outputs": [
    {
     "data": {
      "text/plain": [
       "t    4684\n",
       "f      10\n",
       "Name: has_availability, dtype: int64"
      ]
     },
     "execution_count": 51,
     "metadata": {},
     "output_type": "execute_result"
    }
   ],
   "source": [
    "# Check the had_avalibility column\n",
    "df_listings_clean['has_availability'].value_counts()"
   ]
  },
  {
   "cell_type": "markdown",
   "id": "1ff8dd24",
   "metadata": {},
   "source": [
    "We will assume that the listings with this column absent has no availability, thus we will fill the null values using 'f'."
   ]
  },
  {
   "cell_type": "code",
   "execution_count": 52,
   "id": "f770193f",
   "metadata": {},
   "outputs": [],
   "source": [
    "# Fill the null values in has_availability using 'f'\n",
    "df_listings_clean['has_availability']=df_listings_clean['has_availability'].fillna(value='f')"
   ]
  },
  {
   "cell_type": "markdown",
   "id": "5897ade1",
   "metadata": {},
   "source": [
    "### Check current null values "
   ]
  },
  {
   "cell_type": "code",
   "execution_count": 53,
   "id": "89d9e205",
   "metadata": {
    "scrolled": true
   },
   "outputs": [
    {
     "name": "stdout",
     "output_type": "stream",
     "text": [
      "The column that still contains null values is\n",
      "price\n",
      "has percentage of null values %\n",
      "20.58%\n"
     ]
    }
   ],
   "source": [
    "# Return pandas series contain percentage of null values\n",
    "per_null_listing=df_listings_clean.isnull().sum()/df_listings_clean.shape[0]\n",
    "\n",
    "# Return the non null column name\n",
    "non_null_col = per_null_listing.loc[per_null_listing!=0].index\n",
    "\n",
    "# Return the null value percentage\n",
    "per_null = per_null_listing.loc[per_null_listing!=0].values\n",
    "\n",
    "print('The column that still contains null values is')\n",
    "print(list(non_null_col)[0])\n",
    "print('has percentage of null values %')\n",
    "print(f'{round(float(per_null)*100, 2)}%')"
   ]
  },
  {
   "cell_type": "code",
   "execution_count": 54,
   "id": "b6121325",
   "metadata": {
    "scrolled": true
   },
   "outputs": [
    {
     "data": {
      "text/plain": [
       "listing_id       0\n",
       "id               0\n",
       "date             0\n",
       "reviewer_id      0\n",
       "reviewer_name    0\n",
       "comments         0\n",
       "dtype: int64"
      ]
     },
     "execution_count": 54,
     "metadata": {},
     "output_type": "execute_result"
    }
   ],
   "source": [
    "# Check the percentage of the null values in the current review dataset\n",
    "df_reviews_clean.isnull().sum()"
   ]
  },
  {
   "cell_type": "markdown",
   "id": "ed02a626",
   "metadata": {},
   "source": [
    "We see that only `price` column has null values, so we can potentially use a simple linear regression to attempt filling these null values."
   ]
  },
  {
   "cell_type": "markdown",
   "id": "acd586b2",
   "metadata": {},
   "source": [
    "### Remove Irrelevant Information Columns"
   ]
  },
  {
   "cell_type": "code",
   "execution_count": 55,
   "id": "37990f4c",
   "metadata": {},
   "outputs": [],
   "source": [
    "# Remove columns that are irrelevant and difficult to interpret\n",
    "df_listings_clean.drop(['minimum_minimum_nights', \n",
    "                        'maximum_minimum_nights', \n",
    "                        'minimum_maximum_nights', \n",
    "                        'minimum_nights_avg_ntm', \n",
    "                        'maximum_nights_avg_ntm', \n",
    "                        'maximum_maximum_nights',\n",
    "                        'availability_30', \n",
    "                        'availability_60', \n",
    "                        'availability_90',\n",
    "                        'availability_365', \n",
    "                        'number_of_reviews_l30d'], axis =1, inplace=True)"
   ]
  },
  {
   "cell_type": "markdown",
   "id": "1bbde0f4",
   "metadata": {},
   "source": [
    "***"
   ]
  },
  {
   "cell_type": "markdown",
   "id": "7a2c4c65",
   "metadata": {},
   "source": [
    "# Fillin null values in `price` column <a id=\"a5\"></a>"
   ]
  },
  {
   "cell_type": "markdown",
   "id": "c1cfd9d2",
   "metadata": {},
   "source": [
    "#### Import libraries for linear regression"
   ]
  },
  {
   "cell_type": "code",
   "execution_count": 56,
   "id": "9f915689",
   "metadata": {},
   "outputs": [],
   "source": [
    "# Import linear regression libraries\n",
    "from sklearn.model_selection import train_test_split\n",
    "from sklearn.preprocessing import StandardScaler\n",
    "from sklearn.linear_model import LinearRegression\n",
    "from sklearn.metrics import r2_score"
   ]
  },
  {
   "cell_type": "markdown",
   "id": "fd5c8412",
   "metadata": {},
   "source": [
    "#### Convert binary columns with 't' and 'f' to 0 and 1"
   ]
  },
  {
   "cell_type": "code",
   "execution_count": 57,
   "id": "cef850dd",
   "metadata": {},
   "outputs": [],
   "source": [
    "# Select the binary columns then convert the values to 0 and 1 using a map function\n",
    "for i in df_listings_clean.select_dtypes(include=['object']).columns:\n",
    "    if set(df_listings_clean[i].unique()) == {'t', 'f'}:\n",
    "        df_listings_clean[i] = df_listings_clean[i].map({'t': 0, 'f': 1})"
   ]
  },
  {
   "cell_type": "markdown",
   "id": "9e22b5df",
   "metadata": {},
   "source": [
    "#### Extract rows with null price values and select numerical columns"
   ]
  },
  {
   "cell_type": "code",
   "execution_count": 58,
   "id": "cf4470d6",
   "metadata": {},
   "outputs": [],
   "source": [
    "# Select numerical columns\n",
    "df_listings_num=df_listings_clean.select_dtypes(exclude='object')\n",
    "\n",
    "# Drop id columns\n",
    "df_listings_num.drop(['id', 'host_id'], axis=1, inplace=True)\n",
    "\n",
    "# Split the listing dataset into data with known price and rows with null values for price\n",
    "df_price=df_listings_num[df_listings_num['price'].isnull()==False]\n",
    "df_non_price=df_listings_num[df_listings_num['price'].isnull()]"
   ]
  },
  {
   "cell_type": "markdown",
   "id": "2158ccba",
   "metadata": {},
   "source": [
    "#### Train test split on the labelled dataset"
   ]
  },
  {
   "cell_type": "code",
   "execution_count": 59,
   "id": "26a25f17",
   "metadata": {},
   "outputs": [],
   "source": [
    "# Define features and target variable\n",
    "X=df_price.drop('price', axis=1)\n",
    "y=df_price['price']\n",
    "\n",
    "# Split data into training and testing sets\n",
    "X_train, X_test, y_train, y_test = train_test_split(X, y, test_size=0.2, random_state=42)"
   ]
  },
  {
   "cell_type": "markdown",
   "id": "3fb09b2d",
   "metadata": {},
   "source": [
    "#### Scale the features"
   ]
  },
  {
   "cell_type": "code",
   "execution_count": 60,
   "id": "8ed6f113",
   "metadata": {},
   "outputs": [],
   "source": [
    "scaler = StandardScaler()\n",
    "X_train_scaled = scaler.fit_transform(X_train)\n",
    "X_test_scaled = scaler.transform(X_test)"
   ]
  },
  {
   "cell_type": "markdown",
   "id": "9ac8b155",
   "metadata": {},
   "source": [
    "#### Train the linear regression model"
   ]
  },
  {
   "cell_type": "code",
   "execution_count": 61,
   "id": "8c6da26d",
   "metadata": {},
   "outputs": [
    {
     "data": {
      "text/html": [
       "<style>#sk-container-id-1 {color: black;}#sk-container-id-1 pre{padding: 0;}#sk-container-id-1 div.sk-toggleable {background-color: white;}#sk-container-id-1 label.sk-toggleable__label {cursor: pointer;display: block;width: 100%;margin-bottom: 0;padding: 0.3em;box-sizing: border-box;text-align: center;}#sk-container-id-1 label.sk-toggleable__label-arrow:before {content: \"▸\";float: left;margin-right: 0.25em;color: #696969;}#sk-container-id-1 label.sk-toggleable__label-arrow:hover:before {color: black;}#sk-container-id-1 div.sk-estimator:hover label.sk-toggleable__label-arrow:before {color: black;}#sk-container-id-1 div.sk-toggleable__content {max-height: 0;max-width: 0;overflow: hidden;text-align: left;background-color: #f0f8ff;}#sk-container-id-1 div.sk-toggleable__content pre {margin: 0.2em;color: black;border-radius: 0.25em;background-color: #f0f8ff;}#sk-container-id-1 input.sk-toggleable__control:checked~div.sk-toggleable__content {max-height: 200px;max-width: 100%;overflow: auto;}#sk-container-id-1 input.sk-toggleable__control:checked~label.sk-toggleable__label-arrow:before {content: \"▾\";}#sk-container-id-1 div.sk-estimator input.sk-toggleable__control:checked~label.sk-toggleable__label {background-color: #d4ebff;}#sk-container-id-1 div.sk-label input.sk-toggleable__control:checked~label.sk-toggleable__label {background-color: #d4ebff;}#sk-container-id-1 input.sk-hidden--visually {border: 0;clip: rect(1px 1px 1px 1px);clip: rect(1px, 1px, 1px, 1px);height: 1px;margin: -1px;overflow: hidden;padding: 0;position: absolute;width: 1px;}#sk-container-id-1 div.sk-estimator {font-family: monospace;background-color: #f0f8ff;border: 1px dotted black;border-radius: 0.25em;box-sizing: border-box;margin-bottom: 0.5em;}#sk-container-id-1 div.sk-estimator:hover {background-color: #d4ebff;}#sk-container-id-1 div.sk-parallel-item::after {content: \"\";width: 100%;border-bottom: 1px solid gray;flex-grow: 1;}#sk-container-id-1 div.sk-label:hover label.sk-toggleable__label {background-color: #d4ebff;}#sk-container-id-1 div.sk-serial::before {content: \"\";position: absolute;border-left: 1px solid gray;box-sizing: border-box;top: 0;bottom: 0;left: 50%;z-index: 0;}#sk-container-id-1 div.sk-serial {display: flex;flex-direction: column;align-items: center;background-color: white;padding-right: 0.2em;padding-left: 0.2em;position: relative;}#sk-container-id-1 div.sk-item {position: relative;z-index: 1;}#sk-container-id-1 div.sk-parallel {display: flex;align-items: stretch;justify-content: center;background-color: white;position: relative;}#sk-container-id-1 div.sk-item::before, #sk-container-id-1 div.sk-parallel-item::before {content: \"\";position: absolute;border-left: 1px solid gray;box-sizing: border-box;top: 0;bottom: 0;left: 50%;z-index: -1;}#sk-container-id-1 div.sk-parallel-item {display: flex;flex-direction: column;z-index: 1;position: relative;background-color: white;}#sk-container-id-1 div.sk-parallel-item:first-child::after {align-self: flex-end;width: 50%;}#sk-container-id-1 div.sk-parallel-item:last-child::after {align-self: flex-start;width: 50%;}#sk-container-id-1 div.sk-parallel-item:only-child::after {width: 0;}#sk-container-id-1 div.sk-dashed-wrapped {border: 1px dashed gray;margin: 0 0.4em 0.5em 0.4em;box-sizing: border-box;padding-bottom: 0.4em;background-color: white;}#sk-container-id-1 div.sk-label label {font-family: monospace;font-weight: bold;display: inline-block;line-height: 1.2em;}#sk-container-id-1 div.sk-label-container {text-align: center;}#sk-container-id-1 div.sk-container {/* jupyter's `normalize.less` sets `[hidden] { display: none; }` but bootstrap.min.css set `[hidden] { display: none !important; }` so we also need the `!important` here to be able to override the default hidden behavior on the sphinx rendered scikit-learn.org. See: https://github.com/scikit-learn/scikit-learn/issues/21755 */display: inline-block !important;position: relative;}#sk-container-id-1 div.sk-text-repr-fallback {display: none;}</style><div id=\"sk-container-id-1\" class=\"sk-top-container\"><div class=\"sk-text-repr-fallback\"><pre>LinearRegression()</pre><b>In a Jupyter environment, please rerun this cell to show the HTML representation or trust the notebook. <br />On GitHub, the HTML representation is unable to render, please try loading this page with nbviewer.org.</b></div><div class=\"sk-container\" hidden><div class=\"sk-item\"><div class=\"sk-estimator sk-toggleable\"><input class=\"sk-toggleable__control sk-hidden--visually\" id=\"sk-estimator-id-1\" type=\"checkbox\" checked><label for=\"sk-estimator-id-1\" class=\"sk-toggleable__label sk-toggleable__label-arrow\">LinearRegression</label><div class=\"sk-toggleable__content\"><pre>LinearRegression()</pre></div></div></div></div></div>"
      ],
      "text/plain": [
       "LinearRegression()"
      ]
     },
     "execution_count": 61,
     "metadata": {},
     "output_type": "execute_result"
    }
   ],
   "source": [
    "model = LinearRegression()\n",
    "model.fit(X_train_scaled, y_train)"
   ]
  },
  {
   "cell_type": "code",
   "execution_count": 62,
   "id": "e5da8500",
   "metadata": {},
   "outputs": [
    {
     "data": {
      "text/html": [
       "<div>\n",
       "<style scoped>\n",
       "    .dataframe tbody tr th:only-of-type {\n",
       "        vertical-align: middle;\n",
       "    }\n",
       "\n",
       "    .dataframe tbody tr th {\n",
       "        vertical-align: top;\n",
       "    }\n",
       "\n",
       "    .dataframe thead th {\n",
       "        text-align: right;\n",
       "    }\n",
       "</style>\n",
       "<table border=\"1\" class=\"dataframe\">\n",
       "  <thead>\n",
       "    <tr style=\"text-align: right;\">\n",
       "      <th></th>\n",
       "      <th>host_response_rate</th>\n",
       "      <th>host_acceptance_rate</th>\n",
       "      <th>host_is_superhost</th>\n",
       "      <th>host_has_profile_pic</th>\n",
       "      <th>host_identity_verified</th>\n",
       "      <th>latitude</th>\n",
       "      <th>longitude</th>\n",
       "      <th>accommodates</th>\n",
       "      <th>bathroom_num</th>\n",
       "      <th>beds</th>\n",
       "      <th>...</th>\n",
       "      <th>review_scores_communication</th>\n",
       "      <th>review_scores_location</th>\n",
       "      <th>review_scores_value</th>\n",
       "      <th>instant_bookable</th>\n",
       "      <th>calculated_host_listings_count</th>\n",
       "      <th>calculated_host_listings_count_entire_homes</th>\n",
       "      <th>calculated_host_listings_count_private_rooms</th>\n",
       "      <th>calculated_host_listings_count_shared_rooms</th>\n",
       "      <th>reviews_per_month</th>\n",
       "      <th>private_bath</th>\n",
       "    </tr>\n",
       "  </thead>\n",
       "  <tbody>\n",
       "    <tr>\n",
       "      <th>761</th>\n",
       "      <td>90.0</td>\n",
       "      <td>100.0</td>\n",
       "      <td>1</td>\n",
       "      <td>0</td>\n",
       "      <td>0</td>\n",
       "      <td>55.956130</td>\n",
       "      <td>-3.164320</td>\n",
       "      <td>4</td>\n",
       "      <td>1.0</td>\n",
       "      <td>2.0</td>\n",
       "      <td>...</td>\n",
       "      <td>4.68</td>\n",
       "      <td>4.65</td>\n",
       "      <td>4.50</td>\n",
       "      <td>0</td>\n",
       "      <td>1</td>\n",
       "      <td>1</td>\n",
       "      <td>0</td>\n",
       "      <td>0</td>\n",
       "      <td>2.27</td>\n",
       "      <td>1</td>\n",
       "    </tr>\n",
       "    <tr>\n",
       "      <th>4921</th>\n",
       "      <td>99.0</td>\n",
       "      <td>94.0</td>\n",
       "      <td>1</td>\n",
       "      <td>0</td>\n",
       "      <td>0</td>\n",
       "      <td>55.955168</td>\n",
       "      <td>-3.155685</td>\n",
       "      <td>5</td>\n",
       "      <td>1.0</td>\n",
       "      <td>3.0</td>\n",
       "      <td>...</td>\n",
       "      <td>4.33</td>\n",
       "      <td>4.83</td>\n",
       "      <td>4.50</td>\n",
       "      <td>0</td>\n",
       "      <td>19</td>\n",
       "      <td>23</td>\n",
       "      <td>0</td>\n",
       "      <td>0</td>\n",
       "      <td>0.47</td>\n",
       "      <td>1</td>\n",
       "    </tr>\n",
       "    <tr>\n",
       "      <th>3222</th>\n",
       "      <td>0.0</td>\n",
       "      <td>100.0</td>\n",
       "      <td>0</td>\n",
       "      <td>0</td>\n",
       "      <td>0</td>\n",
       "      <td>55.962220</td>\n",
       "      <td>-3.196670</td>\n",
       "      <td>4</td>\n",
       "      <td>1.0</td>\n",
       "      <td>2.0</td>\n",
       "      <td>...</td>\n",
       "      <td>4.95</td>\n",
       "      <td>4.86</td>\n",
       "      <td>4.87</td>\n",
       "      <td>0</td>\n",
       "      <td>2</td>\n",
       "      <td>2</td>\n",
       "      <td>0</td>\n",
       "      <td>0</td>\n",
       "      <td>3.57</td>\n",
       "      <td>1</td>\n",
       "    </tr>\n",
       "    <tr>\n",
       "      <th>4798</th>\n",
       "      <td>100.0</td>\n",
       "      <td>99.0</td>\n",
       "      <td>0</td>\n",
       "      <td>0</td>\n",
       "      <td>0</td>\n",
       "      <td>55.949093</td>\n",
       "      <td>-3.189248</td>\n",
       "      <td>4</td>\n",
       "      <td>1.0</td>\n",
       "      <td>2.0</td>\n",
       "      <td>...</td>\n",
       "      <td>4.97</td>\n",
       "      <td>4.92</td>\n",
       "      <td>4.94</td>\n",
       "      <td>0</td>\n",
       "      <td>2</td>\n",
       "      <td>2</td>\n",
       "      <td>0</td>\n",
       "      <td>0</td>\n",
       "      <td>4.14</td>\n",
       "      <td>1</td>\n",
       "    </tr>\n",
       "    <tr>\n",
       "      <th>5287</th>\n",
       "      <td>100.0</td>\n",
       "      <td>100.0</td>\n",
       "      <td>0</td>\n",
       "      <td>0</td>\n",
       "      <td>0</td>\n",
       "      <td>55.949205</td>\n",
       "      <td>-3.213850</td>\n",
       "      <td>4</td>\n",
       "      <td>1.0</td>\n",
       "      <td>2.0</td>\n",
       "      <td>...</td>\n",
       "      <td>4.88</td>\n",
       "      <td>4.88</td>\n",
       "      <td>4.88</td>\n",
       "      <td>0</td>\n",
       "      <td>14</td>\n",
       "      <td>23</td>\n",
       "      <td>0</td>\n",
       "      <td>0</td>\n",
       "      <td>1.79</td>\n",
       "      <td>1</td>\n",
       "    </tr>\n",
       "    <tr>\n",
       "      <th>...</th>\n",
       "      <td>...</td>\n",
       "      <td>...</td>\n",
       "      <td>...</td>\n",
       "      <td>...</td>\n",
       "      <td>...</td>\n",
       "      <td>...</td>\n",
       "      <td>...</td>\n",
       "      <td>...</td>\n",
       "      <td>...</td>\n",
       "      <td>...</td>\n",
       "      <td>...</td>\n",
       "      <td>...</td>\n",
       "      <td>...</td>\n",
       "      <td>...</td>\n",
       "      <td>...</td>\n",
       "      <td>...</td>\n",
       "      <td>...</td>\n",
       "      <td>...</td>\n",
       "      <td>...</td>\n",
       "      <td>...</td>\n",
       "      <td>...</td>\n",
       "    </tr>\n",
       "    <tr>\n",
       "      <th>5605</th>\n",
       "      <td>100.0</td>\n",
       "      <td>100.0</td>\n",
       "      <td>0</td>\n",
       "      <td>0</td>\n",
       "      <td>0</td>\n",
       "      <td>55.966503</td>\n",
       "      <td>-3.165247</td>\n",
       "      <td>4</td>\n",
       "      <td>1.0</td>\n",
       "      <td>2.0</td>\n",
       "      <td>...</td>\n",
       "      <td>5.00</td>\n",
       "      <td>4.75</td>\n",
       "      <td>4.75</td>\n",
       "      <td>0</td>\n",
       "      <td>2</td>\n",
       "      <td>1</td>\n",
       "      <td>1</td>\n",
       "      <td>0</td>\n",
       "      <td>0.94</td>\n",
       "      <td>1</td>\n",
       "    </tr>\n",
       "    <tr>\n",
       "      <th>559</th>\n",
       "      <td>90.0</td>\n",
       "      <td>100.0</td>\n",
       "      <td>0</td>\n",
       "      <td>0</td>\n",
       "      <td>0</td>\n",
       "      <td>55.946480</td>\n",
       "      <td>-3.191020</td>\n",
       "      <td>4</td>\n",
       "      <td>1.5</td>\n",
       "      <td>2.0</td>\n",
       "      <td>...</td>\n",
       "      <td>4.94</td>\n",
       "      <td>4.96</td>\n",
       "      <td>4.82</td>\n",
       "      <td>0</td>\n",
       "      <td>1</td>\n",
       "      <td>1</td>\n",
       "      <td>0</td>\n",
       "      <td>0</td>\n",
       "      <td>1.32</td>\n",
       "      <td>1</td>\n",
       "    </tr>\n",
       "    <tr>\n",
       "      <th>3969</th>\n",
       "      <td>100.0</td>\n",
       "      <td>95.0</td>\n",
       "      <td>0</td>\n",
       "      <td>0</td>\n",
       "      <td>0</td>\n",
       "      <td>55.958680</td>\n",
       "      <td>-3.185580</td>\n",
       "      <td>2</td>\n",
       "      <td>1.5</td>\n",
       "      <td>1.0</td>\n",
       "      <td>...</td>\n",
       "      <td>4.93</td>\n",
       "      <td>4.91</td>\n",
       "      <td>4.57</td>\n",
       "      <td>1</td>\n",
       "      <td>1</td>\n",
       "      <td>0</td>\n",
       "      <td>1</td>\n",
       "      <td>0</td>\n",
       "      <td>3.69</td>\n",
       "      <td>1</td>\n",
       "    </tr>\n",
       "    <tr>\n",
       "      <th>4846</th>\n",
       "      <td>80.0</td>\n",
       "      <td>92.0</td>\n",
       "      <td>0</td>\n",
       "      <td>0</td>\n",
       "      <td>0</td>\n",
       "      <td>55.961240</td>\n",
       "      <td>-3.276270</td>\n",
       "      <td>2</td>\n",
       "      <td>1.0</td>\n",
       "      <td>1.0</td>\n",
       "      <td>...</td>\n",
       "      <td>4.77</td>\n",
       "      <td>4.81</td>\n",
       "      <td>4.74</td>\n",
       "      <td>1</td>\n",
       "      <td>3</td>\n",
       "      <td>0</td>\n",
       "      <td>3</td>\n",
       "      <td>0</td>\n",
       "      <td>2.10</td>\n",
       "      <td>0</td>\n",
       "    </tr>\n",
       "    <tr>\n",
       "      <th>1081</th>\n",
       "      <td>100.0</td>\n",
       "      <td>100.0</td>\n",
       "      <td>1</td>\n",
       "      <td>0</td>\n",
       "      <td>0</td>\n",
       "      <td>55.947631</td>\n",
       "      <td>-3.195609</td>\n",
       "      <td>4</td>\n",
       "      <td>2.0</td>\n",
       "      <td>3.0</td>\n",
       "      <td>...</td>\n",
       "      <td>4.94</td>\n",
       "      <td>4.99</td>\n",
       "      <td>4.81</td>\n",
       "      <td>0</td>\n",
       "      <td>1</td>\n",
       "      <td>1</td>\n",
       "      <td>0</td>\n",
       "      <td>0</td>\n",
       "      <td>3.21</td>\n",
       "      <td>1</td>\n",
       "    </tr>\n",
       "  </tbody>\n",
       "</table>\n",
       "<p>3755 rows × 29 columns</p>\n",
       "</div>"
      ],
      "text/plain": [
       "      host_response_rate  host_acceptance_rate  host_is_superhost  \\\n",
       "761                 90.0                 100.0                  1   \n",
       "4921                99.0                  94.0                  1   \n",
       "3222                 0.0                 100.0                  0   \n",
       "4798               100.0                  99.0                  0   \n",
       "5287               100.0                 100.0                  0   \n",
       "...                  ...                   ...                ...   \n",
       "5605               100.0                 100.0                  0   \n",
       "559                 90.0                 100.0                  0   \n",
       "3969               100.0                  95.0                  0   \n",
       "4846                80.0                  92.0                  0   \n",
       "1081               100.0                 100.0                  1   \n",
       "\n",
       "      host_has_profile_pic  host_identity_verified   latitude  longitude  \\\n",
       "761                      0                       0  55.956130  -3.164320   \n",
       "4921                     0                       0  55.955168  -3.155685   \n",
       "3222                     0                       0  55.962220  -3.196670   \n",
       "4798                     0                       0  55.949093  -3.189248   \n",
       "5287                     0                       0  55.949205  -3.213850   \n",
       "...                    ...                     ...        ...        ...   \n",
       "5605                     0                       0  55.966503  -3.165247   \n",
       "559                      0                       0  55.946480  -3.191020   \n",
       "3969                     0                       0  55.958680  -3.185580   \n",
       "4846                     0                       0  55.961240  -3.276270   \n",
       "1081                     0                       0  55.947631  -3.195609   \n",
       "\n",
       "      accommodates  bathroom_num  beds  ...  review_scores_communication  \\\n",
       "761              4           1.0   2.0  ...                         4.68   \n",
       "4921             5           1.0   3.0  ...                         4.33   \n",
       "3222             4           1.0   2.0  ...                         4.95   \n",
       "4798             4           1.0   2.0  ...                         4.97   \n",
       "5287             4           1.0   2.0  ...                         4.88   \n",
       "...            ...           ...   ...  ...                          ...   \n",
       "5605             4           1.0   2.0  ...                         5.00   \n",
       "559              4           1.5   2.0  ...                         4.94   \n",
       "3969             2           1.5   1.0  ...                         4.93   \n",
       "4846             2           1.0   1.0  ...                         4.77   \n",
       "1081             4           2.0   3.0  ...                         4.94   \n",
       "\n",
       "      review_scores_location  review_scores_value  instant_bookable  \\\n",
       "761                     4.65                 4.50                 0   \n",
       "4921                    4.83                 4.50                 0   \n",
       "3222                    4.86                 4.87                 0   \n",
       "4798                    4.92                 4.94                 0   \n",
       "5287                    4.88                 4.88                 0   \n",
       "...                      ...                  ...               ...   \n",
       "5605                    4.75                 4.75                 0   \n",
       "559                     4.96                 4.82                 0   \n",
       "3969                    4.91                 4.57                 1   \n",
       "4846                    4.81                 4.74                 1   \n",
       "1081                    4.99                 4.81                 0   \n",
       "\n",
       "      calculated_host_listings_count  \\\n",
       "761                                1   \n",
       "4921                              19   \n",
       "3222                               2   \n",
       "4798                               2   \n",
       "5287                              14   \n",
       "...                              ...   \n",
       "5605                               2   \n",
       "559                                1   \n",
       "3969                               1   \n",
       "4846                               3   \n",
       "1081                               1   \n",
       "\n",
       "      calculated_host_listings_count_entire_homes  \\\n",
       "761                                             1   \n",
       "4921                                           23   \n",
       "3222                                            2   \n",
       "4798                                            2   \n",
       "5287                                           23   \n",
       "...                                           ...   \n",
       "5605                                            1   \n",
       "559                                             1   \n",
       "3969                                            0   \n",
       "4846                                            0   \n",
       "1081                                            1   \n",
       "\n",
       "      calculated_host_listings_count_private_rooms  \\\n",
       "761                                              0   \n",
       "4921                                             0   \n",
       "3222                                             0   \n",
       "4798                                             0   \n",
       "5287                                             0   \n",
       "...                                            ...   \n",
       "5605                                             1   \n",
       "559                                              0   \n",
       "3969                                             1   \n",
       "4846                                             3   \n",
       "1081                                             0   \n",
       "\n",
       "      calculated_host_listings_count_shared_rooms  reviews_per_month  \\\n",
       "761                                             0               2.27   \n",
       "4921                                            0               0.47   \n",
       "3222                                            0               3.57   \n",
       "4798                                            0               4.14   \n",
       "5287                                            0               1.79   \n",
       "...                                           ...                ...   \n",
       "5605                                            0               0.94   \n",
       "559                                             0               1.32   \n",
       "3969                                            0               3.69   \n",
       "4846                                            0               2.10   \n",
       "1081                                            0               3.21   \n",
       "\n",
       "      private_bath  \n",
       "761              1  \n",
       "4921             1  \n",
       "3222             1  \n",
       "4798             1  \n",
       "5287             1  \n",
       "...            ...  \n",
       "5605             1  \n",
       "559              1  \n",
       "3969             1  \n",
       "4846             0  \n",
       "1081             1  \n",
       "\n",
       "[3755 rows x 29 columns]"
      ]
     },
     "execution_count": 62,
     "metadata": {},
     "output_type": "execute_result"
    }
   ],
   "source": [
    "X_train"
   ]
  },
  {
   "cell_type": "code",
   "execution_count": 63,
   "id": "0a013f68",
   "metadata": {},
   "outputs": [
    {
     "data": {
      "text/plain": [
       "0.07521405128172287"
      ]
     },
     "execution_count": 63,
     "metadata": {},
     "output_type": "execute_result"
    }
   ],
   "source": [
    "r2_score(y_train, model.predict(X_train_scaled))"
   ]
  },
  {
   "cell_type": "code",
   "execution_count": 64,
   "id": "1a3d973a",
   "metadata": {},
   "outputs": [
    {
     "name": "stdout",
     "output_type": "stream",
     "text": [
      "R-squared Score: 0.09025710599023773\n"
     ]
    }
   ],
   "source": [
    "y_pred = model.predict(X_test_scaled)\n",
    "r2 = r2_score(y_test, y_pred)\n",
    "print(\"R-squared Score:\", r2)"
   ]
  },
  {
   "cell_type": "code",
   "execution_count": 65,
   "id": "540e1976",
   "metadata": {},
   "outputs": [],
   "source": [
    "df_listings_clean_no_price= df_listings_clean.drop('price', axis=1)"
   ]
  },
  {
   "cell_type": "markdown",
   "id": "f32982b5",
   "metadata": {},
   "source": [
    "# Extract Datasets <a id=\"a6\"></a>"
   ]
  },
  {
   "cell_type": "code",
   "execution_count": 66,
   "id": "f168d259",
   "metadata": {},
   "outputs": [
    {
     "data": {
      "text/plain": [
       "['data/df_listings_clean.pkl']"
      ]
     },
     "execution_count": 66,
     "metadata": {},
     "output_type": "execute_result"
    }
   ],
   "source": [
    "# Save data as pickle file in my data folder\n",
    "joblib.dump(df_listings_clean, 'data/df_listings_clean.pkl')"
   ]
  },
  {
   "cell_type": "code",
   "execution_count": 67,
   "id": "8d70d22d",
   "metadata": {},
   "outputs": [
    {
     "data": {
      "text/plain": [
       "['data/df_reviews_clean.pkl']"
      ]
     },
     "execution_count": 67,
     "metadata": {},
     "output_type": "execute_result"
    }
   ],
   "source": [
    "# Save data as pickle file in my data folder\n",
    "joblib.dump(df_reviews_clean, 'data/df_reviews_clean.pkl')"
   ]
  },
  {
   "cell_type": "code",
   "execution_count": 68,
   "id": "b3fab1ef",
   "metadata": {},
   "outputs": [
    {
     "data": {
      "text/plain": [
       "['data/df_listings_clean_no_price.pkl']"
      ]
     },
     "execution_count": 68,
     "metadata": {},
     "output_type": "execute_result"
    }
   ],
   "source": [
    "# Save data as pickle file in my data folder\n",
    "joblib.dump(df_listings_clean_no_price, 'data/df_listings_clean_no_price.pkl')"
   ]
  },
  {
   "cell_type": "markdown",
   "id": "5a4c2ef1",
   "metadata": {},
   "source": [
    "# Summary <a id=\"a7\"></a>"
   ]
  },
  {
   "cell_type": "markdown",
   "id": "e9984051",
   "metadata": {},
   "source": [
    "In this notebook, both the Airbnb listing dataset and the review dataset are cleaned. Additionally, we preprocessed some of the binary columns and ensured that our data is of its highest quality before we move forward in our analysis. \n",
    "\n",
    "Some potential columns that could be processed are host_response_time, host_verifications, property_type, room_type. These columns are currently of type object and can be preprosses using one hot encoding methods. For now, we will explore ouor data in more detail with the assistance of visualisations. These exploratory data analysis results can be found in the next notebook CL_Capstone_EDA."
   ]
  }
 ],
 "metadata": {
  "kernelspec": {
   "display_name": "clcapstone",
   "language": "python",
   "name": "clcapstone"
  },
  "language_info": {
   "codemirror_mode": {
    "name": "ipython",
    "version": 3
   },
   "file_extension": ".py",
   "mimetype": "text/x-python",
   "name": "python",
   "nbconvert_exporter": "python",
   "pygments_lexer": "ipython3",
   "version": "3.11.5"
  }
 },
 "nbformat": 4,
 "nbformat_minor": 5
}
